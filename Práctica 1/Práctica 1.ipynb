{
 "cells": [
  {
   "cell_type": "markdown",
   "id": "bcbcf848",
   "metadata": {},
   "source": [
    "# Práctica 1"
   ]
  },
  {
   "cell_type": "markdown",
   "id": "c8e3416a",
   "metadata": {},
   "source": [
    "## Importaciones"
   ]
  },
  {
   "cell_type": "code",
   "execution_count": 17,
   "id": "9693568d",
   "metadata": {},
   "outputs": [],
   "source": [
    "from pyspark.sql import SparkSession\n",
    "from pyspark.sql.functions import month, when\n",
    "from pyspark.ml.feature import StringIndexer, OneHotEncoder, VectorAssembler\n",
    "from pyspark.ml import Pipeline"
   ]
  },
  {
   "cell_type": "markdown",
   "id": "28e65db3",
   "metadata": {},
   "source": [
    "## Inicio de sesión en Spark"
   ]
  },
  {
   "cell_type": "code",
   "execution_count": 18,
   "id": "6d51337c",
   "metadata": {},
   "outputs": [],
   "source": [
    "# Inicio de la sesión de Spark.\n",
    "spark = SparkSession.builder \\\n",
    "    .appName(\"MarathonRegression\") \\\n",
    "    .getOrCreate()"
   ]
  },
  {
   "cell_type": "markdown",
   "id": "ec9484a8",
   "metadata": {},
   "source": [
    "## Visualización inicial de los datos"
   ]
  },
  {
   "cell_type": "markdown",
   "id": "8aa47690",
   "metadata": {},
   "source": [
    "### Carga del dataset"
   ]
  },
  {
   "cell_type": "code",
   "execution_count": 19,
   "id": "702073d3",
   "metadata": {},
   "outputs": [],
   "source": [
    "# Cargar el dataset.\n",
    "df = spark.read.csv(\"run_ww_2020_d.csv\", header=True, inferSchema=True)"
   ]
  },
  {
   "cell_type": "markdown",
   "id": "53273c03",
   "metadata": {},
   "source": [
    "### Muestra de las cinco primeras filas y del esquema"
   ]
  },
  {
   "cell_type": "code",
   "execution_count": 20,
   "id": "b18ae0c3",
   "metadata": {},
   "outputs": [
    {
     "name": "stdout",
     "output_type": "stream",
     "text": [
      "+---+----------+-------+--------+------------------+------+---------+--------------+-----------------------+\n",
      "|_c0|datetime  |athlete|distance|duration          |gender|age_group|country       |major                  |\n",
      "+---+----------+-------+--------+------------------+------+---------+--------------+-----------------------+\n",
      "|0  |2020-01-01|0      |0.0     |0.0               |F     |18 - 34  |United States |CHICAGO 2019           |\n",
      "|1  |2020-01-01|1      |5.72    |31.633333333333333|M     |35 - 54  |Germany       |BERLIN 2016            |\n",
      "|2  |2020-01-01|2      |0.0     |0.0               |M     |35 - 54  |United Kingdom|LONDON 2018,LONDON 2019|\n",
      "|3  |2020-01-01|3      |0.0     |0.0               |M     |18 - 34  |United Kingdom|LONDON 2017            |\n",
      "|4  |2020-01-01|4      |8.07    |38.61666666666667 |M     |35 - 54  |United States |BOSTON 2017            |\n",
      "+---+----------+-------+--------+------------------+------+---------+--------------+-----------------------+\n",
      "only showing top 5 rows\n",
      "root\n",
      " |-- _c0: integer (nullable = true)\n",
      " |-- datetime: date (nullable = true)\n",
      " |-- athlete: integer (nullable = true)\n",
      " |-- distance: double (nullable = true)\n",
      " |-- duration: double (nullable = true)\n",
      " |-- gender: string (nullable = true)\n",
      " |-- age_group: string (nullable = true)\n",
      " |-- country: string (nullable = true)\n",
      " |-- major: string (nullable = true)\n",
      "\n"
     ]
    }
   ],
   "source": [
    "# Mostrar las cinco primeras filas.\n",
    "df.show(5, truncate=False)\n",
    "\n",
    "# Mostrar esquema de columnas.\n",
    "df.printSchema()"
   ]
  },
  {
   "cell_type": "markdown",
   "id": "c133fb33",
   "metadata": {},
   "source": [
    "### Muestra de filas y variables y principales estadísticas del dataset"
   ]
  },
  {
   "cell_type": "code",
   "execution_count": 21,
   "id": "7e180237",
   "metadata": {},
   "outputs": [
    {
     "name": "stdout",
     "output_type": "stream",
     "text": [
      "Filas: 13326792, Variables: 9\n",
      "+-------+-----------------+------------------+\n",
      "|summary|         distance|          duration|\n",
      "+-------+-----------------+------------------+\n",
      "|  count|         13326792|          13326792|\n",
      "|   mean|3.864718473881684| 21.39197543564929|\n",
      "| stddev|6.661547347662435| 39.27358918572176|\n",
      "|    min|              0.0|               0.0|\n",
      "|    max|           347.95|2299.9666666666667|\n",
      "+-------+-----------------+------------------+\n",
      "\n",
      "+------+--------+\n",
      "|gender|   count|\n",
      "+------+--------+\n",
      "|     F| 3253374|\n",
      "|     M|10073418|\n",
      "+------+--------+\n",
      "\n",
      "+---------+-------+\n",
      "|age_group|  count|\n",
      "+---------+-------+\n",
      "|     55 +| 940254|\n",
      "|  35 - 54|7905966|\n",
      "|  18 - 34|4480572|\n",
      "+---------+-------+\n",
      "\n"
     ]
    }
   ],
   "source": [
    "# Número de filas y variables.\n",
    "print(f\"Filas: {df.count()}, Variables: {len(df.columns)}\")\n",
    "\n",
    "# Estadísticas descriptivas de variables numéricas.\n",
    "df.describe(['distance', 'duration']).show()\n",
    "\n",
    "# Distribución por género y grupo de edad.\n",
    "df.groupBy(\"gender\").count().show()\n",
    "df.groupBy(\"age_group\").count().show()"
   ]
  },
  {
   "cell_type": "markdown",
   "id": "31e85d52",
   "metadata": {},
   "source": [
    "## Preparación del dataset"
   ]
  },
  {
   "cell_type": "markdown",
   "id": "fa66c5c0",
   "metadata": {},
   "source": [
    "### Creación de la variable \"season\" a partir de la datetime"
   ]
  },
  {
   "cell_type": "code",
   "execution_count": 22,
   "id": "6e502a1e",
   "metadata": {},
   "outputs": [],
   "source": [
    "df = df.withColumn(\"month\", month(\"datetime\"))\n",
    "\n",
    "df = df.withColumn(\n",
    "    \"season\",\n",
    "    when((df.month >= 3) & (df.month <= 5), \"spring\")\n",
    "    .when((df.month >= 6) & (df.month <= 8), \"summer\")\n",
    "    .when((df.month >= 9) & (df.month <= 11), \"autumn\")\n",
    "    .otherwise(\"winter\"))"
   ]
  },
  {
   "cell_type": "markdown",
   "id": "afb392c8",
   "metadata": {},
   "source": [
    "### Filtrado de filas"
   ]
  },
  {
   "cell_type": "markdown",
   "id": "faf3af6f",
   "metadata": {},
   "source": [
    "Como tenemos un gran número de filas, vamos a filtrar. Primero, nos quedamos solo con los registros que no estén vacíos, es decir, aquellos cuya duración y distancia sea mayor a 0."
   ]
  },
  {
   "cell_type": "code",
   "execution_count": 23,
   "id": "0bef4539",
   "metadata": {},
   "outputs": [
    {
     "name": "stdout",
     "output_type": "stream",
     "text": [
      "Filas tras filtrar: 4581764\n"
     ]
    }
   ],
   "source": [
    "# Filtrado de filas.\n",
    "df_filtered = df.filter((df.duration > 0) & (df.distance > 0))\n",
    "\n",
    "# Comprobar tamaño.\n",
    "print(f\"Filas tras filtrar: {df_filtered.count()}\")"
   ]
  },
  {
   "cell_type": "markdown",
   "id": "266323a4",
   "metadata": {},
   "source": [
    "Como seguimos teniendo gran número de filas, volvemos a filtrar. Ahora vamos a filtrar por número de atletas. Inicialmente tenemos 36.7k atletas. Vamos a probar con cuantos nos quedamos con el número de filas más adecuado."
   ]
  },
  {
   "cell_type": "code",
   "execution_count": 24,
   "id": "a000e5ff",
   "metadata": {},
   "outputs": [
    {
     "name": "stdout",
     "output_type": "stream",
     "text": [
      "Filas con athlete < 5000: 629313\n",
      "Filas con athlete < 8000: 1001656\n",
      "Filas con athlete < 10000: 1255519\n",
      "Filas con athlete < 15000: 1878765\n",
      "Filas con athlete < 20000: 2483092\n"
     ]
    }
   ],
   "source": [
    "# Filtrar atletas con ID < 5000.\n",
    "df_filtered_5000 = df_filtered.filter(df_filtered.athlete < 5000)\n",
    "print(f\"Filas con athlete < 5000: {df_filtered_5000.count()}\")\n",
    "\n",
    "# Filtrar atletas con ID < 8000.\n",
    "df_filtered_8000 = df_filtered.filter(df_filtered.athlete < 8000)\n",
    "print(f\"Filas con athlete < 8000: {df_filtered_8000.count()}\")\n",
    "\n",
    "# Filtrar atletas con ID < 10000.\n",
    "df_filtered_10000 = df_filtered.filter(df_filtered.athlete < 10000)\n",
    "print(f\"Filas con athlete < 10000: {df_filtered_10000.count()}\")\n",
    "\n",
    "# Filtrar atletas con ID < 15000.\n",
    "df_final = df_filtered.filter(df_filtered.athlete < 15000)\n",
    "print(f\"Filas con athlete < 15000: {df_final.count()}\")\n",
    "\n",
    "# Filtrar atletas con ID < 20000.\n",
    "df_filtered_20000 = df_filtered.filter(df_filtered.athlete < 20000)\n",
    "print(f\"Filas con athlete < 20000: {df_filtered_20000.count()}\")"
   ]
  },
  {
   "cell_type": "markdown",
   "id": "32a754fa",
   "metadata": {},
   "source": [
    "Nos quedamos con 15000 atletas (1878765 filas), ya que creemos que es el valor más adecuado para lograr un equilibrio entre cantidad para un correcto aprendizaje y velocidad de procesamiento. "
   ]
  },
  {
   "cell_type": "markdown",
   "id": "75ccf50a",
   "metadata": {},
   "source": [
    "### Muestra de filas y variables y principales estadísticas del dataset filtrado"
   ]
  },
  {
   "cell_type": "code",
   "execution_count": 25,
   "id": "02328486",
   "metadata": {},
   "outputs": [
    {
     "name": "stdout",
     "output_type": "stream",
     "text": [
      "Filas: 1878765, Variables: 11\n",
      "+-------+------------------+--------------------+\n",
      "|summary|          distance|            duration|\n",
      "+-------+------------------+--------------------+\n",
      "|  count|           1878765|             1878765|\n",
      "|   mean|11.337875722616882|    62.6373797680926|\n",
      "| stddev|  6.85062966629291|  44.442787948108126|\n",
      "|    min|              0.01|0.016666666666666666|\n",
      "|    max|            263.37|              2202.0|\n",
      "+-------+------------------+--------------------+\n",
      "\n",
      "+------+-------+\n",
      "|gender|  count|\n",
      "+------+-------+\n",
      "|     F| 466030|\n",
      "|     M|1412735|\n",
      "+------+-------+\n",
      "\n",
      "+---------+-------+\n",
      "|age_group|  count|\n",
      "+---------+-------+\n",
      "|     55 +| 138997|\n",
      "|  35 - 54|1123696|\n",
      "|  18 - 34| 616072|\n",
      "+---------+-------+\n",
      "\n"
     ]
    }
   ],
   "source": [
    "# Número de filas y variables.\n",
    "print(f\"Filas: {df_final.count()}, Variables: {len(df_final.columns)}\")\n",
    "\n",
    "# Estadísticas descriptivas de variables numéricas.\n",
    "df_final.describe(['distance', 'duration']).show()\n",
    "\n",
    "# Distribución por género y grupo de edad.\n",
    "df_final.groupBy(\"gender\").count().show()\n",
    "df_final.groupBy(\"age_group\").count().show()"
   ]
  },
  {
   "cell_type": "markdown",
   "id": "6f7d6f8e",
   "metadata": {},
   "source": [
    "### Seleccionamos solo las columnas relevantes"
   ]
  },
  {
   "cell_type": "code",
   "execution_count": 26,
   "id": "af157dd2",
   "metadata": {},
   "outputs": [],
   "source": [
    "# Seleccionamos las columnas que no son datetime o major.\n",
    "df_final = df_final.select(\"athlete\", \"distance\", \"duration\", \"gender\", \"age_group\", \"country\", \"season\")"
   ]
  },
  {
   "cell_type": "markdown",
   "id": "419d7c1a",
   "metadata": {},
   "source": [
    "## Preparación de los datos para el entrenamiento"
   ]
  },
  {
   "cell_type": "markdown",
   "id": "5312546a",
   "metadata": {},
   "source": [
    "### Convertimos los datos categóricos en vectores one-hot."
   ]
  },
  {
   "cell_type": "code",
   "execution_count": 27,
   "id": "af946dcf",
   "metadata": {},
   "outputs": [],
   "source": [
    "# Convertimos las columnas de tipo categórico en índices numéricos. \n",
    "gender_indexer = StringIndexer(inputCol=\"gender\", outputCol=\"gender_index\")\n",
    "age_indexer = StringIndexer(inputCol=\"age_group\", outputCol=\"age_index\")\n",
    "country_indexer = StringIndexer(inputCol=\"country\", outputCol=\"country_index\")\n",
    "season_indexer = StringIndexer(inputCol=\"season\", outputCol=\"season_index\")\n",
    "\n",
    "# Convertimos los índices numéricos del paso anterior en vectores one-hot.\n",
    "encoder = OneHotEncoder(inputCols=[\"gender_index\", \"age_index\", \"country_index\", \"season_index\"],\n",
    "                        outputCols=[\"gender_vec\", \"age_vec\", \"country_vec\", \"season_vec\"])"
   ]
  },
  {
   "cell_type": "markdown",
   "id": "81f9fcb1",
   "metadata": {},
   "source": [
    "### Combinamos las columnas numéricas en un solo vector."
   ]
  },
  {
   "cell_type": "code",
   "execution_count": 28,
   "id": "eaf712f1",
   "metadata": {},
   "outputs": [],
   "source": [
    "# Creamos un vector features que combine todas las variables numéricas.\n",
    "assembler = VectorAssembler(inputCols=[\"distance\", \"gender_vec\", \"age_vec\", \"country_vec\", \"season_vec\"],\n",
    "                            outputCol=\"features\")"
   ]
  },
  {
   "cell_type": "markdown",
   "id": "5d5e8ad9",
   "metadata": {},
   "source": [
    "### Creamos un pipeline para aplicar todas las transformaciones"
   ]
  },
  {
   "cell_type": "code",
   "execution_count": 29,
   "id": "a8880510",
   "metadata": {},
   "outputs": [],
   "source": [
    "# Creamos el Pipeline con todas las etapas.\n",
    "pipeline = Pipeline(stages=[gender_indexer, age_indexer, country_indexer, season_indexer, encoder, assembler])\n",
    "\n",
    "# Ajustamos el pipeline y transformamos los datos.\n",
    "df_prepared = pipeline.fit(df_final).transform(df_final)"
   ]
  },
  {
   "cell_type": "markdown",
   "id": "c6703fd2",
   "metadata": {},
   "source": [
    "### División de los datos en entrenamiento y test"
   ]
  },
  {
   "cell_type": "code",
   "execution_count": 30,
   "id": "1cdd81f8",
   "metadata": {},
   "outputs": [
    {
     "name": "stdout",
     "output_type": "stream",
     "text": [
      "Train: 1511150 filas, Test: 367615 filas\n"
     ]
    }
   ],
   "source": [
    "# Obtenemos los atletas.\n",
    "athletes = df_final.select(\"athlete\").distinct()\n",
    "\n",
    "# Asignamos aleatoriamente el 80% de atletas a train y el 20% a test.\n",
    "train_athletes, test_athletes = athletes.randomSplit([0.8, 0.2], seed=42)\n",
    "\n",
    "# Filtramos filas según atletas asignados.\n",
    "train_df = df_prepared.join(train_athletes, on=\"athlete\", how=\"inner\")\n",
    "test_df = df_prepared.join(test_athletes, on=\"athlete\", how=\"inner\")\n",
    "\n",
    "# Mostramos el número de filas en train y test.\n",
    "print(f\"Train: {train_df.count()} filas, Test: {test_df.count()} filas\")"
   ]
  },
  {
   "cell_type": "markdown",
   "id": "e74aa302",
   "metadata": {},
   "source": [
    "## Creación de los modelos"
   ]
  },
  {
   "cell_type": "markdown",
   "id": "3aeb6078",
   "metadata": {},
   "source": [
    "### Modelo Regresión Lineal"
   ]
  },
  {
   "cell_type": "code",
   "execution_count": null,
   "id": "cbba4c31",
   "metadata": {},
   "outputs": [],
   "source": [
    "# VAMOS A USAR VARIOS MODELOS DE MLlib Y EVALUARLOS\n",
    "from pyspark.ml.regression import LinearRegression, DecisionTreeRegressor, RandomForestRegressor, GBTRegressor\n",
    "from pyspark.ml.evaluation import RegressionEvaluator  \n",
    "\n",
    "# Crear un evaluador para RMSE.\n",
    "evaluator = RegressionEvaluator(labelCol=\"duration\", predictionCol=\"prediction\", metricName=\"rmse\")\n",
    "# Lista de modelos a evaluar.\n",
    "models = [\n",
    "    (\"Linear Regression\", LinearRegression(featuresCol=\"features\", labelCol=\"duration\")),\n",
    "    (\"Decision Tree\", DecisionTreeRegressor(featuresCol=\"features\", labelCol=\"duration\")),\n",
    "    (\"Random Forest\", RandomForestRegressor(featuresCol=\"features\", labelCol=\"duration\", numTrees=100))\n",
    "]\n",
    " "
   ]
  }
 ],
 "metadata": {
  "kernelspec": {
   "display_name": "aage",
   "language": "python",
   "name": "python3"
  },
  "language_info": {
   "codemirror_mode": {
    "name": "ipython",
    "version": 3
   },
   "file_extension": ".py",
   "mimetype": "text/x-python",
   "name": "python",
   "nbconvert_exporter": "python",
   "pygments_lexer": "ipython3",
   "version": "3.11.9"
  }
 },
 "nbformat": 4,
 "nbformat_minor": 5
}
