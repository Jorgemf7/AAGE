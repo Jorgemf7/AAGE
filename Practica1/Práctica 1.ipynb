{
 "cells": [
  {
   "cell_type": "markdown",
   "id": "bcbcf848",
   "metadata": {},
   "source": [
    "# Práctica 1"
   ]
  },
  {
   "cell_type": "markdown",
   "id": "c8e3416a",
   "metadata": {},
   "source": [
    "## Importaciones"
   ]
  },
  {
   "cell_type": "code",
   "execution_count": 1,
   "id": "9693568d",
   "metadata": {},
   "outputs": [],
   "source": [
    "import os\n",
    "import sys\n",
    "from pyspark.sql import SparkSession\n",
    "from pyspark.sql.functions import month, when, col\n",
    "from pyspark.ml.feature import StringIndexer, OneHotEncoder, VectorAssembler\n",
    "from pyspark.ml import Pipeline\n",
    "from pyspark.ml.regression import LinearRegression, DecisionTreeRegressor, RandomForestRegressor\n",
    "from pyspark.ml.evaluation import RegressionEvaluator\n",
    "from pyspark.ml.tuning import ParamGridBuilder, CrossValidator"
   ]
  },
  {
   "cell_type": "markdown",
   "id": "28e65db3",
   "metadata": {},
   "source": [
    "## Inicio de sesión en Spark"
   ]
  },
  {
   "cell_type": "code",
   "execution_count": 2,
   "id": "6d51337c",
   "metadata": {},
   "outputs": [],
   "source": [
    "os.environ['JAVA_HOME'] = r\"C:\\Program Files\\Java\\jdk-17\"\n",
    "os.environ['PYSPARK_PYTHON'] = sys.executable\n",
    "os.environ['PYSPARK_DRIVER_PYTHON'] = sys.executable\n",
    "\n",
    "spark = SparkSession.builder \\\n",
    "    .config(\"spark.driver.memory\", \"8g\") \\\n",
    "    .getOrCreate()"
   ]
  },
  {
   "cell_type": "markdown",
   "id": "ec9484a8",
   "metadata": {},
   "source": [
    "## Visualización inicial de los datos"
   ]
  },
  {
   "cell_type": "markdown",
   "id": "8aa47690",
   "metadata": {},
   "source": [
    "### Carga del dataset"
   ]
  },
  {
   "cell_type": "code",
   "execution_count": 3,
   "id": "702073d3",
   "metadata": {},
   "outputs": [],
   "source": [
    "# Cargar el dataset.\n",
    "df = spark.read.csv(\"run_ww_2020_d.csv\", header=True, inferSchema=True)"
   ]
  },
  {
   "cell_type": "markdown",
   "id": "53273c03",
   "metadata": {},
   "source": [
    "### Muestra de las cinco primeras filas y del esquema"
   ]
  },
  {
   "cell_type": "code",
   "execution_count": 4,
   "id": "b18ae0c3",
   "metadata": {},
   "outputs": [
    {
     "name": "stdout",
     "output_type": "stream",
     "text": [
      "+---+----------+-------+--------+------------------+------+---------+--------------+-----------------------+\n",
      "|_c0|datetime  |athlete|distance|duration          |gender|age_group|country       |major                  |\n",
      "+---+----------+-------+--------+------------------+------+---------+--------------+-----------------------+\n",
      "|0  |2020-01-01|0      |0.0     |0.0               |F     |18 - 34  |United States |CHICAGO 2019           |\n",
      "|1  |2020-01-01|1      |5.72    |31.633333333333333|M     |35 - 54  |Germany       |BERLIN 2016            |\n",
      "|2  |2020-01-01|2      |0.0     |0.0               |M     |35 - 54  |United Kingdom|LONDON 2018,LONDON 2019|\n",
      "|3  |2020-01-01|3      |0.0     |0.0               |M     |18 - 34  |United Kingdom|LONDON 2017            |\n",
      "|4  |2020-01-01|4      |8.07    |38.61666666666667 |M     |35 - 54  |United States |BOSTON 2017            |\n",
      "+---+----------+-------+--------+------------------+------+---------+--------------+-----------------------+\n",
      "only showing top 5 rows\n",
      "root\n",
      " |-- _c0: integer (nullable = true)\n",
      " |-- datetime: date (nullable = true)\n",
      " |-- athlete: integer (nullable = true)\n",
      " |-- distance: double (nullable = true)\n",
      " |-- duration: double (nullable = true)\n",
      " |-- gender: string (nullable = true)\n",
      " |-- age_group: string (nullable = true)\n",
      " |-- country: string (nullable = true)\n",
      " |-- major: string (nullable = true)\n",
      "\n"
     ]
    }
   ],
   "source": [
    "# Mostrar las cinco primeras filas.\n",
    "df.show(5, truncate=False)\n",
    "\n",
    "# Mostrar esquema de columnas.\n",
    "df.printSchema()"
   ]
  },
  {
   "cell_type": "markdown",
   "id": "c133fb33",
   "metadata": {},
   "source": [
    "### Muestra de filas y variables y principales estadísticas del dataset"
   ]
  },
  {
   "cell_type": "code",
   "execution_count": 5,
   "id": "7e180237",
   "metadata": {},
   "outputs": [
    {
     "name": "stdout",
     "output_type": "stream",
     "text": [
      "Filas: 13326792, Variables: 9\n",
      "+-------+-----------------+------------------+\n",
      "|summary|         distance|          duration|\n",
      "+-------+-----------------+------------------+\n",
      "|  count|         13326792|          13326792|\n",
      "|   mean|3.864718473881684| 21.39197543564929|\n",
      "| stddev|6.661547347662435| 39.27358918572176|\n",
      "|    min|              0.0|               0.0|\n",
      "|    max|           347.95|2299.9666666666667|\n",
      "+-------+-----------------+------------------+\n",
      "\n",
      "+------+--------+\n",
      "|gender|   count|\n",
      "+------+--------+\n",
      "|     F| 3253374|\n",
      "|     M|10073418|\n",
      "+------+--------+\n",
      "\n",
      "+---------+-------+\n",
      "|age_group|  count|\n",
      "+---------+-------+\n",
      "|     55 +| 940254|\n",
      "|  35 - 54|7905966|\n",
      "|  18 - 34|4480572|\n",
      "+---------+-------+\n",
      "\n"
     ]
    }
   ],
   "source": [
    "# Número de filas y variables.\n",
    "print(f\"Filas: {df.count()}, Variables: {len(df.columns)}\")\n",
    "\n",
    "# Estadísticas descriptivas de variables numéricas.\n",
    "df.describe(['distance', 'duration']).show()\n",
    "\n",
    "# Distribución por género y grupo de edad.\n",
    "df.groupBy(\"gender\").count().show()\n",
    "df.groupBy(\"age_group\").count().show()"
   ]
  },
  {
   "cell_type": "markdown",
   "id": "31e85d52",
   "metadata": {},
   "source": [
    "## Preparación del dataset"
   ]
  },
  {
   "cell_type": "markdown",
   "id": "985ea670",
   "metadata": {},
   "source": [
    "### Filtrado de filas"
   ]
  },
  {
   "cell_type": "markdown",
   "id": "5039e570",
   "metadata": {},
   "source": [
    "Como tenemos un gran número de filas, vamos a filtrar. Primero, nos quedamos solo con los registros que no estén vacíos, es decir, aquellos cuya duración y distancia sea mayor a 0."
   ]
  },
  {
   "cell_type": "code",
   "execution_count": 6,
   "id": "a602c374",
   "metadata": {},
   "outputs": [
    {
     "name": "stdout",
     "output_type": "stream",
     "text": [
      "Filas tras filtrar: 4581764\n"
     ]
    }
   ],
   "source": [
    "# Filtrado de filas.\n",
    "df_filtered = df.filter((df.duration > 0) & (df.distance > 0))\n",
    "\n",
    "# Comprobar tamaño.\n",
    "print(f\"Filas tras filtrar: {df_filtered.count()}\")"
   ]
  },
  {
   "cell_type": "markdown",
   "id": "7c831cb7",
   "metadata": {},
   "source": [
    "### Eliminamos las filas con valores nulos"
   ]
  },
  {
   "cell_type": "code",
   "execution_count": 7,
   "id": "b98042ac",
   "metadata": {},
   "outputs": [
    {
     "name": "stdout",
     "output_type": "stream",
     "text": [
      "Filas tras filtrar: 4555724\n"
     ]
    }
   ],
   "source": [
    "df_filtered = df_filtered.dropna()\n",
    "\n",
    "# Comprobar tamaño.\n",
    "print(f\"Filas tras filtrar: {df_filtered.count()}\")"
   ]
  },
  {
   "cell_type": "markdown",
   "id": "66948153",
   "metadata": {},
   "source": [
    "Como seguimos teniendo gran número de filas, volvemos a filtrar. Ahora vamos a filtrar por número de atletas. Inicialmente tenemos 36.7k atletas. Vamos a probar con cuantos nos quedamos con el número de filas más adecuado."
   ]
  },
  {
   "cell_type": "code",
   "execution_count": 8,
   "id": "66645f94",
   "metadata": {},
   "outputs": [
    {
     "name": "stdout",
     "output_type": "stream",
     "text": [
      "Filas con athlete < 5000: 625635\n",
      "Filas con athlete < 8000: 996749\n",
      "Filas con athlete < 10000: 1249180\n",
      "Filas con athlete < 15000: 1869208\n",
      "Filas con athlete < 20000: 2471216\n"
     ]
    }
   ],
   "source": [
    "# Filtrar atletas con ID < 5000.\n",
    "df_filtered_5000 = df_filtered.filter(df_filtered.athlete < 5000)\n",
    "print(f\"Filas con athlete < 5000: {df_filtered_5000.count()}\")\n",
    "\n",
    "# Filtrar atletas con ID < 8000.\n",
    "df_filtered_8000 = df_filtered.filter(df_filtered.athlete < 8000)\n",
    "print(f\"Filas con athlete < 8000: {df_filtered_8000.count()}\")\n",
    "\n",
    "# Filtrar atletas con ID < 10000.\n",
    "df_filtered_10000 = df_filtered.filter(df_filtered.athlete < 10000)\n",
    "print(f\"Filas con athlete < 10000: {df_filtered_10000.count()}\")\n",
    "\n",
    "# Filtrar atletas con ID < 15000.\n",
    "df_final = df_filtered.filter(df_filtered.athlete < 15000)\n",
    "print(f\"Filas con athlete < 15000: {df_final.count()}\")\n",
    "\n",
    "# Filtrar atletas con ID < 20000.\n",
    "df_filtered_20000 = df_filtered.filter(df_filtered.athlete < 20000)\n",
    "print(f\"Filas con athlete < 20000: {df_filtered_20000.count()}\")"
   ]
  },
  {
   "cell_type": "markdown",
   "id": "8cef25a0",
   "metadata": {},
   "source": [
    "Nos quedamos con 15000 atletas, ya que creemos que es el valor más adecuado para lograr un equilibrio entre cantidad para un correcto aprendizaje y velocidad de procesamiento. "
   ]
  },
  {
   "cell_type": "markdown",
   "id": "fa66c5c0",
   "metadata": {},
   "source": [
    "### Creación de la variable \"season\" a partir de la variable datetime"
   ]
  },
  {
   "cell_type": "code",
   "execution_count": 9,
   "id": "6e502a1e",
   "metadata": {},
   "outputs": [],
   "source": [
    "df_final = df_final.withColumn(\n",
    "    \"season\",\n",
    "    when((month(\"datetime\") >= 3) & (month(\"datetime\") <= 5), \"spring\")\n",
    "    .when((month(\"datetime\") >= 6) & (month(\"datetime\") <= 8), \"summer\")\n",
    "    .when((month(\"datetime\") >= 9) & (month(\"datetime\") <= 11), \"autumn\")\n",
    "    .otherwise(\"winter\"))"
   ]
  },
  {
   "cell_type": "markdown",
   "id": "48e4cf50",
   "metadata": {},
   "source": [
    "### Seleccionamos solo las columnas relevantes"
   ]
  },
  {
   "cell_type": "code",
   "execution_count": 10,
   "id": "6dedb56a",
   "metadata": {},
   "outputs": [],
   "source": [
    "# Seleccionamos las columnas que no son datetime o major.\n",
    "df_final = df_final.select(\"athlete\", \"distance\", \"duration\", \"gender\", \"age_group\", \"country\", \"season\")"
   ]
  },
  {
   "cell_type": "markdown",
   "id": "dce03769",
   "metadata": {},
   "source": [
    "### Muestra de las cinco primeras filas y del esquema del dataset"
   ]
  },
  {
   "cell_type": "code",
   "execution_count": 11,
   "id": "b1bf6ea8",
   "metadata": {},
   "outputs": [
    {
     "name": "stdout",
     "output_type": "stream",
     "text": [
      "+-------+--------+------------------+------+---------+--------------+------+\n",
      "|athlete|distance|duration          |gender|age_group|country       |season|\n",
      "+-------+--------+------------------+------+---------+--------------+------+\n",
      "|1      |5.72    |31.633333333333333|M     |35 - 54  |Germany       |winter|\n",
      "|4      |8.07    |38.61666666666667 |M     |35 - 54  |United States |winter|\n",
      "|5      |10.09   |43.56666666666667 |F     |35 - 54  |United States |winter|\n",
      "|6      |9.82    |50.53333333333333 |M     |55 +     |United States |winter|\n",
      "|8      |10.05   |59.05             |M     |35 - 54  |United Kingdom|winter|\n",
      "+-------+--------+------------------+------+---------+--------------+------+\n",
      "only showing top 5 rows\n",
      "root\n",
      " |-- athlete: integer (nullable = true)\n",
      " |-- distance: double (nullable = true)\n",
      " |-- duration: double (nullable = true)\n",
      " |-- gender: string (nullable = true)\n",
      " |-- age_group: string (nullable = true)\n",
      " |-- country: string (nullable = true)\n",
      " |-- season: string (nullable = false)\n",
      "\n"
     ]
    }
   ],
   "source": [
    "# Mostrar las cinco primeras filas.\n",
    "df_final.show(5, truncate=False)\n",
    "\n",
    "# Mostrar esquema de columnas.\n",
    "df_final.printSchema()"
   ]
  },
  {
   "cell_type": "markdown",
   "id": "75ccf50a",
   "metadata": {},
   "source": [
    "### Muestra de filas y variables y principales estadísticas del dataset"
   ]
  },
  {
   "cell_type": "code",
   "execution_count": 12,
   "id": "02328486",
   "metadata": {},
   "outputs": [
    {
     "name": "stdout",
     "output_type": "stream",
     "text": [
      "Filas: 1869208, Variables: 7\n",
      "+-------+-----------------+--------------------+\n",
      "|summary|         distance|            duration|\n",
      "+-------+-----------------+--------------------+\n",
      "|  count|          1869208|             1869208|\n",
      "|   mean| 11.3417861425814|   62.65104727956109|\n",
      "| stddev|6.851907901598776|   44.45724057163195|\n",
      "|    min|             0.01|0.016666666666666666|\n",
      "|    max|           263.37|              2202.0|\n",
      "+-------+-----------------+--------------------+\n",
      "\n",
      "+------+-------+\n",
      "|gender|  count|\n",
      "+------+-------+\n",
      "|     F| 463958|\n",
      "|     M|1405250|\n",
      "+------+-------+\n",
      "\n",
      "+---------+-------+\n",
      "|age_group|  count|\n",
      "+---------+-------+\n",
      "|     55 +| 138448|\n",
      "|  35 - 54|1117572|\n",
      "|  18 - 34| 613188|\n",
      "+---------+-------+\n",
      "\n",
      "+------+------+\n",
      "|season| count|\n",
      "+------+------+\n",
      "|winter|458894|\n",
      "|spring|507774|\n",
      "|summer|473599|\n",
      "|autumn|428941|\n",
      "+------+------+\n",
      "\n"
     ]
    }
   ],
   "source": [
    "# Número de filas y variables.\n",
    "print(f\"Filas: {df_final.count()}, Variables: {len(df_final.columns)}\")\n",
    "\n",
    "# Estadísticas descriptivas de variables numéricas.\n",
    "df_final.describe(['distance', 'duration']).show()\n",
    "\n",
    "# Distribución por género, grupo de edad y estación.\n",
    "df_final.groupBy(\"gender\").count().show()\n",
    "df_final.groupBy(\"age_group\").count().show()\n",
    "df_final.groupBy(\"season\").count().show()"
   ]
  },
  {
   "cell_type": "markdown",
   "id": "c38f4998",
   "metadata": {},
   "source": [
    "### Eliminar valores atípicos (distancia, duración y ritmo medio)"
   ]
  },
  {
   "cell_type": "code",
   "execution_count": 13,
   "id": "b7f8f18d",
   "metadata": {},
   "outputs": [],
   "source": [
    "# Filtramos primero por distancia. Eliminamos actividades con distancia < 0.5 km o > 100 km.\n",
    "df_final = df_final.filter((col(\"distance\") > 0.5) & (col(\"distance\") < 100)) \n",
    "\n",
    "# Luego filtramos por duración. Eliminamos actividades con duración < 5 min o > 300 min.\n",
    "df_final = df_final.filter((col(\"duration\") > 5) & (col(\"duration\") < 300)) \n",
    "\n",
    "# Hacemos un filtrado adicional por ritmo medio.\n",
    "# Primero añadimos la columna pace_min_km (min/km) como el resultado de la duración entre la distancia.\n",
    "df_final = df_final.withColumn(\"pace_min_km\", col(\"duration\") / col(\"distance\")) \n",
    "\n",
    "# Filtramos actividades con ritmo medio < 1 min/km o > 9 min/km.\n",
    "df_final = df_final.filter((col(\"pace_min_km\") >= 1.0) & (col(\"pace_min_km\") <= 9.0))"
   ]
  },
  {
   "cell_type": "markdown",
   "id": "6890eb2b",
   "metadata": {},
   "source": [
    "### Muestra de las cinco primeras filas y del esquema del dataset final"
   ]
  },
  {
   "cell_type": "code",
   "execution_count": 14,
   "id": "c1d6f50b",
   "metadata": {},
   "outputs": [
    {
     "name": "stdout",
     "output_type": "stream",
     "text": [
      "+-------+--------+------------------+------+---------+--------------+------+-----------------+\n",
      "|athlete|distance|duration          |gender|age_group|country       |season|pace_min_km      |\n",
      "+-------+--------+------------------+------+---------+--------------+------+-----------------+\n",
      "|1      |5.72    |31.633333333333333|M     |35 - 54  |Germany       |winter|5.53030303030303 |\n",
      "|4      |8.07    |38.61666666666667 |M     |35 - 54  |United States |winter|4.785212722015696|\n",
      "|5      |10.09   |43.56666666666667 |F     |35 - 54  |United States |winter|4.317806408985795|\n",
      "|6      |9.82    |50.53333333333333 |M     |55 +     |United States |winter|5.145960624575696|\n",
      "|8      |10.05   |59.05             |M     |35 - 54  |United Kingdom|winter|5.875621890547263|\n",
      "+-------+--------+------------------+------+---------+--------------+------+-----------------+\n",
      "only showing top 5 rows\n",
      "root\n",
      " |-- athlete: integer (nullable = true)\n",
      " |-- distance: double (nullable = true)\n",
      " |-- duration: double (nullable = true)\n",
      " |-- gender: string (nullable = true)\n",
      " |-- age_group: string (nullable = true)\n",
      " |-- country: string (nullable = true)\n",
      " |-- season: string (nullable = false)\n",
      " |-- pace_min_km: double (nullable = true)\n",
      "\n"
     ]
    }
   ],
   "source": [
    "# Mostrar las cinco primeras filas.\n",
    "df_final.show(5, truncate=False)\n",
    "\n",
    "# Mostrar esquema de columnas.\n",
    "df_final.printSchema()"
   ]
  },
  {
   "cell_type": "markdown",
   "id": "b22720bf",
   "metadata": {},
   "source": [
    "### Muestra de filas y variables y principales estadísticas del dataset final"
   ]
  },
  {
   "cell_type": "code",
   "execution_count": 15,
   "id": "9c6e1d80",
   "metadata": {},
   "outputs": [
    {
     "name": "stdout",
     "output_type": "stream",
     "text": [
      "Filas: 1806322, Variables: 8\n",
      "+-------+------------------+-----------------+------------------+\n",
      "|summary|          distance|         duration|       pace_min_km|\n",
      "+-------+------------------+-----------------+------------------+\n",
      "|  count|           1806322|          1806322|           1806322|\n",
      "|   mean|11.326626417107354|60.57503812535447| 5.441138410356253|\n",
      "| stddev| 6.204587315338033| 33.5593252137564| 0.893577322735295|\n",
      "|    min|              0.57|5.016666666666667|1.6812481773111694|\n",
      "|    max|             88.53|           299.95|               9.0|\n",
      "+-------+------------------+-----------------+------------------+\n",
      "\n",
      "+------+-------+\n",
      "|gender|  count|\n",
      "+------+-------+\n",
      "|     F| 440092|\n",
      "|     M|1366230|\n",
      "+------+-------+\n",
      "\n",
      "+---------+-------+\n",
      "|age_group|  count|\n",
      "+---------+-------+\n",
      "|     55 +| 129521|\n",
      "|  35 - 54|1078807|\n",
      "|  18 - 34| 597994|\n",
      "+---------+-------+\n",
      "\n",
      "+------+------+\n",
      "|season| count|\n",
      "+------+------+\n",
      "|winter|446493|\n",
      "|spring|491814|\n",
      "|summer|454843|\n",
      "|autumn|413172|\n",
      "+------+------+\n",
      "\n"
     ]
    }
   ],
   "source": [
    "# Número de filas y variables.\n",
    "print(f\"Filas: {df_final.count()}, Variables: {len(df_final.columns)}\")\n",
    "\n",
    "# Estadísticas descriptivas de variables numéricas.\n",
    "df_final.describe(['distance', 'duration', 'pace_min_km']).show()\n",
    "\n",
    "# Distribución por género, grupo de edad y estación.\n",
    "df_final.groupBy(\"gender\").count().show()\n",
    "df_final.groupBy(\"age_group\").count().show()\n",
    "df_final.groupBy(\"season\").count().show()"
   ]
  },
  {
   "cell_type": "markdown",
   "id": "419d7c1a",
   "metadata": {},
   "source": [
    "## Preparación de los datos para el entrenamiento"
   ]
  },
  {
   "cell_type": "markdown",
   "id": "5312546a",
   "metadata": {},
   "source": [
    "### Convertimos los datos categóricos en vectores one-hot"
   ]
  },
  {
   "cell_type": "code",
   "execution_count": 16,
   "id": "af946dcf",
   "metadata": {},
   "outputs": [],
   "source": [
    "# Convertimos las columnas de tipo categórico en índices numéricos. \n",
    "gender_indexer = StringIndexer(inputCol=\"gender\", outputCol=\"gender_index\")\n",
    "age_indexer = StringIndexer(inputCol=\"age_group\", outputCol=\"age_index\")\n",
    "country_indexer = StringIndexer(inputCol=\"country\", outputCol=\"country_index\")\n",
    "season_indexer = StringIndexer(inputCol=\"season\", outputCol=\"season_index\")\n",
    "\n",
    "# Convertimos los índices numéricos del paso anterior en vectores one-hot.\n",
    "encoder = OneHotEncoder(inputCols=[\"gender_index\", \"age_index\", \"country_index\", \"season_index\"],\n",
    "                        outputCols=[\"gender_vec\", \"age_vec\", \"country_vec\", \"season_vec\"])"
   ]
  },
  {
   "cell_type": "markdown",
   "id": "81f9fcb1",
   "metadata": {},
   "source": [
    "### Combinamos las columnas numéricas en un solo vector"
   ]
  },
  {
   "cell_type": "code",
   "execution_count": 17,
   "id": "eaf712f1",
   "metadata": {},
   "outputs": [],
   "source": [
    "# Creamos un vector features que combine todas las variables numéricas.\n",
    "assembler = VectorAssembler(inputCols=[\"distance\", \"gender_vec\", \"age_vec\", \"country_vec\", \"season_vec\"],\n",
    "                            outputCol=\"features\")"
   ]
  },
  {
   "cell_type": "markdown",
   "id": "5d5e8ad9",
   "metadata": {},
   "source": [
    "### Creamos un pipeline para aplicar todas las transformaciones"
   ]
  },
  {
   "cell_type": "code",
   "execution_count": 18,
   "id": "a8880510",
   "metadata": {},
   "outputs": [],
   "source": [
    "# Creamos el Pipeline con todas las etapas.\n",
    "pipeline = Pipeline(stages=[gender_indexer, age_indexer, country_indexer, season_indexer, encoder, assembler])\n",
    "\n",
    "# Ajustamos el pipeline y transformamos los datos.\n",
    "df_prepared = pipeline.fit(df_final).transform(df_final)"
   ]
  },
  {
   "cell_type": "markdown",
   "id": "c6703fd2",
   "metadata": {},
   "source": [
    "### División de los datos en entrenamiento y test"
   ]
  },
  {
   "cell_type": "code",
   "execution_count": 19,
   "id": "1cdd81f8",
   "metadata": {},
   "outputs": [
    {
     "name": "stdout",
     "output_type": "stream",
     "text": [
      "Train: 1455983 filas, Test: 350339 filas\n"
     ]
    }
   ],
   "source": [
    "# Obtenemos los atletas.\n",
    "athletes = df_final.select(\"athlete\").distinct()\n",
    "\n",
    "# Asignamos aleatoriamente el 80% de atletas a train y el 20% a test.\n",
    "train_athletes, test_athletes = athletes.randomSplit([0.8, 0.2], seed=42)\n",
    "\n",
    "# Filtramos filas según atletas asignados.\n",
    "train_df = df_prepared.join(train_athletes, on=\"athlete\", how=\"inner\")\n",
    "test_df = df_prepared.join(test_athletes, on=\"athlete\", how=\"inner\")\n",
    "\n",
    "# Mostramos el número de filas en train y test.\n",
    "print(f\"Train: {train_df.count()} filas, Test: {test_df.count()} filas\")"
   ]
  },
  {
   "cell_type": "markdown",
   "id": "df104a9b",
   "metadata": {},
   "source": [
    "### Definición de la variable objetivo a predecir"
   ]
  },
  {
   "cell_type": "code",
   "execution_count": 20,
   "id": "b12edb62",
   "metadata": {},
   "outputs": [],
   "source": [
    "# Renombramos la columna 'duration' a 'label', ya que es la variable a predecir.\n",
    "train_df = train_df.withColumnRenamed(\"duration\", \"label\")  \n",
    "test_df = test_df.withColumnRenamed(\"duration\", \"label\")    "
   ]
  },
  {
   "cell_type": "markdown",
   "id": "e74aa302",
   "metadata": {},
   "source": [
    "## Modelos"
   ]
  },
  {
   "cell_type": "markdown",
   "id": "9eb5cb38",
   "metadata": {},
   "source": [
    "### Función para calcular ritmos medios "
   ]
  },
  {
   "cell_type": "code",
   "execution_count": 21,
   "id": "2f5198fe",
   "metadata": {},
   "outputs": [],
   "source": [
    "# Función para añadir columnas de ritmo (min/km) al DataFrame de predicciones.\n",
    "def add_paces(pred_df, distance_col=\"distance\", y_true_col=\"label\", y_pred_col=\"prediction\"):\n",
    "  \n",
    "    return (pred_df\n",
    "            .withColumn(\"pace_real_min_km\",  col(y_true_col) / col(distance_col))  \n",
    "            .withColumn(\"pace_pred_min_km\",  col(y_pred_col) / col(distance_col))) "
   ]
  },
  {
   "cell_type": "markdown",
   "id": "3aeb6078",
   "metadata": {},
   "source": [
    "### Modelo Regresión Lineal"
   ]
  },
  {
   "cell_type": "markdown",
   "id": "717aa060",
   "metadata": {},
   "source": [
    "#### Creación del modelo"
   ]
  },
  {
   "cell_type": "code",
   "execution_count": 22,
   "id": "14942504",
   "metadata": {},
   "outputs": [
    {
     "name": "stdout",
     "output_type": "stream",
     "text": [
      "Buscando los mejores hiperparámetros con CrossValidator...\n",
      "\n",
      "=== Linear Regression (Mejor Modelo) ===\n",
      "RMSE: 10.5110\n",
      "R²: 0.9015\n",
      "[LR] Mejores hiperparámetros:\n",
      "   regParam: 0.001\n",
      "   elasticNetParam: 1.0\n",
      "   maxIter: 50\n",
      "[LR] Número de coeficientes: 113\n"
     ]
    }
   ],
   "source": [
    "# Preparar evaluadores\n",
    "evaluator_rmse = RegressionEvaluator(labelCol=\"label\", predictionCol=\"prediction\", metricName=\"rmse\")\n",
    "evaluator_r2   = RegressionEvaluator(labelCol=\"label\", predictionCol=\"prediction\", metricName=\"r2\")\n",
    "\n",
    "# Definir el modelo base\n",
    "lr = LinearRegression(featuresCol=\"features\", labelCol=\"label\", maxIter=50)  \n",
    "\n",
    "# Definir la grid de hiperparámetros\n",
    "lr_grid = (ParamGridBuilder()\n",
    "           .addGrid(lr.regParam, [0.0, 0.001, 0.01, 0.1])        \n",
    "           .addGrid(lr.elasticNetParam, [0.0, 0.5, 1.0]) \n",
    "           .build())\n",
    "\n",
    "# Configurar CrossValidator\n",
    "lr_cv = CrossValidator(\n",
    "    estimator=lr,\n",
    "    estimatorParamMaps=lr_grid,\n",
    "    evaluator=evaluator_r2, \n",
    "    numFolds=3,             \n",
    "    parallelism=1,          \n",
    "    seed=42,\n",
    "    collectSubModels=False)\n",
    "\n",
    "# Entrenar directamente el mejor modelo sobre train\n",
    "print(\"Buscando los mejores hiperparámetros con CrossValidator...\")\n",
    "lr_cv_model = lr_cv.fit(train_df)\n",
    "\n",
    "# Evaluación sobre test\n",
    "lr_preds = lr_cv_model.transform(test_df).cache()\n",
    "\n",
    "lr_rmse = evaluator_rmse.evaluate(lr_preds)\n",
    "lr_r2   = evaluator_r2.evaluate(lr_preds)\n",
    "\n",
    "print(f\"\\n=== Linear Regression (Mejor Modelo) ===\")\n",
    "print(f\"RMSE: {lr_rmse:.4f}\")\n",
    "print(f\"R²: {lr_r2:.4f}\")\n",
    "\n",
    "# Mejor modelo e hiperparámetros\n",
    "best_lr = lr_cv_model.bestModel\n",
    "best_params = {p.name: best_lr.getOrDefault(p) for p in best_lr.extractParamMap()}\n",
    "\n",
    "print(\"[LR] Mejores hiperparámetros:\")\n",
    "for k in [\"regParam\", \"elasticNetParam\", \"maxIter\"]:\n",
    "    if k in best_params:\n",
    "        print(f\"   {k}: {best_params[k]}\")\n",
    "\n",
    "print(f\"[LR] Número de coeficientes: {len(best_lr.coefficients)}\")"
   ]
  },
  {
   "cell_type": "markdown",
   "id": "9629e048",
   "metadata": {},
   "source": [
    "#### Añadir ritmos y ver resultados"
   ]
  },
  {
   "cell_type": "code",
   "execution_count": 23,
   "id": "30339067",
   "metadata": {},
   "outputs": [
    {
     "name": "stdout",
     "output_type": "stream",
     "text": [
      "+-------+------------------+------------------+------------------+------------------+------------------+\n",
      "|athlete|distance          |label             |prediction        |pace_real_min_km  |pace_pred_min_km  |\n",
      "+-------+------------------+------------------+------------------+------------------+------------------+\n",
      "|1580   |11.54             |63.0              |59.30625607135916 |5.459272097053726 |5.139190300811019 |\n",
      "|5518   |13.200000000000001|57.45             |68.56728011689808 |4.3522727272727275|5.1944909179468235|\n",
      "|9852   |10.18             |46.166666666666664|48.40802562686074 |4.535036018336608 |4.755208804210289 |\n",
      "|10623  |20.6              |107.0             |118.49682114570804|5.194174757281553 |5.7522728711508755|\n",
      "|11141  |8.45              |48.25             |50.30669819826484 |5.710059171597633 |5.95345540807868  |\n",
      "|11858  |16.54             |124.61666666666667|87.0660103386861  |7.534260378879485 |5.263966767756113 |\n",
      "|1580   |10.24             |62.0              |52.62069701404565 |6.0546875         |5.138739942777896 |\n",
      "|6397   |7.79              |47.583333333333336|39.096795987432884|6.108258451005563 |5.018844157565197 |\n",
      "|6620   |16.129            |94.0              |86.13258149991485 |5.828011656023311 |5.340230733456187 |\n",
      "|9852   |10.66             |57.53333333333333 |50.876539740330344|5.397123202001251 |4.772658512226111 |\n",
      "+-------+------------------+------------------+------------------+------------------+------------------+\n",
      "only showing top 10 rows\n"
     ]
    }
   ],
   "source": [
    "# Añadir columnas de ritmo (min/km)\n",
    "lr_preds = add_paces(lr_preds)\n",
    "\n",
    "# Mostrar algunas predicciones con ritmos\n",
    "lr_preds.select(\"athlete\", \"distance\", \"label\", \"prediction\", \n",
    "                \"pace_real_min_km\", \"pace_pred_min_km\").show(10, truncate=False)"
   ]
  },
  {
   "cell_type": "markdown",
   "id": "3e052268",
   "metadata": {},
   "source": [
    "### Modelo de Regresión basado en Árboles de Decisión"
   ]
  },
  {
   "cell_type": "markdown",
   "id": "14b1d096",
   "metadata": {},
   "source": [
    "#### Creación del modelo"
   ]
  },
  {
   "cell_type": "code",
   "execution_count": 24,
   "id": "9d936b8b",
   "metadata": {},
   "outputs": [
    {
     "name": "stdout",
     "output_type": "stream",
     "text": [
      "Buscando los mejores hiperparámetros con CrossValidator para Decision Tree...\n",
      "\n",
      "=== Decision Tree Regressor (Mejor Modelo) ===\n",
      "RMSE: 11.8483\n",
      "R²: 0.8749\n",
      "[DT] Mejores hiperparámetros: {'maxDepth': 15, 'minInstancesPerNode': 5}\n",
      "[DT] Profundidad del árbol: 15\n"
     ]
    }
   ],
   "source": [
    "# Preparar evaluadores\n",
    "evaluator_rmse = RegressionEvaluator(labelCol=\"label\", predictionCol=\"prediction\", metricName=\"rmse\")\n",
    "evaluator_r2   = RegressionEvaluator(labelCol=\"label\", predictionCol=\"prediction\", metricName=\"r2\")\n",
    "\n",
    "# Definir el modelo base\n",
    "dt = DecisionTreeRegressor(featuresCol=\"features\", labelCol=\"label\", seed=42)\n",
    "\n",
    "# Definir la grid de hiperparámetros\n",
    "dt_grid = (ParamGridBuilder()\n",
    "           .addGrid(dt.maxDepth, [5, 10, 15])                \n",
    "           .addGrid(dt.minInstancesPerNode, [1, 5, 20])     \n",
    "           .build())\n",
    "\n",
    "# Configurar CrossValidator\n",
    "dt_cv = CrossValidator(\n",
    "    estimator=dt,\n",
    "    estimatorParamMaps=dt_grid,\n",
    "    evaluator=evaluator_r2, \n",
    "    numFolds=3,\n",
    "    parallelism=2,           \n",
    "    seed=42,\n",
    "    collectSubModels=False)\n",
    "\n",
    "# Entrenar directamente el mejor modelo sobre train\n",
    "print(\"Buscando los mejores hiperparámetros con CrossValidator para Decision Tree...\")\n",
    "dt_cv_model = dt_cv.fit(train_df)\n",
    "\n",
    "# Evaluación sobre test\n",
    "dt_preds = dt_cv_model.transform(test_df).cache()\n",
    "\n",
    "dt_rmse = evaluator_rmse.evaluate(dt_preds)\n",
    "dt_r2   = evaluator_r2.evaluate(dt_preds)\n",
    "\n",
    "print(f\"\\n=== Decision Tree Regressor (Mejor Modelo) ===\")\n",
    "print(f\"RMSE: {dt_rmse:.4f}\")\n",
    "print(f\"R²: {dt_r2:.4f}\")\n",
    "\n",
    "# Mejor modelo e hiperparámetros\n",
    "best_dt = dt_cv_model.bestModel\n",
    "best_dt_params = {\n",
    "    \"maxDepth\": best_dt.getOrDefault(best_dt.maxDepth),\n",
    "    \"minInstancesPerNode\": best_dt.getOrDefault(best_dt.minInstancesPerNode)}\n",
    "\n",
    "print(\"[DT] Mejores hiperparámetros:\", best_dt_params)\n",
    "print(f\"[DT] Profundidad del árbol: {best_dt.depth}\")"
   ]
  },
  {
   "cell_type": "markdown",
   "id": "51b82a1a",
   "metadata": {},
   "source": [
    "#### Añadir ritmos y ver resultados"
   ]
  },
  {
   "cell_type": "code",
   "execution_count": 25,
   "id": "b77d39b6",
   "metadata": {},
   "outputs": [
    {
     "name": "stdout",
     "output_type": "stream",
     "text": [
      "+-------+------------------+------------------+------------------+------------------+-----------------+\n",
      "|athlete|distance          |label             |prediction        |pace_real_min_km  |pace_pred_min_km |\n",
      "+-------+------------------+------------------+------------------+------------------+-----------------+\n",
      "|1580   |11.54             |63.0              |59.37502536856212 |5.459272097053726 |5.145149512007117|\n",
      "|5518   |13.200000000000001|57.45             |70.1823876805548  |4.3522727272727275|5.316847551557181|\n",
      "|9852   |10.18             |46.166666666666664|50.158694632132146|4.535036018336608 |4.927180219266419|\n",
      "|10623  |20.6              |107.0             |132.89422572178478|5.194174757281553 |6.451176005911882|\n",
      "|11141  |8.45              |48.25             |47.968574181117525|5.710059171597633 |5.676754340960654|\n",
      "|11858  |16.54             |124.61666666666667|87.71721119796887 |7.534260378879485 |5.303338040989654|\n",
      "|1580   |10.24             |62.0              |53.66815704030261 |6.0546875         |5.241030960967052|\n",
      "|6397   |7.79              |47.583333333333336|42.523560095631375|6.108258451005563 |5.458736854381434|\n",
      "|6620   |16.129            |94.0              |84.69334451901567 |5.828011656023311 |5.250997862174695|\n",
      "|9852   |10.66             |57.53333333333333 |53.91317049808428 |5.397123202001251 |5.057520684623291|\n",
      "+-------+------------------+------------------+------------------+------------------+-----------------+\n",
      "only showing top 10 rows\n"
     ]
    }
   ],
   "source": [
    "# Añadir columnas de ritmo (min/km)\n",
    "dt_preds = add_paces(dt_preds)\n",
    "\n",
    "# Mostrar algunas predicciones con ritmos\n",
    "dt_preds.select(\"athlete\", \"distance\", \"label\", \"prediction\", \n",
    "                \"pace_real_min_km\", \"pace_pred_min_km\").show(10, truncate=False)"
   ]
  },
  {
   "cell_type": "markdown",
   "id": "87ce5800",
   "metadata": {},
   "source": [
    "### Modelo de Regresión basado en un Bosque Aleatorio de Árboles de Decisión"
   ]
  },
  {
   "cell_type": "markdown",
   "id": "9e6cf1c5",
   "metadata": {},
   "source": [
    "#### Creación del modelo"
   ]
  },
  {
   "cell_type": "code",
   "execution_count": 26,
   "id": "1797803b",
   "metadata": {},
   "outputs": [
    {
     "name": "stdout",
     "output_type": "stream",
     "text": [
      "Buscando los mejores hiperparámetros con CrossValidator para Random Forest...\n",
      "\n",
      "=== Random Forest Regressor (Mejor Modelo) ===\n",
      "RMSE: 13.4586\n",
      "R²: 0.8385\n",
      "[RF] Mejores hiperparámetros: {'numTrees': 10, 'maxDepth': 10, 'featureSubsetStrategy': 'auto'}\n",
      "[RF] Top-10 importancias: [0.9808886816449259, 0.0035216388881679855, 0.002011204539472217, 0.00511115388976862, 0.0006734818466692576, 0.0033781870591683694, 0.0006948370038978162, 6.398334661911931e-05, 8.60044855248726e-05, 1.3533457455006735e-05]\n"
     ]
    }
   ],
   "source": [
    "# Preparar evaluadores\n",
    "evaluator_rmse = RegressionEvaluator(labelCol=\"label\", predictionCol=\"prediction\", metricName=\"rmse\")\n",
    "evaluator_r2   = RegressionEvaluator(labelCol=\"label\", predictionCol=\"prediction\", metricName=\"r2\")\n",
    "\n",
    "# Definir el modelo base\n",
    "rf = RandomForestRegressor(featuresCol=\"features\", labelCol=\"label\", seed=42)\n",
    "\n",
    "# Definir la grid de hiperparámetros\n",
    "rf_grid = (ParamGridBuilder()\n",
    "           .addGrid(rf.numTrees, [2, 5, 10])                     \n",
    "           .addGrid(rf.maxDepth, [3, 5, 10])                    \n",
    "           .addGrid(rf.featureSubsetStrategy, [\"auto\", \"sqrt\"]) \n",
    "           .build())\n",
    "\n",
    "# Configurar CrossValidator\n",
    "rf_cv = CrossValidator(\n",
    "    estimator=rf,\n",
    "    estimatorParamMaps=rf_grid,\n",
    "    evaluator=evaluator_r2,  \n",
    "    numFolds=3,\n",
    "    parallelism=2,           \n",
    "    seed=42,\n",
    "    collectSubModels=False)\n",
    "\n",
    "# Entrenar directamente el mejor modelo sobre train\n",
    "print(\"Buscando los mejores hiperparámetros con CrossValidator para Random Forest...\")\n",
    "rf_cv_model = rf_cv.fit(train_df)\n",
    "\n",
    "# Evaluación sobre test\n",
    "rf_preds = rf_cv_model.transform(test_df).cache()\n",
    "\n",
    "rf_rmse = evaluator_rmse.evaluate(rf_preds)\n",
    "rf_r2   = evaluator_r2.evaluate(rf_preds)\n",
    "\n",
    "print(f\"\\n=== Random Forest Regressor (Mejor Modelo) ===\")\n",
    "print(f\"RMSE: {rf_rmse:.4f}\")\n",
    "print(f\"R²: {rf_r2:.4f}\")\n",
    "\n",
    "# Mejor modelo e hiperparámetros\n",
    "best_rf = rf_cv_model.bestModel\n",
    "best_rf_params = {\n",
    "    \"numTrees\": best_rf.getNumTrees,\n",
    "    \"maxDepth\": best_rf.getOrDefault(best_rf.maxDepth),\n",
    "    \"featureSubsetStrategy\": best_rf.getOrDefault(best_rf.featureSubsetStrategy),}\n",
    "\n",
    "print(\"[RF] Mejores hiperparámetros:\", best_rf_params)\n",
    "\n",
    "# Importancia de features (Top-10)\n",
    "print(\"[RF] Top-10 importancias:\", list(best_rf.featureImportances.toArray())[:10])"
   ]
  },
  {
   "cell_type": "markdown",
   "id": "210f3070",
   "metadata": {},
   "source": [
    "#### Añadir ritmos y ver resultados"
   ]
  },
  {
   "cell_type": "code",
   "execution_count": 27,
   "id": "cd0e33df",
   "metadata": {},
   "outputs": [
    {
     "name": "stdout",
     "output_type": "stream",
     "text": [
      "+-------+------------------+------------------+------------------+------------------+------------------+\n",
      "|athlete|distance          |label             |prediction        |pace_real_min_km  |pace_pred_min_km  |\n",
      "+-------+------------------+------------------+------------------+------------------+------------------+\n",
      "|1580   |11.54             |63.0              |56.214063236550224|5.459272097053726 |4.871235982370037 |\n",
      "|5518   |13.200000000000001|57.45             |61.71832781635184 |4.3522727272727275|4.675630895178169 |\n",
      "|9852   |10.18             |46.166666666666664|52.921150120519584|4.535036018336608 |5.198541269206246 |\n",
      "|10623  |20.6              |107.0             |125.37528675996575|5.194174757281553 |6.086178968930375 |\n",
      "|11141  |8.45              |48.25             |44.73745254667521 |5.710059171597633 |5.2943730824467705|\n",
      "|11858  |16.54             |124.61666666666667|89.56592042069715 |7.534260378879485 |5.415110061710831 |\n",
      "|1580   |10.24             |62.0              |54.60829520310241 |6.0546875         |5.332841328427969 |\n",
      "|6397   |7.79              |47.583333333333336|40.708149135155786|6.108258451005563 |5.225693085385852 |\n",
      "|6620   |16.129            |94.0              |89.64635544873029 |5.828011656023311 |5.558085153991586 |\n",
      "|9852   |10.66             |57.53333333333333 |54.55258001933986 |5.397123202001251 |5.1175028160731575|\n",
      "+-------+------------------+------------------+------------------+------------------+------------------+\n",
      "only showing top 10 rows\n"
     ]
    }
   ],
   "source": [
    "# Añadir columnas de ritmo (min/km)\n",
    "rf_preds = add_paces(rf_preds)\n",
    "\n",
    "# Mostrar algunas predicciones con ritmos\n",
    "rf_preds.select(\"athlete\", \"distance\", \"label\", \"prediction\", \n",
    "                \"pace_real_min_km\", \"pace_pred_min_km\").show(10, truncate=False)"
   ]
  }
 ],
 "metadata": {
  "kernelspec": {
   "display_name": "aage",
   "language": "python",
   "name": "python3"
  },
  "language_info": {
   "codemirror_mode": {
    "name": "ipython",
    "version": 3
   },
   "file_extension": ".py",
   "mimetype": "text/x-python",
   "name": "python",
   "nbconvert_exporter": "python",
   "pygments_lexer": "ipython3",
   "version": "3.11.9"
  }
 },
 "nbformat": 4,
 "nbformat_minor": 5
}
