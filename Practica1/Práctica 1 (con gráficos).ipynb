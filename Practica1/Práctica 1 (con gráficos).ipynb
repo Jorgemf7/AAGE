{
 "cells": [
  {
   "cell_type": "markdown",
   "id": "bcbcf848",
   "metadata": {},
   "source": [
    "# Práctica 1"
   ]
  },
  {
   "cell_type": "markdown",
   "id": "c8e3416a",
   "metadata": {},
   "source": [
    "## Importaciones"
   ]
  },
  {
   "cell_type": "code",
   "execution_count": 2,
   "id": "9693568d",
   "metadata": {},
   "outputs": [],
   "source": [
    "import os\n",
    "import sys\n",
    "from pyspark.sql import SparkSession\n",
    "from pyspark.sql.functions import month, when, col\n",
    "from pyspark.ml.feature import StringIndexer, OneHotEncoder, VectorAssembler\n",
    "from pyspark.ml import Pipeline\n",
    "from pyspark.ml.regression import LinearRegression, DecisionTreeRegressor, RandomForestRegressor\n",
    "from pyspark.ml.evaluation import RegressionEvaluator\n",
    "from pyspark.ml.tuning import ParamGridBuilder, CrossValidator\n",
    "import plotly.graph_objects as go"
   ]
  },
  {
   "cell_type": "markdown",
   "id": "28e65db3",
   "metadata": {},
   "source": [
    "## Inicio de sesión en Spark"
   ]
  },
  {
   "cell_type": "code",
   "execution_count": 3,
   "id": "6d51337c",
   "metadata": {},
   "outputs": [],
   "source": [
    "os.environ['JAVA_HOME'] = r\"C:\\Program Files\\Java\\jdk-22\"\n",
    "os.environ['PYSPARK_PYTHON'] = sys.executable\n",
    "os.environ['PYSPARK_DRIVER_PYTHON'] = sys.executable\n",
    "\n",
    "spark = SparkSession.builder \\\n",
    "    .config(\"spark.driver.memory\", \"8g\") \\\n",
    "    .getOrCreate()"
   ]
  },
  {
   "cell_type": "markdown",
   "id": "ec9484a8",
   "metadata": {},
   "source": [
    "## Visualización inicial de los datos"
   ]
  },
  {
   "cell_type": "markdown",
   "id": "8aa47690",
   "metadata": {},
   "source": [
    "### Carga del dataset"
   ]
  },
  {
   "cell_type": "code",
   "execution_count": 4,
   "id": "702073d3",
   "metadata": {},
   "outputs": [],
   "source": [
    "# Cargar el dataset.\n",
    "df = spark.read.csv(\"run_ww_2020_d.csv\", header=True, inferSchema=True)"
   ]
  },
  {
   "cell_type": "markdown",
   "id": "53273c03",
   "metadata": {},
   "source": [
    "### Muestra de las cinco primeras filas y del esquema"
   ]
  },
  {
   "cell_type": "code",
   "execution_count": 5,
   "id": "b18ae0c3",
   "metadata": {},
   "outputs": [
    {
     "name": "stdout",
     "output_type": "stream",
     "text": [
      "+---+----------+-------+--------+------------------+------+---------+--------------+-----------------------+\n",
      "|_c0|datetime  |athlete|distance|duration          |gender|age_group|country       |major                  |\n",
      "+---+----------+-------+--------+------------------+------+---------+--------------+-----------------------+\n",
      "|0  |2020-01-01|0      |0.0     |0.0               |F     |18 - 34  |United States |CHICAGO 2019           |\n",
      "|1  |2020-01-01|1      |5.72    |31.633333333333333|M     |35 - 54  |Germany       |BERLIN 2016            |\n",
      "|2  |2020-01-01|2      |0.0     |0.0               |M     |35 - 54  |United Kingdom|LONDON 2018,LONDON 2019|\n",
      "|3  |2020-01-01|3      |0.0     |0.0               |M     |18 - 34  |United Kingdom|LONDON 2017            |\n",
      "|4  |2020-01-01|4      |8.07    |38.61666666666667 |M     |35 - 54  |United States |BOSTON 2017            |\n",
      "+---+----------+-------+--------+------------------+------+---------+--------------+-----------------------+\n",
      "only showing top 5 rows\n",
      "root\n",
      " |-- _c0: integer (nullable = true)\n",
      " |-- datetime: date (nullable = true)\n",
      " |-- athlete: integer (nullable = true)\n",
      " |-- distance: double (nullable = true)\n",
      " |-- duration: double (nullable = true)\n",
      " |-- gender: string (nullable = true)\n",
      " |-- age_group: string (nullable = true)\n",
      " |-- country: string (nullable = true)\n",
      " |-- major: string (nullable = true)\n",
      "\n"
     ]
    }
   ],
   "source": [
    "# Mostrar las cinco primeras filas.\n",
    "df.show(5, truncate=False)\n",
    "\n",
    "# Mostrar esquema de columnas.\n",
    "df.printSchema()"
   ]
  },
  {
   "cell_type": "markdown",
   "id": "c133fb33",
   "metadata": {},
   "source": [
    "### Muestra de filas y variables y principales estadísticas del dataset"
   ]
  },
  {
   "cell_type": "code",
   "execution_count": 6,
   "id": "7e180237",
   "metadata": {},
   "outputs": [
    {
     "name": "stdout",
     "output_type": "stream",
     "text": [
      "Filas: 13326792, Variables: 9\n",
      "+-------+------------------+------------------+\n",
      "|summary|          distance|          duration|\n",
      "+-------+------------------+------------------+\n",
      "|  count|          13326792|          13326792|\n",
      "|   mean|3.8647184738824425|21.391975435649456|\n",
      "| stddev| 6.661547347662418| 39.27358918572197|\n",
      "|    min|               0.0|               0.0|\n",
      "|    max|            347.95|2299.9666666666667|\n",
      "+-------+------------------+------------------+\n",
      "\n",
      "+------+--------+\n",
      "|gender|   count|\n",
      "+------+--------+\n",
      "|     F| 3253374|\n",
      "|     M|10073418|\n",
      "+------+--------+\n",
      "\n",
      "+---------+-------+\n",
      "|age_group|  count|\n",
      "+---------+-------+\n",
      "|     55 +| 940254|\n",
      "|  35 - 54|7905966|\n",
      "|  18 - 34|4480572|\n",
      "+---------+-------+\n",
      "\n"
     ]
    }
   ],
   "source": [
    "# Número de filas y variables.\n",
    "print(f\"Filas: {df.count()}, Variables: {len(df.columns)}\")\n",
    "\n",
    "# Estadísticas descriptivas de variables numéricas.\n",
    "df.describe(['distance', 'duration']).show()\n",
    "\n",
    "# Distribución por género y grupo de edad.\n",
    "df.groupBy(\"gender\").count().show()\n",
    "df.groupBy(\"age_group\").count().show()"
   ]
  },
  {
   "cell_type": "markdown",
   "id": "31e85d52",
   "metadata": {},
   "source": [
    "## Preparación del dataset"
   ]
  },
  {
   "cell_type": "markdown",
   "id": "985ea670",
   "metadata": {},
   "source": [
    "### Filtrado de filas"
   ]
  },
  {
   "cell_type": "markdown",
   "id": "5039e570",
   "metadata": {},
   "source": [
    "Como tenemos un gran número de filas, vamos a filtrar. Primero, nos quedamos solo con los registros que no estén vacíos, es decir, aquellos cuya duración y distancia sea mayor a 0."
   ]
  },
  {
   "cell_type": "code",
   "execution_count": 7,
   "id": "a602c374",
   "metadata": {},
   "outputs": [
    {
     "name": "stdout",
     "output_type": "stream",
     "text": [
      "Filas tras filtrar: 4581764\n"
     ]
    }
   ],
   "source": [
    "# Filtrado de filas.\n",
    "df_filtered = df.filter((df.duration > 0) & (df.distance > 0))\n",
    "\n",
    "# Comprobar tamaño.\n",
    "print(f\"Filas tras filtrar: {df_filtered.count()}\")"
   ]
  },
  {
   "cell_type": "markdown",
   "id": "7c831cb7",
   "metadata": {},
   "source": [
    "### Eliminamos las filas con valores nulos"
   ]
  },
  {
   "cell_type": "code",
   "execution_count": 8,
   "id": "b98042ac",
   "metadata": {},
   "outputs": [
    {
     "name": "stdout",
     "output_type": "stream",
     "text": [
      "Filas tras filtrar: 4555724\n"
     ]
    }
   ],
   "source": [
    "df_filtered = df_filtered.dropna()\n",
    "\n",
    "# Comprobar tamaño.\n",
    "print(f\"Filas tras filtrar: {df_filtered.count()}\")"
   ]
  },
  {
   "cell_type": "markdown",
   "id": "66948153",
   "metadata": {},
   "source": [
    "Como seguimos teniendo gran número de filas, volvemos a filtrar. Ahora vamos a filtrar por número de atletas. Inicialmente tenemos 36.7k atletas. Vamos a probar con cuantos nos quedamos con el número de filas más adecuado."
   ]
  },
  {
   "cell_type": "code",
   "execution_count": 9,
   "id": "66645f94",
   "metadata": {},
   "outputs": [
    {
     "name": "stdout",
     "output_type": "stream",
     "text": [
      "Filas con athlete < 5000: 625635\n",
      "Filas con athlete < 8000: 996749\n",
      "Filas con athlete < 10000: 1249180\n",
      "Filas con athlete < 15000: 1869208\n",
      "Filas con athlete < 20000: 2471216\n"
     ]
    }
   ],
   "source": [
    "# Filtrar atletas con ID < 5000.\n",
    "df_filtered_5000 = df_filtered.filter(df_filtered.athlete < 5000)\n",
    "print(f\"Filas con athlete < 5000: {df_filtered_5000.count()}\")\n",
    "\n",
    "# Filtrar atletas con ID < 8000.\n",
    "df_filtered_8000 = df_filtered.filter(df_filtered.athlete < 8000)\n",
    "print(f\"Filas con athlete < 8000: {df_filtered_8000.count()}\")\n",
    "\n",
    "# Filtrar atletas con ID < 10000.\n",
    "df_filtered_10000 = df_filtered.filter(df_filtered.athlete < 10000)\n",
    "print(f\"Filas con athlete < 10000: {df_filtered_10000.count()}\")\n",
    "\n",
    "# Filtrar atletas con ID < 15000.\n",
    "df_final = df_filtered.filter(df_filtered.athlete < 15000)\n",
    "print(f\"Filas con athlete < 15000: {df_final.count()}\")\n",
    "\n",
    "# Filtrar atletas con ID < 20000.\n",
    "df_filtered_20000 = df_filtered.filter(df_filtered.athlete < 20000)\n",
    "print(f\"Filas con athlete < 20000: {df_filtered_20000.count()}\")"
   ]
  },
  {
   "cell_type": "markdown",
   "id": "8cef25a0",
   "metadata": {},
   "source": [
    "Nos quedamos con 15000 atletas, ya que creemos que es el valor más adecuado para lograr un equilibrio entre cantidad para un correcto aprendizaje y velocidad de procesamiento. "
   ]
  },
  {
   "cell_type": "markdown",
   "id": "fa66c5c0",
   "metadata": {},
   "source": [
    "### Creación de la variable \"season\" a partir de la variable datetime"
   ]
  },
  {
   "cell_type": "code",
   "execution_count": 10,
   "id": "6e502a1e",
   "metadata": {},
   "outputs": [],
   "source": [
    "df_final = df_final.withColumn(\n",
    "    \"season\",\n",
    "    when((month(\"datetime\") >= 3) & (month(\"datetime\") <= 5), \"spring\")\n",
    "    .when((month(\"datetime\") >= 6) & (month(\"datetime\") <= 8), \"summer\")\n",
    "    .when((month(\"datetime\") >= 9) & (month(\"datetime\") <= 11), \"autumn\")\n",
    "    .otherwise(\"winter\"))"
   ]
  },
  {
   "cell_type": "markdown",
   "id": "48e4cf50",
   "metadata": {},
   "source": [
    "### Seleccionamos solo las columnas relevantes"
   ]
  },
  {
   "cell_type": "code",
   "execution_count": 11,
   "id": "6dedb56a",
   "metadata": {},
   "outputs": [],
   "source": [
    "# Seleccionamos las columnas que no son datetime o major.\n",
    "df_final = df_final.select(\"athlete\", \"distance\", \"duration\", \"gender\", \"age_group\", \"country\", \"season\")"
   ]
  },
  {
   "cell_type": "markdown",
   "id": "dce03769",
   "metadata": {},
   "source": [
    "### Muestra de las cinco primeras filas y del esquema del dataset"
   ]
  },
  {
   "cell_type": "code",
   "execution_count": 12,
   "id": "b1bf6ea8",
   "metadata": {},
   "outputs": [
    {
     "name": "stdout",
     "output_type": "stream",
     "text": [
      "+-------+--------+------------------+------+---------+--------------+------+\n",
      "|athlete|distance|duration          |gender|age_group|country       |season|\n",
      "+-------+--------+------------------+------+---------+--------------+------+\n",
      "|1      |5.72    |31.633333333333333|M     |35 - 54  |Germany       |winter|\n",
      "|4      |8.07    |38.61666666666667 |M     |35 - 54  |United States |winter|\n",
      "|5      |10.09   |43.56666666666667 |F     |35 - 54  |United States |winter|\n",
      "|6      |9.82    |50.53333333333333 |M     |55 +     |United States |winter|\n",
      "|8      |10.05   |59.05             |M     |35 - 54  |United Kingdom|winter|\n",
      "+-------+--------+------------------+------+---------+--------------+------+\n",
      "only showing top 5 rows\n",
      "root\n",
      " |-- athlete: integer (nullable = true)\n",
      " |-- distance: double (nullable = true)\n",
      " |-- duration: double (nullable = true)\n",
      " |-- gender: string (nullable = true)\n",
      " |-- age_group: string (nullable = true)\n",
      " |-- country: string (nullable = true)\n",
      " |-- season: string (nullable = false)\n",
      "\n"
     ]
    }
   ],
   "source": [
    "# Mostrar las cinco primeras filas.\n",
    "df_final.show(5, truncate=False)\n",
    "\n",
    "# Mostrar esquema de columnas.\n",
    "df_final.printSchema()"
   ]
  },
  {
   "cell_type": "markdown",
   "id": "75ccf50a",
   "metadata": {},
   "source": [
    "### Muestra de filas y variables y principales estadísticas del dataset"
   ]
  },
  {
   "cell_type": "code",
   "execution_count": 13,
   "id": "02328486",
   "metadata": {},
   "outputs": [
    {
     "name": "stdout",
     "output_type": "stream",
     "text": [
      "Filas: 1869208, Variables: 7\n",
      "+-------+-----------------+--------------------+\n",
      "|summary|         distance|            duration|\n",
      "+-------+-----------------+--------------------+\n",
      "|  count|          1869208|             1869208|\n",
      "|   mean|11.34178614258103|  62.651047279560196|\n",
      "| stddev|6.851907901598767|   44.45724057163191|\n",
      "|    min|             0.01|0.016666666666666666|\n",
      "|    max|           263.37|              2202.0|\n",
      "+-------+-----------------+--------------------+\n",
      "\n",
      "+------+-------+\n",
      "|gender|  count|\n",
      "+------+-------+\n",
      "|     F| 463958|\n",
      "|     M|1405250|\n",
      "+------+-------+\n",
      "\n",
      "+---------+-------+\n",
      "|age_group|  count|\n",
      "+---------+-------+\n",
      "|     55 +| 138448|\n",
      "|  35 - 54|1117572|\n",
      "|  18 - 34| 613188|\n",
      "+---------+-------+\n",
      "\n",
      "+------+------+\n",
      "|season| count|\n",
      "+------+------+\n",
      "|winter|458894|\n",
      "|spring|507774|\n",
      "|summer|473599|\n",
      "|autumn|428941|\n",
      "+------+------+\n",
      "\n"
     ]
    }
   ],
   "source": [
    "# Número de filas y variables.\n",
    "print(f\"Filas: {df_final.count()}, Variables: {len(df_final.columns)}\")\n",
    "\n",
    "# Estadísticas descriptivas de variables numéricas.\n",
    "df_final.describe(['distance', 'duration']).show()\n",
    "\n",
    "# Distribución por género, grupo de edad y estación.\n",
    "df_final.groupBy(\"gender\").count().show()\n",
    "df_final.groupBy(\"age_group\").count().show()\n",
    "df_final.groupBy(\"season\").count().show()"
   ]
  },
  {
   "cell_type": "markdown",
   "id": "c38f4998",
   "metadata": {},
   "source": [
    "### Eliminar valores atípicos (distancia, duración y ritmo medio)"
   ]
  },
  {
   "cell_type": "code",
   "execution_count": 14,
   "id": "b7f8f18d",
   "metadata": {},
   "outputs": [],
   "source": [
    "# Filtramos primero por distancia. Eliminamos actividades con distancia < 0.5 km o > 100 km.\n",
    "df_final = df_final.filter((col(\"distance\") > 0.5) & (col(\"distance\") < 100)) \n",
    "\n",
    "# Luego filtramos por duración. Eliminamos actividades con duración < 5 min o > 300 min.\n",
    "df_final = df_final.filter((col(\"duration\") > 5) & (col(\"duration\") < 300)) \n",
    "\n",
    "# Hacemos un filtrado adicional por ritmo medio.\n",
    "# Primero añadimos la columna pace_min_km (min/km) como el resultado de la duración entre la distancia.\n",
    "df_final = df_final.withColumn(\"pace_min_km\", col(\"duration\") / col(\"distance\")) \n",
    "\n",
    "# Filtramos actividades con ritmo medio < 1 min/km o > 9 min/km.\n",
    "df_final = df_final.filter((col(\"pace_min_km\") >= 1.0) & (col(\"pace_min_km\") <= 9.0))"
   ]
  },
  {
   "cell_type": "markdown",
   "id": "6890eb2b",
   "metadata": {},
   "source": [
    "### Muestra de las cinco primeras filas y del esquema del dataset final"
   ]
  },
  {
   "cell_type": "code",
   "execution_count": 15,
   "id": "c1d6f50b",
   "metadata": {},
   "outputs": [
    {
     "name": "stdout",
     "output_type": "stream",
     "text": [
      "+-------+--------+------------------+------+---------+--------------+------+-----------------+\n",
      "|athlete|distance|duration          |gender|age_group|country       |season|pace_min_km      |\n",
      "+-------+--------+------------------+------+---------+--------------+------+-----------------+\n",
      "|1      |5.72    |31.633333333333333|M     |35 - 54  |Germany       |winter|5.53030303030303 |\n",
      "|4      |8.07    |38.61666666666667 |M     |35 - 54  |United States |winter|4.785212722015696|\n",
      "|5      |10.09   |43.56666666666667 |F     |35 - 54  |United States |winter|4.317806408985795|\n",
      "|6      |9.82    |50.53333333333333 |M     |55 +     |United States |winter|5.145960624575696|\n",
      "|8      |10.05   |59.05             |M     |35 - 54  |United Kingdom|winter|5.875621890547263|\n",
      "+-------+--------+------------------+------+---------+--------------+------+-----------------+\n",
      "only showing top 5 rows\n",
      "root\n",
      " |-- athlete: integer (nullable = true)\n",
      " |-- distance: double (nullable = true)\n",
      " |-- duration: double (nullable = true)\n",
      " |-- gender: string (nullable = true)\n",
      " |-- age_group: string (nullable = true)\n",
      " |-- country: string (nullable = true)\n",
      " |-- season: string (nullable = false)\n",
      " |-- pace_min_km: double (nullable = true)\n",
      "\n"
     ]
    }
   ],
   "source": [
    "# Mostrar las cinco primeras filas.\n",
    "df_final.show(5, truncate=False)\n",
    "\n",
    "# Mostrar esquema de columnas.\n",
    "df_final.printSchema()"
   ]
  },
  {
   "cell_type": "markdown",
   "id": "b22720bf",
   "metadata": {},
   "source": [
    "### Muestra de filas y variables y principales estadísticas del dataset final"
   ]
  },
  {
   "cell_type": "code",
   "execution_count": 16,
   "id": "9c6e1d80",
   "metadata": {},
   "outputs": [
    {
     "name": "stdout",
     "output_type": "stream",
     "text": [
      "Filas: 1806322, Variables: 8\n",
      "+-------+------------------+-----------------+------------------+\n",
      "|summary|          distance|         duration|       pace_min_km|\n",
      "+-------+------------------+-----------------+------------------+\n",
      "|  count|           1806322|          1806322|           1806322|\n",
      "|   mean|11.326626417106976|60.57503812535387| 5.441138410356235|\n",
      "| stddev| 6.204587315338015|33.55932521375634|0.8935773227352968|\n",
      "|    min|              0.57|5.016666666666667|1.6812481773111694|\n",
      "|    max|             88.53|           299.95|               9.0|\n",
      "+-------+------------------+-----------------+------------------+\n",
      "\n",
      "+------+-------+\n",
      "|gender|  count|\n",
      "+------+-------+\n",
      "|     F| 440092|\n",
      "|     M|1366230|\n",
      "+------+-------+\n",
      "\n",
      "+---------+-------+\n",
      "|age_group|  count|\n",
      "+---------+-------+\n",
      "|     55 +| 129521|\n",
      "|  35 - 54|1078807|\n",
      "|  18 - 34| 597994|\n",
      "+---------+-------+\n",
      "\n",
      "+------+------+\n",
      "|season| count|\n",
      "+------+------+\n",
      "|winter|446493|\n",
      "|spring|491814|\n",
      "|summer|454843|\n",
      "|autumn|413172|\n",
      "+------+------+\n",
      "\n"
     ]
    }
   ],
   "source": [
    "# Número de filas y variables.\n",
    "print(f\"Filas: {df_final.count()}, Variables: {len(df_final.columns)}\")\n",
    "\n",
    "# Estadísticas descriptivas de variables numéricas.\n",
    "df_final.describe(['distance', 'duration', 'pace_min_km']).show()\n",
    "\n",
    "# Distribución por género, grupo de edad y estación.\n",
    "df_final.groupBy(\"gender\").count().show()\n",
    "df_final.groupBy(\"age_group\").count().show()\n",
    "df_final.groupBy(\"season\").count().show()"
   ]
  },
  {
   "cell_type": "markdown",
   "id": "419d7c1a",
   "metadata": {},
   "source": [
    "## Preparación de los datos para el entrenamiento"
   ]
  },
  {
   "cell_type": "markdown",
   "id": "5312546a",
   "metadata": {},
   "source": [
    "### Convertimos los datos categóricos en vectores one-hot"
   ]
  },
  {
   "cell_type": "code",
   "execution_count": 17,
   "id": "af946dcf",
   "metadata": {},
   "outputs": [],
   "source": [
    "# Convertimos las columnas de tipo categórico en índices numéricos. \n",
    "gender_indexer = StringIndexer(inputCol=\"gender\", outputCol=\"gender_index\")\n",
    "age_indexer = StringIndexer(inputCol=\"age_group\", outputCol=\"age_index\")\n",
    "country_indexer = StringIndexer(inputCol=\"country\", outputCol=\"country_index\")\n",
    "season_indexer = StringIndexer(inputCol=\"season\", outputCol=\"season_index\")\n",
    "\n",
    "# Convertimos los índices numéricos del paso anterior en vectores one-hot.\n",
    "encoder = OneHotEncoder(inputCols=[\"gender_index\", \"age_index\", \"country_index\", \"season_index\"],\n",
    "                        outputCols=[\"gender_vec\", \"age_vec\", \"country_vec\", \"season_vec\"])"
   ]
  },
  {
   "cell_type": "markdown",
   "id": "81f9fcb1",
   "metadata": {},
   "source": [
    "### Combinamos las columnas numéricas en un solo vector"
   ]
  },
  {
   "cell_type": "code",
   "execution_count": 18,
   "id": "eaf712f1",
   "metadata": {},
   "outputs": [],
   "source": [
    "# Creamos un vector features que combine todas las variables numéricas.\n",
    "assembler = VectorAssembler(inputCols=[\"distance\", \"gender_vec\", \"age_vec\", \"country_vec\", \"season_vec\"],\n",
    "                            outputCol=\"features\")"
   ]
  },
  {
   "cell_type": "markdown",
   "id": "5d5e8ad9",
   "metadata": {},
   "source": [
    "### Creamos un pipeline para aplicar todas las transformaciones"
   ]
  },
  {
   "cell_type": "code",
   "execution_count": 19,
   "id": "a8880510",
   "metadata": {},
   "outputs": [],
   "source": [
    "# Creamos el Pipeline con todas las etapas.\n",
    "pipeline = Pipeline(stages=[gender_indexer, age_indexer, country_indexer, season_indexer, encoder, assembler])\n",
    "\n",
    "# Ajustamos el pipeline y transformamos los datos.\n",
    "df_prepared = pipeline.fit(df_final).transform(df_final)"
   ]
  },
  {
   "cell_type": "markdown",
   "id": "c6703fd2",
   "metadata": {},
   "source": [
    "### División de los datos en entrenamiento y test"
   ]
  },
  {
   "cell_type": "code",
   "execution_count": 20,
   "id": "1cdd81f8",
   "metadata": {},
   "outputs": [
    {
     "name": "stdout",
     "output_type": "stream",
     "text": [
      "Train: 1455983 filas, Test: 350339 filas\n"
     ]
    }
   ],
   "source": [
    "# Obtenemos los atletas.\n",
    "athletes = df_final.select(\"athlete\").distinct()\n",
    "\n",
    "# Asignamos aleatoriamente el 80% de atletas a train y el 20% a test.\n",
    "train_athletes, test_athletes = athletes.randomSplit([0.8, 0.2], seed=42)\n",
    "\n",
    "# Filtramos filas según atletas asignados.\n",
    "train_df = df_prepared.join(train_athletes, on=\"athlete\", how=\"inner\")\n",
    "test_df = df_prepared.join(test_athletes, on=\"athlete\", how=\"inner\")\n",
    "\n",
    "# Mostramos el número de filas en train y test.\n",
    "print(f\"Train: {train_df.count()} filas, Test: {test_df.count()} filas\")"
   ]
  },
  {
   "cell_type": "markdown",
   "id": "df104a9b",
   "metadata": {},
   "source": [
    "### Definición de la variable objetivo a predecir"
   ]
  },
  {
   "cell_type": "code",
   "execution_count": 21,
   "id": "b12edb62",
   "metadata": {},
   "outputs": [],
   "source": [
    "# Renombramos la columna 'duration' a 'label', ya que es la variable a predecir.\n",
    "train_df = train_df.withColumnRenamed(\"duration\", \"label\")  \n",
    "test_df = test_df.withColumnRenamed(\"duration\", \"label\")    "
   ]
  },
  {
   "cell_type": "markdown",
   "id": "e74aa302",
   "metadata": {},
   "source": [
    "## Modelos"
   ]
  },
  {
   "cell_type": "markdown",
   "id": "9eb5cb38",
   "metadata": {},
   "source": [
    "### Función para calcular ritmos medios "
   ]
  },
  {
   "cell_type": "code",
   "execution_count": 22,
   "id": "2f5198fe",
   "metadata": {},
   "outputs": [],
   "source": [
    "# Función para añadir columnas de ritmo (min/km) al DataFrame de predicciones.\n",
    "def add_paces(pred_df, distance_col=\"distance\", y_true_col=\"label\", y_pred_col=\"prediction\"):\n",
    "  \n",
    "    return (pred_df\n",
    "            .withColumn(\"pace_real_min_km\",  col(y_true_col) / col(distance_col))  \n",
    "            .withColumn(\"pace_pred_min_km\",  col(y_pred_col) / col(distance_col))) "
   ]
  },
  {
   "cell_type": "markdown",
   "id": "3aeb6078",
   "metadata": {},
   "source": [
    "### Modelo Regresión Lineal"
   ]
  },
  {
   "cell_type": "markdown",
   "id": "717aa060",
   "metadata": {},
   "source": [
    "#### Creación del modelo"
   ]
  },
  {
   "cell_type": "code",
   "execution_count": 23,
   "id": "14942504",
   "metadata": {},
   "outputs": [
    {
     "name": "stdout",
     "output_type": "stream",
     "text": [
      "Buscando los mejores hiperparámetros con CrossValidator...\n",
      "\n",
      "=== Linear Regression (Mejor Modelo) ===\n",
      "RMSE: 10.5110\n",
      "R²: 0.9015\n",
      "[LR] Mejores hiperparámetros:\n",
      "   regParam: 0.001\n",
      "   elasticNetParam: 1.0\n",
      "   maxIter: 50\n",
      "[LR] Número de coeficientes: 113\n"
     ]
    }
   ],
   "source": [
    "# Preparar evaluadores\n",
    "evaluator_rmse = RegressionEvaluator(labelCol=\"label\", predictionCol=\"prediction\", metricName=\"rmse\")\n",
    "evaluator_r2   = RegressionEvaluator(labelCol=\"label\", predictionCol=\"prediction\", metricName=\"r2\")\n",
    "\n",
    "# Definir el modelo base\n",
    "lr = LinearRegression(featuresCol=\"features\", labelCol=\"label\", maxIter=50)  \n",
    "\n",
    "# Definir la grid de hiperparámetros\n",
    "lr_grid = (ParamGridBuilder()\n",
    "           .addGrid(lr.regParam, [0.0, 0.001, 0.01, 0.1])        \n",
    "           .addGrid(lr.elasticNetParam, [0.0, 0.5, 1.0]) \n",
    "           .build())\n",
    "\n",
    "# Configurar CrossValidator\n",
    "lr_cv = CrossValidator(\n",
    "    estimator=lr,\n",
    "    estimatorParamMaps=lr_grid,\n",
    "    evaluator=evaluator_r2, \n",
    "    numFolds=3,             \n",
    "    parallelism=1,          \n",
    "    seed=42,\n",
    "    collectSubModels=False)\n",
    "\n",
    "# Entrenar directamente el mejor modelo sobre train\n",
    "print(\"Buscando los mejores hiperparámetros con CrossValidator...\")\n",
    "lr_cv_model = lr_cv.fit(train_df)\n",
    "\n",
    "# Evaluación sobre test\n",
    "lr_preds = lr_cv_model.transform(test_df).cache()\n",
    "\n",
    "lr_rmse = evaluator_rmse.evaluate(lr_preds)\n",
    "lr_r2   = evaluator_r2.evaluate(lr_preds)\n",
    "\n",
    "print(f\"\\n=== Linear Regression (Mejor Modelo) ===\")\n",
    "print(f\"RMSE: {lr_rmse:.4f}\")\n",
    "print(f\"R²: {lr_r2:.4f}\")\n",
    "\n",
    "# Mejor modelo e hiperparámetros\n",
    "best_lr = lr_cv_model.bestModel\n",
    "best_params = {p.name: best_lr.getOrDefault(p) for p in best_lr.extractParamMap()}\n",
    "\n",
    "print(\"[LR] Mejores hiperparámetros:\")\n",
    "for k in [\"regParam\", \"elasticNetParam\", \"maxIter\"]:\n",
    "    if k in best_params:\n",
    "        print(f\"   {k}: {best_params[k]}\")\n",
    "\n",
    "print(f\"[LR] Número de coeficientes: {len(best_lr.coefficients)}\")"
   ]
  },
  {
   "cell_type": "markdown",
   "id": "9629e048",
   "metadata": {},
   "source": [
    "#### Añadir ritmos y ver resultados"
   ]
  },
  {
   "cell_type": "code",
   "execution_count": 24,
   "id": "30339067",
   "metadata": {},
   "outputs": [
    {
     "name": "stdout",
     "output_type": "stream",
     "text": [
      "+-------+------------------+------------------+------------------+------------------+------------------+\n",
      "|athlete|distance          |label             |prediction        |pace_real_min_km  |pace_pred_min_km  |\n",
      "+-------+------------------+------------------+------------------+------------------+------------------+\n",
      "|1580   |11.54             |63.0              |59.306256071333564|5.459272097053726 |5.139190300808801 |\n",
      "|5518   |13.200000000000001|57.45             |68.56728011690655 |4.3522727272727275|5.194490917947465 |\n",
      "|9852   |10.18             |46.166666666666664|48.408025626862944|4.535036018336608 |4.755208804210506 |\n",
      "|10623  |20.6              |107.0             |118.49682114573461|5.194174757281553 |5.752272871152165 |\n",
      "|11141  |8.45              |48.25             |50.306698198278305|5.710059171597633 |5.9534554080802735|\n",
      "|11858  |16.54             |124.61666666666667|87.06601033869286 |7.534260378879485 |5.263966767756521 |\n",
      "|1580   |10.24             |62.0              |52.620697014020756|6.0546875         |5.138739942775464 |\n",
      "|6397   |7.79              |47.583333333333336|39.09679598745278 |6.108258451005563 |5.0188441575677505|\n",
      "|6620   |16.129            |94.0              |86.13258149992095 |5.828011656023311 |5.340230733456565 |\n",
      "|9852   |10.66             |57.53333333333333 |50.87653974033229 |5.397123202001251 |4.772658512226293 |\n",
      "+-------+------------------+------------------+------------------+------------------+------------------+\n",
      "only showing top 10 rows\n"
     ]
    }
   ],
   "source": [
    "# Añadir columnas de ritmo (min/km)\n",
    "lr_preds = add_paces(lr_preds)\n",
    "\n",
    "# Mostrar algunas predicciones con ritmos\n",
    "lr_preds.select(\"athlete\", \"distance\", \"label\", \"prediction\", \n",
    "                \"pace_real_min_km\", \"pace_pred_min_km\").show(10, truncate=False)"
   ]
  },
  {
   "cell_type": "markdown",
   "id": "e6876069",
   "metadata": {},
   "source": [
    "#### Resultados gráficos"
   ]
  },
  {
   "cell_type": "code",
   "execution_count": 25,
   "id": "fdfe3964",
   "metadata": {},
   "outputs": [
    {
     "data": {
      "application/vnd.plotly.v1+json": {
       "config": {
        "plotlyServerURL": "https://plot.ly"
       },
       "data": [
        {
         "hovertemplate": "<b>Ritmo real:</b> %{x:.2f} min/km<br><b>Ritmo predicho:</b> %{y:.2f} min/km",
         "marker": {
          "color": "blue",
          "opacity": 0.4,
          "size": 6
         },
         "mode": "markers",
         "name": "Predicciones",
         "type": "scatter",
         "x": {
          "bdata": "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",
          "dtype": "f8"
         },
         "y": {
          "bdata": "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",
          "dtype": "f8"
         }
        },
        {
         "line": {
          "color": "red",
          "dash": "dash"
         },
         "mode": "lines",
         "name": "Ideal (y = x)",
         "type": "scatter",
         "x": [
          2,
          8
         ],
         "y": [
          2,
          8
         ]
        }
       ],
       "layout": {
        "height": 600,
        "legend": {
         "x": 0.02,
         "y": 0.98
        },
        "template": {
         "data": {
          "bar": [
           {
            "error_x": {
             "color": "#2a3f5f"
            },
            "error_y": {
             "color": "#2a3f5f"
            },
            "marker": {
             "line": {
              "color": "white",
              "width": 0.5
             },
             "pattern": {
              "fillmode": "overlay",
              "size": 10,
              "solidity": 0.2
             }
            },
            "type": "bar"
           }
          ],
          "barpolar": [
           {
            "marker": {
             "line": {
              "color": "white",
              "width": 0.5
             },
             "pattern": {
              "fillmode": "overlay",
              "size": 10,
              "solidity": 0.2
             }
            },
            "type": "barpolar"
           }
          ],
          "carpet": [
           {
            "aaxis": {
             "endlinecolor": "#2a3f5f",
             "gridcolor": "#C8D4E3",
             "linecolor": "#C8D4E3",
             "minorgridcolor": "#C8D4E3",
             "startlinecolor": "#2a3f5f"
            },
            "baxis": {
             "endlinecolor": "#2a3f5f",
             "gridcolor": "#C8D4E3",
             "linecolor": "#C8D4E3",
             "minorgridcolor": "#C8D4E3",
             "startlinecolor": "#2a3f5f"
            },
            "type": "carpet"
           }
          ],
          "choropleth": [
           {
            "colorbar": {
             "outlinewidth": 0,
             "ticks": ""
            },
            "type": "choropleth"
           }
          ],
          "contour": [
           {
            "colorbar": {
             "outlinewidth": 0,
             "ticks": ""
            },
            "colorscale": [
             [
              0,
              "#0d0887"
             ],
             [
              0.1111111111111111,
              "#46039f"
             ],
             [
              0.2222222222222222,
              "#7201a8"
             ],
             [
              0.3333333333333333,
              "#9c179e"
             ],
             [
              0.4444444444444444,
              "#bd3786"
             ],
             [
              0.5555555555555556,
              "#d8576b"
             ],
             [
              0.6666666666666666,
              "#ed7953"
             ],
             [
              0.7777777777777778,
              "#fb9f3a"
             ],
             [
              0.8888888888888888,
              "#fdca26"
             ],
             [
              1,
              "#f0f921"
             ]
            ],
            "type": "contour"
           }
          ],
          "contourcarpet": [
           {
            "colorbar": {
             "outlinewidth": 0,
             "ticks": ""
            },
            "type": "contourcarpet"
           }
          ],
          "heatmap": [
           {
            "colorbar": {
             "outlinewidth": 0,
             "ticks": ""
            },
            "colorscale": [
             [
              0,
              "#0d0887"
             ],
             [
              0.1111111111111111,
              "#46039f"
             ],
             [
              0.2222222222222222,
              "#7201a8"
             ],
             [
              0.3333333333333333,
              "#9c179e"
             ],
             [
              0.4444444444444444,
              "#bd3786"
             ],
             [
              0.5555555555555556,
              "#d8576b"
             ],
             [
              0.6666666666666666,
              "#ed7953"
             ],
             [
              0.7777777777777778,
              "#fb9f3a"
             ],
             [
              0.8888888888888888,
              "#fdca26"
             ],
             [
              1,
              "#f0f921"
             ]
            ],
            "type": "heatmap"
           }
          ],
          "histogram": [
           {
            "marker": {
             "pattern": {
              "fillmode": "overlay",
              "size": 10,
              "solidity": 0.2
             }
            },
            "type": "histogram"
           }
          ],
          "histogram2d": [
           {
            "colorbar": {
             "outlinewidth": 0,
             "ticks": ""
            },
            "colorscale": [
             [
              0,
              "#0d0887"
             ],
             [
              0.1111111111111111,
              "#46039f"
             ],
             [
              0.2222222222222222,
              "#7201a8"
             ],
             [
              0.3333333333333333,
              "#9c179e"
             ],
             [
              0.4444444444444444,
              "#bd3786"
             ],
             [
              0.5555555555555556,
              "#d8576b"
             ],
             [
              0.6666666666666666,
              "#ed7953"
             ],
             [
              0.7777777777777778,
              "#fb9f3a"
             ],
             [
              0.8888888888888888,
              "#fdca26"
             ],
             [
              1,
              "#f0f921"
             ]
            ],
            "type": "histogram2d"
           }
          ],
          "histogram2dcontour": [
           {
            "colorbar": {
             "outlinewidth": 0,
             "ticks": ""
            },
            "colorscale": [
             [
              0,
              "#0d0887"
             ],
             [
              0.1111111111111111,
              "#46039f"
             ],
             [
              0.2222222222222222,
              "#7201a8"
             ],
             [
              0.3333333333333333,
              "#9c179e"
             ],
             [
              0.4444444444444444,
              "#bd3786"
             ],
             [
              0.5555555555555556,
              "#d8576b"
             ],
             [
              0.6666666666666666,
              "#ed7953"
             ],
             [
              0.7777777777777778,
              "#fb9f3a"
             ],
             [
              0.8888888888888888,
              "#fdca26"
             ],
             [
              1,
              "#f0f921"
             ]
            ],
            "type": "histogram2dcontour"
           }
          ],
          "mesh3d": [
           {
            "colorbar": {
             "outlinewidth": 0,
             "ticks": ""
            },
            "type": "mesh3d"
           }
          ],
          "parcoords": [
           {
            "line": {
             "colorbar": {
              "outlinewidth": 0,
              "ticks": ""
             }
            },
            "type": "parcoords"
           }
          ],
          "pie": [
           {
            "automargin": true,
            "type": "pie"
           }
          ],
          "scatter": [
           {
            "fillpattern": {
             "fillmode": "overlay",
             "size": 10,
             "solidity": 0.2
            },
            "type": "scatter"
           }
          ],
          "scatter3d": [
           {
            "line": {
             "colorbar": {
              "outlinewidth": 0,
              "ticks": ""
             }
            },
            "marker": {
             "colorbar": {
              "outlinewidth": 0,
              "ticks": ""
             }
            },
            "type": "scatter3d"
           }
          ],
          "scattercarpet": [
           {
            "marker": {
             "colorbar": {
              "outlinewidth": 0,
              "ticks": ""
             }
            },
            "type": "scattercarpet"
           }
          ],
          "scattergeo": [
           {
            "marker": {
             "colorbar": {
              "outlinewidth": 0,
              "ticks": ""
             }
            },
            "type": "scattergeo"
           }
          ],
          "scattergl": [
           {
            "marker": {
             "colorbar": {
              "outlinewidth": 0,
              "ticks": ""
             }
            },
            "type": "scattergl"
           }
          ],
          "scattermap": [
           {
            "marker": {
             "colorbar": {
              "outlinewidth": 0,
              "ticks": ""
             }
            },
            "type": "scattermap"
           }
          ],
          "scattermapbox": [
           {
            "marker": {
             "colorbar": {
              "outlinewidth": 0,
              "ticks": ""
             }
            },
            "type": "scattermapbox"
           }
          ],
          "scatterpolar": [
           {
            "marker": {
             "colorbar": {
              "outlinewidth": 0,
              "ticks": ""
             }
            },
            "type": "scatterpolar"
           }
          ],
          "scatterpolargl": [
           {
            "marker": {
             "colorbar": {
              "outlinewidth": 0,
              "ticks": ""
             }
            },
            "type": "scatterpolargl"
           }
          ],
          "scatterternary": [
           {
            "marker": {
             "colorbar": {
              "outlinewidth": 0,
              "ticks": ""
             }
            },
            "type": "scatterternary"
           }
          ],
          "surface": [
           {
            "colorbar": {
             "outlinewidth": 0,
             "ticks": ""
            },
            "colorscale": [
             [
              0,
              "#0d0887"
             ],
             [
              0.1111111111111111,
              "#46039f"
             ],
             [
              0.2222222222222222,
              "#7201a8"
             ],
             [
              0.3333333333333333,
              "#9c179e"
             ],
             [
              0.4444444444444444,
              "#bd3786"
             ],
             [
              0.5555555555555556,
              "#d8576b"
             ],
             [
              0.6666666666666666,
              "#ed7953"
             ],
             [
              0.7777777777777778,
              "#fb9f3a"
             ],
             [
              0.8888888888888888,
              "#fdca26"
             ],
             [
              1,
              "#f0f921"
             ]
            ],
            "type": "surface"
           }
          ],
          "table": [
           {
            "cells": {
             "fill": {
              "color": "#EBF0F8"
             },
             "line": {
              "color": "white"
             }
            },
            "header": {
             "fill": {
              "color": "#C8D4E3"
             },
             "line": {
              "color": "white"
             }
            },
            "type": "table"
           }
          ]
         },
         "layout": {
          "annotationdefaults": {
           "arrowcolor": "#2a3f5f",
           "arrowhead": 0,
           "arrowwidth": 1
          },
          "autotypenumbers": "strict",
          "coloraxis": {
           "colorbar": {
            "outlinewidth": 0,
            "ticks": ""
           }
          },
          "colorscale": {
           "diverging": [
            [
             0,
             "#8e0152"
            ],
            [
             0.1,
             "#c51b7d"
            ],
            [
             0.2,
             "#de77ae"
            ],
            [
             0.3,
             "#f1b6da"
            ],
            [
             0.4,
             "#fde0ef"
            ],
            [
             0.5,
             "#f7f7f7"
            ],
            [
             0.6,
             "#e6f5d0"
            ],
            [
             0.7,
             "#b8e186"
            ],
            [
             0.8,
             "#7fbc41"
            ],
            [
             0.9,
             "#4d9221"
            ],
            [
             1,
             "#276419"
            ]
           ],
           "sequential": [
            [
             0,
             "#0d0887"
            ],
            [
             0.1111111111111111,
             "#46039f"
            ],
            [
             0.2222222222222222,
             "#7201a8"
            ],
            [
             0.3333333333333333,
             "#9c179e"
            ],
            [
             0.4444444444444444,
             "#bd3786"
            ],
            [
             0.5555555555555556,
             "#d8576b"
            ],
            [
             0.6666666666666666,
             "#ed7953"
            ],
            [
             0.7777777777777778,
             "#fb9f3a"
            ],
            [
             0.8888888888888888,
             "#fdca26"
            ],
            [
             1,
             "#f0f921"
            ]
           ],
           "sequentialminus": [
            [
             0,
             "#0d0887"
            ],
            [
             0.1111111111111111,
             "#46039f"
            ],
            [
             0.2222222222222222,
             "#7201a8"
            ],
            [
             0.3333333333333333,
             "#9c179e"
            ],
            [
             0.4444444444444444,
             "#bd3786"
            ],
            [
             0.5555555555555556,
             "#d8576b"
            ],
            [
             0.6666666666666666,
             "#ed7953"
            ],
            [
             0.7777777777777778,
             "#fb9f3a"
            ],
            [
             0.8888888888888888,
             "#fdca26"
            ],
            [
             1,
             "#f0f921"
            ]
           ]
          },
          "colorway": [
           "#636efa",
           "#EF553B",
           "#00cc96",
           "#ab63fa",
           "#FFA15A",
           "#19d3f3",
           "#FF6692",
           "#B6E880",
           "#FF97FF",
           "#FECB52"
          ],
          "font": {
           "color": "#2a3f5f"
          },
          "geo": {
           "bgcolor": "white",
           "lakecolor": "white",
           "landcolor": "white",
           "showlakes": true,
           "showland": true,
           "subunitcolor": "#C8D4E3"
          },
          "hoverlabel": {
           "align": "left"
          },
          "hovermode": "closest",
          "mapbox": {
           "style": "light"
          },
          "paper_bgcolor": "white",
          "plot_bgcolor": "white",
          "polar": {
           "angularaxis": {
            "gridcolor": "#EBF0F8",
            "linecolor": "#EBF0F8",
            "ticks": ""
           },
           "bgcolor": "white",
           "radialaxis": {
            "gridcolor": "#EBF0F8",
            "linecolor": "#EBF0F8",
            "ticks": ""
           }
          },
          "scene": {
           "xaxis": {
            "backgroundcolor": "white",
            "gridcolor": "#DFE8F3",
            "gridwidth": 2,
            "linecolor": "#EBF0F8",
            "showbackground": true,
            "ticks": "",
            "zerolinecolor": "#EBF0F8"
           },
           "yaxis": {
            "backgroundcolor": "white",
            "gridcolor": "#DFE8F3",
            "gridwidth": 2,
            "linecolor": "#EBF0F8",
            "showbackground": true,
            "ticks": "",
            "zerolinecolor": "#EBF0F8"
           },
           "zaxis": {
            "backgroundcolor": "white",
            "gridcolor": "#DFE8F3",
            "gridwidth": 2,
            "linecolor": "#EBF0F8",
            "showbackground": true,
            "ticks": "",
            "zerolinecolor": "#EBF0F8"
           }
          },
          "shapedefaults": {
           "line": {
            "color": "#2a3f5f"
           }
          },
          "ternary": {
           "aaxis": {
            "gridcolor": "#DFE8F3",
            "linecolor": "#A2B1C6",
            "ticks": ""
           },
           "baxis": {
            "gridcolor": "#DFE8F3",
            "linecolor": "#A2B1C6",
            "ticks": ""
           },
           "bgcolor": "white",
           "caxis": {
            "gridcolor": "#DFE8F3",
            "linecolor": "#A2B1C6",
            "ticks": ""
           }
          },
          "title": {
           "x": 0.05
          },
          "xaxis": {
           "automargin": true,
           "gridcolor": "#EBF0F8",
           "linecolor": "#EBF0F8",
           "ticks": "",
           "title": {
            "standoff": 15
           },
           "zerolinecolor": "#EBF0F8",
           "zerolinewidth": 2
          },
          "yaxis": {
           "automargin": true,
           "gridcolor": "#EBF0F8",
           "linecolor": "#EBF0F8",
           "ticks": "",
           "title": {
            "standoff": 15
           },
           "zerolinecolor": "#EBF0F8",
           "zerolinewidth": 2
          }
         }
        },
        "title": {
         "text": "Ritmo real vs. predicho (Linear Regression)"
        },
        "width": 800,
        "xaxis": {
         "gridcolor": "lightgray",
         "range": [
          2,
          8
         ],
         "title": {
          "text": "Ritmo real (min/km)"
         }
        },
        "yaxis": {
         "gridcolor": "lightgray",
         "range": [
          2,
          8
         ],
         "title": {
          "text": "Ritmo predicho (min/km)"
         }
        }
       }
      }
     },
     "metadata": {},
     "output_type": "display_data"
    }
   ],
   "source": [
    "# Tomamos una pequeña muestra para visualización\n",
    "sample_pd = lr_preds.select(\"pace_real_min_km\", \"pace_pred_min_km\") \\\n",
    "                          .sample(False, 0.03, seed=42).toPandas()\n",
    "\n",
    "# Eliminamos posibles valores extremos\n",
    "sample_pd = sample_pd[\n",
    "    (sample_pd[\"pace_real_min_km\"].between(2, 8)) &\n",
    "    (sample_pd[\"pace_pred_min_km\"].between(2, 8))\n",
    "]\n",
    "\n",
    "# Creamos la figura interactiva\n",
    "fig = go.Figure()\n",
    "\n",
    "# Añadimos los puntos de dispersión\n",
    "fig.add_trace(go.Scatter(\n",
    "    x=sample_pd[\"pace_real_min_km\"],\n",
    "    y=sample_pd[\"pace_pred_min_km\"],\n",
    "    mode=\"markers\",\n",
    "    marker=dict(size=6, opacity=0.4, color=\"blue\"),\n",
    "    name=\"Predicciones\",\n",
    "    hovertemplate=\"<b>Ritmo real:</b> %{x:.2f} min/km<br><b>Ritmo predicho:</b> %{y:.2f} min/km\"\n",
    "))\n",
    "\n",
    "# Línea ideal (y = x)\n",
    "fig.add_trace(go.Scatter(\n",
    "    x=[2, 8], y=[2, 8],\n",
    "    mode=\"lines\",\n",
    "    line=dict(color=\"red\", dash=\"dash\"),\n",
    "    name=\"Ideal (y = x)\"\n",
    "))\n",
    "\n",
    "# Configuración del layout\n",
    "fig.update_layout(\n",
    "    title=\"Ritmo real vs. predicho (Linear Regression)\",\n",
    "    xaxis_title=\"Ritmo real (min/km)\",\n",
    "    yaxis_title=\"Ritmo predicho (min/km)\",\n",
    "    xaxis=dict(range=[2, 8], gridcolor=\"lightgray\"),\n",
    "    yaxis=dict(range=[2, 8], gridcolor=\"lightgray\"),\n",
    "    width=800,\n",
    "    height=600,\n",
    "    legend=dict(x=0.02, y=0.98),\n",
    "    template=\"plotly_white\"\n",
    ")\n",
    "\n",
    "# Mostrar\n",
    "fig.show()\n",
    "\n",
    "fig.write_html(\"grafico1.html\")\n",
    "\n"
   ]
  },
  {
   "cell_type": "markdown",
   "id": "3e052268",
   "metadata": {},
   "source": [
    "### Modelo de Regresión basado en Árboles de Decisión"
   ]
  },
  {
   "cell_type": "markdown",
   "id": "14b1d096",
   "metadata": {},
   "source": [
    "#### Creación del modelo"
   ]
  },
  {
   "cell_type": "code",
   "execution_count": null,
   "id": "9d936b8b",
   "metadata": {},
   "outputs": [
    {
     "name": "stdout",
     "output_type": "stream",
     "text": [
      "Buscando los mejores hiperparámetros con CrossValidator para Decision Tree...\n"
     ]
    }
   ],
   "source": [
    "# Preparar evaluadores\n",
    "evaluator_rmse = RegressionEvaluator(labelCol=\"label\", predictionCol=\"prediction\", metricName=\"rmse\")\n",
    "evaluator_r2   = RegressionEvaluator(labelCol=\"label\", predictionCol=\"prediction\", metricName=\"r2\")\n",
    "\n",
    "# Definir el modelo base\n",
    "dt = DecisionTreeRegressor(featuresCol=\"features\", labelCol=\"label\", seed=42)\n",
    "\n",
    "# Definir la grid de hiperparámetros\n",
    "dt_grid = (ParamGridBuilder()\n",
    "           .addGrid(dt.maxDepth, [5, 10, 15])                \n",
    "           .addGrid(dt.minInstancesPerNode, [1, 5, 20])     \n",
    "           .build())\n",
    "\n",
    "# Configurar CrossValidator\n",
    "dt_cv = CrossValidator(\n",
    "    estimator=dt,\n",
    "    estimatorParamMaps=dt_grid,\n",
    "    evaluator=evaluator_r2, \n",
    "    numFolds=3,\n",
    "    parallelism=2,           \n",
    "    seed=42,\n",
    "    collectSubModels=False)\n",
    "\n",
    "# Entrenar directamente el mejor modelo sobre train\n",
    "print(\"Buscando los mejores hiperparámetros con CrossValidator para Decision Tree...\")\n",
    "dt_cv_model = dt_cv.fit(train_df)\n",
    "\n",
    "# Evaluación sobre test\n",
    "dt_preds = dt_cv_model.transform(test_df).cache()\n",
    "\n",
    "dt_rmse = evaluator_rmse.evaluate(dt_preds)\n",
    "dt_r2   = evaluator_r2.evaluate(dt_preds)\n",
    "\n",
    "print(f\"\\n=== Decision Tree Regressor (Mejor Modelo) ===\")\n",
    "print(f\"RMSE: {dt_rmse:.4f}\")\n",
    "print(f\"R²: {dt_r2:.4f}\")\n",
    "\n",
    "# Mejor modelo e hiperparámetros\n",
    "best_dt = dt_cv_model.bestModel\n",
    "best_dt_params = {\n",
    "    \"maxDepth\": best_dt.getOrDefault(best_dt.maxDepth),\n",
    "    \"minInstancesPerNode\": best_dt.getOrDefault(best_dt.minInstancesPerNode)}\n",
    "\n",
    "print(\"[DT] Mejores hiperparámetros:\", best_dt_params)\n",
    "print(f\"[DT] Profundidad del árbol: {best_dt.depth}\")"
   ]
  },
  {
   "cell_type": "markdown",
   "id": "51b82a1a",
   "metadata": {},
   "source": [
    "#### Añadir ritmos y ver resultados"
   ]
  },
  {
   "cell_type": "code",
   "execution_count": null,
   "id": "b77d39b6",
   "metadata": {},
   "outputs": [
    {
     "name": "stdout",
     "output_type": "stream",
     "text": [
      "+-------+------------------+------------------+------------------+------------------+-----------------+\n",
      "|athlete|distance          |label             |prediction        |pace_real_min_km  |pace_pred_min_km |\n",
      "+-------+------------------+------------------+------------------+------------------+-----------------+\n",
      "|1580   |11.54             |63.0              |59.37502536856212 |5.459272097053726 |5.145149512007117|\n",
      "|5518   |13.200000000000001|57.45             |70.1823876805548  |4.3522727272727275|5.316847551557181|\n",
      "|9852   |10.18             |46.166666666666664|50.158694632132146|4.535036018336608 |4.927180219266419|\n",
      "|10623  |20.6              |107.0             |132.89422572178478|5.194174757281553 |6.451176005911882|\n",
      "|11141  |8.45              |48.25             |47.968574181117525|5.710059171597633 |5.676754340960654|\n",
      "|11858  |16.54             |124.61666666666667|87.71721119796887 |7.534260378879485 |5.303338040989654|\n",
      "|1580   |10.24             |62.0              |53.66815704030261 |6.0546875         |5.241030960967052|\n",
      "|6397   |7.79              |47.583333333333336|42.523560095631375|6.108258451005563 |5.458736854381434|\n",
      "|6620   |16.129            |94.0              |84.69334451901567 |5.828011656023311 |5.250997862174695|\n",
      "|9852   |10.66             |57.53333333333333 |53.91317049808428 |5.397123202001251 |5.057520684623291|\n",
      "+-------+------------------+------------------+------------------+------------------+-----------------+\n",
      "only showing top 10 rows\n"
     ]
    }
   ],
   "source": [
    "# Añadir columnas de ritmo (min/km)\n",
    "dt_preds = add_paces(dt_preds)\n",
    "\n",
    "# Mostrar algunas predicciones con ritmos\n",
    "dt_preds.select(\"athlete\", \"distance\", \"label\", \"prediction\", \n",
    "                \"pace_real_min_km\", \"pace_pred_min_km\").show(10, truncate=False)"
   ]
  },
  {
   "cell_type": "markdown",
   "id": "66b3cc57",
   "metadata": {},
   "source": [
    "#### Resultados gráficos"
   ]
  },
  {
   "cell_type": "code",
   "execution_count": null,
   "id": "b6b94af2",
   "metadata": {},
   "outputs": [],
   "source": [
    "# Tomamos una pequeña muestra para visualización\n",
    "sample_pd = dt_preds.select(\"pace_real_min_km\", \"pace_pred_min_km\") \\\n",
    "                          .sample(False, 0.03, seed=42).toPandas()\n",
    "\n",
    "# Eliminamos posibles valores extremos (por seguridad)\n",
    "sample_pd = sample_pd[\n",
    "    (sample_pd[\"pace_real_min_km\"].between(2, 8)) &\n",
    "    (sample_pd[\"pace_pred_min_km\"].between(2, 8))\n",
    "]\n",
    "\n",
    "# Figura interactiva\n",
    "fig = go.Figure()\n",
    "\n",
    "# Puntos de dispersión\n",
    "fig.add_trace(go.Scatter(\n",
    "    x=sample_pd[\"pace_real_min_km\"],\n",
    "    y=sample_pd[\"pace_pred_min_km\"],\n",
    "    mode=\"markers\",\n",
    "    marker=dict(size=6, opacity=0.4, color=\"green\"),\n",
    "    name=\"Predicciones\",\n",
    "    hovertemplate=\"<b>Ritmo real:</b> %{x:.2f} min/km<br><b>Ritmo predicho:</b> %{y:.2f} min/km\"\n",
    "))\n",
    "\n",
    "# Línea ideal (y = x)\n",
    "fig.add_trace(go.Scatter(\n",
    "    x=[2, 8], y=[2, 8],\n",
    "    mode=\"lines\",\n",
    "    line=dict(color=\"red\", dash=\"dash\"),\n",
    "    name=\"Ideal (y = x)\"\n",
    "))\n",
    "\n",
    "# Configuración visual\n",
    "fig.update_layout(\n",
    "    title=\"Ritmo real vs. predicho (Decision Tree Regressor)\",\n",
    "    xaxis_title=\"Ritmo real (min/km)\",\n",
    "    yaxis_title=\"Ritmo predicho (min/km)\",\n",
    "    xaxis=dict(range=[2, 8], gridcolor=\"lightgray\"),\n",
    "    yaxis=dict(range=[2, 8], gridcolor=\"lightgray\"),\n",
    "    width=800,\n",
    "    height=600,\n",
    "    legend=dict(x=0.02, y=0.98),\n",
    "    template=\"plotly_white\"\n",
    ")\n",
    "\n",
    "# Mostrar figura interactiva\n",
    "fig.show()\n"
   ]
  },
  {
   "cell_type": "markdown",
   "id": "87ce5800",
   "metadata": {},
   "source": [
    "### Modelo de Regresión basado en un Bosque Aleatorio de Árboles de Decisión"
   ]
  },
  {
   "cell_type": "markdown",
   "id": "9e6cf1c5",
   "metadata": {},
   "source": [
    "#### Creación del modelo"
   ]
  },
  {
   "cell_type": "code",
   "execution_count": null,
   "id": "1797803b",
   "metadata": {},
   "outputs": [
    {
     "name": "stdout",
     "output_type": "stream",
     "text": [
      "Buscando los mejores hiperparámetros con CrossValidator para Random Forest...\n",
      "\n",
      "=== Random Forest Regressor (Mejor Modelo) ===\n",
      "RMSE: 13.4586\n",
      "R²: 0.8385\n",
      "[RF] Mejores hiperparámetros: {'numTrees': 10, 'maxDepth': 10, 'featureSubsetStrategy': 'auto'}\n",
      "[RF] Top-10 importancias: [0.9808886816449259, 0.0035216388881679855, 0.002011204539472217, 0.00511115388976862, 0.0006734818466692576, 0.0033781870591683694, 0.0006948370038978162, 6.398334661911931e-05, 8.60044855248726e-05, 1.3533457455006735e-05]\n"
     ]
    }
   ],
   "source": [
    "# Preparar evaluadores\n",
    "evaluator_rmse = RegressionEvaluator(labelCol=\"label\", predictionCol=\"prediction\", metricName=\"rmse\")\n",
    "evaluator_r2   = RegressionEvaluator(labelCol=\"label\", predictionCol=\"prediction\", metricName=\"r2\")\n",
    "\n",
    "# Definir el modelo base\n",
    "rf = RandomForestRegressor(featuresCol=\"features\", labelCol=\"label\", seed=42)\n",
    "\n",
    "# Definir la grid de hiperparámetros\n",
    "rf_grid = (ParamGridBuilder()\n",
    "           .addGrid(rf.numTrees, [2, 5, 10])                     \n",
    "           .addGrid(rf.maxDepth, [3, 5, 10])                    \n",
    "           .addGrid(rf.featureSubsetStrategy, [\"auto\", \"sqrt\"]) \n",
    "           .build())\n",
    "\n",
    "# Configurar CrossValidator\n",
    "rf_cv = CrossValidator(\n",
    "    estimator=rf,\n",
    "    estimatorParamMaps=rf_grid,\n",
    "    evaluator=evaluator_r2,  \n",
    "    numFolds=3,\n",
    "    parallelism=2,           \n",
    "    seed=42,\n",
    "    collectSubModels=False)\n",
    "\n",
    "# Entrenar directamente el mejor modelo sobre train\n",
    "print(\"Buscando los mejores hiperparámetros con CrossValidator para Random Forest...\")\n",
    "rf_cv_model = rf_cv.fit(train_df)\n",
    "\n",
    "# Evaluación sobre test\n",
    "rf_preds = rf_cv_model.transform(test_df).cache()\n",
    "\n",
    "rf_rmse = evaluator_rmse.evaluate(rf_preds)\n",
    "rf_r2   = evaluator_r2.evaluate(rf_preds)\n",
    "\n",
    "print(f\"\\n=== Random Forest Regressor (Mejor Modelo) ===\")\n",
    "print(f\"RMSE: {rf_rmse:.4f}\")\n",
    "print(f\"R²: {rf_r2:.4f}\")\n",
    "\n",
    "# Mejor modelo e hiperparámetros\n",
    "best_rf = rf_cv_model.bestModel\n",
    "best_rf_params = {\n",
    "    \"numTrees\": best_rf.getNumTrees,\n",
    "    \"maxDepth\": best_rf.getOrDefault(best_rf.maxDepth),\n",
    "    \"featureSubsetStrategy\": best_rf.getOrDefault(best_rf.featureSubsetStrategy),}\n",
    "\n",
    "print(\"[RF] Mejores hiperparámetros:\", best_rf_params)\n",
    "\n",
    "# Importancia de features (Top-10)\n",
    "print(\"[RF] Top-10 importancias:\", list(best_rf.featureImportances.toArray())[:10])"
   ]
  },
  {
   "cell_type": "markdown",
   "id": "210f3070",
   "metadata": {},
   "source": [
    "#### Añadir ritmos y ver resultados"
   ]
  },
  {
   "cell_type": "code",
   "execution_count": null,
   "id": "cd0e33df",
   "metadata": {},
   "outputs": [
    {
     "name": "stdout",
     "output_type": "stream",
     "text": [
      "+-------+------------------+------------------+------------------+------------------+------------------+\n",
      "|athlete|distance          |label             |prediction        |pace_real_min_km  |pace_pred_min_km  |\n",
      "+-------+------------------+------------------+------------------+------------------+------------------+\n",
      "|1580   |11.54             |63.0              |56.214063236550224|5.459272097053726 |4.871235982370037 |\n",
      "|5518   |13.200000000000001|57.45             |61.71832781635184 |4.3522727272727275|4.675630895178169 |\n",
      "|9852   |10.18             |46.166666666666664|52.921150120519584|4.535036018336608 |5.198541269206246 |\n",
      "|10623  |20.6              |107.0             |125.37528675996575|5.194174757281553 |6.086178968930375 |\n",
      "|11141  |8.45              |48.25             |44.73745254667521 |5.710059171597633 |5.2943730824467705|\n",
      "|11858  |16.54             |124.61666666666667|89.56592042069715 |7.534260378879485 |5.415110061710831 |\n",
      "|1580   |10.24             |62.0              |54.60829520310241 |6.0546875         |5.332841328427969 |\n",
      "|6397   |7.79              |47.583333333333336|40.708149135155786|6.108258451005563 |5.225693085385852 |\n",
      "|6620   |16.129            |94.0              |89.64635544873029 |5.828011656023311 |5.558085153991586 |\n",
      "|9852   |10.66             |57.53333333333333 |54.55258001933986 |5.397123202001251 |5.1175028160731575|\n",
      "+-------+------------------+------------------+------------------+------------------+------------------+\n",
      "only showing top 10 rows\n"
     ]
    }
   ],
   "source": [
    "# Añadir columnas de ritmo (min/km)\n",
    "rf_preds = add_paces(rf_preds)\n",
    "\n",
    "# Mostrar algunas predicciones con ritmos\n",
    "rf_preds.select(\"athlete\", \"distance\", \"label\", \"prediction\", \n",
    "                \"pace_real_min_km\", \"pace_pred_min_km\").show(10, truncate=False)"
   ]
  },
  {
   "cell_type": "markdown",
   "id": "5042681f",
   "metadata": {},
   "source": [
    "#### Resultados gráficos"
   ]
  },
  {
   "cell_type": "code",
   "execution_count": null,
   "id": "0c9df649",
   "metadata": {},
   "outputs": [],
   "source": [
    "# Muestra para visualización\n",
    "sample_pd = rf_preds.select(\"pace_real_min_km\", \"pace_pred_min_km\") \\\n",
    "                          .sample(False, 0.03, seed=42).toPandas()\n",
    "\n",
    "# Filtrado simple de outliers por rango visual\n",
    "sample_pd = sample_pd[\n",
    "    (sample_pd[\"pace_real_min_km\"].between(2, 8)) &\n",
    "    (sample_pd[\"pace_pred_min_km\"].between(2, 8))\n",
    "]\n",
    "\n",
    "# Figura interactiva\n",
    "fig = go.Figure()\n",
    "\n",
    "# Dispersión\n",
    "fig.add_trace(go.Scatter(\n",
    "    x=sample_pd[\"pace_real_min_km\"],\n",
    "    y=sample_pd[\"pace_pred_min_km\"],\n",
    "    mode=\"markers\",\n",
    "    marker=dict(size=6, opacity=0.4, color=\"purple\"),\n",
    "    name=\"Predicciones\",\n",
    "    hovertemplate=\"<b>Ritmo real:</b> %{x:.2f} min/km<br><b>Ritmo predicho:</b> %{y:.2f} min/km\"\n",
    "))\n",
    "\n",
    "# Línea ideal (y = x)\n",
    "fig.add_trace(go.Scatter(\n",
    "    x=[2, 8], y=[2, 8],\n",
    "    mode=\"lines\",\n",
    "    line=dict(color=\"red\", dash=\"dash\"),\n",
    "    name=\"Ideal (y = x)\"\n",
    "))\n",
    "\n",
    "# Layout\n",
    "fig.update_layout(\n",
    "    title=\"Ritmo real vs. predicho (Random Forest Regressor)\",\n",
    "    xaxis_title=\"Ritmo real (min/km)\",\n",
    "    yaxis_title=\"Ritmo predicho (min/km)\",\n",
    "    xaxis=dict(range=[2, 8], gridcolor=\"lightgray\"),\n",
    "    yaxis=dict(range=[2, 8], gridcolor=\"lightgray\"),\n",
    "    width=800,\n",
    "    height=600,\n",
    "    legend=dict(x=0.02, y=0.98),\n",
    "    template=\"plotly_white\"\n",
    ")\n",
    "\n",
    "fig.show()\n"
   ]
  }
 ],
 "metadata": {
  "kernelspec": {
   "display_name": "TotalEnergies",
   "language": "python",
   "name": "python3"
  },
  "language_info": {
   "codemirror_mode": {
    "name": "ipython",
    "version": 3
   },
   "file_extension": ".py",
   "mimetype": "text/x-python",
   "name": "python",
   "nbconvert_exporter": "python",
   "pygments_lexer": "ipython3",
   "version": "3.10.18"
  }
 },
 "nbformat": 4,
 "nbformat_minor": 5
}
