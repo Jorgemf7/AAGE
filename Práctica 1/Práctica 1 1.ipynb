{
 "cells": [
  {
   "cell_type": "markdown",
   "id": "bcbcf848",
   "metadata": {},
   "source": [
    "# Práctica 1"
   ]
  },
  {
   "cell_type": "markdown",
   "id": "c8e3416a",
   "metadata": {},
   "source": [
    "## Importaciones"
   ]
  },
  {
   "cell_type": "code",
   "execution_count": 1,
   "id": "9693568d",
   "metadata": {},
   "outputs": [],
   "source": [
    "import os\n",
    "import sys\n",
    "from pyspark.sql import SparkSession\n",
    "from pyspark.sql.functions import month, when\n",
    "from pyspark.sql.functions import col, when\n",
    "from pyspark.ml.feature import StringIndexer, OneHotEncoder, VectorAssembler\n",
    "from pyspark.ml import Pipeline\n",
    "from pyspark.ml.regression import LinearRegression, DecisionTreeRegressor, RandomForestRegressor\n",
    "from pyspark.ml.evaluation import RegressionEvaluator"
   ]
  },
  {
   "cell_type": "markdown",
   "id": "28e65db3",
   "metadata": {},
   "source": [
    "## Inicio de sesión en Spark"
   ]
  },
  {
   "cell_type": "code",
   "execution_count": 2,
   "id": "6d51337c",
   "metadata": {},
   "outputs": [
    {
     "data": {
      "text/plain": [
       "'# Inicio de la sesión de Spark.\\nspark = SparkSession.builder     .appName(\"MarathonRegression\")     .getOrCreate()'"
      ]
     },
     "execution_count": 2,
     "metadata": {},
     "output_type": "execute_result"
    }
   ],
   "source": [
    "os.environ['JAVA_HOME'] = \"C:/Program Files/Java/jdk-22\"\n",
    "os.environ['PYSPARK_PYTHON'] = sys.executable\n",
    "os.environ['PYSPARK_DRIVER_PYTHON'] = sys.executable\n",
    "\n",
    "spark = SparkSession.builder \\\n",
    "    .appName(\"AA1\") \\\n",
    "    .config(\"spark.driver.memory\", \"8g\") \\\n",
    "    .getOrCreate()\n",
    "\"\"\"# Inicio de la sesión de Spark.\n",
    "spark = SparkSession.builder \\\n",
    "    .appName(\"MarathonRegression\") \\\n",
    "    .getOrCreate()\"\"\""
   ]
  },
  {
   "cell_type": "markdown",
   "id": "ec9484a8",
   "metadata": {},
   "source": [
    "## Visualización inicial de los datos"
   ]
  },
  {
   "cell_type": "markdown",
   "id": "8aa47690",
   "metadata": {},
   "source": [
    "### Carga del dataset"
   ]
  },
  {
   "cell_type": "code",
   "execution_count": 3,
   "id": "702073d3",
   "metadata": {},
   "outputs": [],
   "source": [
    "# Cargar el dataset.\n",
    "df = spark.read.csv(\"run_ww_2020_d.csv\", header=True, inferSchema=True)"
   ]
  },
  {
   "cell_type": "markdown",
   "id": "53273c03",
   "metadata": {},
   "source": [
    "### Muestra de las cinco primeras filas y del esquema"
   ]
  },
  {
   "cell_type": "code",
   "execution_count": 4,
   "id": "b18ae0c3",
   "metadata": {},
   "outputs": [
    {
     "name": "stdout",
     "output_type": "stream",
     "text": [
      "+---+----------+-------+--------+------------------+------+---------+--------------+-----------------------+\n",
      "|_c0|datetime  |athlete|distance|duration          |gender|age_group|country       |major                  |\n",
      "+---+----------+-------+--------+------------------+------+---------+--------------+-----------------------+\n",
      "|0  |2020-01-01|0      |0.0     |0.0               |F     |18 - 34  |United States |CHICAGO 2019           |\n",
      "|1  |2020-01-01|1      |5.72    |31.633333333333333|M     |35 - 54  |Germany       |BERLIN 2016            |\n",
      "|2  |2020-01-01|2      |0.0     |0.0               |M     |35 - 54  |United Kingdom|LONDON 2018,LONDON 2019|\n",
      "|3  |2020-01-01|3      |0.0     |0.0               |M     |18 - 34  |United Kingdom|LONDON 2017            |\n",
      "|4  |2020-01-01|4      |8.07    |38.61666666666667 |M     |35 - 54  |United States |BOSTON 2017            |\n",
      "+---+----------+-------+--------+------------------+------+---------+--------------+-----------------------+\n",
      "only showing top 5 rows\n",
      "root\n",
      " |-- _c0: integer (nullable = true)\n",
      " |-- datetime: date (nullable = true)\n",
      " |-- athlete: integer (nullable = true)\n",
      " |-- distance: double (nullable = true)\n",
      " |-- duration: double (nullable = true)\n",
      " |-- gender: string (nullable = true)\n",
      " |-- age_group: string (nullable = true)\n",
      " |-- country: string (nullable = true)\n",
      " |-- major: string (nullable = true)\n",
      "\n"
     ]
    }
   ],
   "source": [
    "# Mostrar las cinco primeras filas.\n",
    "df.show(5, truncate=False)\n",
    "\n",
    "# Mostrar esquema de columnas.\n",
    "df.printSchema()"
   ]
  },
  {
   "cell_type": "markdown",
   "id": "c133fb33",
   "metadata": {},
   "source": [
    "### Muestra de filas y variables y principales estadísticas del dataset"
   ]
  },
  {
   "cell_type": "code",
   "execution_count": 5,
   "id": "7e180237",
   "metadata": {},
   "outputs": [
    {
     "name": "stdout",
     "output_type": "stream",
     "text": [
      "Filas: 13326792, Variables: 9\n",
      "+-------+------------------+------------------+\n",
      "|summary|          distance|          duration|\n",
      "+-------+------------------+------------------+\n",
      "|  count|          13326792|          13326792|\n",
      "|   mean|3.8647184738824425|21.391975435649456|\n",
      "| stddev| 6.661547347662418| 39.27358918572197|\n",
      "|    min|               0.0|               0.0|\n",
      "|    max|            347.95|2299.9666666666667|\n",
      "+-------+------------------+------------------+\n",
      "\n",
      "+------+--------+\n",
      "|gender|   count|\n",
      "+------+--------+\n",
      "|     F| 3253374|\n",
      "|     M|10073418|\n",
      "+------+--------+\n",
      "\n",
      "+---------+-------+\n",
      "|age_group|  count|\n",
      "+---------+-------+\n",
      "|     55 +| 940254|\n",
      "|  35 - 54|7905966|\n",
      "|  18 - 34|4480572|\n",
      "+---------+-------+\n",
      "\n"
     ]
    }
   ],
   "source": [
    "# Número de filas y variables.\n",
    "print(f\"Filas: {df.count()}, Variables: {len(df.columns)}\")\n",
    "\n",
    "# Estadísticas descriptivas de variables numéricas.\n",
    "df.describe(['distance', 'duration']).show()\n",
    "\n",
    "# Distribución por género y grupo de edad.\n",
    "df.groupBy(\"gender\").count().show()\n",
    "df.groupBy(\"age_group\").count().show()"
   ]
  },
  {
   "cell_type": "markdown",
   "id": "31e85d52",
   "metadata": {},
   "source": [
    "## Preparación del dataset"
   ]
  },
  {
   "cell_type": "markdown",
   "id": "985ea670",
   "metadata": {},
   "source": [
    "### Filtrado de filas"
   ]
  },
  {
   "cell_type": "markdown",
   "id": "5039e570",
   "metadata": {},
   "source": [
    "Como tenemos un gran número de filas, vamos a filtrar. Primero, nos quedamos solo con los registros que no estén vacíos, es decir, aquellos cuya duración y distancia sea mayor a 0."
   ]
  },
  {
   "cell_type": "code",
   "execution_count": 6,
   "id": "a602c374",
   "metadata": {},
   "outputs": [
    {
     "name": "stdout",
     "output_type": "stream",
     "text": [
      "Filas tras filtrar: 4581764\n"
     ]
    }
   ],
   "source": [
    "# Filtrado de filas.\n",
    "df_filtered = df.filter((df.duration > 0) & (df.distance > 0))\n",
    "\n",
    "# Comprobar tamaño.\n",
    "print(f\"Filas tras filtrar: {df_filtered.count()}\")"
   ]
  },
  {
   "cell_type": "markdown",
   "id": "7c831cb7",
   "metadata": {},
   "source": [
    "### Eliminamos las filas con valores nulos."
   ]
  },
  {
   "cell_type": "code",
   "execution_count": 7,
   "id": "b98042ac",
   "metadata": {},
   "outputs": [],
   "source": [
    "df_filtered = df_filtered.dropna()"
   ]
  },
  {
   "cell_type": "markdown",
   "id": "66948153",
   "metadata": {},
   "source": [
    "Como seguimos teniendo gran número de filas, volvemos a filtrar. Ahora vamos a filtrar por número de atletas. Inicialmente tenemos 36.7k atletas. Vamos a probar con cuantos nos quedamos con el número de filas más adecuado."
   ]
  },
  {
   "cell_type": "code",
   "execution_count": 8,
   "id": "66645f94",
   "metadata": {},
   "outputs": [
    {
     "name": "stdout",
     "output_type": "stream",
     "text": [
      "Filas con athlete < 5000: 625635\n",
      "Filas con athlete < 8000: 996749\n",
      "Filas con athlete < 10000: 1249180\n",
      "Filas con athlete < 15000: 1869208\n",
      "Filas con athlete < 20000: 2471216\n"
     ]
    }
   ],
   "source": [
    "# Filtrar atletas con ID < 5000.\n",
    "df_filtered_5000 = df_filtered.filter(df_filtered.athlete < 5000)\n",
    "print(f\"Filas con athlete < 5000: {df_filtered_5000.count()}\")\n",
    "\n",
    "# Filtrar atletas con ID < 8000.\n",
    "df_filtered_8000 = df_filtered.filter(df_filtered.athlete < 8000)\n",
    "print(f\"Filas con athlete < 8000: {df_filtered_8000.count()}\")\n",
    "\n",
    "# Filtrar atletas con ID < 10000.\n",
    "df_filtered_10000 = df_filtered.filter(df_filtered.athlete < 10000)\n",
    "print(f\"Filas con athlete < 10000: {df_filtered_10000.count()}\")\n",
    "\n",
    "# Filtrar atletas con ID < 15000.\n",
    "df_final = df_filtered.filter(df_filtered.athlete < 15000)\n",
    "print(f\"Filas con athlete < 15000: {df_final.count()}\")\n",
    "\n",
    "# Filtrar atletas con ID < 20000.\n",
    "df_filtered_20000 = df_filtered.filter(df_filtered.athlete < 20000)\n",
    "print(f\"Filas con athlete < 20000: {df_filtered_20000.count()}\")"
   ]
  },
  {
   "cell_type": "markdown",
   "id": "8cef25a0",
   "metadata": {},
   "source": [
    "Nos quedamos con 15000 atletas, ya que creemos que es el valor más adecuado para lograr un equilibrio entre cantidad para un correcto aprendizaje y velocidad de procesamiento. "
   ]
  },
  {
   "cell_type": "markdown",
   "id": "fa66c5c0",
   "metadata": {},
   "source": [
    "### Creación de la variable \"season\" a partir de la variable datetime"
   ]
  },
  {
   "cell_type": "code",
   "execution_count": 9,
   "id": "6e502a1e",
   "metadata": {},
   "outputs": [],
   "source": [
    "df_final = df_final.withColumn(\n",
    "    \"season\",\n",
    "    when((month(\"datetime\") >= 3) & (month(\"datetime\") <= 5), \"spring\")\n",
    "    .when((month(\"datetime\") >= 6) & (month(\"datetime\") <= 8), \"summer\")\n",
    "    .when((month(\"datetime\") >= 9) & (month(\"datetime\") <= 11), \"autumn\")\n",
    "    .otherwise(\"winter\"))"
   ]
  },
  {
   "cell_type": "markdown",
   "id": "48e4cf50",
   "metadata": {},
   "source": [
    "### Seleccionamos solo las columnas relevantes"
   ]
  },
  {
   "cell_type": "code",
   "execution_count": 10,
   "id": "6dedb56a",
   "metadata": {},
   "outputs": [],
   "source": [
    "# Seleccionamos las columnas que no son datetime o major.\n",
    "df_final = df_final.select(\"athlete\", \"distance\", \"duration\", \"gender\", \"age_group\", \"country\", \"season\")"
   ]
  },
  {
   "cell_type": "markdown",
   "id": "dce03769",
   "metadata": {},
   "source": [
    "### Muestra de las cinco primeras filas y del esquema del dataset final "
   ]
  },
  {
   "cell_type": "code",
   "execution_count": 11,
   "id": "b1bf6ea8",
   "metadata": {},
   "outputs": [
    {
     "name": "stdout",
     "output_type": "stream",
     "text": [
      "+-------+--------+------------------+------+---------+--------------+------+\n",
      "|athlete|distance|duration          |gender|age_group|country       |season|\n",
      "+-------+--------+------------------+------+---------+--------------+------+\n",
      "|1      |5.72    |31.633333333333333|M     |35 - 54  |Germany       |winter|\n",
      "|4      |8.07    |38.61666666666667 |M     |35 - 54  |United States |winter|\n",
      "|5      |10.09   |43.56666666666667 |F     |35 - 54  |United States |winter|\n",
      "|6      |9.82    |50.53333333333333 |M     |55 +     |United States |winter|\n",
      "|8      |10.05   |59.05             |M     |35 - 54  |United Kingdom|winter|\n",
      "+-------+--------+------------------+------+---------+--------------+------+\n",
      "only showing top 5 rows\n",
      "root\n",
      " |-- athlete: integer (nullable = true)\n",
      " |-- distance: double (nullable = true)\n",
      " |-- duration: double (nullable = true)\n",
      " |-- gender: string (nullable = true)\n",
      " |-- age_group: string (nullable = true)\n",
      " |-- country: string (nullable = true)\n",
      " |-- season: string (nullable = false)\n",
      "\n"
     ]
    }
   ],
   "source": [
    "# Mostrar las cinco primeras filas.\n",
    "df_final.show(5, truncate=False)\n",
    "\n",
    "# Mostrar esquema de columnas.\n",
    "df_final.printSchema()"
   ]
  },
  {
   "cell_type": "markdown",
   "id": "75ccf50a",
   "metadata": {},
   "source": [
    "### Muestra de filas y variables y principales estadísticas del dataset final"
   ]
  },
  {
   "cell_type": "code",
   "execution_count": 12,
   "id": "02328486",
   "metadata": {},
   "outputs": [
    {
     "name": "stdout",
     "output_type": "stream",
     "text": [
      "Filas: 1869208, Variables: 7\n",
      "+-------+-----------------+--------------------+\n",
      "|summary|         distance|            duration|\n",
      "+-------+-----------------+--------------------+\n",
      "|  count|          1869208|             1869208|\n",
      "|   mean|11.34178614258103|  62.651047279560196|\n",
      "| stddev|6.851907901598767|   44.45724057163191|\n",
      "|    min|             0.01|0.016666666666666666|\n",
      "|    max|           263.37|              2202.0|\n",
      "+-------+-----------------+--------------------+\n",
      "\n",
      "+------+-------+\n",
      "|gender|  count|\n",
      "+------+-------+\n",
      "|     F| 463958|\n",
      "|     M|1405250|\n",
      "+------+-------+\n",
      "\n",
      "+---------+-------+\n",
      "|age_group|  count|\n",
      "+---------+-------+\n",
      "|     55 +| 138448|\n",
      "|  35 - 54|1117572|\n",
      "|  18 - 34| 613188|\n",
      "+---------+-------+\n",
      "\n",
      "+------+------+\n",
      "|season| count|\n",
      "+------+------+\n",
      "|winter|458894|\n",
      "|spring|507774|\n",
      "|summer|473599|\n",
      "|autumn|428941|\n",
      "+------+------+\n",
      "\n"
     ]
    }
   ],
   "source": [
    "# Número de filas y variables.\n",
    "print(f\"Filas: {df_final.count()}, Variables: {len(df_final.columns)}\")\n",
    "\n",
    "# Estadísticas descriptivas de variables numéricas.\n",
    "df_final.describe(['distance', 'duration']).show()\n",
    "\n",
    "# Distribución por género, grupo de edad y estación.\n",
    "df_final.groupBy(\"gender\").count().show()\n",
    "df_final.groupBy(\"age_group\").count().show()\n",
    "df_final.groupBy(\"season\").count().show()"
   ]
  },
  {
   "cell_type": "markdown",
   "id": "c38f4998",
   "metadata": {},
   "source": [
    "## Eliminar valores atípicos"
   ]
  },
  {
   "cell_type": "code",
   "execution_count": 13,
   "id": "b7f8f18d",
   "metadata": {},
   "outputs": [
    {
     "name": "stdout",
     "output_type": "stream",
     "text": [
      "Filas tras eliminar outliers: 1806322\n",
      "+-------+------------------+\n",
      "|summary|       pace_min_km|\n",
      "+-------+------------------+\n",
      "|  count|           1806322|\n",
      "|   mean| 5.441138410356235|\n",
      "| stddev|0.8935773227352968|\n",
      "|    min|1.6812481773111694|\n",
      "|    max|               9.0|\n",
      "+-------+------------------+\n",
      "\n"
     ]
    },
    {
     "data": {
      "text/plain": [
       "DataFrame[summary: string, athlete: string, distance: string, duration: string, gender: string, age_group: string, country: string, season: string, pace_min_km: string]"
      ]
     },
     "execution_count": 13,
     "metadata": {},
     "output_type": "execute_result"
    }
   ],
   "source": [
    "# === Eliminación de valores atípicos ===\n",
    "# Queremos eliminar actividades con duraciones o distancias poco realistas.\n",
    "\n",
    "from pyspark.sql.functions import col\n",
    "\n",
    "# Filtro básico: evitar actividades imposibles (duración o distancia muy baja/alta)\n",
    "df_final = df_final.filter((col(\"distance\") > 0.5) & (col(\"distance\") < 100)) \\\n",
    "                   .filter((col(\"duration\") > 5) & (col(\"duration\") < 300))\n",
    "\n",
    "# --- Filtrado adicional por ritmo medio ---\n",
    "# Calculamos el ritmo medio (min/km) y filtramos actividades con ritmo fuera de [2,6] min/km\n",
    "df_final = df_final.withColumn(\"pace_min_km\", col(\"duration\") / col(\"distance\")) \\\n",
    "                   .filter((col(\"pace_min_km\") >= 1.0) & (col(\"pace_min_km\") <= 9.0))\n",
    "\n",
    "# Comprobamos el tamaño tras limpiar outliers\n",
    "print(f\"Filas tras eliminar outliers: {df_final.count()}\")\n",
    "\n",
    "# (Opcional) Revisar estadísticas del nuevo ritmo\n",
    "df_final.select(\"pace_min_km\").describe().show()\n",
    "\n",
    "df_final.summary()\n"
   ]
  },
  {
   "cell_type": "markdown",
   "id": "419d7c1a",
   "metadata": {},
   "source": [
    "## Preparación de los datos para el entrenamiento"
   ]
  },
  {
   "cell_type": "markdown",
   "id": "5312546a",
   "metadata": {},
   "source": [
    "### Convertimos los datos categóricos en vectores one-hot."
   ]
  },
  {
   "cell_type": "code",
   "execution_count": 14,
   "id": "af946dcf",
   "metadata": {},
   "outputs": [],
   "source": [
    "# Convertimos las columnas de tipo categórico en índices numéricos. \n",
    "gender_indexer = StringIndexer(inputCol=\"gender\", outputCol=\"gender_index\")\n",
    "age_indexer = StringIndexer(inputCol=\"age_group\", outputCol=\"age_index\")\n",
    "country_indexer = StringIndexer(inputCol=\"country\", outputCol=\"country_index\")\n",
    "season_indexer = StringIndexer(inputCol=\"season\", outputCol=\"season_index\")\n",
    "\n",
    "# Convertimos los índices numéricos del paso anterior en vectores one-hot.\n",
    "encoder = OneHotEncoder(inputCols=[\"gender_index\", \"age_index\", \"country_index\", \"season_index\"],\n",
    "                        outputCols=[\"gender_vec\", \"age_vec\", \"country_vec\", \"season_vec\"])"
   ]
  },
  {
   "cell_type": "markdown",
   "id": "81f9fcb1",
   "metadata": {},
   "source": [
    "### Combinamos las columnas numéricas en un solo vector."
   ]
  },
  {
   "cell_type": "code",
   "execution_count": 15,
   "id": "eaf712f1",
   "metadata": {},
   "outputs": [],
   "source": [
    "# Creamos un vector features que combine todas las variables numéricas.\n",
    "assembler = VectorAssembler(inputCols=[\"distance\", \"gender_vec\", \"age_vec\", \"country_vec\", \"season_vec\"],\n",
    "                            outputCol=\"features\")\n"
   ]
  },
  {
   "cell_type": "markdown",
   "id": "5d5e8ad9",
   "metadata": {},
   "source": [
    "### Creamos un pipeline para aplicar todas las transformaciones"
   ]
  },
  {
   "cell_type": "code",
   "execution_count": 16,
   "id": "a8880510",
   "metadata": {},
   "outputs": [],
   "source": [
    "# Creamos el Pipeline con todas las etapas.\n",
    "pipeline = Pipeline(stages=[gender_indexer, age_indexer, country_indexer, season_indexer, encoder, assembler])\n",
    "\n",
    "# Ajustamos el pipeline y transformamos los datos.\n",
    "df_prepared = pipeline.fit(df_final).transform(df_final)"
   ]
  },
  {
   "cell_type": "markdown",
   "id": "c6703fd2",
   "metadata": {},
   "source": [
    "### División de los datos en entrenamiento y test"
   ]
  },
  {
   "cell_type": "code",
   "execution_count": 17,
   "id": "1cdd81f8",
   "metadata": {},
   "outputs": [
    {
     "name": "stdout",
     "output_type": "stream",
     "text": [
      "Train: 1455983 filas, Test: 350339 filas\n"
     ]
    }
   ],
   "source": [
    "# Obtenemos los atletas.\n",
    "athletes = df_final.select(\"athlete\").distinct()\n",
    "\n",
    "# Asignamos aleatoriamente el 80% de atletas a train y el 20% a test.\n",
    "train_athletes, test_athletes = athletes.randomSplit([0.8, 0.2], seed=42)\n",
    "\n",
    "# Filtramos filas según atletas asignados.\n",
    "train_df = df_prepared.join(train_athletes, on=\"athlete\", how=\"inner\")\n",
    "test_df = df_prepared.join(test_athletes, on=\"athlete\", how=\"inner\")\n",
    "\n",
    "# Mostramos el número de filas en train y test.\n",
    "print(f\"Train: {train_df.count()} filas, Test: {test_df.count()} filas\")"
   ]
  },
  {
   "cell_type": "markdown",
   "id": "e74aa302",
   "metadata": {},
   "source": [
    "## Creación de los modelos"
   ]
  },
  {
   "cell_type": "code",
   "execution_count": 18,
   "id": "2f5198fe",
   "metadata": {},
   "outputs": [],
   "source": [
    "from pyspark.sql.functions import col\n",
    "\n",
    "def add_paces(pred_df, distance_col=\"distance\", y_true_col=\"label\", y_pred_col=\"prediction\"):\n",
    "    \"\"\"\n",
    "    Añade:\n",
    "      - pace_real_min_km = label / distance\n",
    "      - pace_pred_min_km = prediction / distance\n",
    "    Asume duration/label/prediction en MINUTOS y distance en KM.\n",
    "    \"\"\"\n",
    "    return (pred_df\n",
    "            .withColumn(\"pace_real_min_km\",  col(y_true_col) / col(distance_col))\n",
    "            .withColumn(\"pace_pred_min_km\",  col(y_pred_col) / col(distance_col)))\n"
   ]
  },
  {
   "cell_type": "markdown",
   "id": "3aeb6078",
   "metadata": {},
   "source": [
    "### Modelo Regresión Lineal"
   ]
  },
  {
   "cell_type": "code",
   "execution_count": 19,
   "id": "cbba4c31",
   "metadata": {},
   "outputs": [],
   "source": [
    "# Definir la columna objetivo\n",
    "df_model = df_prepared.withColumnRenamed(\"duration\", \"label\")"
   ]
  },
  {
   "cell_type": "code",
   "execution_count": 20,
   "id": "14942504",
   "metadata": {},
   "outputs": [
    {
     "name": "stdout",
     "output_type": "stream",
     "text": [
      "=== Linear Regression ===\n",
      "RMSE: 10.51\n",
      "R²: 0.9015\n",
      "+-------+------------------+------------------+\n",
      "|athlete|label             |prediction        |\n",
      "+-------+------------------+------------------+\n",
      "|1580   |63.0              |59.2936391055939  |\n",
      "|5518   |57.45             |68.56256260058177 |\n",
      "|9852   |46.166666666666664|48.39707813528593 |\n",
      "|10623  |107.0             |118.51505242938543|\n",
      "|11141  |48.25             |50.305679962891894|\n",
      "|11858  |124.61666666666667|87.08665259752836 |\n",
      "|1580   |62.0              |52.60782553861448 |\n",
      "|6397   |47.583333333333336|39.096072334793696|\n",
      "|6620   |94.0              |86.13238178862224 |\n",
      "|9852   |57.53333333333333 |50.865686221555265|\n",
      "+-------+------------------+------------------+\n",
      "only showing top 10 rows\n"
     ]
    }
   ],
   "source": [
    "\n",
    "# Asegurarnos de que la columna 'label' existe\n",
    "train_df = train_df.withColumnRenamed(\"duration\", \"label\")\n",
    "test_df = test_df.withColumnRenamed(\"duration\", \"label\")\n",
    "\n",
    "# Crear el modelo de regresión lineal\n",
    "lr = LinearRegression(featuresCol=\"features\", labelCol=\"label\")\n",
    "\n",
    "# Entrenar el modelo\n",
    "lr_model = lr.fit(train_df)\n",
    "\n",
    "# Generar predicciones sobre el conjunto de test\n",
    "lr_predictions = lr_model.transform(test_df)\n",
    "\n",
    "# Evaluador para regresión\n",
    "evaluator = RegressionEvaluator(labelCol=\"label\", predictionCol=\"prediction\")\n",
    "\n",
    "# Calcular métricas\n",
    "rmse = evaluator.setMetricName(\"rmse\").evaluate(lr_predictions)\n",
    "r2 = evaluator.setMetricName(\"r2\").evaluate(lr_predictions)\n",
    "\n",
    "# Mostrar resultados\n",
    "print(\"=== Linear Regression ===\")\n",
    "print(f\"RMSE: {rmse:.2f}\")\n",
    "print(f\"R²: {r2:.4f}\")\n",
    "\n",
    "# (Opcional) Mostrar algunas predicciones reales vs. predichas\n",
    "lr_predictions.select(\"athlete\", \"label\", \"prediction\").show(10, truncate=False)\n"
   ]
  },
  {
   "cell_type": "code",
   "execution_count": 21,
   "id": "30339067",
   "metadata": {},
   "outputs": [
    {
     "name": "stdout",
     "output_type": "stream",
     "text": [
      "+-------+------------------+------------------+------------------+------------------+------------------+\n",
      "|athlete|distance          |label             |prediction        |pace_real_min_km  |pace_pred_min_km  |\n",
      "+-------+------------------+------------------+------------------+------------------+------------------+\n",
      "|1580   |11.54             |63.0              |59.2936391055939  |5.459272097053726 |5.138096976221308 |\n",
      "|5518   |13.200000000000001|57.45             |68.56256260058177 |4.3522727272727275|5.194133530347103 |\n",
      "|9852   |10.18             |46.166666666666664|48.39707813528593 |4.535036018336608 |4.754133412110602 |\n",
      "|10623  |20.6              |107.0             |118.51505242938543|5.194174757281553 |5.753157884921623 |\n",
      "|11141  |8.45              |48.25             |50.305679962891894|5.710059171597633 |5.953334906851112 |\n",
      "|11858  |16.54             |124.61666666666667|87.08665259752836 |7.534260378879485 |5.265214788242344 |\n",
      "|1580   |10.24             |62.0              |52.60782553861448 |6.0546875         |5.13748296275532  |\n",
      "|6397   |7.79              |47.583333333333336|39.096072334793696|6.108258451005563 |5.018751262489563 |\n",
      "|6620   |16.129            |94.0              |86.13238178862224 |5.828011656023311 |5.3402183513312815|\n",
      "|9852   |10.66             |57.53333333333333 |50.865686221555265|5.397123202001251 |4.7716403584948655|\n",
      "+-------+------------------+------------------+------------------+------------------+------------------+\n",
      "only showing top 10 rows\n"
     ]
    }
   ],
   "source": [
    "lr_predictions = add_paces(lr_predictions)\n",
    "lr_predictions.select(\"athlete\", \"distance\", \"label\", \"prediction\", \n",
    "                      \"pace_real_min_km\", \"pace_pred_min_km\").show(10, truncate=False)\n"
   ]
  },
  {
   "cell_type": "code",
   "execution_count": 22,
   "id": "fdfe3964",
   "metadata": {},
   "outputs": [
    {
     "data": {
      "application/vnd.plotly.v1+json": {
       "config": {
        "plotlyServerURL": "https://plot.ly"
       },
       "data": [
        {
         "hovertemplate": "<b>Ritmo real:</b> %{x:.2f} min/km<br><b>Ritmo predicho:</b> %{y:.2f} min/km",
         "marker": {
          "color": "blue",
          "opacity": 0.4,
          "size": 6
         },
         "mode": "markers",
         "name": "Predicciones",
         "type": "scatter",
         "x": {
          "bdata": "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",
          "dtype": "f8"
         },
         "y": {
          "bdata": "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",
          "dtype": "f8"
         }
        },
        {
         "line": {
          "color": "red",
          "dash": "dash"
         },
         "mode": "lines",
         "name": "Ideal (y = x)",
         "type": "scatter",
         "x": [
          2,
          8
         ],
         "y": [
          2,
          8
         ]
        }
       ],
       "layout": {
        "height": 600,
        "legend": {
         "x": 0.02,
         "y": 0.98
        },
        "template": {
         "data": {
          "bar": [
           {
            "error_x": {
             "color": "#2a3f5f"
            },
            "error_y": {
             "color": "#2a3f5f"
            },
            "marker": {
             "line": {
              "color": "white",
              "width": 0.5
             },
             "pattern": {
              "fillmode": "overlay",
              "size": 10,
              "solidity": 0.2
             }
            },
            "type": "bar"
           }
          ],
          "barpolar": [
           {
            "marker": {
             "line": {
              "color": "white",
              "width": 0.5
             },
             "pattern": {
              "fillmode": "overlay",
              "size": 10,
              "solidity": 0.2
             }
            },
            "type": "barpolar"
           }
          ],
          "carpet": [
           {
            "aaxis": {
             "endlinecolor": "#2a3f5f",
             "gridcolor": "#C8D4E3",
             "linecolor": "#C8D4E3",
             "minorgridcolor": "#C8D4E3",
             "startlinecolor": "#2a3f5f"
            },
            "baxis": {
             "endlinecolor": "#2a3f5f",
             "gridcolor": "#C8D4E3",
             "linecolor": "#C8D4E3",
             "minorgridcolor": "#C8D4E3",
             "startlinecolor": "#2a3f5f"
            },
            "type": "carpet"
           }
          ],
          "choropleth": [
           {
            "colorbar": {
             "outlinewidth": 0,
             "ticks": ""
            },
            "type": "choropleth"
           }
          ],
          "contour": [
           {
            "colorbar": {
             "outlinewidth": 0,
             "ticks": ""
            },
            "colorscale": [
             [
              0,
              "#0d0887"
             ],
             [
              0.1111111111111111,
              "#46039f"
             ],
             [
              0.2222222222222222,
              "#7201a8"
             ],
             [
              0.3333333333333333,
              "#9c179e"
             ],
             [
              0.4444444444444444,
              "#bd3786"
             ],
             [
              0.5555555555555556,
              "#d8576b"
             ],
             [
              0.6666666666666666,
              "#ed7953"
             ],
             [
              0.7777777777777778,
              "#fb9f3a"
             ],
             [
              0.8888888888888888,
              "#fdca26"
             ],
             [
              1,
              "#f0f921"
             ]
            ],
            "type": "contour"
           }
          ],
          "contourcarpet": [
           {
            "colorbar": {
             "outlinewidth": 0,
             "ticks": ""
            },
            "type": "contourcarpet"
           }
          ],
          "heatmap": [
           {
            "colorbar": {
             "outlinewidth": 0,
             "ticks": ""
            },
            "colorscale": [
             [
              0,
              "#0d0887"
             ],
             [
              0.1111111111111111,
              "#46039f"
             ],
             [
              0.2222222222222222,
              "#7201a8"
             ],
             [
              0.3333333333333333,
              "#9c179e"
             ],
             [
              0.4444444444444444,
              "#bd3786"
             ],
             [
              0.5555555555555556,
              "#d8576b"
             ],
             [
              0.6666666666666666,
              "#ed7953"
             ],
             [
              0.7777777777777778,
              "#fb9f3a"
             ],
             [
              0.8888888888888888,
              "#fdca26"
             ],
             [
              1,
              "#f0f921"
             ]
            ],
            "type": "heatmap"
           }
          ],
          "histogram": [
           {
            "marker": {
             "pattern": {
              "fillmode": "overlay",
              "size": 10,
              "solidity": 0.2
             }
            },
            "type": "histogram"
           }
          ],
          "histogram2d": [
           {
            "colorbar": {
             "outlinewidth": 0,
             "ticks": ""
            },
            "colorscale": [
             [
              0,
              "#0d0887"
             ],
             [
              0.1111111111111111,
              "#46039f"
             ],
             [
              0.2222222222222222,
              "#7201a8"
             ],
             [
              0.3333333333333333,
              "#9c179e"
             ],
             [
              0.4444444444444444,
              "#bd3786"
             ],
             [
              0.5555555555555556,
              "#d8576b"
             ],
             [
              0.6666666666666666,
              "#ed7953"
             ],
             [
              0.7777777777777778,
              "#fb9f3a"
             ],
             [
              0.8888888888888888,
              "#fdca26"
             ],
             [
              1,
              "#f0f921"
             ]
            ],
            "type": "histogram2d"
           }
          ],
          "histogram2dcontour": [
           {
            "colorbar": {
             "outlinewidth": 0,
             "ticks": ""
            },
            "colorscale": [
             [
              0,
              "#0d0887"
             ],
             [
              0.1111111111111111,
              "#46039f"
             ],
             [
              0.2222222222222222,
              "#7201a8"
             ],
             [
              0.3333333333333333,
              "#9c179e"
             ],
             [
              0.4444444444444444,
              "#bd3786"
             ],
             [
              0.5555555555555556,
              "#d8576b"
             ],
             [
              0.6666666666666666,
              "#ed7953"
             ],
             [
              0.7777777777777778,
              "#fb9f3a"
             ],
             [
              0.8888888888888888,
              "#fdca26"
             ],
             [
              1,
              "#f0f921"
             ]
            ],
            "type": "histogram2dcontour"
           }
          ],
          "mesh3d": [
           {
            "colorbar": {
             "outlinewidth": 0,
             "ticks": ""
            },
            "type": "mesh3d"
           }
          ],
          "parcoords": [
           {
            "line": {
             "colorbar": {
              "outlinewidth": 0,
              "ticks": ""
             }
            },
            "type": "parcoords"
           }
          ],
          "pie": [
           {
            "automargin": true,
            "type": "pie"
           }
          ],
          "scatter": [
           {
            "fillpattern": {
             "fillmode": "overlay",
             "size": 10,
             "solidity": 0.2
            },
            "type": "scatter"
           }
          ],
          "scatter3d": [
           {
            "line": {
             "colorbar": {
              "outlinewidth": 0,
              "ticks": ""
             }
            },
            "marker": {
             "colorbar": {
              "outlinewidth": 0,
              "ticks": ""
             }
            },
            "type": "scatter3d"
           }
          ],
          "scattercarpet": [
           {
            "marker": {
             "colorbar": {
              "outlinewidth": 0,
              "ticks": ""
             }
            },
            "type": "scattercarpet"
           }
          ],
          "scattergeo": [
           {
            "marker": {
             "colorbar": {
              "outlinewidth": 0,
              "ticks": ""
             }
            },
            "type": "scattergeo"
           }
          ],
          "scattergl": [
           {
            "marker": {
             "colorbar": {
              "outlinewidth": 0,
              "ticks": ""
             }
            },
            "type": "scattergl"
           }
          ],
          "scattermap": [
           {
            "marker": {
             "colorbar": {
              "outlinewidth": 0,
              "ticks": ""
             }
            },
            "type": "scattermap"
           }
          ],
          "scattermapbox": [
           {
            "marker": {
             "colorbar": {
              "outlinewidth": 0,
              "ticks": ""
             }
            },
            "type": "scattermapbox"
           }
          ],
          "scatterpolar": [
           {
            "marker": {
             "colorbar": {
              "outlinewidth": 0,
              "ticks": ""
             }
            },
            "type": "scatterpolar"
           }
          ],
          "scatterpolargl": [
           {
            "marker": {
             "colorbar": {
              "outlinewidth": 0,
              "ticks": ""
             }
            },
            "type": "scatterpolargl"
           }
          ],
          "scatterternary": [
           {
            "marker": {
             "colorbar": {
              "outlinewidth": 0,
              "ticks": ""
             }
            },
            "type": "scatterternary"
           }
          ],
          "surface": [
           {
            "colorbar": {
             "outlinewidth": 0,
             "ticks": ""
            },
            "colorscale": [
             [
              0,
              "#0d0887"
             ],
             [
              0.1111111111111111,
              "#46039f"
             ],
             [
              0.2222222222222222,
              "#7201a8"
             ],
             [
              0.3333333333333333,
              "#9c179e"
             ],
             [
              0.4444444444444444,
              "#bd3786"
             ],
             [
              0.5555555555555556,
              "#d8576b"
             ],
             [
              0.6666666666666666,
              "#ed7953"
             ],
             [
              0.7777777777777778,
              "#fb9f3a"
             ],
             [
              0.8888888888888888,
              "#fdca26"
             ],
             [
              1,
              "#f0f921"
             ]
            ],
            "type": "surface"
           }
          ],
          "table": [
           {
            "cells": {
             "fill": {
              "color": "#EBF0F8"
             },
             "line": {
              "color": "white"
             }
            },
            "header": {
             "fill": {
              "color": "#C8D4E3"
             },
             "line": {
              "color": "white"
             }
            },
            "type": "table"
           }
          ]
         },
         "layout": {
          "annotationdefaults": {
           "arrowcolor": "#2a3f5f",
           "arrowhead": 0,
           "arrowwidth": 1
          },
          "autotypenumbers": "strict",
          "coloraxis": {
           "colorbar": {
            "outlinewidth": 0,
            "ticks": ""
           }
          },
          "colorscale": {
           "diverging": [
            [
             0,
             "#8e0152"
            ],
            [
             0.1,
             "#c51b7d"
            ],
            [
             0.2,
             "#de77ae"
            ],
            [
             0.3,
             "#f1b6da"
            ],
            [
             0.4,
             "#fde0ef"
            ],
            [
             0.5,
             "#f7f7f7"
            ],
            [
             0.6,
             "#e6f5d0"
            ],
            [
             0.7,
             "#b8e186"
            ],
            [
             0.8,
             "#7fbc41"
            ],
            [
             0.9,
             "#4d9221"
            ],
            [
             1,
             "#276419"
            ]
           ],
           "sequential": [
            [
             0,
             "#0d0887"
            ],
            [
             0.1111111111111111,
             "#46039f"
            ],
            [
             0.2222222222222222,
             "#7201a8"
            ],
            [
             0.3333333333333333,
             "#9c179e"
            ],
            [
             0.4444444444444444,
             "#bd3786"
            ],
            [
             0.5555555555555556,
             "#d8576b"
            ],
            [
             0.6666666666666666,
             "#ed7953"
            ],
            [
             0.7777777777777778,
             "#fb9f3a"
            ],
            [
             0.8888888888888888,
             "#fdca26"
            ],
            [
             1,
             "#f0f921"
            ]
           ],
           "sequentialminus": [
            [
             0,
             "#0d0887"
            ],
            [
             0.1111111111111111,
             "#46039f"
            ],
            [
             0.2222222222222222,
             "#7201a8"
            ],
            [
             0.3333333333333333,
             "#9c179e"
            ],
            [
             0.4444444444444444,
             "#bd3786"
            ],
            [
             0.5555555555555556,
             "#d8576b"
            ],
            [
             0.6666666666666666,
             "#ed7953"
            ],
            [
             0.7777777777777778,
             "#fb9f3a"
            ],
            [
             0.8888888888888888,
             "#fdca26"
            ],
            [
             1,
             "#f0f921"
            ]
           ]
          },
          "colorway": [
           "#636efa",
           "#EF553B",
           "#00cc96",
           "#ab63fa",
           "#FFA15A",
           "#19d3f3",
           "#FF6692",
           "#B6E880",
           "#FF97FF",
           "#FECB52"
          ],
          "font": {
           "color": "#2a3f5f"
          },
          "geo": {
           "bgcolor": "white",
           "lakecolor": "white",
           "landcolor": "white",
           "showlakes": true,
           "showland": true,
           "subunitcolor": "#C8D4E3"
          },
          "hoverlabel": {
           "align": "left"
          },
          "hovermode": "closest",
          "mapbox": {
           "style": "light"
          },
          "paper_bgcolor": "white",
          "plot_bgcolor": "white",
          "polar": {
           "angularaxis": {
            "gridcolor": "#EBF0F8",
            "linecolor": "#EBF0F8",
            "ticks": ""
           },
           "bgcolor": "white",
           "radialaxis": {
            "gridcolor": "#EBF0F8",
            "linecolor": "#EBF0F8",
            "ticks": ""
           }
          },
          "scene": {
           "xaxis": {
            "backgroundcolor": "white",
            "gridcolor": "#DFE8F3",
            "gridwidth": 2,
            "linecolor": "#EBF0F8",
            "showbackground": true,
            "ticks": "",
            "zerolinecolor": "#EBF0F8"
           },
           "yaxis": {
            "backgroundcolor": "white",
            "gridcolor": "#DFE8F3",
            "gridwidth": 2,
            "linecolor": "#EBF0F8",
            "showbackground": true,
            "ticks": "",
            "zerolinecolor": "#EBF0F8"
           },
           "zaxis": {
            "backgroundcolor": "white",
            "gridcolor": "#DFE8F3",
            "gridwidth": 2,
            "linecolor": "#EBF0F8",
            "showbackground": true,
            "ticks": "",
            "zerolinecolor": "#EBF0F8"
           }
          },
          "shapedefaults": {
           "line": {
            "color": "#2a3f5f"
           }
          },
          "ternary": {
           "aaxis": {
            "gridcolor": "#DFE8F3",
            "linecolor": "#A2B1C6",
            "ticks": ""
           },
           "baxis": {
            "gridcolor": "#DFE8F3",
            "linecolor": "#A2B1C6",
            "ticks": ""
           },
           "bgcolor": "white",
           "caxis": {
            "gridcolor": "#DFE8F3",
            "linecolor": "#A2B1C6",
            "ticks": ""
           }
          },
          "title": {
           "x": 0.05
          },
          "xaxis": {
           "automargin": true,
           "gridcolor": "#EBF0F8",
           "linecolor": "#EBF0F8",
           "ticks": "",
           "title": {
            "standoff": 15
           },
           "zerolinecolor": "#EBF0F8",
           "zerolinewidth": 2
          },
          "yaxis": {
           "automargin": true,
           "gridcolor": "#EBF0F8",
           "linecolor": "#EBF0F8",
           "ticks": "",
           "title": {
            "standoff": 15
           },
           "zerolinecolor": "#EBF0F8",
           "zerolinewidth": 2
          }
         }
        },
        "title": {
         "text": "Ritmo real vs. predicho (Linear Regression)"
        },
        "width": 800,
        "xaxis": {
         "gridcolor": "lightgray",
         "range": [
          2,
          8
         ],
         "title": {
          "text": "Ritmo real (min/km)"
         }
        },
        "yaxis": {
         "gridcolor": "lightgray",
         "range": [
          2,
          8
         ],
         "title": {
          "text": "Ritmo predicho (min/km)"
         }
        }
       }
      }
     },
     "metadata": {},
     "output_type": "display_data"
    }
   ],
   "source": [
    "import plotly.graph_objects as go\n",
    "\n",
    "# Tomamos una pequeña muestra para visualización\n",
    "sample_pd = lr_predictions.select(\"pace_real_min_km\", \"pace_pred_min_km\") \\\n",
    "                          .sample(False, 0.03, seed=42).toPandas()\n",
    "\n",
    "# Eliminamos posibles valores extremos\n",
    "sample_pd = sample_pd[\n",
    "    (sample_pd[\"pace_real_min_km\"].between(2, 8)) &\n",
    "    (sample_pd[\"pace_pred_min_km\"].between(2, 8))\n",
    "]\n",
    "\n",
    "# Creamos la figura interactiva\n",
    "fig = go.Figure()\n",
    "\n",
    "# Añadimos los puntos de dispersión\n",
    "fig.add_trace(go.Scatter(\n",
    "    x=sample_pd[\"pace_real_min_km\"],\n",
    "    y=sample_pd[\"pace_pred_min_km\"],\n",
    "    mode=\"markers\",\n",
    "    marker=dict(size=6, opacity=0.4, color=\"blue\"),\n",
    "    name=\"Predicciones\",\n",
    "    hovertemplate=\"<b>Ritmo real:</b> %{x:.2f} min/km<br><b>Ritmo predicho:</b> %{y:.2f} min/km\"\n",
    "))\n",
    "\n",
    "# Línea ideal (y = x)\n",
    "fig.add_trace(go.Scatter(\n",
    "    x=[2, 8], y=[2, 8],\n",
    "    mode=\"lines\",\n",
    "    line=dict(color=\"red\", dash=\"dash\"),\n",
    "    name=\"Ideal (y = x)\"\n",
    "))\n",
    "\n",
    "# Configuración del layout\n",
    "fig.update_layout(\n",
    "    title=\"Ritmo real vs. predicho (Linear Regression)\",\n",
    "    xaxis_title=\"Ritmo real (min/km)\",\n",
    "    yaxis_title=\"Ritmo predicho (min/km)\",\n",
    "    xaxis=dict(range=[2, 8], gridcolor=\"lightgray\"),\n",
    "    yaxis=dict(range=[2, 8], gridcolor=\"lightgray\"),\n",
    "    width=800,\n",
    "    height=600,\n",
    "    legend=dict(x=0.02, y=0.98),\n",
    "    template=\"plotly_white\"\n",
    ")\n",
    "\n",
    "# Mostrar\n",
    "fig.show()\n"
   ]
  },
  {
   "cell_type": "markdown",
   "id": "3e052268",
   "metadata": {},
   "source": [
    "### Modelo de regresión basado en árboles de decisión"
   ]
  },
  {
   "cell_type": "code",
   "execution_count": 23,
   "id": "9d936b8b",
   "metadata": {},
   "outputs": [
    {
     "name": "stdout",
     "output_type": "stream",
     "text": [
      "=== Decision Tree Regressor ===\n",
      "RMSE: 12.21\n",
      "R²: 0.8672\n",
      "+-------+------------------+------------------+\n",
      "|athlete|label             |prediction        |\n",
      "+-------+------------------+------------------+\n",
      "|1580   |63.0              |63.76010643200143 |\n",
      "|5518   |57.45             |71.00219676975767 |\n",
      "|9852   |46.166666666666664|52.84170188729774 |\n",
      "|10623  |107.0             |121.89993185689949|\n",
      "|11141  |48.25             |44.4316588868061  |\n",
      "|11858  |124.61666666666667|89.99001387706912 |\n",
      "|1580   |62.0              |57.383849050350236|\n",
      "|6397   |47.583333333333336|44.4316588868061  |\n",
      "|6620   |94.0              |82.01997787990723 |\n",
      "|9852   |57.53333333333333 |57.383849050350236|\n",
      "+-------+------------------+------------------+\n",
      "only showing top 10 rows\n"
     ]
    }
   ],
   "source": [
    "\n",
    "\n",
    "# Crear el modelo de árbol de decisión\n",
    "dt = DecisionTreeRegressor(featuresCol=\"features\", labelCol=\"label\")\n",
    "\n",
    "# Entrenar el modelo\n",
    "dt_model = dt.fit(train_df)\n",
    "\n",
    "# Generar predicciones sobre el conjunto de test\n",
    "dt_predictions = dt_model.transform(test_df)\n",
    "\n",
    "# Evaluar el modelo\n",
    "evaluator = RegressionEvaluator(labelCol=\"label\", predictionCol=\"prediction\")\n",
    "\n",
    "rmse = evaluator.setMetricName(\"rmse\").evaluate(dt_predictions)\n",
    "r2 = evaluator.setMetricName(\"r2\").evaluate(dt_predictions)\n",
    "\n",
    "# Mostrar resultados\n",
    "print(\"=== Decision Tree Regressor ===\")\n",
    "print(f\"RMSE: {rmse:.2f}\")\n",
    "print(f\"R²: {r2:.4f}\")\n",
    "\n",
    "# Mostrar algunas predicciones\n",
    "dt_predictions.select(\"athlete\", \"label\", \"prediction\").show(10, truncate=False)"
   ]
  },
  {
   "cell_type": "code",
   "execution_count": 24,
   "id": "b77d39b6",
   "metadata": {},
   "outputs": [
    {
     "name": "stdout",
     "output_type": "stream",
     "text": [
      "+-------+------------------+------------------+------------------+------------------+------------------+\n",
      "|athlete|distance          |label             |prediction        |pace_real_min_km  |pace_pred_min_km  |\n",
      "+-------+------------------+------------------+------------------+------------------+------------------+\n",
      "|1580   |11.54             |63.0              |59.2936391055939  |5.459272097053726 |5.138096976221308 |\n",
      "|5518   |13.200000000000001|57.45             |68.56256260058177 |4.3522727272727275|5.194133530347103 |\n",
      "|9852   |10.18             |46.166666666666664|48.39707813528593 |4.535036018336608 |4.754133412110602 |\n",
      "|10623  |20.6              |107.0             |118.51505242938543|5.194174757281553 |5.753157884921623 |\n",
      "|11141  |8.45              |48.25             |50.305679962891894|5.710059171597633 |5.953334906851112 |\n",
      "|11858  |16.54             |124.61666666666667|87.08665259752836 |7.534260378879485 |5.265214788242344 |\n",
      "|1580   |10.24             |62.0              |52.60782553861448 |6.0546875         |5.13748296275532  |\n",
      "|6397   |7.79              |47.583333333333336|39.096072334793696|6.108258451005563 |5.018751262489563 |\n",
      "|6620   |16.129            |94.0              |86.13238178862224 |5.828011656023311 |5.3402183513312815|\n",
      "|9852   |10.66             |57.53333333333333 |50.865686221555265|5.397123202001251 |4.7716403584948655|\n",
      "+-------+------------------+------------------+------------------+------------------+------------------+\n",
      "only showing top 10 rows\n"
     ]
    }
   ],
   "source": [
    "dt_predictions = add_paces(lr_predictions)\n",
    "dt_predictions.select(\"athlete\", \"distance\", \"label\", \"prediction\", \n",
    "                      \"pace_real_min_km\", \"pace_pred_min_km\").show(10, truncate=False)\n"
   ]
  },
  {
   "cell_type": "code",
   "execution_count": 25,
   "id": "b6b94af2",
   "metadata": {},
   "outputs": [
    {
     "data": {
      "application/vnd.plotly.v1+json": {
       "config": {
        "plotlyServerURL": "https://plot.ly"
       },
       "data": [
        {
         "hovertemplate": "<b>Ritmo real:</b> %{x:.2f} min/km<br><b>Ritmo predicho:</b> %{y:.2f} min/km",
         "marker": {
          "color": "green",
          "opacity": 0.4,
          "size": 6
         },
         "mode": "markers",
         "name": "Predicciones",
         "type": "scatter",
         "x": {
          "bdata": "tc6+iGqdFUAE+5fkQ2kVQDYZtJ3IiBRARUieP9VLEUCSdkXcvTsVQPSWiEeKqRZAoRCN3FFAEkCo4/3WBwYUQONnlPgZJRRAMBjOerHSFUCBmK2Zc1ASQEW4pWbD/hZAszDqHt6fGUAf0SQuLAQVQFD1Duu2zBNAeCzv1Ra5FkBl+L1GCgcYQN9Eo4nvTRBAerbyLmunE0A++OCDDx4VQE9gUE9gUBNAdNpApw10E0AW3WEAxeYVQLpyqthXxBVA0v1xPgLlEEBA6KjAF1cfQNiADpMUlRZAHDUWgYJvFEC1fqVArV8RQE1uqIQkwhFAaJT4GSV+FkBhmj5lfewVQFPn1x5yWRFA4m4rH9cPHUC4YS5SQ6USQJ2jSAvQSxRARERERESkFUChOrgrJ7EXQLy7u7u7uxNAq6qqqqqqFEC4ge0VxWYTQM15xBwkdBFAmpmZmZmZFED0MHAWnh8TQA8J9a45nxJA/DTDpt9tEUB9PUnul/wTQA3dB+s3wBRAa+MhX82TE0DLXDh5plsRQEOcdwxx3hFAQsCtz2Z8GkBx0mCGoCoWQHQGK3QGKxRAV6rjJWWlGEBmZmZmZmYeQFi6DdaqoBhAn0OfX28kE0Ahr8qzwLgXQEhWjkd1BhlAZHA+BudjGEBb3myGMS0TQHxR70W9FxVA1YCCh5bDFkBrjyU4uFITQPFMf4Nu1xFAzczMzMzMGEBEtc6+iGoXQMK6/jWJOBFArZFxZWoDFEBM1K5E7UocQFG7ErUrURtA6PP5fD6fF0BEjKVUJPIVQGSD0Jik/xZA4ziO4zjOEkCfLIFN+8kaQBkr1c5upxFANDLo0QpyH0AvkEnxApkUQLRR39mo7xRAiMbZBcNkGUA0MzMzMzMTQOzOZLR45RNAnBQiBz3RFkCrqqqqqqoaQIbs03NkyBFA60NjfWisD0ASVkod33oSQPXxoLfuTxdAhDVLjE+ZFkD1XQs6oDcUQKEls/rt9RRAQJ3zGwYtEkAOPTbGJBcTQKOLLrroohJAuD0UylJLFkAAAAAAAIAWQJDxSg1+ohdAmDkqKb9WFUCfQ59fbyQTQBTlS3eifBVAgy3Ygi1YF0ABh+Zz/fEUQDreWJG/yhVArn3Nh5yGDkCdNtBpAx0WQLIIFHyjxhZAcxrLaSynFEDRIyrINgQWQM3MzMzMzBhASUiRRtS7GUCdNtBpA50VQLpchE/rcBVA5WYVSopoF0BoL6G9hFYRQHua+m/sFRlAxEQ3oxpDGUDr+g5ol5IcQES8Q7xDvBdA30x5/E6wFECokAgTnMwZQN5yB+FKhRRAdh0GejF+GkCVAyLDvQoSQLixLdQluhJA5ZQYSnUCEUDYDWNny7oYQLeP4D6C+xhAVPjUJhU+FUBy188WK8MXQK4pn9wQShRApBe7U1FLEkDvK/RRkewWQHYLvxoT6RFAcJ0GUiy/EUAbO/tj66YUQLYO/Wbr0A9APd7jPd7jHUBYE7X0/BAVQFLf2ajvrBVAopKEEnH4E0DgtO4al30TQFEnlxfBpxBAluEbUWDSEUC0qfFnjjcVQCSItF7ANhdA4/F4PB6PFkDge++9994UQLmIs0F5fBpArg3oqVZoF0CrIAdMgFgVQBiohIjBdBJAUbapE41hE0ABlAPXSQ8TQKJk1yZKdhVAoB43Y38YFEAmWcb0YsQWQNhdFNF1FxJAhOJbXbItG0BBbsN/GmgUQNIxdiv6uBVAEI31obE+FkDFZ8AkBM0WQOPR/MHGoxFAQRtWDWbgFkBGijIN+J4UQAgffPDBhxRAHrqenBJDFUCO9xX6qEgOQNMnfdInfRZAXw8BamjJFEBJgzRIgzQaQMIB6pJTaxJAH12aC38xFUCy1BFim1YWQHl4eHh4eBpAa/Cja/CjE0DUBOOt7HMWQBFfE21W+hRAhoUktjIsFEAJGTOskwMXQEEj+yNciRlAp6HIe0YdGEBZ6hlwR44RQK+aT3ghQRBAmu5gv9XGEECFJt10olQVQEG5DJF1bxtAOIge34WDEEC9SACzgqQVQDMzMzMzsxZAeQZmdx0NFUBPggjBns8WQGIndmIndhJAzczMzMzMGkCSRx555JETQJoXfyLhlBJAqnmQu342FUAFgSxhJlYWQLfGvNlOcRhAAjQpWbRPHEAAAAAAAAAQQAU7NrwUZhRAjW/R3AGbF0AHf/KtUKsTQFRGZVRGZRhAX/nnSAjeGEBMmSAHjacaQCjhjabOrxVAAAAAAAAAE0DfUfomO5YTQG5YORcurhlAOI/TKWCHGUBwBq6GgDUSQJYtkohlixRA2Ymd2ImdHEAzHrqenBIXQLsg7IKwyxJAebL9cXVKEkD/L9bFgNMUQMRvfwwCpBVAZsEPX+m9GEAHe02M1NoSQEqO3qqbABNApG+HH8N4FUDnf1PBGM4RQFv2qBYH+RNA+CkuGYJ1G0Ay4EnQbjgeQHikv56rWBZA/rF1U6roEkAGV7eJM60RQF4TID3tyBVAcyDRCpsDGUBgtdWLzkwSQDMGyLLFpxJAZzzjGc94FkDneZ7neZ4WQAi49dmM7xRA98e65v5YF0BVVVVVVVUXQHno2SPA4RVADUC+eU7iE0BCPPf3zbwXQMXyW6eBFBNAvsFtP9D6F0ClIrJ9GxkWQAYBCRxdMxNAbiqaJ9QCEkATiTEiwxYVQAOmMWAaAxpAIQtZyEIWGkBcp4AcQX0TQEGvNcd/4BZARiWSr6l3EEB2Xdd1XfcWQO1qeSIs8hVAeWkzFUgoHEC1WQFXU7ASQPRuipA8fxRAtHwsPSnnE0BmA9FzM6YYQJxR2VKtUxlA52/+5m/+GECE729JsP4RQOKK1DaYjRRAMqayLlGBFEDLMjyAjlMTQIi9USl62BNAtyG+Oi52FEAPPvjggy8TQADvzXqibBlAsWglEgPhFkD140yxdG0SQIOZI+v7QRVAzmI6i+ksFkC3bdu2bdsaQAk1pO2VtxRAKHAsaRHUGUDAd5SP57cVQPveGK7CUhNAERYEfA3mEkAgFej86PATQP9CGBh+DA9AAAAAAAAAFEDBI/31XMUSQLhGmDQgORJAMtyrYJaUE0BmN9CSdOsUQOaeRljuaRRA8+6TGs4SGUDQaQOdNlATQEG0TBAtExhAjCi9wcI0FUCRkZGRkZEVQGU7wXXO7BBA24h16TF/E0CEK4D3qP8QQAgWlbp7YBVAduudduudEkCFkS9W10YXQAO3Jy6yRBVAP6tO92OCFEBKn/RJn3QTQP1HL/mPXhJAt7mSFtwhGkCKS4ZgHW0TQC+QSfECmRhAO5PUekUIFEA4TRXIsuofQCK9Tj+g/RFAAAAAAAAAFEDA2IS0sPgZQNsvDiVZsxFATCBK2LmuFEBZMVDCG00ZQLNCjH2AmQ9Ak07Ng9z1F0CSEZVAx2sdQKBdHU//2RlA+Z1gJSGzFkBowVhkXS4UQJBUbef/QhpAf129A0WFFUD/IENlh6kZQPf1XlEa2BtAPwm7XmfGE0CS9addqoUTQGYO+xDnaxJAJBpW0DWiEkAoceun0bISQHPXzxYrwx9ALS0tLS0tHUB5P3Kar9UTQKfeOcE/8xJAep7neZ5nGEB19/UUXecXQOfIMhbnMxlAMWh9Sl7IFEAkERAfTcgbQHi6NT8sUhNAnZiIROMFGUDTiAHq5XUTQN5L9qQLOhVAV0b6PkvEFEAtk5NojG4XQPgJevFeUhRAVUdiLJjAE0AFrtoJnfcTQJqPsh3JQRlAjoLeKOiNFEBH++Eu84kTQNcAvryfBBVA/VYbQ9MdEECf1N4ik38UQCxAk5JF+xBAZjBv9srPFkAKR2/HfJIUQHDoSfWVzB9AzR9sPJo/FECZ9/A1AukLQM3MzMzMzBBA6um0AJxFGECXPBhwxrUUQOnjQMRwxRdADfbQ2/eqEUAJoeFDE5IdQCd6OrfXkhVAP0rCfw0MGUDXERmEGjMTQG73kF3D9BRAchzHcRzHGUAaLn4Ig5wVQO1uC+VTfBJAYvtzmeb9E0Blk0022aQUQN70pje96RJAS9SuRO1KEkD3DpCqCX0TQB/GBNiupx9Aw0ndl8dWFECiiCKKKKIYQLHOVKFvfRJAtyl8pZuFFUDo9puzt+QTQBMO++zxBBNA8eAugygyFEC7vQMnKa0YQBpXjhpXjhpAPzszApocFkCnh50ednoUQMNb02F9mRtABedQKx/YFUAofdInfVITQOKUZIa7fBVAj4FPBGZuD0Ap+0Fdyn4UQMQSSyyxxBJAgeK1czawFkAKULY7Fs8SQHI6jz7spxBAGt8fKZhMEUB7yaeETuoRQBXaFYHkDRBA2yreyQ/mEEBphVOLbiISQAcED5UrixlAmrRRlpGjFUCOlbLHv6IZQKgLUkuIcBNAymsor6G8HkAlSZIkSZIcQEKsScfYrRhA3r/y0mYqFEBHbb0vxocUQNcAvryfBBVAiAs1J4G4GEAhOYEKLd0RQKpQZl2sXhdAbtu2bdu2EUAJJwkSK6AZQGOEsEBWyBVAFQQ01/eXFUBYIQHmVUgTQKxiV2lY8xVAtZwjKOxGFEBWuqyx9dwYQLW0tLS0tBNATuzETuyEE0CrCTppARkRQHSwZonxKRdAGr80HxH+FECw8Wj+YOMRQKesSOLyvxBALIKGk7ovD0De3hgFhusUQAnsLePbHxFA1m3iTGtPEkCNIyVdk8oUQJwJkdIjSxJA3TA4WsFEEkDcnWzdPrwRQIcdpwNUjBNAspCFLGQhE0Ae7+xfdWkVQP4PgP8D4BdAF/Ic+8TUGECGhbOkKhkUQCCw6k1q0xRAIcQNBtnJEkCRQ/c6uT4XQHHDcxSUJRNAKSOu/Ct5EkBWVVVVVaASQLfmh0XKwBNA2oCfDfjZEEAAAAAAADgYQApHb8d8khRAPYd3hC5XG0CJWV8mu6IbQGY2YDWTPxVAHK77rB3WFEBn7A+DhSMTQNu2bdu2rRZAbeKXP0b3EkDb4HQXdrwSQBNnWnvy7xZAP01hUvInE0AeTliQxGMTQBD1UA/1UBNASOF6FK5HFUBU63D+1pwSQHlCmqD3MBdAEJWO7BmIFkDd+5JRT+UUQJIbuZEbuRFA+iwS++/LEkClrFTHS8oSQOdeSaSyIBdAtJo1UBOqF0AGf+swAXIUQCELWchCFhpAUb0UkampF0Dz4k8knNIYQHT5JYqrth9A6oTKlzqhFECqlVqplVoZQBINK+ga0RBAwU6FdMgkF0ARa9IxdisaQBbOJecTPRRAh4eHh4eHF0AKEClApAAdQAHOn1zT1xNAQYYl4UapFUA9z/M8z/MQQNSDKBLV3hdA2O9bVsUKGEAHDhw4cOAQQLuNrDUA8xVAfvdAhN89FECrqqqqqpoWQMT7oBoMNBdAoJRq97v3F0CTDpw/J4UTQGXtdPyDCxdAETdQpziGE0A6c8t+QzwZQLIc+khw6hNAcGg+1x/vFUApcwxw8HMTQFl7h/mPfBhAiK67KKLrFkDs6+vr6wsbQPnLer+s9xZAIod7i7U7EUBp8z7FJUMYQNolta4qmBRARYhm9y4TFUCm54rwEDARQEDIybOZDxNA2/593EGzFUD3EdxHcB8TQAEAAAAA4BRAq6qqqqqqGkBtS5QwaHoRQBoZGRkZGRlAXaWYoLtKF0AzMzMzMzMXQN+IApNOzRNAV5EzYfNgFEDv7u7u7m4SQFttDE13sBdAX780DNCXF0AExYHiQHEUQIbu2NWwdBVAiqQGR4EXGkAkSZIkSZIcQBScSMTf5RlAIGd1rDd1FUBzTyMs9zQSQDIe4zEe4xNAK2P7Hb0yF0BI52/1KHsaQLSIy0imphFAD8jn5ewvE0BmkoIam8gTQEjsvy9bKBNAFEPGF9h5F0CgzfEQFc4UQNOWn6fZHBVApBJAHNHuFEAAAAAAAAAXQGTzLNqGjhRAunV0qjNsFUBkLUMH7PYTQPHou17gIBdAHQuWaRFrFUBSTbtgup0UQK0CZhb4RhNArxiWrcQGFUC1SFBTIdoYQAtuQV4c/BZAIBYpA0+3FkBVVVVVVVUVQC8jsRoufhBAdOlQg92ZFEA+luxVdvYUQAdwg9Nd2BRARQ0I4cWQEkAzMzMzMzMTQAAAAAAA4BVAYid2Yid2F0DQF/QFfUEXQKQvl+Y3uBRAJr9Y8oslF0ArEowqEowYQEiZ4g6ncgxAtMXK8I0oGEAz1RPkPlMVQG8AUSuk6xBAdAYrdAYrFECnrClrypoWQCeFyEFPNBJAo3RpqwyCF0BVVVVVVR0XQIqAjdF2mhVAtUSoqMSkGECGSEexys0QQJX4GSV+Rh1AuJ6A1abIFECU9EJ+eakWQBY0h4oFzRdAF4eijTiaFkApf/Fs62oRQPjee++9FxhAMLu1eeWGFEA7X4I6ow8XQMct8D2QFxRAFXFBV3TwFUDPt9MP4IwTQJY7CFcq5BpAGGOMMcYYG0BwYVJDNCUWQLbnJr3wYBNAz+HCodS6FUCXvv2ViUIXQKqqqqqqahRASvJ3Zj8VGED7Zq0HBasWQJW1d5j/yBNA7opx3dK/FUCtBTgJ++4XQP+3kZLt9hdAf1CpSYmTH0Cx6WSx6WQZQIqCKr79SxBA2VqOiBJWFkAUto1AG6AUQMTDw8PDwxNAzxyMBtp1FEBhkTLwdGsaQDXOkYRqAhVAGfDJ4TLgE0Dbtm3btpkWQGg+1x8vAxRAc78FkeimFEBX0zc690oSQIwYMWLEiBFAY9K1G95OHkAAAAAAAAAWQOdJgAE7mR1A/D1UBpccF0DS6UKeY58VQI4e5maedBpA3MrH9UOvEUA8IBpuKwAVQCjTJX5ZlRJApqWlpaWlEUCOcEGLhqcUQEStMRe2/BRApqWlpaWlFUCUhrnR1vIQQG7OUJH6RxZAv5NwNZAuFUBxHMdxHEcWQGJiBf9F8xVARhdddNFFF0Bvpjx+J9gRQAKNw2PadhJAmjq/9pDLEkBQ9gOKR5EUQL1Rz92GkBJAS/udZa41FUDPp13GD0UYQOpSsa03vBJA9Om4je1wFUBMLdGDqwkbQIBtALYB2BRAtJ9Z5EktGUAJF7RoeAoUQFHrxQC4EBdAYwuDZ79rE0Ca6sE+ybUSQKItL2loyxtAQP6wJhfvHEDIGk8TM+oYQNSE6n4UCBVASzb4PQ+DFkCpMPF+5DQZQD8G52NwPhRAFG6SOuT0FUCRby6GU3sTQEXQcFL35RxA3vSmN73pF0A+/+PzPz4RQE2UfuMe1xVAS5T+r5a1GUDYUF5DeQ0VQDSX0VxGcxlAgwBO99GTFkDHhpfCDPATQFZVVVVV1RRAjKjW2RdRE0B9NCEvbBUUQPGrMZEeqBRAXqOtgCiXFEDiFV7hFV4VQD2NhUia3RJAdxbWVQByFEAAAAAAAEAWQB555JFHXhhAn32IZUkND0DFTuzETuwUQOXRgfd8YxJAjuM4juP4EkCLyK+5tR0UQFK4HoXrURVASrCpRnlwFEAAAAAAAEASQNJD1o/iYBRA0aCkXIvZFUCJ1AVHvlMWQJFcwOtt9BdAsYKuEQ0rEkC7PzmXxDIRQBDTONRMbRVA1AY6baDTFUDNM91Xte8RQNych9uchx1AVRKXjaB6GkBCtLVKuxsSQJqZmZmZmRhADmwIgfyBFkA0+EifVeoYQIN8GasSxRJAgxsZNeInHEBYOd7MmPwTQFwGfHK4DBZA2LSfLIFNF0DNkzT/nXMTQB9COfGHUBJAZ9HqJIU8FEAZ8MnhMuATQCbhRqn3zRNAsRM7sRM7EUDVFrnOBAweQEOT/AvWEhZAQPwGvhmbE0ClpaWlpQUbQDpjzpgz5hRABldye35/F0BhHW3ep7gUQExZdoFo6BBA+u0H6Jl0GkBwbZjmLvgTQNBRgS+ufhBA7ZVDwV9gGkDcHlE0gnMRQJgG36THGRVAlLvJ3eRuEkDHcRzHcRwVQFrEWkneuBBA34gCk07NE0ClDDzdmh8eQIiadb8rUxRA9OI2k8XJDEAUkgt4vY0VQG3btm3bthlAbUzrk92BF0B6WUuQXtYSQDMzMzMz8x1AMOxyZYBKFkAo+p7oe6IXQDJujBvjxhNA5g82Hs0fFEDcKuKhztsRQANWNDnlTRJAwkQCKW/ZFkBlNeK46VIXQJpCPXpjghBAbjBFPusGG0CTg8xLieARQIwuuuiiixZAcxnNZTSXE0DufEL2ncYSQP3zrVtt+RVAvcjaKt7JE0CIvWDJ9jUWQOYPNh7NHxRAfnLzgI0ME0CXQ1AvuPoTQE4GoFxu8BRAwWAwGAwGFUBsvtRn9ssTQCmDae/IERxADUtwGpbgFEDG/Jvjj2wVQGvWn8FvohVAxjoS/OzMGECb3vSmN70VQJv6MeCfDhNAMiuNHlFBFEBm+9nAhe8SQHVt54L3jhRA4xC8ooiUE0BpnlALGJMQQCECqUMEUhdAlVf6TjMGFEDfjHSmWroUQAJckHjgPBdAje+PFEzmE0C4HU5YkMQXQNc0Ny4dkRRA6kE6UQzbEkARXklo0k0TQC2xHmxr+hdAPiUv5GSWEUC7k2huKHATQLETO7ETOxVAwJN6A4WSGEDn3a9DUoEVQKf/wpUhWhVAxU7sxE7sFEDnv81IeLAWQMevtGWjzRRAXh85EjjAF0BlQg7AytoWQFIBiLg+PBlApX2QDKhnEkAl52URn0ASQMr0ui0uOwxAJmbuLxtvEUBj+jgHSRsTQMbNWc91gB1ASBXVwT9aFkCdNtBpAx0UQOv7TXtmpxRAuJ0JnQ4jEUAwH8guLEYSQKvFwmT1UQ5AI5C+20X2EUCeNUPdWTMXQE8TaEnRehlAP8Yk+BHfEUB1GzaB4DIVQNh4NH+w8RRAqbKZEs7xFkC80G143bMVQP5KgVq/UhNA39mo72zUF0CQSs7LIj4ZQEJf0Bf0BRJA3LZt27btEkA/Ijvwv7sWQPU/xJIYThBAOk7yXxFbEEAxOVjUxIYSQJsIx0hjKRZAZYUY+wAzEkBdZ4k0MpMTQLfOK6BxtxJATCbNvzuYFkCoMhuwmskTQGB8zcKPRhlA4+hhnS9hFEDbyYA9vagRQK2MxpWySBdAdaqkeQSEGkDj9aTMMcARQDV29sfWTRVAciM3ciM3EkCSJEmSJEkWQEN5DeU1lBtApL6zUd9ZEkC3SXcZU74SQCVMwiRMwhpA+gd2bHgpFEDFTdn8drAUQOsyw+xxIRVAsFOcp3dDEUApVfLVL5MUQMa42JNJBBNASCuSfo4RFUAyd8jcIXMUQMlrKK+hvBZAbktZ7X4RFkBDRyk3uh4SQHd3d3d3NxlAq6qqqqrKG0AndmIndmIUQBlLl682jBBAsPFo/mDjEUDxzzxaVCIbQB/BfQT3ERxAOAvPj+lhGEDQ4x7Q4x4YQFdHrnIOIBtAJhPwEOjTEkBFIZEKgOUUQOqCBofigRdAvWpXyxNhGUA2hV5B3iYUQCQjIyMjIxdA5CqyqYlIEkDypvryF30WQHu7ta6JIxVA1R4zSfB4EECySqJZXDgVQBjQX0B/ARNAijrkkvXyFEBUIKHw/pUTQLjxMmG4TxpA50saz5c0DkBkd9xc5PIWQDZH3Vhz1BlA6x1TA3vHFEA4NsXUHF0RQMu3fMu3fBNA2FBeQ3kNFUCCXtCurfIRQBPEcvI/YhhA0x9XMncOGUB7MXrKHT8ZQLh3kqWOEBtApGfQjDwNEUAF6XLBOOQSQCebbLLJJhVANHwfSByXEUDJ/lpXaG4TQNQ5qABfFBNAVgPhaMQEHkARfUB17K0VQNFGZ0b24htAFQuaQ8WCFkCJ4i9yhgUXQLHrCYCU3BJAsfCZV53DFEDDMAzDMAwTQAEAAAAAABZAsZs25z8vEkD7zkZ9Z6MWQI2zoUA7lRNAccMNN9wwFkBMThFGxLYSQJ+aVPTvqRFARaZhu1meFEAmzzKiD6gWQKuqqqqqKhlAMh1YRbEEFUD1s7YJnJkSQFsObvYLsRJAwH+2BJnaFEB2I93m17MSQDxEq56a6xFAChg8lveqEkDgfxDA9x8RQNPqg5kD5xVAEsWQ3OzyEkBpofMZVkYUQB+Px+PxeBRAPC+zLxziFEBxTMDfmqkSQFMjWtRSCBNAdIAELcKVEUA3SHC2AJcVQC6dzu9aKxFAa/kdIkjwDEBx+Ckr4cwUQIyZc4vbLBVAq55h1TOsEkBD+pqnUkgTQASvwWAjkxJAQJY5wgUtGkBTok2JNiUSQGRUMkYlYxZAEp03BheFEEDGrIUCOjYTQKzOc6diGBFAUyMhmyo1EkDAlRG35UESQHJ25fXEwhRAd4F35NI4E0DSkRdOztkWQKAaNfMFmBJAAAAAAAAAFEDP8CBIjOwSQIQNHO8c1RdAaiupraS2EkC83/rAgMUUQK89wIufeBVA8GbbQEw7FEAiIiIiIsITQILRoVvXLBdA+ddWn39tFUD7gE3pCv4UQOF9a2R1GRZAG4/mDzYeFUAgWzelim4RQL1neNn3kQpAl3HLuGXcFEBQDwhwSNUXQAN1NTrCFxRAfAfxHcR3FECwZ4sC5DMRQOHfljMdjhJA41OmnYM1E0AAAAAAAAAUQHd3d3d3dxVAGLpKp2dTFkBkB93DDMEWQGbdrqvzthRAV2CBBRZYHEBhT9gT9oQZQBAQS8cgDBdAL/lKx28yGUBftcCM5SMWQJigu0oxQRNAuHzLt3zLF0C19IcYNV4ZQB0Xgv/h2RhAaKKJJppoFEATbvB4ZjcVQJ9GWO5phBRAu4AaK1SRE0CxQ9d5gw4TQIh9ansz5RlA7kNBy0V6FUBaZ19Etc4UQGw4NVjGdRJADwn1rjmfEkAsenU/UioTQAqsyc0qlBRAKU0le3PmDUB02YfKJwARQH1wx/ujwxVAN2JdeszfEkDuDIl5O0MTQM8PRPN62BNAl6EDdnusEUAu2qIt2qIVQNk1o6/8cxlA/12Ir30xE0CRy4qBEt4QQDYJOCrWlhVAuz3WMnTAGkC9PWucpcEQQB2feHzi8RFAFfDIBk4BGUASePshgbcXQCtjbkSzPRlAJvSYprB0GUAWKxTIg7UYQIejD/K44BdAWQgR5NurEUCLfNYNpsgXQPkZJX5GiRtALIjJFcRkFkCO7DRY6C0XQHUiChLJ4BtADnTaQKcNHkCBpGNipn0bQOG98F54LxZAsLq0YlcIFkAUO7ETO7ETQAC6xCOSGhxAHFhzaAaUFkB0/k/ow5YfQLK6qMyEFBVAIiIiIiIiEUBqhOWeRlgeQAiDnCX7axVAdfu76sruEUCZOiB4qFwSQIqd2Imd2BxAC6bPgumzFEC8hvIaymsUQA/iO4jvIBJAek3px7xjFUAox4LiwogUQHXaQKcNdA5AcXsfsqVYFUAljcO3YEAVQMy1A3PtwBZA5vLAiGnmEkAXXXTRRRcZQMA+twIThRNAozsRlHsHF0DCgf3RUVoRQLxouYmE6BJAGBTIPceqFECSc5bh5T0YQHDlMDBzlhRA5g82Hs0fFEDSLOw+37URQM6+S7Pv0hRAUdPqg5kDG0BRrbMvoloXQFPn1x5yWRFA1AjLPY2wFEBOAnGh5iQTQNabh0CBMRFATiD6o7NTF0DYgPSrLzkVQGn8VdFdoRNAr+u6ruu6FkASIs5xPzsUQGEYhmEYhhdA/pzt+BCkFECpv6c3OoYWQCh90id90hVA0slHJx+dFUAxd3FmTP0YQHZsuwIG2hpA9xHcR3AfFUBWDi2yne8RQMh5lrif+RNAcJPuMqZ8G0D+vH8sc4QXQMFOhXTIJBdAcigLOIKfEkAKE+9HTvMVQHvIZcVACRNAdQU8lF4QHEDeGleTzwsUQHRg7ToM9BZAYrtZnkSmEUB3pvT6i5MVQLjkiz3aoBtAU6dOnTp1GkDACNLbB84RQMaiN4wT7BBAPWkbWGR5GEDpRM2knmsVQD6Fe4jMcRVActmjh/+BF0BJutx/MFAVQH4nWEnIrBRA2rJly5YtE0DFCAAv5OsSQNRwGmttRhZAyXlrl1lOFEAAAAAAAIAWQLBmifEp0xJAKhFzjIkNEEB1WpTUjzMVQDNvc9XJBhdAWjhgmT5HGUD8DihNzz0VQH31tuExCBZA05afp9kcFUBeQ3kN5bUVQPdBj3BY/BNAJS8e21fyEkCr3tyOQ+0XQAQ/8AM/8BNAIZuB7yWPE0CHBU6T1NASQOX0pEjtzBZANRfgq/OwFkBxXtcP2VkVQJwpqEdMtBBA5TWU11BeE0B0Y54+Wk0WQBsmm8GIxhBAR/MHG4/mFECh81yH/1MTQLTnBp2KkhtAByHP/xT6FEACswfMHjAZQC2cI/FkGBVAsJUTnulvFkCz5iDlrDkUQImQ8QYqahNAgMfh6ZTYE0DsHVMDe8cUQMDf7/f7/RZAShFc5GDUFUAAdZ8a1lgSQGY0l9FcRhJASZIkSZIkEUBBpw102sAUQGN4cR46hhNAUfEEnuHwF0CeCLqOOl8SQI+zMOoe3hNA8m6IvBsiF0AndmIndmIfQCd1Xx5bERhAGoOIdl9oEEBGkPQOxUAbQCbqrONkohZACwyKx4r2FkDiehSuR+ETQMjG606grRZAFbycgpdTEEA27O9iUBEUQP3BW9dqSxRAl0RYQt/YE0CaS3t0db4RQI0jJV2TyhRAwq5stzSWEEBZ7mmE5Z4SQMDPXFL0pRRA1r5h7RvWEkAPha0Z5x8VQN2Ehp76sRRA137WftZ+EkB/m2LU8LcVQIFPDpcBHxJA27Zt27ZtFUA+FOinltkSQN2Rcej+7hJACs/qdGCcEkAJJrm8LYUTQDuxEzux0xVAF2sV0SnVFUCvA7HsDroQQO1K1K5E7RpAKjkvi/gEEkBOGjlp5KQRQAP57uTa0BJAG/WdjfrOHkA7sRM7sRMXQK3o4waxJhNA4TLgk8NlGkD4BhjM0/sQQF+yD0kAfxlAEbA6vpQxEUBm9AOz60YVQAgffPDBBxdAoxTU2WpTFkAewhxQKKcRQOUzUwAnSBJAq6qqqqqqFECp3VPpFAMWQGHIsisJSBdA7gGUnxfVEkAL1J2C8GUfQG80dX7tIRdAYLDJqfQgGUATRId1wBkWQK6ZFkddMxlAMHCyD8xcFkAu3/It3yIUQC0AZ5EhchpA1DRN0zRNG0AAbUj/bMgTQCHOyk+IsxJAxg+WQCGkHkBVVVVVVVURQHq71xcG+RRAkiRJkiRJE0A8GHDGtUgcQHMuA5eIZBJAAbFr0ZJqFkDK4MfOE8YUQDwWz56iABdAmoasYPjIG0D0SZ/0SZ8UQPu/B08jORRA7+krgcliE0BqhOWeRlgeQJmHGtPVqRNAqeAz48fQEEDc1TfJ++sWQBXrbnMt6hhAA9YKWCtgFUBbc3Dh040SQPqphICcnxJAQX1MQH1MFEBkZGRkZGQeQK2+waKVSBRAEtpLaC8hFkBhcYp4zv4bQAVzy+z2BhNAA5020GkDFEC4+kFHBb4YQMI0E6VtoRZA6k1vetObFkCjU6q7WKsRQH/8OcwSJhdAyKeOthbzFUCRz7rBFPkWQJwoyGyqNRZADMMwDMNgF0CvLbYzzUUSQCsvjuBLahVA1HUyuavGFkABwhP0eUwRQORwGfDJ4RZApl/6pV/6FUBDYFhzWjYRQJC0+/Sghg1AIiIiIiIiGkBg3N6HbCkZQHakj7wlhhpAZ1hwqWzvEkBULic07YATQABOw55OMBJAKFcR+pwoFUBc1tbDu/4XQIN/5tGiEh1AhoPo8V04HUCsSYjiL3IWQCcTwtCplhhAwJ/dvFWMFUD95KvoZRoVQC5wgQtc4BJA24G5dmCuEUBBZNaZJKUTQN/IcviNLBNAAAAAAACAEUClDVGlTuIWQGz0dYTJ3xBAdmD6HFYmEkCO4ziO4zgWQK/ruq7ruhJA+hDifrTcFkBokAZpkAYVQKFv9RH7oRRApikfO5tFE0BVVVVVVdUUQJrLAaA0khJAtyl8pZuFFUDA/Mu//MsVQHEstYwDFRhAVaRK45RQFUCv67qu6zoQQAOQEU1tqRRAUCMs9zTiFECJH3qOe2UWQAfLdDJOshJAOkBdcmpNHECYmB9o7igWQA/YRocSNxFAlS3OidQFF0CnW/PDImUXQNUcTBadoRxARVEURVFUFUDKYGm4wlQQQPaA2QNmDxhA7cBcOzDXEkBdW2IO/sEaQCi/CfkEIRZAXbKJhJJhGEB92v9aQXYTQMV1D6pOYRZAuG/BQYkZFEBZHnMXqQgMQNViXR5SxBhAavwgavwgFkCTBSLpWnceQH8bLxOG+xRAKoaQjdedEECJNyPejHgTQFabItMxehBAjuM4juM4EUBzfByDrYkPQG7btm3bthVAf21wY3jSFUDM++Pv6WwTQNWek+mrhBFAuuiiiy66FkCoEmdj/xkZQJHz1i6znBRATGgvob2EFkAZ8MnhMuATQNJl0rha6BFAa67maq7mF0CjW9rCeCUUQNT3VqqZNhVA2FBeQ3ltFECaiC0PBVcSQKuqqqqqqhRA8d87XwrWFkC8T3HJEKwTQOvbDicsyBFAn+Yv70KLF0BZwgqT2fIWQD+Qw+nmKxtAbtu2bdu2E0DLt3zLt9wSQKqqqqqqqhpAt23btm3bE0CyDQHF50wTQBzWvmHtGxRAmNBeQnsJFkAbzPsOntcUQI7jOI7jOBZAu8EU+awbEkBBQUFBQbEUQCx8i13nSRZAKrordDjmFUBDmO1CmG0dQG9605ve9BZA5RdLfrHkHECIMcx4WvIRQI6xW9HHDRJADp27kCvtE0CT52dwOH4VQDSn6ApbDRNADYqnPa4CEkDyGsprKK8XQLEyfCMKzBZAa0ykBypnF0B1lNNRTkcdQAjE3mV/+RxA27Zt27ZtGUBy2Tetu8YXQMb2O3plbBdAgusP3+uBFEB0wG6PtQwVQERGS1QxvxFAw64AuddcGEAZfO7zJN4UQI71t3oO3hFA1NCSWf32EkCOQ+6XWfMSQKxbzmlYOBdAK2rg/Y/rGUCu7QGUnxcVQKed+4nH2BVAn9aqTxA7EEALmwOJVpgTQCDuf4zC9xZAR8/61tzhE0COtzik4y0YQOUCyRR1TxpA+slQIECzF0CSCfROXcsZQKhaLbqzwRBAwzAMwzAMFkC9vw7GrHQQQKV58ScSThFA4a6+Sd5fF0A2/m4eofoUQKiw3V8wUxNAxzSy6MvHD0BCQHN9fxkZQPtOsYTtfxJAs+TSfa5BFkAQSde684ESQEIFBPQUHxJAzr7EKGeBEEAkFERCQSQUQFF4/8pLmxNAwJJbBIsVE0Cbt46HTCcRQFKjlGjkVw5Ai1c+EbO5FEB0ugg6QzwXQIyrDgF4NBNAZIBhNxW4FEAT1eBj0SYSQM/Wod9sHR5AuLDRDsiMFEA+GUmIUBgQQKeP7CJm+hRAhE3c+GRHHkAVKlSoUKEUQK5UWLUw2BhAVA21xlzYFEA5kbrgyHcWQERi3s6QmBRAt1AwSNj0EkAfilM29KEWQLcgmHbnDR9APj4+Pj4+FkDOlDz0j+EaQH/eijnHLRVA8ONFSJlbFkAAAAAAAAAVQAT7l+RDaRVAOl5QCPg8EEB9nF3b39YUQC93a7wYVRFAytuCRstAGkCTDLi2xXkNQHgDTlsGDxJAfWejvrOREEB2ZV1ZV1YTQFlWPgkSoBRALd/yLd/yFkAsTFNxlPEYQF5B3iaE9BhAzczMzMzMHEDZ8FKYAf4YQOXXw6X4dBRAIW2vvCWhFkDg1szzxUoUQGiFzYFEKxxAf7ZYGb4REkDT6bjbWO0SQGr42xSjhhZAbtu2bdu2E0ADnTbQaQMSQPDfDeeiNhRABuZoLTEYEkCaNGnSpEkXQBQzBaNv9xdAgtaiUB9oFUCrqqqqqqoaQCI/dUepzBRAzczMzMzMGkCrqqqqqqoaQJze9KY3vRVAXKyDKxfrHECfRljuaYQZQGQs/BHF4RJAbpz97l1fEkDQBlJW+WwQQMX7kdN8rRdA6ojPJxaAFEA79QF0GeQSQNh1Xdd13RpAOIETOIETGEDzVMIfhD4NQF9Etc6+iBhAgd42WmjUEkCKn1HiZ5QUQFD4MTv/hBNA7x/8/dUxE0CuQOzR6XYVQNevFKj1KxNA11BeQ3kNFUD6BKPVoE8QQNm+xipzXRZA0XyjVk1mEUCfdA8nuzoVQJaf+dhYuRRA6wwgsToDFEDv7u7u7u4SQH7L7gWUExJAEa6NloJvEkB/kvYsAh0UQGQjIUkD2xVAHLEuPebvE0Bs/N08QvUVQIchpcF2lRNAGIZhGIZhEUBkDgJufTYXQNd1Xdd1XRNAiTaNvpb/EkA+rgKCIdkeQNamM66OHRFAw4Npg3dTFUCstS0XNZYUQMdxHMdxlBVADDzdmh8WFkCWWqmVWqkVQOqBDHo3GRlAfcVXfMVXF0DyHMZzGM8ZQHHoIJvIOBFArSDZrlvwEED9vMd0Za8QQFca6Wr9wBFAwhFC1euNEUDnZRGfQCofQGZD7n2byRdA5kzEloeCG0AzKqWdED4RQAJwjATgGBlAspCFLGQhE0BmKpBQeP8SQC6SRuRKUBZAu1/tZLlsE0CfAkOA0wwbQBqOEG0bShNAS0tLS0vLFkDE1sZDvpoXQLiovh0PJRhANLR2H24BFUD6jLfLxxYSQM0RLmjR8A5Ab17XWoIpFEBFHzeINekUQGqapmmaJg9A8VU64BU0FEAs2C1vYMYTQD5knDVRABFAx8tgFHBoDkB90ZtPNZoSQP30008//RBA7+7u7u7uFEBmZmZmZmYYQMjnneny9hFAoDM0wSX8E0Aoh8uATw4fQPsgs9uuWRJAb+NrefW7FEBzx5LsHK0XQL6/MbDaexNA2CFL8ITXE0AbBpqrHewQQELwJq1TjxdAp8p7ZLjwF0BH2s87AjITQHzwwQcffBNAFsxJSRAgE0Ds3Vq4aTsYQFmlrfCX8hRAk7LbDXgKE0C39yyeNxsTQOkmYLzCPhFACxcuXLhwGUB/XubOCiERQDSFQFMINBlABhRGdZocFEA9KFi1FeISQGX1XeOwMhdATRNf85FlF0AnIyqBjtcSQPzPa0o/5hlAi1c+EbO5FECWDgHB3cUYQI0bN27cuBVAXI/C9ShcGECh95Lh3DgVQAw0vww0vxRAqvcXG/InGUCvqXdO8M8cQOVg5aGPkBNAvArcnrjIEkB9DM7H4HwZQOHaHkD5eRFAI8+0ierxE0A5DUKPYpcUQLlRRlp3hBNAH+trORciFEApU50jGqAUQJ+J+RMI5xNAfH/MZ86vHEBxHlmt0w4WQKrD1cg/xhRAhxtuuOH2GUDLm+syX9MSQJwxZ8wZcxJA9Z2N+s5GFUCXC3f1TfIWQDvijrgj7hRAGhPpgcrZHUCgUn9K/SkVQPsKIoOW0hRAxZdAjFL/EUDYUxw78loRQNIlUkQQEBNAlwGfHC4DEkDPkqDXsyQUQHWM3Yo+bhNAAAAAAAAAFEB5P3Kar9UTQDpQD9KJYhBAuz3WMnQAFUAl8rpPt78cQBaykIUsZBFA3FAnyEAbE0DzNU5YndUcQAAAAAAAdhZAAAAAAAAAFEC0fCw9KecTQJZPxGwuHRJAX0N5DeU1GED8agej85oUQCFt0556NhNAzdIHpopFFED1p9SfUv8aQEMUDFEwRBlAKIF9T6XeEUCezTN029kYQHwCqeS8LBpAYBbGd0KfFkC8u7u7uzsTQH72XMiRbhJA1kMcIaNuE0AzMzMzMzMTQGF5NLFZHxNAJF9T75zgF0CnVB7urAwYQNQA3R6Q1RlAs3BoR8OyEEDEL437yd0SQLETO7ETOxVAqRqDDXdCEkD6tIKlPq0QQIJH+uu5ihtABNAPUnnJE0BM0F2lmKATQLupydgVkRdAm4upSGiaFUCkJhhvZZ8TQFxXPDSYHBNAwTQGTGPAEkAu5VIu5dITQDaaJllZlxNALvnnWcgBE0DKwNOt+WETQDotAGeRIRRAsNzTCMu9EUCI1F+446wUQOlMqh2dSRVAW1hoF1IuF0BpzOJxXWAbQLx+tlgZvhlAo5bgQBbEE0A9gF5xe/wVQOTvzH4qjBdA4TpobGkiFUCF3/HIeuoQQL8GgQhrmxRAK18M/8S1FUBqmqZpmqYXQMZnG59tfBZAtvfTqIUgFECOySeUnVsZQDu4xb000xVAW2uttdZaE0CBMYmD960RQLoGj5AiFhRA9khWkJ9PG0DuwFw7MNcSQFG8evhijR5A4OJa6uT0FUCxYMfDcH4TQJOzULd34BRAcskQrKPNFUCTLxs0+bIRQPDc5mEkwxFA3F+ZKHRTEkD5rTq89xcaQOxRuB6F6xlAxl7cZ83LEkAlmmns7I8ZQNt0CTYQOBdAaC+hvYT2EkAET0z//tkWQLenPqp2YRxAjLeyzyE1EUCbODKcVnMaQBentnXCZxRAYdb7Zb1fF0ATHtr9lFsVQCouGYJ1tBFA8LnsDK+cFUCCcJXg/R4TQJozi0/kXQ9AUpDTchTkFEA7l0NQL7gYQBBS3NcyWRRAOEffHH1zFEAUwpTPGxYVQP1O6g0UShJAr4ePJwncE0BLTCWmElMaQDbQaQOdNhZAiaUilopYEkDUjHAxyOUTQFERx3WsBRpA+umnn376GUBg+qVf+qUZQICyGHGYnxVAUWDSqXmQF0D2XaF3OBkVQFFXoyN8gRZAr6G8hvIaFkCnF2t6saYXQAWlmFPtYRVABfMI1wr2HEDLS5upQEIZQD/ftWV6IhRADnTaQKcNFUBD1+Tt8/cXQMItNRv2dxNAlvxiyS+WF0D77fUQoIYWQLnC6HWsNhVAGF100UUXFUAWspCFLGQRQDQLu893bRVAvxb51yL/GkC5GvIlZ6EWQJW5oAYYtw9AU6UZuPJyFUBR5bwNbK8YQFypZtpc3BZA9NTCSk8tFEBxuCXoYU0bQC9EgESfAxZADewdUwP7GkBnA1Yz+VMVQNyATfjp9RdA1AuubhNnFUDMdXjTyFwTQCF1+Qq8aRdAwW6PtQwdGEDts1CC6bUPQGAbsS495hdAcOKb+Ca+FUA7h+eNqV8SQNQ9vD/rcRJAr+u6ruu6EkDgCVYSMmsVQEqNPcwC8h1AvUMxmBEkFUCECPLt1egVQNu2bdu2bRdAPoXfJihrFUDxoLfuT84RQAaI0XhfIRVAwD1qh6+GFkDs5cOLFawVQIygfwYhLg1AI/pEB3gpFkApNGT2FWAUQDqwg+4/JhRA5u0MiXk7FUABqtW/SgUYQFZVVVVV1RhABV+WLlHwFUA5juM4juMUQOxS3YLuGRVAwQiMwAiMFEAogPXJWuIXQPZ+We+X9RJABRdccMEFE0BF2rRMIooRQBrYO6YG9hdA5B1UHJ14FkCOlT/f/zARQNAX9AV9QRdAYMpLLEdzFEDjvp7IXeUUQBL2Ie0mXBhAurgMg1AaFUBd+a4H8kcSQD82Oji5+BZAK12IXCOhFUBKpW8AncgUQC5G624IOxFAA6yt/GE1GUCRFqCXu2ISQL0YVIRbahZAVVVVVVVVFEDY7bGWoYMSQFFg0ql5kBJAGO9U1pK7EUCi0pE9A1EZQOhyCOoFVxNAEvLX7KhFFED7nuh7ou8ZQGCEc72oYhNAsn3Psn3PEkDhgw8++OAXQNy2bdu2bRJAuJmb8j9oEUD+2reUcU4XQHbkC3WNzh5APDDXDsy1HUDBD2Zgo9oRQBLF4dqU9xFA2VKscJgoE0B9Yxx9ym4VQJYFuRihthNASLg0w38JFECez4GToicTQAzZp+fIkB5AFlZ6amGlE0BACW80df4RQB4dd6HxrRRApOD6KLg+FkDetYuCJ44aQMtJB7imsRlA9ihcj8L1EkDMu9KDnVkVQPF88T/2chFA5qrBpiPtF0CZGI6J4ZgYQCvdG1AmrhZAHC4DPjlcFkCHpKJRtp8TQE16RiTLpBdAw0ndl8dWFEA3tFoI+nEVQCIiIiIiIhdAr4lArolAFEAeMp0Ey+QSQMytUxVpkRlAgsxjkMBtEUBKMUF3lWISQLXSWmmttBZAluSnm4bnE0AwMdtD7QASQGYkVsPFDxFA3mkTuTkVFkDXA2digD0YQN5j5p5NexFA7fUhnPELF0BmZmZmZmYWQHL1iCZxYRVAGMikeIFMGECHMMhZsr8WQFu/UqDWrxJAfCVw/mUVEUC1fqVArd8RQDOmMIp/AhdAKVgbemMzFUACdcmpNeEYQDeBdRKjAhlAcUvNhv1dFkCEEEIIIQQRQOU6EzB4LBVA6PJkgH5SE0BicLSCiQQWQFODhoJHERlAY7m0naOeHkAc6bCRDtsRQKuqqqqqqhBAXPHMyuhEH0CigFms7iAXQNB/zOCaxBFAyAJDM2LqHUBXkk5+EVAVQC/epgXp5xNAKwph+zBfFUBSBp5uzQ8UQASW6XPU7xJAxNG27IBYGUDn1FBh5rgVQFmG278tQRZAhc2BRCtsFkAwlvxiyS8YQBfcc4XBlBNAio4dEupdE0AxC8gXiVITQKQ4vFlsnxZAaQGnKzlJFED14FKKCrMUQPYoXI/C9RhARRI5ViSRE0AvNW12cWAYQKrolrYwXh1A9Qy4I8egEkBCiEtJcDYXQMz04lWJbRJAIwS2SH/gFUA8CmIszaMUQLNwaEfDshBANY/I/sZHE0CW/GLJL5YSQFdLSOsYjBNAtdJaaa20FkCdgOfT42YYQARRBFEEURVA3pTDsjNXFEBymeREGJcVQGEim8bB3hBA4gbqFMdwFkDi6IM8LvgUQIlQQKxQqRNAVWaRlv3gE0CfO815gTYXQMh2KAgOahRAIiIiIiIiFUBau0rSxogVQOBdxWgn2xhA7XXMpMEJFkBrpL1nK4oSQGGuHZhrBxZAmZmZmZmZHUDR7Vo54ZkUQPqwrvze1BJARirmVmekFEChNWcitjwUQDqO4ziO4xJAcbJ7SwjwGUC2Dv1m6xATQGgaqzBdwRJAb/ERuwMLEkAOvnxtjdIZQIRj6l3AohRAhgIWUsvrEUDy7JrRV/4TQBti+8PzYBRAruzmg6ljFUBXEJMriMkdQMBQTcdcIhRAZs/aCEf7F0CVQfThkfMSQGZZlmVZlhVARHkN5TUUFkCW1FZSW0kTQH8tA5GnQhRAVQZ76O17FUBjJ3ZiJ3YUQCfUAsYkDhZALSHC/b6iEUDA5IIkJR8SQDCW/GLJrxZAnRWgScmiFUBDSdgvf24TQJLCuyrAtRtA6EW1WJisFkAvHgETQ3QYQOcF84J5wRJAJCrINgQUE0CZ7c84MToTQJcr1DG7lQtAKXd56otyEUDzOBqiGN4PQLrdyHps/BFAwbPzu8veEUATTTTRRBMVQGOKY7MrphBAz0QP+UiwFUBjgu4qxQQWQJwSOeLXYhNAlnCCiDPZGUAtLS0tLS0VQNjSbRVosBNAD9jtsZahFUDIiZbrdx8XQKkJjO6CahBAwlfFekYHEkAo3rFePzAaQKd9XNdkRBRA1w7/+66nGECj1s71MgEYQDAqckna2hJAlpaWlpb2E0Aq+eNZvW4YQEXvY+7v+hRA1rK7yL28EkBZxCeQSs4TQHfS8PqojRRAT9krrAn1FEADvPfQiwkWQO3AXDsw1xJALoV6Ub7eE0AKrZdC66UcQBuilw7eHBtAwQILLLDAFEASTMv/DUgUQI97GdgBcxZARWxbzMixEEDBKoolKFkTQKC7SjFB9xFA5by1yywnFEBi/vweXtMSQBppDEF4bQ9A7irFBN1VEkDijrgj7ogTQIwtwbf5KxhAckVOGVfkEkD4eirS9EETQP+hLVwW/xVAlD7pkz7pE0A/nIZQSTccQHWn1Z1WdxpAUAvdsathGUD9L+XmqFkZQDrJw6eKARVA0ymcF5YVE0ALGJM4eN8WQGIndmIndhdAAcp2x+LZE0ARC6XAn1oTQLRNkDBaXhVAUo7w+dk+F0CvQ7/ZOvQZQD/YeDR/sBNAVuPLz3ndFEAufgiDnCUTQIvgUyD/rBNARyMbxr9EHECto4AhdcYYQHplbL+j1xNAZfx2qSfjFkDofu7nfu4XQHV54odRlxdAIREmOJkbE0AUGtR4kusWQEEff4bpPxZAc5MS4G7JF0C+Yqw/ZrMRQHcU7XYU7RZAFiewKqwTEUDPPR932vwZQBO2jpVRqxJAQGnAO0GzE0BvRrwZ8WYQQOxlANUj4hhAB1qLQn0gEkCw8Wj+YOMZQPNw3LVZtBBAAAAAAAAAGEAAAAAAAAAYQPdpOTazRQ5A76AeVnSJEUAGeATp42sPQF9fX19fXw9AR229L8aHFECjLjjynbIVQC848p2yxRVA9AryNiGkE0BmWoZnS+4YQB2RYqi/HBFALTCt7+JCGECmuou1iugWQPRJn/RJnxdArAXISFF9EkDZG+NNsxQTQL0LhY6k8xNAXhMgPe1IE0D9jcs5C4AUQBTwIUWppBFAdyxtx9J2GECB1MV9IEQUQLNs37Ns3xdAnn8JrvB7FUCCo2YkL5UUQIaRV1ETAhZAjBttytNJFkAofdInfVIZQO0kQYshsxVA2Imd2ImdGEACuz3WMnQUQMW9kyx1hBBANG2Nv5tHFEAuSKliChwWQK3uQnb/7hVAQqkw8X5kFEADXm+jPxQSQFrSc6g9KhhApcGxw/nEFkAp5yPa/GQRQKfGyqmxchJATUS+/+yBFkBu27Zt27YZQGPDttZNEBJAvelNb3rTF0A8AiaG6HAfQArtJbSXUBZAB4GzMe3BEUAMzj1R5ZoVQN5tmi3M3RdAWY0iDp20E0AAAAAAAEAUQEpP0pP0JBVAP8p2JAelFUAPDw8PDw8LQJzk/XUwZhVAhxH7J86BEkDHs62rVY4WQFwcWbfzYhBAyd/kb/K3E0C7jaw1APMVQCV6zyR6zxFASwkbIEbjGUD4UBlcciQVQAAAAAAAQBVA8XZyFzKlGUCvXr169eoVQMrjogDrtBVAcCSTwwhHFkAosxGnbWIYQKtJx9it6BtAygSJaYnvEEDJab5Wzw4XQAmEHULwDxNAbtu2bdu2G0CpZ+zi9c8XQPjggw8++BVAD8asNHpEFEAu4PU2+kMSQEHwLojTzxdAmsp1x4stEUDpwoaz0zIdQDMt1mPoaRhAoL+A/gL6F0Cx/RjDNQAVQO6QuUPmjhdAOm2g0wY6FkBS9mFS9mEeQBeYyjvh3BFA7QbJTL9+FEBBveDqNnEWQHyusaUSOhZArlJM0F2lEEDYHEi0wuYQQNHskW3FGxNAyS0puSUlE0Aj01N+BiMWQLq6OaVLFhxAue54sSX4GkC/D28S4ScTQKTrlp/12hFASCptOoSkFEDctSzfZXQTQDnpANc0thRAJlqiJVqiEUA91EM91EMSQHOB+FNNBhVAAAAAAAAAEkBT5LNuMEUUQEPmm46ophRAgfvxG6nmEUChK0vneNYQQFcmxrBW7RNAk46xW9HHGkCh6MzRsiESQA9szKk3RhlA5OCjUQ/BE0B/m3yhX54cQIdk7y2crBFA4f0rL22mFkBpkAZpkAYVQBbr3feAJxJAvcd7vMd7EEB2lvtpE5QWQB/Ime2GIhhA/FvOQbjQEkDv300eJF8UQDu/9pDLChdA+xcaUecoGEB/huk/WpcVQJDM2Ugx4hZA3RAD0rGUE0BZCtT6lQIXQO0ltJfQXhRA2ct0+QJzFEDrblOctd8ZQJl9xNUbfxNAKtT57m9GF0DvoyAd1RAZQEHKTUXzhBpA2ct0+QJzFECSsRtKxd0SQJYVOH+AxRdAzL8qM5ZuHkAbcMUacIUXQPawP8XmrBRAdcjHnNzRFUBdVgyU8EYTQLiuVjnaDxZA8AMcFuzKFEC3MyTm7UwVQBTR0NV2gxNAFPaEPWFPFECrQZ9gtBoUQO0ltJfQXhRAOwhNj80aFUAkeTjfF0IRQG3UdzbquxhAnK1Dv9k6FEBw4hKCRl0XQKuqqqqqyhZAgW9eTTwrGECHzDcdUU0VQNGgpFyL2RVASd5fB2NWGkCk6xd3GpQXQM6pw9XIPxRABmj4nBeBE0CzvGhk0KMVQJIcTHIwyRVAnlBgd9jrF0AAAAAAAEAZQOaHRcrA0x1A5D98gBAxGEAgQoQIESIWQA4zhrjdsB5ArLab+hI4FEADd0B41l4TQPKIpAZHgRtA0hZ3Nb+EE0Aa60NjfWgUQBuAO5+QfRdALvtQ+QQgFkBURDmaIEsZQPWdjfrORhVAwMVpzfaJFECylEmwq/AdQHhI5iGZhxpAM+G9oJUwE0Avc+LBbVQUQJAda1OF0hNAMNcOzLUDF0BGOWofnPAVQD7+FW2slBVAHTeB2ZmqE0BWVVVVVVUXQP/nXVhaRxNAwXdk2fKVFkC+KYt7aOARQNBwUvflsRVA3zwn8enXGkD/sSbyoyMZQFcaPaKCbBhA463sc0hNHECqqqqqquoRQI4oMOnUvBdATB9rSNIeFUABamjJrH4TQI01gcLJWBNAieIvcoYFF0AP2O2xlqEVQCzZX+sKzRVA/BUwGYd3FUCRbw1YM34WQFnX3B/rmhdA4yhlBse1FkDxdnIXMqUZQHkI1dPNrxlA9H2WiCGPGUBCTK4gJlcWQBFjH2CGSxFACAgVyADXEkBD2JG0KGMSQA3/Jwvq/BFAF0owvfZZFEC89I4wUXUWQDD9R+syhxlAa2+RyT+pFUAVWZEVWZEZQJsA6WlHZhZA+f65xCOSEkDvXybcJHUYQKqqqqqqqhJAdu3VDOJFEkCWWqmVWqkVQG9KFd3SFhZAGFGtsy+iEkBzJvYXTQ4XQDbMR2LDfBBA41gPOMlQFUA+qxaPhY8WQIifUeJnlBRABg8owFWPE0Dbc1ivMXUaQKcnnyGIDxlAp5C77/cQEkAhXucz920RQCGT4gUyyRJAUAuhOYOrEkAXu11x+jQbQIDJv6ZzxxdApjFgGgOmE0DTg51ZnwsVQNuZn6bLMRZAzM4/4cfsGEBBveDqNnEWQPFe5id5oBVAfoFQ+wKhFkBpaMtLGtoSQBA2Hs0fbBZAXXTRRRddFECxo3wHqIkSQOpkhrYrVBJAzVXKlzsyEkC3KNARy9cWQIOtpAfh5xBArz69iJw2GkBPb9aXlf8dQLspQvL8qRZAmc5iOovpGEBfbZHrTEAXQG0mgmUr1BJA6zH0NPXfGEDPZeH7XBYWQD5uEGvSMRZACxUqVKhQG0A+qrwtaLQWQEPQjytzGxpATnkzdVVzE0DpSIrxrl0UQEx4gq/kPRtAcPmWb/mWFUDg5yCa0MMVQNZug7JCjBNAdQTLrlOrFkAbOy4McF8TQIwo+7ewxBlAFs8d/PKjFkBt3AODBPgXQJC1DB2w2xNAGl/U3vZcE0CjDFWbbv8RQIZQe79VqhJAF86AUHKnFkBASSiW0rMVQGHw7HftiRFAtip2yOHVFkDtigv0cOYVQAAAAAAAABxAa+xhFpAvGEACldg0mqQUQCOfdYMp8hRAXaWYoLtKHECDLdiCLdgeQFDHpM1c4BNAhmEYhmEYEkCFQziEQzgUQPfG6g/0SBFAsaA7NCeKF0Cs6GUatTkWQCebbLLJ5hxA+FTn/rX8EUDVbNjfxaAeQNk0Ju1v1xRAHRQpLlYxF0ALGi0D+agSQJiDbbMAjBVAJp2aB7nrFkA9A1HpyJ4XQFfDAELNWhZAdTkRx6IeFUCi3hpXk88VQDH3NgF0RhRAHN9TnfvXEkDbPWx9GzAcQKuqqqqqqhZAr8506n+IGEBOxRhK0OIWQEYNf5ti1BJABmVYrbegFECiaYCqmdMSQJ5Uwp1UQhRA+gwXTeOrFkAfCdPLuQwUQORwGfDJ4RJAG1oyq99eEUCykQ4b6bAYQDEWQtHjEBhAfzl3TYD0EUAL6ymsp7ARQHEfwX0EdxdAuN7wPqgGF0CZKSP2uhwVQNAY9DAEkRlAd5e5U2UQF0CTRQ4QUtwTQHd3d3d39xJAKC5WMU/aFUCnw3/vfCkYQKUeYY7uOg5AOYdzOIdzFkAAAAAAAAgWQKa7sgG0iBpAfs9vGlqnFED0dzt87uUXQK4dmGsH5hZADclPQl0nE0BL5GVHA8gUQHEaQiXdKBJAdupK//a7EUC1T/u0T/sWQHetb3yIPhZAE5zMjVc0FEAAAAAAAAAYQNFRgS+ufhRAuMaU8a0xEUCIl9XNrjIWQJZlWZZlWR9AUWCZrGN8FUDbmymP34kYQPnFkl8s+RVAr169evXqFUCC7irFBN0VQBB3H1vGTBlAw99ct08MFECrqqqqqqoUQNyYNY3PbRdAG5No8hQ9EkDPZeH7XBYWQLBjouqp/wxAeoG13VnoE0BaZsoc2RkQQLUNC42r1BVANEiDNEiDFECw8Wj+YOMRQEWnVHexVhlAbPpc8o0XGECVYoLuKsUUQNo69JutQx9AtW4Bc1qCF0Dhbux7RE4QQMlBaahANBVAnAmR0iNLEkDNNTWGLaMcQB9ghktXux1Am5ubm5ubE0Bw5Dtli3MSQNG7bxObVBZAYUZBQHN9G0CTiv49NakcQKdQ4OekGhpAS9ApHRZBGkCF61G4HoUUQGgvob2E9hZAQCAQCAQCFkDTBfEB+1UeQLLJJptsshNAL/o/QD1eE0AlSZIkSZISQFGxoDlULBRArSs0t1N5FEB1dh/5p/8RQBmQfateTRFAqfz0WPRLEUBv18oJz3QcQHojcd5InBVA+OLqBx0VFkCMnnLHT4YbQA3wEycPrRdAjWuRoKZCGEBi7APMcOkWQPRrD7msGBhADpEPcjozFkChBNNrn4USQGnmQVfRgBVAtbS0tLQEFEABA5Z6p58UQBthuacRlhtAKAWObyC6EkC4mr7RuVcaQO9DXXdrOBNAm5G8VHpfFEB51ho4v28SQJeDwqFXPRNAdmIndmInFkBLsnciMmAdQE5xF5IMUh9AM6WhqRcgF0BzvfF8iC8eQDnPpwXAkxhAFQJNIdAUHkAT8fSr5xMUQFZsEG5EdRJA6Dn5FUKgFEAO0EKSteEYQOHG7cc/xBRAn6lcd7zYGEDxsKNAkjcVQEY87gdBFRNA0W0IWwqjFUAAAAAAAAASQG+qrmYu6xFASNqco9JyEECyGRNj2Z4cQEWmYbtZnhRA7Al7wp6wE0CGk2e6FSUTQEZGRkZGxhdAQVMINIVAFkDT8Pt1q8UUQHg8kfMdTxhAm74GgQhrFEB8hMAzN5AVQAAAAAAAABZAlWPgUnIyGECQVf59gMMSQHDstO1Y+xdAq6qqqqqqGED2KdcUDoYaQLf+3fp36xZAsySMO3v9EUBoW6KEQdMTQEGvNcd/4BZAYpEy8HRrEkAU4GinR4IUQCPfKVuckxJAotHdoNHdFkDKL5b8YskVQKrsi6b2yRVAzL0qgmmeFEBeDCrCLTUVQHQo5yjFrxJARbgCeI/6D0AhjHu19xwRQLgehetRuBZAgXeCZoczEkAYxrLko/AVQHRzc3NzcxRAfHK4DPjkEECg5q1BmOwVQA/HAmqjhxNA09LS0tLSEkAIaK7vL6MUQO/e0npeXBdAfRHVOvsiEkDN4nFdYDsSQNiJndiJnRhASZIkSZIkEUBgbaIV/9IRQPQ/9MxYoxJAYKTa/BepFECZSQBGFTwWQGOB8YMlUBhAjC+tgoW4HED29fX19TUXQKmND7sjixVARNZ4mphRE0BI4XoUrscRQNwB2RW9XhVAqNzxk6FAGECTNnOBn4kSQN2Xrr8ehBNAcq4VFTpEFUCEEEIIIYQYQDbM2kUmchNA6td9EK8uGEDTGDCNAdMSQGcEhx5yYhVAcPzZv1N9E0C6WskrtzgVQA3BOtq8TxVAi1oHsCUmFUBN6r48tiIWQML1KFyPwhNAvDT7Ls2+F0C6VBsyMVoVQBDIw1LedRVA/kdTQVK3GECzL6JaZ18UQMrenHmKjRdA+06xhO1/EkCqqqqqqqoQQMtxDdkuwhFAsuQXS36xGUBdMgTraLMVQG/MQBJYbxpAY4wxxhijGEADS3zJVgsWQKpjb22Y5hZA3/V8pbEbFUCA2i2je+IUQIms8TQxoxJAWnp9ll6fEUDOjWmqlLsZQFnNEW2RbBtAeL2N/lBIHkB4To1zxTYVQBqZN2oAJxJAoB43Y38YFEC0PEYSh0oVQIJuWakPwRNALuAGlVx9EEARERERERETQKcUeCtN9g5AGgpCEos+FUCUCPvMlt4VQHvCnrAn7BFAi6xVF2lJF0CBhQ7aOfUVQHwb6z8dQBJAK2CtgLVCEkBZZJziJ1wSQHCVOPK93RJAUuJnlPgZEkDADUOTtIYTQK4CcDvFFhBAeCnMAD9xFEA3eC0VenQXQLpquieXPRZAcRnwyeEyGEBTI1rUUggTQCftSCIKmxVAod911c2PF0DjavJ5AYkcQL940dgvXhRA7+7u7u7uFEBncxRoH/IRQMMwDMMwDBNA2J3JaPHKE0A5yu43yu4VQOsK88k7OxRAzVFJ+bVqGEB0858IEpoTQHQGK3QGKxRAJjbJ9HxGFECzEDGtThkTQOCZG8gqthBAjuM4juM4FkB2JmDwWN4XQM/PjGl/Yh1ADOYF84J5FUCGoOiZlm0XQJhddtll1w9ALMESLMESFEBoL6G9hPYWQGKNOLB5/RJAb0pE1u6mHED3Pq/Ojw0SQOvQb7YO/RZAXvXngAOFFUAvyJQXUXoVQKK8hvIayhlAn+d5nud5FkADdSKJtXUXQEIFTbIBvhRAYkyA7Xo6EkDRENi+elwUQNTYwywg3xpAhor4G1f5GED7k3NJLFMTQCd1Xx5bERRA606grWDkF0BhGIZhGIYTQMGE/7s6aBZA9+GZcbU1GEBpDhULmkMdQP5ziUckNRVA7+7u7u4OGEBg6wrN7VQUQFTT1RjYshJAjc3csS7TFEBtVRbwFKETQDfJ++tgzBFAGvA9KcdwGECfRljuaYQVQC7vgCNFQxZA6+yegl1aHUDx8PDw8PAUQFyfzfj+yBxAGzgPO6RLFUDGAK9+1lsTQHlc8A1HHxpA3LHW+3asFUBrydw7msYcQPJZN5ginxVAaT3eOsGJFkBAkO4xq7gTQA4HYp/aXhVAWByNZbL/EUBZvUseDDgbQFSBLKt+0xxAx3Ecx3GcFUBkVMANGRUWQNMmoBT1MhJAxtUinpaKEkCEwGgifDQSQA/08WeY/hlAa9hdHbLZE0DyDo1e4wQZQLEiyZICURNA7+7u7u5uE0BSuB6F69EUQDMzMzMzMxdAmTPmjDljHkAV8hB8lc8TQKkDgofKlRNA61G4HoXrEkD0ZesPaHUfQIBjATR1WBJA+PgjvlpNEEBP8DhzDYYfQDk0iPTCDRZAqjI06Jm9EkBcLXpixhEVQCCcKq08khVAO7ETO7ETF0DUcTnNJgAVQFjYla7vrhFAFgBfJ0DmFEBR4meU+BkRQNuNgJR2IxpAO9k/sQmwE0By7d2fp8YSQD7e4z3e4xNArQcGFxJFFkBqGQN3QHgWQDHncenbXxlAuxK1K1G7FUDAcGWI1ioZQDCW/GLJLxlAfPDBBx98F0Af2anWLWAeQLfgbSB1ExNAq6qqqqqqFUAzGS1e+UQYQH5xp0G5DBlA8WdlHQK8FkARMIVjeq4YQMfYrejjBhVAXoGIUj30F0A1SIM0SIMZQEZeSZarpRRAn834/kjBEkC1weBfS8IUQMRTJM3gXhZAQqVpjRGPEEC81qjB50sPQFA7MotWJxlAAWcmrVK+EkA+jbDc0wgVQNB0Yy+TvhRADPqCvqBvHkCLTUSbOwsaQLjxMmG4TxpARe9t1v9hFUAlUzIlUzIZQMk5co6cIxtAwHngVW7TFUDNzMzMzCwSQAmzXQiz3RRAl9/m+nH5GUCoEZZ7GmERQBR9T/Q9URFAS3IzZw+yFkBEUZfDJg8XQH+sa+6PdRVAGqbUjncaFkDDGRBK7hQWQExnMZ3FtBxAZllf9wklD0ANGL/c0oARQAWC7V9uMxFAmAuSK+/pFUBZklgjkqIPQFEJdLy2KRFA4tZ76UnbGECiAszC+E4UQL9Y8oslvxJAby68xCr+EEAowrZDjCIUQOhMLRfu6hNA2+FuKx/XE0CoY9JmLvATQA+5rBgo4RNAAQAAAAAgEkAMjahzFGkRQFdAV2JszBJAltRWUltJFUAyo0N8zOgSQMPBq33UYBVAA6niIQT0FUDl2oG5dmAWQCVSiCVSiBlAKkpi9CHEEUBR6wml2gQTQIPzMTgfgxNAlpaWlpaWFECrqqqqqiQUQKlYS3P7YhhA+Ks4ISXPGECe3rtvkFATQEr0nkn0nhVAtgthtgthGEAcx3Ecx/EWQOrpwIYQyA9Amj/YeDR/FED6BKPVoE8QQBaykIUsZBFA9UHgYEnGE0BkDxYXoaIRQNWuRO1K1BNAbPzy1lGNFkDNWIA3sCIWQEumZEqmZBZAcN2NS5T7FkDggw8++OAXQDzyyCOPPBVA7MN9+qqNE0Amv1jyiyUWQL056CeGjBdAxqky61mcEkCATw6XAZ8UQMNCmpq1ChxAv8Q8cGkSEkCe/7STFkkQQIxuMrrJ6BZAQ6opaASLG0BpgKgDI08UQCjiP2uSzhVAGuAnTh5aF0A5k98T/FQZQHPSzxvxAxJApeJw80WJFEBg0ql5kLsSQPaafat6lhJAzCI+gVRyEkDbHrlWCDIUQIBPDpcBnxRAd/zzo2AVH0B9DM7H4HwUQDoSNW059BJAOSBFoh/iFkAlFQxQUsESQAvrdJDYIhFANOHPhD8THkCHg/9pvI0TQE422WST3RVAescGcC5MFUDTn7MdH4ISQK2AtQLWChJAbyK7iewmE0B1UZkJKeoXQN8Mf57lwBZAkjLwdGt+FEBhGIZhGMYZQJUleXo5qhRAYvmt00CKF0D/DgXE6+8QQEY+/WE2ihNA1an8R3UqE0AW8QmkkvMSQJjQXkJ7CRVAoOX8Wc6fEEBK3ZfHVgQVQBaykIUsZBFAuuiiiy66FkAxDMMwDMMYQGMndmIndhJA97bCMQnMFUAAAAAAAMAVQLbWWmuttRJAntiJndgJFUCSAd41xo4aQOCl2Xdp9h1AnirUD2y1GEDoeZ7neZ4RQJHYs99OmBhA09LS0tLSFEBYfMVXfMUVQCugWEyeERpAeRGlN1iYEkBxdp27mEMXQLkehetRuBZAp2mapmmaGEDcc8e3KjUTQCrgF27tjRVAZgvvREhcEkAIhX6PmZYVQNMjfyToIBRA9T7BROy5EEBigD1wJgYYQIUNEKPxvhZAr18q+XyAFkA2KodXJukSQM4555xzzhlAZmZmZmZmF0Dv7u7u7u4WQNODux4DDBdA4n4TY4pvFUB0xMAG1YUVQPHDDz/88BNA5DiO4zieE0CRXwX27fwXQJh6Mn671BVASWmYG20tE0Cto4AhdcYYQDHGGGOM8RZAf2uJ3N/aFEAwtgTf5q8aQFgrYK2AtRhAIgakYymTFkBhuacRlnsYQAUWWGCBpRVAfl5Ui4XJEUAoEk5pXvwVQB7UQR3UQRNAfLzHe7zHE0Ds6Ln7BV4UQGsXVKKvdhFAQcpbtpHnE0AGBEOyRTQVQOlNb3rTmxZA7H+xCWlhEUAedSno4FEXQGXSMyJZJhhAJ5tssskmE0CmefEnEk4bQKJaZ19EtRpANtBpA502EkAQU7u+pQcTQOTfuRyCehRAHs0fbDyaF0BISb9TSIQRQDPmjDljzhhAxe3KksYLFUDOjUXhU6wUQFxJbSW1lRRAZwXabBkgEkDUCMs9jbAUQHIcx3EcxxlAASjukxQLEUB6JIj3ZP0RQFOvsdU6wRJAnFUoKaIdGEBVVVVVVVUZQHcUzF3nbRRAmlzgm6hKE0DaQJJDZrUUQLYo1AdaixBAJ2zpQXXCFkA0n0T6zCcRQCtgrYC1ghNAkWBS6pmhFECguXeJjrQRQAAAAAAAABVALS0tLS0tHUBVVVVVVWMTQJqZmZmZmRFA2Ves5LQ/FECwIq+TjhYSQGIAJazLixJAIR97sa44EkDmYDox2lwTQGy3bI6hRBJAVVVVVVU5FUDr/bLeL+sTQL8GgQhrmxRAwgtWgbKOG0AtLS0tLS0ZQJdxy7hl3BRAiIeHh4eHF0BwleD9HtUWQMFcOzDXDhhAInLq6bQAGEByHMdxHMcTQMFNUoecPhxAOcOXneSiFkDlmfOORJ4XQCV0Kp89qhFAN1UEZO9VEkAVEAPcZgcRQHLY1UaNrxxAumdBgNEOFUBYtSJGeZ8TQG/ZbiSkSRRAzfGr7zitFEB5DeU1lNcQQEHbO/iNCxpAkb9mRy3CF0DEPcFbInsUQAxH1N9OWRVAGtWWq6RRGUBNLj42OjgZQMoIOEUZARdAujB6LoyeE0AUrCRk1nAUQGuLDyBiahdA2/EhSLmpHkCtC0/I1boUQLFkapV01RdAVjkAuepYFUCZxQrAO20PQGQ0c1ZhlhhAckKUFUXzEUBWVVVVVUUTQKLXstqEjBlARaOyaMMCFEBZ8oslv1gVQBhLfrHkFxRApvdAGeSgFEBdpZigu0oZQF9H4H8cZRhAG4A7n5B9F0B96fKwft4UQBlwwVAQMRZA3PwVZjWKGECrqqqqquoRQPfKWxJqSBNA88Pxv9/uGkCNdUuWZrsTQKG0RCJ6gRZAoRF1jiItFEBU6+yLqNYZQPNq4lnRSBRAQGnaaBGMEkAm6K5STNAdQNgCz+uiWRJAVM5u4VdjFkDp1vywSBkWQENkScX7nBVAPpndUCfIGECH/V0MKsITQLz/9s1aDxpARgHoZG/pFUBZmtpNy0oUQMrA0635oQ5A3x6szeHtEUBcjfxjrHgUQK7IKeOKnBZAchzHcRzHEUApc0sFtOgXQJeH9fP+sRBAXDouqYbqEkA59aob72UUQL5r9ow8rxZAKqynsJ7CGkDZZJNNNtkTQPaaGKm1XRFAFZ2x4/xFGUDlkn/zO4kRQM7LIj6BVBJAFrKQhSykF0AWX/EVX/EWQGnk2GhhPhRAS9JcpXy5FUD7rTaGpjsYQHM6yukopxVARMsE0TJBGEAobbaz7D8bQGgWDfoZlxJANtBpA502E0ACaeTecVUTQP5J00aLYBJAhKZjRSHVFEA8Y9k7Y9kTQNzS9+i3LRVAJVUvhPpEF0Abll7EiYoQQF/rCs3tVB5ACqfRkhhXFEDj31tHUJoVQOGDDz744BNAmE5q9FTmEkB2/rB9iTwSQIaMHtqpDhhAPWeWIrySFEApaSx2U+saQBIc8LnWjxpA3RNVrllsF0Cm+SZPIQoVQDkfg/MxOBVAm4BS1MtIFEDskzezKGISQNYqolOquxBA6ZM+6ZM+E0DtpnNKD8wXQCdSFxz5ThFAwAjj+6zyE0DLt3zLt3wbQCD96Ec/+hFAbRCppqARE0Al1pG3e+MWQKuqqqqqqhJA6RYoxtr+GUBiTTrGbkUXQP9Aj5SQUxVAltYKu5BOFEC35odFysAdQKXCxPuR0xRAeet9Tn9vGkAn3VAzRKgTQEtWba3vZxJAfwfa8XCSEUBNb3rTm94UQP/KS5upQBpAhj8WyIW2EUC8u7u7uzsbQN0YTRePaRlAdHhH6HK1FUAIWH+EXDsYQCYhPpCjLxNAZHA+BudjGEDaq/oXlOUWQC2DxLUbnRpAl2nxMjoaE0B/I1x3/6caQLCjLipprBFAZIGTExs2E0APqsFAY0QTQGJWHsWpkBhAMnHSc5/qFUDmPFeGrBISQM0FNcC4vRNACPwBf8AfFEDH1dZAqXITQDi96U1v+hlArkfhehSuFUAM69+GvnsVQF05xA7I3RpARHYT2U1kG0AeJ9Ccy40SQNIYJ13OsRNA5HErkvD7E0AOMVprYggTQDYYm9m8nRRAZmZmZmZmGkDPw0iG5zYPQBAme50bHRFA9ihcj8J1E0D1KTR46NQSQFxqNuzvYhRAxPzC2U9oEkCamZmZmZkSQKKQXMDr7RNAF5KsDcduFEAROhfWiAMTQORxwKXM1RFAXk4yZETSE0Cc4W2GtxkUQBKWexphuRBA0K5f2HfgEkA6mO/0wl8TQJo9yfexmhVA9Z2N+s5GFUCcm5ubm5saQA083ZofFhJAm7KmrClrGEDOepBAl1cSQE6epBTZ9xlA4jLgk8NlFUAAAAAAAAAaQARlpCS+gBRA89z3lOIGFUBF72Pu7/oUQJo/2Hg0fxRAzzsSeea8FUCdLpXyL08UQJFD9bXv5xNAuGIonCi/HED72EOzSZwTQKSHYwG10RNAfSJQ2DIFFUCFNbwzeqkeQPRoW0fC2hRAb68QZQzWF0D35bEVQcMZQFJNJO3XChNARQaORDMvF0DOcJTjtUAYQGvlYXavRhhAtN6k64TyE0Cw0lMLKz0VQKKlTtT7rBVAxIzP5ZcoEkDUm970pjcbQOKOuCPuiBNA2FBeQ3kNFUAPyI1WeXsSQDaFXkHeJhRAzqR5VjA3GUC5HwRV7JEUQJkRXDng4BRA7TjQ1R4mGUAFHrQ4VPkXQA6myGfdoBhAcgEOOyO8HUDEx5ME7lgQQAbKs5rGORxAqIM6qIM6E0AlSZIkSZIYQESM2QnoshFA9ei/vYdBF0BbYqeHiv4TQPDLMWzmkhVA7MRO7MTOE0CQG8SadIwUQFyd+JikqRRAd8pQqzBCE0DBUE3HXCIUQMaaQOFkrBVAEB0COMyjFECUyxBZ9zYYQOcJ2TJraxhAgVq/UqAWFEAcx3Ecx3EVQMjtGHI7BhdA4dsvGmoTFUB/Gy8ThvsUQL0X9u26EBNAPgrXo3C9F0CT8zScWQgbQKPsoKHTsRlAsQBB3ps7E0CtmG0Y1FUUQMmfV1mc0RZAbCivobyGGkCAKZU7AVMaQAiNvPO3OB1A6+OoyM2UGkDM7uNzAHofQBX0LzLJDxpApy6C85axFECcm5ubm5sTQHdb+bh+6BlAbyX0dvweFUB4JMU9MgwVQDrx5vUlPRFA1b/iWLjbE0BufEz0qLAXQHxyuAz45BBAQzUdc4nwFEAJbNpPlsAWQC15OCJxWxNAZo0CYoDbFECMQUW4pWYTQPJz6q3fhBNAVZrkMcczGEBxi7gybv4UQJgHm4m8YhdA/rf+Mt9/E0DW+2W9X9YTQD9toQFLehlAZ0Kk9MiSGECz6ca/t44UQMb2vNU4xRZA2eIfZTnpGEDuj74qY54XQOrEI8uAsRJA1cNCqvbTEUDv7u7u7u4WQDEBtuvpWBNANlOBhML7E0AYyw1WJFkWQAAAAAAA4BNAA7DqOKGBF0BZ9zYMWIUaQDdiXXrM3xNA1hDi36rsFUBi5l8XErEQQFyPwvUoXBVAhQPUJafWGECKhvjj1uUVQNhQXkN5DRVAwzAMwzAMGEDILXgbSN0UQNpeeUtCDRFAg6T6jL0cFUAehetRuB4TQKMuOPKdshVAn0entcv6EEDDLTUb9ncRQDlTLF1bgRNAY1fD0os4GUDSweQMnngUQDKLx3WB7RZAebyuCpw5E0CjKIqiKIoRQM8cjAbadRRAlJQFiBNcGEBZVD7nofoQQKsgB0yAWBVA6XS3auprFEBrEzJmWCcXQFU6VQjDJRpA+OKLL774FkCQtQwdsNsTQDB3cBWKCBFA+nqS3C/5E0B+MW0o3BcXQDptoNMGOhRA2bopVXRLE0BbI+nxpoQbQFMjWtRSCBNAUHUoIxEHFEBb+6J6fpYUQDvJRe1ZyxVAPwxFl2mfEECEf8dr+WUVQPqCo9PKLRJAvGYI0oLGFkCy5BdLfjEVQAIJhfevvBRAACKw1p3CEkCEnmjU/KsVQPj5ri3TkxxAHiT3QM5sF0DFTuzETuwUQLrooosuuhZALf+nzAN3EUB02kCnDfQWQMLd2PeInBZAecCH5U3KGUC8frZYGb4VQIEpHNNzRRJAwRVrwBVrFEAblR/IJ1cVQJ4gm6kmpRJAc08jLPc0EkA7oauVp7oTQOZ8wGFTzhNAcE9i0tuTGECDM2xzb/4SQAHNHtlWvBVAn69jev/5EkBs52xgLegSQCd2Yid2YhNA6Ri7FX3cFEDz9ACLPk8XQL68QoCecBhA3vSmN73pF0A6xm5FHzcYQCiqB4288xdAnjH92eX6E0AApxn36EsXQBlTvg5LOBJA/k0cJQM9E0BRqViV2IEVQL0X7xiqFBVAPV9p7EaVFUBTr7HVOsESQBxEj+/CQRxATHmG0AbOE0B9jJ+L/TQVQG3btm3bthdA+htJibgvF0AhEN9G+I0ZQIlZCwV0bBJAa2ugVLkPE0B4kSbn36sYQCjWzowz3BhA1578O5dDFEDzyruD8oATQKZgkB/N1RdAzahe0ZPHEEDwLyr8i4oYQAAAAAAAABRAPDDXDsw1E0DTfa5BVioTQDxDYt7OkBhAjD+RcErzEEBNvwqCpdIUQKJaZ19EtRVAjKjW2RdRE0AM69+GvnsVQOfDtybnUBRAIwS2SH/gFUAbJf8M1GgVQOoYCIms8RZAjsoMO1OxHEAaD11PTokVQGoIlXSjmBdA3kN4D+E9FkDa1KY2takdQLq5ubm5uRNAXvHE7boIEkBeirUZ1BUUQH+ElArZkRlAujysn/ePGUBuzQ+LlIEVQBXxnP2TKBJAgRvLoFSYEkBxOb547esYQF+wM1xYXxNAnud5nud5EkBzWtDWLj4TQCAzsuUchhJAotm9y0SIHkDxwQcffPATQBRfIN3yww9ATat8MfwTD0CkMBFpVQwUQNEcKhY0hxJAVUu1VEu1FEDZ71Txi+QSQF8NUzP9vhZAGbfwwgZWFEAF7k0GQ7kdQIMPPvjgQx9A0ROCSdq1FUBdpZigu0oXQEzQXaWYoBNAt+n+zQOvEkB29kVU6+wVQD5iuZw+pRRAKVrLD8iQFEBu27Zt27YYQN35yVfRyxNAq6urq6urFUCZyQ2VkEQUQPYjZmUZqxFAVL7UCZUvHUDLHdgDoIQQQNNaLEZUhRJAWkrYADGaGUB3qL2PyKIUQFtnX0S1zhRAJ6B2z+ApFUDQKPEzSvwcQI0tTaSKwRVA6qo/HfLFFEBGF1100UUfQMzH9UOvZR9AlB14yN/qE0AyOB+D8zEWQB7EcJoF0BpAtG4wRT7rEkBWacFrDIEUQAAAAAAAABhAf+16OtYdGkAAAAAAAHAXQBdbubCakRFAkYgDDFyfFkC33Ut/jU4QQAAAAAAAgBtAYKauFP9JG0DrxXzqxXwSQGjdYIp8FhNAQBSSC3i9EUBkuSURHw4UQB40+NznSRhAE/GSgHAiGUAgdFTgi6sbQD4LJZhe+xlAvWsQc97DGkCsLJwIoW0SQE1CuYjH/RRATa6t59VKFEA2PyxSBp4UQH8vaXRgoBNAZwNsJaSbEUBzTyMs9zQaQEwmk8lkMhlAFl/xFV/xHEDiGcANTncUQGjJrH57PRhAhWVzH6gTGUC7Tof/3vkZQOfqTVLkchRAn9ziyS2eE0AzMzMzMzMVQPb+xsBq7xFA02YqkFB4FUDUrkTtStQVQDCl6xX8UhZAKkqvEs9dEUB4zlxqnHwVQKvyKSmz0xRAHUi0wuZAEkBSFxz5TtkUQIA3+P0rnB1AygIMmkmJE0AWutYXRsoRQAiaO4oHExNAf1GwnXzuEkDv7u7u7u4XQKurq6urqxFAP+o/hCuAFUAhuYDX2+gTQB020mEjHRZA6IRwiU4IFUDE4aeshDMXQKe6ZovvxRZAyp2IDpr6FUBNkURXhtkcQMmzjOgDqhdAZxu752i2FUAg1qRj7FYYQKF3+a8r1xhACjXtKEZ4GEAaK6fGyqkNQFFX1BV1RRRAeyp3i0VvFEBqwHD8wOIXQDQfZTuSgxZAG4/mDzYeFUBMBRIK718VQNFFF1100RVA087BmiXGE0CQWiPBMrwTQChrVeJT+A1AyDdl9vFNF0ClLnJT/04aQCJa8IACXBFAD171dPlHGECL/RrXwaseQDmPBb0ajRVAozFOupxjE0C/g5rUUREWQG35P2UeuBNAw0ndl8dWFEBn2X/YkkkYQIOYXEFMrhNAFX6yzFmgE0AoS2DTfrIaQGFZx8P1ORdAPqqGW6hkE0D1XCYknXESQHCKVMDolxlAMP5EwilNFEBYXtpMBRISQJ/0SZ/0SQ5APuSyYqCEHUBxg1iTjrETQIZvRIFJpxBAoLtKMUH3EUB/AI5rXisZQEzZ41/RxhpAriAmVxATEUAlW+/GF3YRQDo9KVI7sxlAX0gRsDHaE0DbUh5JCIMSQNEZIdl/MRNALQ1cnbT8EEAfafZ655EWQDKPW7I7xxhA+NWYSA/UFUAyJmMyJmMWQKcRlnsaYRVAWssZvuwkE0CP4ziO40gWQGChoUhELRdA2C39C42oFkBuqdmwv0sUQJbI/a0lchNAun1l9S55EEDyWTeYIp8VQJ0fiOb1sBNAY/i2zF30EEAeAjeWQakUQFAn5dNJ+RRA/7JfTfIlGUA60f3KQRkTQE12OLLgdhFAE+07Qi4YFkAfltE/qBgWQNGIOkeRFhxA4+ZNsDBuHkCIcb8uqXwYQL6gL+gL+hZAJ+xTisLQE0DqgiPfKVsVQDp9zOfsVRVAZ/IEROerHEBRrbMvoloXQLgj7og74hZAfXyj1+G8F0BJtfkvUm0WQPWtVWf9eBNAPSTzkMxDEkB91PbCSgAZQO5llUBFbxdAyyQRV/yCFEAV1CMmWuwRQDMVSCi8fxdAB2uWGJ8yGUDJ8NzmYSQXQNGm6YLsNxBAwjLqfw/7FkDhOmhsaSIVQNkT9oQ9YRdApmxxTqQuGEDkIPNSIngYQPZjP/ZjPxJAtQC93BXjEED1jEwu/ekWQM6NjietqBJAeoG4szmSE0C1p/RwTcUQQLHFFltssRFARAxIx1ImGUCIX4DMwv0UQDRCXJazzhNAiPmZiOLyEkCvGNct/QsVQERERERExBRAYhaQLxKlE0DQ+VOMj9ESQAAAAAAAgBFA4MYyKBUmFkAY0F9AfwETQA9YZfP1JBVA3r7g8ua4GUB+u9ST8dsVQKLhqx7x8hRAo+OrZ2hzGEArtVIrtVIbQCOqdfZFVBtASOciwxH1G0BtSVvSlrQVQKfW2/5oRBZApbHh1GAZF0BfzKdezKcWQNEVQlcIXRRA1fSNzr2SFECaYc4hjPoTQL06mPu6xhJAOCwMlmgOFEC4bdu2bdsWQMIbTZ1fexRAHX8lo0K2GUCBeqZy3fEWQBwuAz45XBZA7t2ZOFuuE0AeJTfklM4SQOpBFIlq7xVApqY5lT/1EUC2SCKWLZIQQH9sTxCBuhFAchzHcRzHEUA5H4PzMfgTQCy5OTBtIRJAdLQjvaQVE0CO4ziO4zgWQKZiuSZ3+BZAz1GkBejlDEBFleeoqc4RQFikDDzdmhVA0p5FoAPbGkAm68DQCjUZQMPE+5HTfBVAkNEwARkNE0BiGIZhGIYTQIjgkf56rhJA4utTJfWOFECeH9PDwFkYQPerC2mxPBJAVS64VS64FUCTWf32eggSQG+0yGst1RdA81ocTgw6E0Cso837FJcYQHRGlXYKnxBA5HAZ8MnhEkAa7S/0nbgSQLVK8ndmPxlAD7c5D7c5E0DMbcLp+RsXQEWaexhVchFAOm8O+okhG0CokY6FstYWQCXcek4TbxFAqUh2zFLCFkDxcYRiy7USQE/sxE7sxB5AVsRDnbdLFECNOWPOmDMVQB7Prhl95RtAzczMzMzMEUDezSWcvJsbQCYdY7eijxdA6wGuoD1+EEAKLhyl4MIRQEGHT69iBh1AGzgPO6RLFUD6bBVuPlsVQL1PcckQrBNAz8DsrqOhEUAKhigYomAVQBLTU1T/GxNAwOeBo7hZE0AIqtgjWUEWQMABvyr5oBFA2WjoPli/EUAzMzMzM1MVQGuA4B9PnxBA5Vu+5Vu+GEDD9Shcj8IVQKSBmeglBRtAbLzsf5Y4GEBGXVFX1NUYQHeFyn3v4hhAGZyPwfmYEkDM+Bj73+YXQF/h4BlGPBhACWr1swwoF0BsyvmAw6YUQLdt27Zt2xZAjO139MrYGkCHjXTYSIcWQBQGIetWfxZAJbaxdPF/EkD3cxiipooUQG7RwJLBtxRAeXJMcRsiFUCT/esaXggVQN2Xx1YEDRVAYEMyzQFOG0ATfJu/wqwWQDa42OBigxtAdHNzc3NzE0Dkd4KVhMwWQN+IApNOzRNAu9/fzqQIFEDjRyqxSo8YQM0qpwVt7RJAVmRFVmRFFkC9LOITSCUfQA9/ucw3tBJAtqw2IWOGEUB9B1AnZM4RQKLSkT0DURlAZTjhW2B1FkBNb3rTm94UQEAp6mUkVhNArKTV+o6UE0BVKkC1+lcVQC8Qal8g1BZAhx4bY5KLE0B4KAYzgqQXQFAjLPc0whZAm2yyySabFEAsCXtZWJ0YQGMZlAoT7xFAGRkZGRkZFEA1FxXNPBMWQPcLGgjhVBNA6IRwiU4IF0CvrhB7xWkTQEm2RzOAQBlAF2lJz6H2GEBPt+aHRcoQQD+WOcIFLRZAfKdscU6kFEAQOirwxdUXQGEYhmEYhhVAtzRg/HJLEkC5wN9bTA4WQKHw/pWXNhNAIp91gynyGUB1J/Mh3ckUQFUNLg3pGxRAgI/doe3vEUCcEjni12ITQNoHtgmXYxZAeM83pk1AEUAgbDyaP9gYQFQQx1LLOBRAIBYpA0+3FEAY0F9AfwETQLPD1OX2Bx1ACvHN8/e2E0D4uSx8n8sQQPYIcHhhwh1AruxzSE0wHkBAXKg5CcQZQKWVR7JbPRRAiCVx1fzJE0DOiDcj3gwRQONTpp2DNRNAT47n9k/WE0CwMKtRxKETQLETO7ETOxNA/bLM2DiTFkAA1u+YMY0aQBFCCCGEEBJAJrSX0F5CE0Bcb3gfVAMTQDNHJeXXqhFAz2HA6eWJFECw8Wj+YOMRQPOKmDKviBVAUFLBACUVFEDnhpHnhpEXQCzI24SQHhdA5NLLleYGE0D+JFyA7gMXQHwLJ+uF+hJAaPEh46yJEkDJrH57PQQYQE3M5U3M5RZAXId+s3XoF0BWQW0GpusUQDdWyh7/ihZAti8Upu0LHEBYK2CtgHUXQJQ6KkLoaxVAtfpg5sB5GUCJMrRx1T8UQJ1Wc5ZPThhArrh2soOiFEBa5Igstk0UQMKPzJFYCBFAzn4hVpRGGEDtRsW0D50UQCN7BqLSkRRAAigDM/pjHEAZ8MnhMuATQJ4S5ClBnhJA5CzZX+sKFUCEDz744IMVQBwuAz45XBZA/R6XO/uZFUCq5SmDae8UQKwCZ8494hFAutPqTqs7EkAWspCFLGQRQPPDImXgKRdA2LpCczuVFkAqOS+L+AQaQLWBThvoNBZAboSBeeNGGECuTNm459wVQMnRZ8VswxBAOlCNLADBFUDQHS3Nge0TQD5S1B34rQ1A9irvWHr7FUCvJyLtHUwSQJfEMvXxoBdAnOT9dTBmFUDh2utKX9EZQBeohIjBdBJAqRqDDXdCEkBma1hZJ7MVQGFFVfhQ5xtAi7qirqgrFkAUpJnH+pYZQNm1iZJdmxRAYVwmORHGFUCWQCGkXoQTQAr8FuFMdRhAItAUAk0hFUCuGl6lb0UUQLEtOPdElRdAdNpApw10F0CARRsrZY8TQEs8QeqxxBNAw44oN35PGUA0FuANrIgbQH3SJ33SJxtA1PEAETKFHUC8WKuITqkYQG6wMrJTGhZAuDfh3oR7E0Dk2xcHCToeQMx/XbleiBJAjb37GXv3E0BJ0OtZEvQaQB5pZfIERBtAnag8LXRHFkBrS+O1q7YeQDmKtAC93B1AHzSxja6EFUBaUSXiFyATQKMGzEEn9x9AetaQa9mpFUDsSb6P1ewVQFfOrR8RxB1AWjYRtCBWEUBCd9tbIHQZQJHCmn/UTh9AovdMovdMEkDXkS/UNToXQLMxG7MxGxVAGfDJ4TLgE0AogSJWrk8TQK6wO6G+DxJAsO11WgsTFEDk5oTdqG0TQIyMjIyMjBRApHA9CtejGEBOT8A4AxsbQPcLsaI0PhZAyXQNIwn1GUClB3c9BhgaQCwQ86NJ+BJApQJrXH5hEkAPe9meskwZQILiywJbBhlASZIkSZKkGEBarIrB6MAUQJ8q4pRkhhtAdocxAbbrGUC7u7u7u7sRQElwNksqsRNAhNkuhNkuGEAK/GNjsqcVQCUHm7jxyRZAmCsDVLL1FECJiIiIiKgbQKaEDRCj8RpAO7O9Rnc4GkCnPlLsYiMTQLprAqSnnRNA77333nvvH0Bl2NjlXhUYQMprKK+hvBNA3teADpMUFUC0eOUTMZsXQKgez64ZfRVAy7d8y7d8E0CiiCKKKKIYQDZRmWnFZhVAgTyfyKLiFECcCtlISNIUQAR4H/a9ohtAHvrN1qHfFkCykkoXduYYQFf/KhWgWhhA8j3UOvbhFkA5juM4juMVQEiPTaFXkBFAaZfPwV8SGECWZVmWZVkaQHdWO6ud1RhATNH9YYOOE0BigD1wJgYYQNIAihqF3hRALvxqTKQHE0D0dt1kmC4ZQA3/G8arNBZADuU1lNdQGkDH8MZds6YRQKNHVJBtCBhAmG47CfBgEEARuLEMSoUWQLWdxz47oBJA6W/Q7Vo5FUCqqqqqqqoWQLeNwft7/hNAsrc2THMXFEDU4yRWGa0WQJxj2VpI3RZAgz/cXvZJFkAxDMMwDMMYQLqD/VYbQxdAg2R3zcYCGUDn8KdTvSUUQNIgDdIgjRNAVfTvqUlFFECSLgFB9x4XQOX2/P5UHBhAdAnjdSUFF0ATUQ1hG7UUQGQeknlI5hFASqVSqVQqG0AcDdcX5FkSQHLnJ19FLxNAQmwuPzicFUB3U5OxKyIbQOqdE/wzjx1AN0FZqxKfEkC4lWaNiwUWQMJfxQkp+RRAM2JXvLgvGUAfaC0K9YEWQFTSjWL25xhAoAX/m85FFUD95UkFJQMcQARBEARB0BRArZ4dAjeWE0ACs9zWs+ESQBqkQRqkQRRAsbYQsbYQEUC2YAu2YEsTQAomcxBw6xNAc+3AXDswF0ALGi0D+agSQD5SJgOCrxNAbqnZsL+LFUCQZY5wQYsVQOi13BxujBZAHZvuZiPREkBEUZfDJg8XQEGUxYIoixVA8lk3mCKfFUAUIwnIdigSQLgehetRuBVAEpdSgXiqFECFWsCYxMEXQJkNfmb5+xJAVIBq9a9SFUAm4KTIWnURQOlO5kO6kxVA7Ck3BbaDEUAOKy5KRiMWQO1rrDLXpRZAazg/F2KqEkCeQH61nfISQEVt40Vt4xFAYkARODawEkBDSp2BNaQUQG2VuJitEhVA2pVTlipcFECy7F/7jkESQMtLm6lAQhlAI+6IO+KOEEDEC2RSvEAWQIHtNk9TahNAGeb0aAjfEUCJ1ZLUnj4RQKqfqBuQZx1A2ZQHGpWqGUAWc45biusTQP7zBuEslRRA1jvt1jvtFECoEZZ7GmEfQES4yEMFmBVApM37FJcME0D51pgyvjUeQPFcDkG94BJArlJM0F2lEEC8s5IO/rsTQHAymJpR4xRAAAAAAAAAE0DCMup/D/sWQBZrwBVrwBRAE/wc7ezVGEBhGIZhGIYRQLIyfCMKTBRAId9jWm1HE0CofdqnfdoTQCD96Ec/+hFATPTWaERRE0CL3HX5U5UfQC7RCeESnRRAyQ2IKJsRGUDIcCIc6PoVQAQ/4ruIRBRAUar2XY8sFkBsLNXF9R8UQJDMkVgIERRAynSSPkbYFUBOGdCj95gPQGb12+shQBJAq/Hl57xuHkCuUkzQXaUQQKbSeVErDxNAaD3zD+zYHEBy2aOH/4EXQFXmupQG/hpAPJIxPJIxFEAdIbZpxb0VQBTirPyEuBVAlet9d3TcFUDpLKazmM4WQH7UCjIcixlAq6qqqqqqFkDu9RCghpYYQH00Hie9GhJAmpLCQxSAF0CnGXomt7kWQG4vIKgWvRdAIaD4nKnlGEBpjJVXz4wTQBrolfbdSRxAnxwuAz45E0CkfM8mFCMVQIbpxih19RJA58vcsLxqE0C6oq6oK+oSQI0TBiHrVhNAuEbJAcrIE0AzCEUNa6oVQIBbLJe4oBBAH8BDNFQyGEC2Dv1m69AXQAAAAAAAABlAYOQMCy6VFUCUIijzpzAWQGsor6G8RhRAWhCyGaq6FkDWs0PgxjIQQLiyzyE1wRRARFCK3wq8GEDrvjy2ImgYQFFJbubsQRpA4Na1MSHfFkALmwOJVtgUQLafAHN5yBBAGhtIu60JFECfYV1wzZAdQCoXfxhKIxNAruUMX3aSE0AY/1tdU0cSQLagq3xoLhBAVVVVVVVVFEC0OSdbQWMTQB5svTmMVBFARmzIiA0ZEUDjQs1JIC4UQOXEBJwUWRNARqQ+vFO6EUAgJbdzHdwUQHzI9EzmPhNA9oSstZFDFEAExGi8r9AVQEwrOXgibhFAATBET0txFUAKljcAbb4RQLRYojVcqRNA16NwPQrXFEAN/M3biokTQEkNjgIvlB5AzVB31gx1E0C2ktpKaisVQMNKjWLPxBRAbfvfH98ZHUAr+JE5EgsZQPrt9RCghhZA////////E0DT0tLS0tISQOZh/bx/LBdAJbHFDI0KFUAyjyycpHIUQC+66KKLLhJA86yVOMTyFEATCFVZYEMTQCH8nfeAGBpADFaBso6rFUB1X3m3UC4fQEgpPNnpFxlAXhArM3qdE0DitdD3pSEWQJBP2xxiGhBAK+0UPklZEECSJEmSJEkSQA+zgHyRKBZAdmCuHZhLFUASPNtCtzQSQFZVVVVVVRRAUxLVgcjZFEBOG+i0gU4TQM3MzMzMzB9Auy0uO7RqFkC5FXtqVUIXQDyMZHhu8xBAWCBFGw0mFEAYgREYgZEXQKapZG/OPBVAku+ULc6JFEB5/wgUV7IVQMgFU2eS5xtAsPFo/mDjEUB/sFPQ7mIaQMZpUnorEhVAgCdBu+GYEkDkHDlHzpEXQO8s4OtY1hpAikh6DdbBFEAP4fx0IAwYQCQ1OAq8UBZArkfhehSuE0BCQHN9fxkZQC2o9pxMXxFAzs3Nzc1NFkCohtnBEUQSQNtodgkjXxxA3l8HY1YaGUCG9b4i4q8ZQCAQ+ipDuhZA3D03VnNREUBMPCKpwVEUQFnIQhaykBNAKaWUUkopFEA2g0Co4X0XQJGbTVtcIRlAUYA+2hdDFkBWNl9PkvsVQIrWFQB3dRdALApTfL5ZEkDk0skMbVcYQJ3hy05yURVA4c+EPxP+FUBEqRhwoE0SQM7yBqmFsBVA0CvmwC5/FkAc31Od+9cSQLCK9YwOoBBAqSEDJJ4aEkDe8KO6xKwVQNd5sTHvaxlAt+w3xBOtE0BhGIZhGIYZQAQ0f542YRtAjgEXvcnPFUAB/QX0F9AfQKgsydPLURRAnUhdcOQ7E0CtHNZzjYoUQL7ysyxYUxRANu/CoPJtFEDJP2A6kVYYQDIE62jz/hdAUuaCGmDcGkAcx3Ecx3EcQPazxcrwjRhAlSoAVav+FUBW0VWTVXQTQPXBpEwHVhlAXJzWbJ+oFEBYduaK83sVQA6lgSYr4xZAVNAkG+ALFECtB4R4sv0RQAW5Df9poBVAi/3yjf6dEUDPOKVbEkMQQGDdVsMI2RVAcPqIpriiEEA2uysvoGoXQCP4Kp9fzhdAgcvxxWtfE0A5juM4juMaQAa7i+BimBNAXV7WxPjvGEDu8BZzM7gXQNSnfPd15hVAgYj1RzFNHUCe2Imd2IkZQD9c0vvp0BRAWchCFrKQE0AMZFK8QKYUQOEHfuAHfhJAx0R6oHJ2G0Cy4l0dy04RQCa0l9BeQhRApje96U1vFkC+oC/oC/oaQEoxQXeVYhJAxuGCQYZJEUDw2X1TeLwdQLy7u7u7uw9AhMhyy+dSEEBKgdz4604WQMlv5xwi1BZABpK7z2TpFkCTsovinlAVQPLsdWswphhARB64inamFECcj8H5GJwUQDW5aP0YkxRAOCVuSYZZEkBkhF9wwDwSQDV1fu0hlxZAVnpqYaWnEkByf2uJ3N8SQLl3WPS3nxJAJEgfXzvzE0BCZXPnUKMSQG9SClaTrBNAEaCGlszqE0B/s8gQOfUUQDaztJVNwxZAuml4Xh3MFUB++47oTbkSQCITo1XyZhtASfeYVdzOF0C0PiUv5GQWQE4w3so+hxhAY9gyysp5EkBl4OnW/LAYQJWXNlOBhBRA/tzP/dzPFEAsuFS2dx0QQASuWAOuWA9AUscDRMgUEkB1Phc/q4cSQOgFtVMyjBZAEL2W1SZkGEAGE/gtwpkWQKfVnVZ3WhVAcFMqre1pFUAkNTgKvFAWQJyPwfkYnBNARHpRp12/EkAHMXNlYgwXQPmxB5IgZBVAyuLPwvz0FEBt6w3vg2oXQGfjucdtNhZAPIVEmOBkGkCJiIiIiAgUQLwhb8gb8hZAEcAazOlOGUDzL0BzrjcYQOWKZ1ZGJxlALYtLEdbgEkC3HxJ4+yEZQLVIUFMh2hhAvlIGteYrFUD3EtpLaC8ZQAO7PdYydBVAvikXIB/TGUCHIhG13PkXQMvwjSgwaRBAUd2cUfg/E0D4q0wx59sUQKCVgFYCWhBA/QuNqHMUFkDnigHOAkgXQM/IJaVhbhRAd3d3d3f3FUDe0Cb+eYwYQI7vwkH0+ApAn9reTHl8FkBivPy6A5gaQL3VQEPIWxVAohLoeG1TGEARMIVjeq4YQH6x5BdLfhNAFh6c34ryFED6C+gvoL8UQCyor6C+ghpAP4fUBOOtEEDFQ5abUTwUQAFFJ968vhRABmVYrbegFED8Uh08O8YSQDPQKj5MnBNAsfdPPqgsEkCGD9njFk0TQJ9R4meU+BZAAAAAAAAAGkA31Df/ICkVQI7jOI7jOBJAGhkZGRkZFkD7hlizL4cTQPM9m1CMXBZAyCFkjf4NFkB+QByjJX4VQOGzldBt0RFAEI98cFfNFECWlzZTgQQSQL2TDmU1zhFAzRjlP2gIFEBFdV4zcDgSQMe5lUlzSRJAIPuxH/uxG0CZgnNpDdARQHlVV/I5SBdAbDVkm+kXFUAzMzMzMzMWQAv/osK/qBZAdqEuR+dFFEAofdInfdIYQG+cNA9mkhFAqOVRz+oaE0DAV4J+rwQdQBfFAmJ48hxAUNHJaTtJEkAX2lLn8p4QQC7kBm+nUBxAtzdYtiDJE0A9y+q45vAUQMBTSIQJThZA/6W7sgG0FED5QRunSjUVQN2nYuvhThlASIM0SIM0F0DnROqCI98XQP3y57aJeRRAWI+V5SuVGEAjqnX2RVQbQJGcafKbkxJApX2QDKhnEkCGYRiGYRgVQGVJgag9nxNA+6Vf+qVfGkAjTN8/l3gYQPRCL/RCLxRALLzCK7wiEkAeaLu3SlMcQOnfGad0SxJA6k1vetObFkB7sdI1vDEQQN22bdu2bRpArDXuyq/pGUBX9jmkJhgXQBZZQ1P1cBZAkBJZCcIPGkBpdsam6HMXQM0SZrVZkRNA/fZ6CFBDFUByHMdxHMcVQFP4w4eC/BNAn3u7WHBUEkDZN3Iec8UYQPQ8z/M8zxNAJZBCpYirF0ASrbA5kOgcQMomm2yyyRJAjgdy03ggEkCf7dme7dkYQLEAb2BFXBZASsJVX8CoE0DooosuuugUQCWQQqWIqxdA3iPOrnMXE0Da/h67Q9sXQLWr4KIVZRhA1jkDXtgzGUC4DLnu8qISQALkhLohRBZAziugcbfOG0DhY7QjL4YZQP8MfhM9nRtAJMjBsmAqFECxh1lAvkgVQI0SP6PEzxBAvelNb3qTEECvPk0J8QwUQEmSJEmSJBFA5MsGTb5sGEBkVr+9HgIUQE1m6s19zBVARRIoDwd+FUAdOdjEjU8WQCWRyoJcjBhAVWOOpLz7E0AtrrG4xuIYQHAiu4nsph9A9vHOIFCcF0AzMzMzMzMXQF9Etc6+iBpAJMjBsmAqFEAS1X2yyH4VQMO+dHKsRBRAOWTmbAC7EkBFmQtqgHEVQE10HWGvzhZAwgiRfckHGECamZmZmZkTQGCPzSn79RJA0I6dwohtFUB1BzBlW4wVQL9Y8oslPxZAD0r94A2AE0BteGNIiWYaQCVADwuHSBdAHaWHHCqnE0Dd0wjLPY0YQI9kDI9kDBNA3PIsgW6TE0BLH4vZKQcTQJtmssymmRxAYU06xm5FE0BS7mXBcI0YQDML4dd84xNAGstYxjKWEUBtSVvSlrQVQFbC2Cyo9hRAnDAIWbf6E0Biz7sE62MTQEkL0MtdMRRAWhqNQYr+E0B68ScSTmkWQHm+/OfuQRZAsskmm2zyE0CLmZMdPyIWQBxNnV97yBlAWFJiSYklFUCEnmjU/KsVQI8sh9/I8hhAfgX1FdRXHEApdFNSHWITQKHrjedDfBVAzRZyRNuPEUAMIQ+eUZEZQD3lI6TSVRpABt6AVaLtE0D+j1PlqDoOQFHdU6K6pxRA2K3o4waxFkCNuV8TrHoVQFVVVVVVVRVAS9PmOWEgF0AH52NwPsYWQAk4y+5xbhlAHt+Fg+jxEkBwKA00WRkXQIoWe1GpYRFA4jeyHH4jFkBXGSFAvKwWQBBilSe/CRdA6Ofn5+fnF0BfIJPiBdITQA+SAfVM5RJAD5IB9UzlEkDES841TcAXQCzlN7YZtRZAfKdscU6kEkAYhmEYhmEUQCTHoMZSzxBAQGdogkv4E0C1VDA/CowUQPFu8uTsdRNA1abh6wNWEUCKk+2z/+UYQAUo2x2LZxNAX6r1QIzXFEDLS5upQEIZQC/seD2oYBFAE84eE84eH0D35K3aNNIWQDtFHdfnqxRAHfiYm2jfGUC/smldFAgTQOCgKdeAPRZA1iwxPmXaEUDvRiZLOuoRQPcS2ktorxFA7ZoouybKEkB7r4UN1M4TQKoNmRitkhNAc3T6baVZE0BLaC+hvSQYQCwvbaYCCRVAphX3TrLUF0DtTlSx1O4WQLEtbAvbwhRAQrhEJ4RLFECHpKJRtp8TQAPmtATDTRRA5XAZ8MnhEkCqqqqqqqoQQPZFVOvsixFAQh9ZOR7VGUDA2w8JvP0QQI8e/z3AuxhA6ThDJ+5NEUDw1LUc3OwXQLRuMEU+6xhANpTXUF5DGUCUFWLsA8waQJU1ZU1ZUxNAjchWt4gHFUDV7SlktjMWQFJX1BV1BRNA6Sr5ss4NFUC94Oo2cSYTQJyCVNzZbhZArvbfcZeIE0DSCNxDsB0ZQN7KPofUBBNAYdD0wt5nFECdKw9I1rkUQOAwkNx9JhdAR0FAc31/GUDsOsODIDESQOWuGkPykxRA5cJdfZO8EUCfE7OJnKQYQM8o8TNK/BhA3RXjuqV/EkCc83eDYD8TQOQZ3E6ewRVAgGT7j2z/EUB7LPEEqccRQKZ4gUyKVxZA16NwPQrXEkAYq36p4+0NQFDsxE7sxB5AqvdOD1M8EkB3r2xWpBMeQA5iTTrGbhFAO7ETO7ETF0CdNtBpA50UQFCNcK4VOB1As4/2AOv8F0BdVgyU8EYTQPrFnQblMhRAOKcOVyP/FEBwNr8PxZoYQG4/4vS9lRhAYWsAOxY3GkBio6LHRP0UQGcESe9QDBVAquyqiSq7EkCDDz744AMZQGo27O9iUBlAn/qn/ql/HkATO7ETO1EXQOHlFLycghlAPvjggw8+GECQwfkYnE8VQPHfcCpuVBNA/IQtrsJlE0BS39mo72wUQGZDHBSdORJAUmQRwvuLFED/dxb+dxYaQCgfnXx0chZAXSznqL22E0C0aHWSQh4UQAVN0ARN0BRAvNM5fCXrFkDBYfRid6oSQFiE6fvnEhdAI1TSjWJ2F0Bc+bh+6LUYQA1fdpKL2hFAf+6O/kRjGkC+7CQXtWcRQJr2rrg0mxFA0GkDnTbQEkC6j0KDePYUQHLa5XXQpxZAItrw+WOOGEB54zzSZh8cQOwmIX9S2BBAh5O6L4+tFECDWJOOsVsTQHb8V9M2LBRAGNbn7BKwEkD7rnFYmTsRQGi7y0C9URJAkheuQLbLEkD2YQ/Fm/YRQJouFdt6wxNApmRKpmRKEkDqOxv1nQ0UQAAAAAAAABhAUxrzoIltFEAUOIETOIEVQHjtiVHUMhhAhoDic6aWF0A4yVAVXFAXQIwuuuiiixhAbrb6eO+nGEAkO9DXR7ITQM74MMMZHxZAVIvejXJ7F0D1exFJSD8ZQPommDWxqRNA/RIk3nKNEUBrp3Zqp3YWQGJUoDCpdBZA0SMxGABDE0CBQk8R9esVQEGS2q/DjBJA6m/Q7Vq5FEA21SgPjv0TQCJa8IACXBFAPgrXo3A9EUB9h+Uz9cASQFzXwINfWxdA9OlxM/aHFUA8KUj+vMoSQFFpR6SP6RJAUNIs7D7fEkDyiyW/WHIUQAFvUWTtfRtAcaV7A8rEFUA9ooJsQ8AUQGKRMvB0axpAKlIBo1/mFkBdrGZlWAwaQK8wFeWQvRtAxfJbp4EUF0AAAAAAAMASQPtkLfHvQxRA7c2Zp9j4EkARJRn8uV4XQJ4sl20NzxZAE0HWwyEpFUBcOzDXDswZQH4JWapTyRBAGYERGIERFUDzfHSYPzkUQH1od/v1zBFApvYWmfyTGkD0yth+R68YQEfe+Vuc1hRAfQ6pCcZbE0ApTHhvpGYXQCi3eHKLJxZABQHN9f1lFEByzSSN+6ITQE022WSTTR5ASbOHfVAbGkBbLtzVN8kZQEt+seQXyxBAV4J+rwT9GkB5maODYDcZQGsh6MeVuRVAFDuxEzuxF0AbbhOp8KIWQCnmC60zaBFAKSogdymvFEA8S1HtXowVQMbZFMbZFBZATBtyopSYFEBX3yTvr4MZQG32nhertBFAYtPiBROpEkDdVYoJuqsWQDThtpLj4xFA/WyxMnyjF0CzOWW/HpsfQMKC+cMUwBFA+M6XgrWhGEBGQ21iCt8SQOmiiy666BZAOAuj7uH9E0BVY46kvPsTQHe//x0OcBVAEDoq8MXVF0De3d3d3d0ZQJF1uZAPXRdAm33WFoR4FUAAAAAAAAAUQIMt2IIt2BNAr7hAD2deE0AjX5WH3VYXQEh3eyEwdRBA7H+xCWlhEUDjtU2ZjKgaQMeRJe4ijxZAS4DgiC+TH0BVY46kvPsTQDvRnMBQ7hVAf+TY3I97EkBdCVMa86AVQE145+XThBVA0UUXXXTRFUAsUbsStSsXQHFvrkie7B9Aen8GJHGgE0C1DB2w22MZQFcz+VOZDRlAd9ZEX01LEkCP4ziO4zgWQGubQ0wD2BVA9dvrIUANFEDRFAJNIdASQAHG7X3IlhRAVVVVVVX/HEAgCskFvN4cQKUhauETMx1AmuUfBFvHGUBj7Fb0cYMUQCYd9bZP5RdAnN70pje9FUB90id90icUQJ2Gu5dVAhdA/uEk/ODOEkDxYnZc1IkWQI/sGYhKRxZAa6VWaqVWEkC2CPlrdtQWQLflTIej6BdAukejWNjbFUBkf60rNLcTQE3Y2nHT0RJAVN5aMT/lGUCi2L2DhyMZQP+6Pt7YOhNA2fNaeEH9EkC0mM5iOgsUQLdt27Zt2xdAlrAQThIkGkDSxw1iTToUQCw/RZLBrRdAmx21CPmrFEBoWDZICBkVQILuKsUE3RVAdpN+8Mj9FkAMhjrjJxoeQPha8QM6ehNA8zduo7T9GUBpzpc9OZYVQAvqERMt9hJAi3Z/ewuvE0CgJWgJWoIeQDXumIyqGBRAnFx8bHRwEkB4VWyEa/oUQCQ1OAq8UBZAr7QgD2ZWF0BxasAgAM8WQArLFG7sHxdAUzClZauAFUBz7+AgF4oTQBJim1bcexNAvSQYuFubEECmFTPp6C8WQN7PwLGikx5A0VzfX0ZBFUDJMfagtcwTQPFAbhoP5B5ABWr9SoFaE0B3t4XyKT4TQCOSUbpisBJAn4NoQg+XEECLRgK+eTUZQMqLKL3BwhJAnVU/lIoBEUCC37M38HsWQIVgknbt+RJA+cWSXyz5FECLUcPfphgUQL2E9hLaCxhASU0w3so+G0D7HoO73dMTQAGG3hzVXBZATNBdpZigE0DAVkK62QATQB0V+OLqBxVAuKBuyf9QFECJtJGt/SMSQF5Etqb3vhNA4MWgItxSE0CoK2gbYmkVQKi3xtXk8xZAu67ruq7rEUCGwFUAvOsZQG3fv/HDuRlAiVWe/CbkE0Au0WB8QNsVQAPOuBYJahRALGCtgLUCFkCdYN7p90EUQGjGtD+xjhFAhyWrWw8gEkDC4IglA8YVQD0uffsrEx1AWn2UhP8aGECHy4BPDpcUQEEFVEAFVBJA8Hgi5zueHkB9EeZ1qW4RQKPntiRuSg9AvM8KvM8KFEAxfB4MnwcfQBMV9k/LGBRAadoBP16EFEBDRwW+uPoZQIIPd7OWsA9A1iIzYHO3GkBUXAi9MMoQQBLY2dWeGhRAF7Z46PuPEUBOb3rTm94UQK0sX6kEvBhA2FBeQ3kNFUDyLMQucpgaQAde5TbdvxVAC5xKjBBNG0C7ruu6rusWQHbt2rVr1x5AR7DsOrXqEkD0rs+7Pu8cQJ+P3FvfTRFAw4F5R2Z4HEDfiAKTTs0TQAkyk6mkCRVAB4d7Dg73FEBj3dswYBUaQJIkSZIkSRRA7OUhhwMVG0CcMxFbHgoUQNtYAh7bAx9ApBvcT442GEC4HoXrUbgWQCZXEJMrSBNAU1MkQ2byEEAZF1WKMxwcQLVZAVdTsBJADycsSOKxE0DaQKcNdNoVQMvKLWVIzhVAcHrTm970EEDCnMelb38VQCxEGYP1hRtAMRETMRETFUA2roNXPV0WQLDVs0PgxhBAWucpnyQoEkA90DFmigEWQGKOJRqKLxRA4ygYVD0kFkDtJbSX0F4cQG6KUcPfphdA5+KRqN9AD0BpXvyJhFMeQIRB0wt7nxVAl7tR+4qSD0CKPgyRog8XQB0uAz45XBZAvPykIqT0E0DxM0r8jBIUQMUHtUZeKBNA1Hc26js7F0ATbMhM150VQO/an+7anxZA5QmIzlf3FEAy9C9tBA4XQAOmCTPGJh5A3Dl99gPpFkDkOI7jOMYTQHzgCxsaIh5AH8F9BPcRGEA20GkDnTYVQHFYsCuj4RRAIOWmonlCE0AME6cfbTYVQFrm5LdEUhRAotxo3RmOEEDfPRDhdw8UQGNl+EYUmBRA6F5l4/xtE0BPlOaCRTccQA+cNr0MWBRADq4akr5cEkDEbC4darATQDcmn1B2bhVALyQhZkoUFECN3gq9LBESQE1vetOb3hRAUeFfVPgXFUD0y+wUahsVQHdH23OBUh5AXWNxjcU1EkDRncyHdKcUQLFFIJHv3hJA8TGl0wrVHkB8l6qTFeARQHqe53meJxJAbsL8rhY3EUAmbIAYjfcTQP1iyS+W/BRAFBaniOfsE0DrAIShglsUQArWKVinYBNAPzKB3qlrGUDXxYm3V4gWQH2xlzPI1hJAESUZ/LleF0A+XTaNSfsbQH2nbHFOpB5A97OBC9+dGUB2Sq43X6caQJAaRdu1UxRAIb6N8BszGUBvbHbS3uQSQCGoF1zdJhJAheze+xDAEkC7pX+hEXUSQCt4JnrIRxJATTbZZJNNHkDBu03kzF0TQDgDdzNwNxNAZ+UnxFn5GUAP22lTfJ4SQADoqIP5ERZAGEt+seQXD0BRObuFX40TQB83Y38YLBRAfiaiuLzUEUCC37M38HsWQFF71nKGLxNA2oDA8WtLFUDEw8PDw8MVQNybz3DRNBZAhKbary6kFUCUu8nd5G4SQHbOU6qEChZAFldIgtWgEkDhfWtkdRkWQE10HWGvzhZAB3VQB3VQH0D8Gwa76eoWQBXU+HCWbRRAXYsENRWiEUB3zhWxqNIUQOckEBdqThJAmCzAMee5EkARhXWzekkYQHTVRj5SzhBAi/Hy6w7gEkAZN/0B2ogaQLFsfDO0dhdADmfBG3bQFkA5CMWvzOIUQO+999577xVAKLHmleq5F0BiJdD/9WgXQHN8w32qWBVAKgJhhxD8E0CVmEpMJaYbQLhcES0uVxJAVlVVVVXtEEBxfXh6RlsRQFZwVaLnhBRA0ZFytVcgF0Co5kHu+tkYQGl+N6zeIRVAdNFFF110EUBQOzKLVicZQLVeTxNoSRVAHMdxHMdxFkDgxaAi3FITQAHgbW0v3BVANg1kxpKQGkAZuvkctxMWQFpaWlpaGhpA3+jcK4lUGEAlr0DMjyYZQPAoogpIOxNA8bqA5ZwwFUBTmOcpqU0XQB3DyApcrBFANA9tjLLsE0D6pE/6pE8VQM609uTfuRJAC1nIQhayFEDMYBRwaD4TQGepJC4bQRVAuRqOrn+KFUB9EdU6+yISQHppMxVIKBxAjrFb0ccNEkDDMAzDMAwTQCi2w+yqLBJAzwK4FM14GEAfG2OSixsWQDODuQfAgRlA8LnsDK+cFUCgP+Yo3b4aQKvfXg8BahhAxDvEO8Q7FEAC3Zinj1YbQESAGloyqxNAwr6Xi9e8E0DLPY2w3NMQQNC+ZnLHkhRAGUwzUdoWFkAYGix7iKEVQBhRrbMvohJA5GsXsB/QD0BRVP2YMcIVQMCYJwyt4RdAeWkzFUgoHECJl1bozb4aQOfUUGHmuBVApSN7BqLSEUC8o2xRUNEWQGcNiqc9rhZAkKcEeUqQEECwSBl4ujUdQBt6YzMNnBdASKyl6DDdEkDQaQOdNtATQFnrZK2TtRZAsodZQL5IEEClpaWlpaURQJxIqSjuchNAe31y2k2KFkCcl+ZP3OwWQNd1Xdd1XRNA6KKLLrooFkAXZvTMhRkRQGh27zIRohVAIdEKmwOJFkCcnUu1IRMTQG1otKHRhhZA70dO87V6FkAA6SX/0UsWQIC1SSFy0BNAKaxuWfD1FEDWsNnUfNAbQMpKl5L/ZhVAg76gL+gLGkB88MEHH3wXQFi4fYewqRNA486YVoTDFUCyXLY1PPsUQDXMDo4g0hVAgMLJWBMoGEAxdhSfv1MSQKMrW3gnQhZAKtVdrFVEF0A/dd5mwbkSQNIoBdIoBRJAnugxho2vFkDoVkqiOhAfQDMzMzMzMxNAcSZZKyN9E0A0W9upsnsWQOYPNh7NHxRA987VyR5KHkBOb3rTm94UQPKPREa06xJAGw33mxhTFEDh5RS8nIIZQPjWNfyachFA+Ba7zpNEGkAOvNQiNwkTQMKI4vwIEBZAdxI21cuLEkAEL6fg5RQXQMQ9wVsiexRAZAEpZW7gFUCuii/ioQ8SQA2JeTtDYhZA89QX5S7PEEAGUiy/dRoUQEFBQUFBQRRAcZrkLhDpE0AAAAAAAAAYQBERERERERVAXdPAum0+EkB9XDbfzjsUQPmjTvmjzhJAieVrNO+mGEDhujSnPFIbQOsilgUYNBNASzb4PQ+DFkAqCP2j25gSQJ4JGDyW9xRA0hYgta69EEDZ3nVAN+YZQAh+4Ad+4BdAPSsaCfjmF0BgFa+53fETQEYqjyVF6BJA+Ks4ISXPGEAwt8uqa8ISQG9sqt+IcRVAqbox9hOFFEBKjT3MAvITQFZYLP2P6RZAqxL0nNSiEkA3MP98zsgTQMHawzEioBdARYKaCtGGE0DrZU48uI0UQBLiJSTcLxJAAwmF96+8EkBbh36zdegVQNIgDdIgTRFAmzHIXvWLHEBvRrwZ8WYaQHV5WD/vHxVAooSd60rzF0AGawpOuDoUQOzL6rOjhxlAvVnkG2bKFUCDTmKhLegQQM9TCmzgZhJAWmihhRZaFEAwkSHVObkSQPnH88q1OhFAKoKGk7ovFUA8AdH56h4UQO6p10x8iBVAN2I4bKYmGUA1Hxz3OmkUQJqmaZqmaR5AQ4vSg04cEUCyojQ+MoEaQGFXjTKdpBdAdcISEu/1GUCoqxC12ZcUQDX/bUbCgxVAY4fziY3LFUDzKegBXBcXQAN51RtJ5BdAN6ox/htOFUDOkXPkHLkWQGBHjHb5HBhAxjj/m800EUCC1GULHM8RQPQgd/1ssRRAqKEls/rtEUDg+pmoheoTQDwM+FFkWBdAcaa1J//OGUB19jpm0uAUQMZjPMZjPBhA3Z6zrFl1GUBmt7/hD54aQJdv+ZZveRVAbVfT0GylH0CPAQ5+buIVQNgSX7eOThVALLbPrP92D0CO+s5GfWcXQN7d3d3d3RJAVkk0iwunEUBIK5MnIDoTQFwSakjbKxZAlGM4mBvYEUB1+1Xb7A4VQOQ4juM4DhJAcRaeH9PDEkB3d3d3d3cUQG2Nv5tHqBZAf0evjO13HEC3sU/RnJMUQKdNaSGprhZAcnYLvxoTGUAugVKPMEcSQAUSCu9feRVApUEapEEaGEBgswERqqQaQE0ni00nix1ASWgWyn9NFECm98T0npgeQKcDpwOnAxNATRawcyGIEUBbk8xK8HMUQN8pW5wTqRdAkYCaXS+yEEA351vdj4UTQNzbYZyuvBRAz0xB5qm1F0DZu0i/zikVQIq0AL3cFRdA+q3TQIrlE0DlYYI97gYYQF47b5JFehFAdfZFVOvsEECtXrgI9i8VQDW7d5kI0RRAvOCv4oSUFEBw5xOy7zQUQLGwsLCwsBtA0LvJuDynE0B907prXPYbQDCW/GLJLxhAHDT5skGTFEBmZmZmZmYTQDMzMzMzMx9AngJDgNOMF0D2gNkDZg8YQLmdNCHwIRpAjO139MrYFUC1Rmu0RmsSQAqyDQHF5xRAx9PlGgcaH0DUECrpRrEUQMLVbeJMaxdATHjAAM58HEDWZ0Lcyf8VQPQXlkvMIR5AMxVIKLx/EUCFcr8FkegaQCEEFyLZyBlAjvrORn1nF0CCdlGeGSkXQJdxy7hl3BRA30Vmhdq4F0AJJJcRm5wRQAu2L8B7+hRAVKhQoUKFE0C6b7KUJiAUQO5Sqm1ATBRA2LLahIwZFEBiTqzPpG8eQJCyHclBaRRA1HLhrr5JFEBc6d6AMnEVQHboN1uHLhVA8ZaHqbaFEEAm9+NRg0oRQO6qvprwbRNAgMumPzF6EUC1gqU+rWAZQB4k90DObBdARDPJ/LOgFEAA6SX/0UsWQNDANzihUxRA/WLJL5Z8FEDfiAKTTs0TQKFLY5B3kxVACM7EAHvgFEC1sXOzkhMTQAjiRtonXhtAuVYzFuANFEBfypjdScMTQAVp4cPxSxFA8daZY5d0E0DlDP4m9OwUQE0guEw1lhZACxg8lvdqG0As646D0UcUQNUdXjEk2hNAspUsDwr+FEBB62H0uwMXQJVigu4qxRRAD2o6EUB+FUApmvHQ9eQWQB23FNeftxZA0nz5rWpwGUDDow0gGN8VQIh7i7U74xRAyOl3ngphEkB8crgM+OQQQDRJ4VXA3hJAIg9cRTtTEkABFQlQkQATQK6FCsjj2xVAn0ZY7mmEHUBPAqtu/UETQD07E+E/YxFATYfO0cC7HkCIZvcuEyEZQK5H4XoUrhNAtMT4lGnnFEAPG+mwkS4TQNhQXkN5DRVAtur1gVhSHUARE2btj2kSQAsaarLSzhZAAD7sC4azFkDT6k6rO60UQE3fP5d4RBpAfb7G52t8EkA4QF1yak0YQM7Gc4/bbBRApGPsVvRxF0DYUF5DeQ0VQCfrH5dYuBNAQbRMEC0TFEBOb3rTm94UQGnqxiSaPBVAzznnnHPOGUBM0F2lmKATQOpSsa03PBVAexv9oZBcEkALSGN5CdASQCVJkiRJkhRAwq5JLkGVFkCcEW9GvBkdQCLcUrNh/xJA+xuAMiOFFUBdvuVbvuUTQNon+eHvTRpAoy448p2yFUCdzuErWZcRQAAAAAAAABRAt23btm3bEUDqzL6U8wMSQB3wO5JvTxRAPCYbeUw2EkCwaGOl7PETQCVJkiRJkhJATtjqFAgmFEAvuuiiiy4SQBvKayivYRVAi/KI9r96FEBJkiRJkiQRQCD+uHV5hxlA2mkddIGDF0Coz7mekbQUQFxgmHlMUBRAMg8YpvGTF0C3bdu2bdsRQHg26jsbdRJARzggeoj0EECto4AhdcYYQB9sPJo/2BhArN1cQ+odEkBNbNbHaCkTQBQB5NcSFhJA7q+DMSsNHkBSSimllDIWQLmP4D6C+xZAOSkZc3sZFkCGPWFP2BMVQPhdT5Gp0BZA8qFdmPyvFUCmXMqlXMoTQALn3kLHuxJAaZJw1RcwEkBOhwnr+tcUQDmdRx/2UxJA7B6fiZsMGUAV18Ibr8YWQKVj7Fb0cRlA3lFsSMJTEkBHQUBzfX8ZQOS/nqFC/hNAWXFd+TO+FkDcjbse4GkWQHCVgrHhMBRA0EDWtrTTEECsY9GsY9EQQICJRPFKrxVAz900WFdwE0Adx3Ecx3EYQHDn+FhpwxJAVPMgd/1sEUDBke+ULc4RQCjnklimPhVAjaXcJLKcEUCYzmI6i2kRQM6LP5FwShNAfPDBBx98E0AoGYtqmB0UQIhkHpJ5SBZA90ob3YCvFkDs0G+2Dv0WQEELtEALtBBAPd+YNgGlGEAZJX5GiZ8VQK5STNBdpRBAkLM/IGVWFUAQ9F4nv1sZQPqcKFcR+hhAYbL6KAn/FUBP8n2sZk8VQP2RgskcBBhA35x5io1fF0DFzyjxM0oZQDJchaWGrhFAIQiCIAiCEEAGBQUFBYUaQDptiSqN4hZA7NBvtg79FkD/ykubqUAaQITzMTgfgxNAwzAMwzAME0CJVZ78JuQTQH5l9S55MBZAknEV2dREFEAZ8MnhMuATQHx0w6t/phdASxTedoJKFUCeuCw0kqoZQM8UAk0h0BRAG/WdjfrOEECX0lpKaykdQDFwD/YlFRRASIB5FRJgHkAYmO3NjaUVQBLb8tz3lBJABe6pB2yLFkCc7doatJMWQC79C42ocxZAiiIMbKnaE0BE8FU+v5wRQJsqbsENaRNAflikDDxdEkCgXWNZ0u0UQBC0afL/kBRA+Tu1wqfdE0BiGpu2Cn0SQAxW6AxW6BhAPJ4fEZW6EkAUB6VMTBISQPcR3Edw/xlAuwALpasOFECdMWfMGXMSQHDnE7LvNBRA5g82Hs0fFEAlGvmVbPATQKSknfEBPhdAdnPPD5+0F0A5juM4juMYQGzqdlXXkxZAknpK6impE0DieAL51XYWQJv3KS4ZghhAsjMasjMaFkDHJIAmTtAZQCoCUbPudxVA2H5Hr4xtH0BfcTPysqUVQNQpvkG94hdA3/V8pbEbFUDDQC/GT4kVQJHivpbJIhdAW+eIc5FnE0DvmifXmNQTQCeTt9XlmhRAUXIoOZQcGkBCyLrVnwsYQL5TtjgnUh5ApDi8WWyfFkDvX3lpMxUYQEhjVCEp1hJApkCtXymQFkDG3kD7dkgTQGqnWribOhNA/SD8hr7UEEBCiRlYFo0TQBNIJedlEQ9AiCSk34tIFkDFr26rYYQQQLh5GMnw3BpA3dMIyz2NEEAmQZOgSdAUQMKPRDz96hlAxLhfl1Q+EECugJvmuAUUQERERERERBdA8fDw8PDwGECQQ+8W16kWQCBsPJo/2BhAmGPP96ZIGUAeYXcpuj8QQD1Lgl7PkhhAemSnWreAFUBqD9fZ2mYVQMtsDu2sXRFAvilSAaNfFkDj0fzBxqMRQEVzAkO5hxZAOnVJI3APFUBYCWOzoNoTQE6FaMPnjxlAzEPBldyeH0BgR4x2+RwYQEiiR78smxhAE2JOE2JOE0A/6ZM+6ZMSQBM7sRM7MRRAAwL5mJiUFECvlROe6W8eQBhtBmUc4hNAHeQn9as0GEDpC/qCvqAfQOxt9IdCchdAIUFABnU7H0BNFWVPpxARQDKr314PgRJA5umj1SREEUC1lLy916AZQLgM+ORwGRhAyc2cPcgKFECtnPBMf4MWQNAX9AV9QRdA99577733FEB8JnQbGUcLQJMRrhbQTg5AZzzjGc94FkCohB3Y0lAUQNbfceJTuxVAz9QzKDbyFkDXQ4AaWjIUQBmj/gkM/RJALF7eQrHAE0BkmRdmIxkNQMPjbS32DxZAQ1ezURqhE0DJAaxrO5cSQJwC1/G5Ax5ANuvT6Wq9FUChOYOrwrMUQAtkUrxAJhVAH3zwwQefGED7UMlcbBIUQBfcKhfcKhdALRvMdIjwEEAbj+YPNh4VQDAu5yFHlBVAcU6kLjjyFUBftcCM5SMWQJQ+6ZM+6RZApbhxylfEF0BGF1100QUVQFfOehcNPBZAf63W41b6E0BeY7mWkRUcQO02q5aEGBNAvS6jUJXtEkA6baDTBjoWQER5DeU1lB9Ay4apFQ+MEUBizk3PsTEVQIWXjWsb5BlAAAAAAAAAFEB5lkC3SREZQAhCSsBT0hJAw650fXfNH0Bi2IphK4YRQO+um51QWBRABkHLuxHDEUD0VBGnJDMUQES1zr6IahlAPDvG/FIdHECO9/qS7ZcTQOnq5Q5PVBlAc+3AXDswF0C3bdu2bdsSQL+jV8b2uxNAaklNlqfZEUBoBanx/MwWQL1LH/76RxlASYTu//HJEkBoL6G9hPYbQLQM5KPK2xJA5Ho+B9jOE0CbKwDhCfoYQFrJSlaykhVApLjFSXGLE0AgW/1DUIIUQOTSyQxtVxhAM0SgeFv9EEArLJb+x3QVQOZqruZqLhVAHoXrUbgeEUCWT8RsLh0aQCIfyDOQQBBAtojmrEHxFECKcDA7snkbQJQsdYTYphNAmUmCxwNrGkDbtm3btm0VQCIXGcDu2xdA4Ad+4Ad+FEACXJB44DwXQEuq+T7ZFxdApnsDysSVFkBBZLhXwSwZQOdwq1kpgRZAmMSwQqHVE0Dffy4oPRYYQJN8qzBbyRZAQREOZkc2E0De9bo2vPIQQPHkcTJn6BhAGh4EiZFdG0BmZmZmZmYUQMrCWuOu/BJAeV+hj4pkF0AOdZzPfVIWQAAAAAAAgBdATSCxZ7+dFkD5XS1uwvwSQIAGFVOUlBpAxCM+hJOmGEDu9t9GSrYTQLyI0hssTBNAy/0I75O4EkBgtWNyApgTQOC/TLhJ6hBAQNPFmq9KGEBs9wQzaSESQBnwyeEy4BNA3CDarPm9F0D5iq/4iq8bQCwDGqKXDhZA6yWG/3HZEUDlo5OPTj4VQDVsN8uTyBZAKFpHZBBqGECJiIiIiIgXQH+R4giwzxpAMR7iXjQqEkAsZ27Zb4gRQM0pNT4MgR5AZ+UnxFn5GUC30q709kYQQPMxOB+D8xVATBByHtXTFkBBFFVk4EgUQKq8uiaHbxZAT9DnMYVOF0D7Jnl/HYwTQHzwwQcffBJA0pa0JW1JE0DaZJNNNtkTQHN2C78a0xJA9TzP8zxPD0CqbtIhAXgSQM5BKfiV0RhAhHSzAbYSEkCLFBxpkpwdQAlUYtNokhtAMuB2VJqIEkD1bCq4tgcYQJx10gzhQRFAAAAAAAAAEkBYltqj7QYUQPgEt0VfwxJA7UrUrkTtF0BkfS3nQgQUQD8sUgaebhlAG+VsBTahFEAAed2I+KcUQNplGT9ybBZAFFWuWWwLFkAuJQu90hMXQG7gCPbm2hJAxnQW01lME0CdkJJnGdEXQGTidnxn+hpAsARe1q1TE0BDd4sUvaIRQEhdcOQ7ZRxAfuBm3E7vGUB0Kikg4ScfQFUuCbusWRRASkFgZv/wGEAXGSaiJTkbQKnSTuGTlBVAbehs6GzoFECIw24M4rAYQMJ6INnXlBJAXEkL7hBlG0CtaOW5dZMUQMXXi00NOxZAQnXClh5UF0BVVVVVVVUaQFjLohDgQRNA1xHv6PaPFUAE3PpsxvcVQDCA13ywtRNAf3s9BKihFEDZfDf8qC4VQEMlvWb7YhZAuZdXCNATFkDihJQ8y4geQNvYPUezDRRAUGA/gf0EHkBlLyK4AsMWQKqqqqqqqhVAxMPDw8PDF0DQKPEzSvwcQCH2qe3NlBJAX8ar05fxFkBLWOQ8EMAbQNUi5K/ZURdALcbLrzuAGUDJyMjIyEgZQDWV7M2ZpxZA04dgHGorFkBzNK8dAYEaQCAa60NjfRhA0D/loh4jGUClNEsieq4UQAeuop0pvRRA3o+GXluSE0CNRBxg4PoUQANgoe2bvBZAkZNZfoxqEkBaZ19Etc4eQFAaLQS+RRVAyHTzbqywFEB4xbhu6V8cQGq9dEdzmxVA3tK/0Ii6FUDOkv21rtAMQEGeEuQpQRJA4gAD16c6FkDevlXw/fgVQFa6N6BMXBZABVuwBVuwEUBJGXi6NT8UQEiO1SC7fR9Aec4jec4jEUCYnFoTDlAXQF+G/F6G/BZA4gy2LRJqEkC4AQxUTBYYQMW8nSExbxdA0jMiWSY9F0CZoLtKMUETQMJyTyMs9xJASI+wmf6wGUA4gbDGykQXQNbM9s3i8BZALwYV4ZaaF0C4DPjkcBkYQFOqdrAeSBJA5v8ceB7FEEAgbDyaP9gYQGkKgaYQaBRAnX0R1Tr7FkAdXH/zKRUVQLL6qVMUnxRAafqgsLplFUDD/6x30CAYQH7+dLzf+hFA9akOZSTiFED0plBK6wIZQBfCefgLSg9AE3NInydDE0CeBXApmvEXQPoL6C+gvxJAqgeNvPO3FECvmVDTjmIcQL2nXBhDWBNARBjkLNlfFUBADjxGun4RQPyVArV+pRRATnS/clDGGECpGoMNd0ISQCiDY/GYJxZA9TISq+HiF0B+jfcLrzIYQMBiOXrI+h9AVn/ZRg0CF0AgL4NRwGEWQG17JnQbGRdAzugr/xwJFUBVY46kvPsTQIQeQg+hhxRAJg9sdwhiFEAiIiIiIqIUQDchiwP2YRFAhvx6bcO3FkBqvXRHc5sVQHCKMgJOURZAHoXrUbgeE0Dio2RGAPUTQMPmQKIVNhRA2/R9vaJqEUDEHOYwhzkUQGfK43eClRVAFEILW5KfEkBT5LNuMEUWQH3Lt3zLtxRAxSr+IK7BEUBQ81GNAxIVQLsnjHUQuhVAwvHEUKjNF0AXaUnPofYYQDAfXqxgvRhA7OFSfLqXD0CIKfOKmDIXQOnko5OPThRADQjMwz7fFEAoZPrxXOgUQPZUA+INgxhAVVVVVVX1F0Aw/sdericZQGT8wAw4LBdAxH7KRqZ6FUBgE3X0C48VQNsxOQHMoRdAYBVaaRc+GkCK6kEj7/wZQCd2Yid24hRAMCVWa/aVFUARmhCaEJoUQGySOAohQRJAPa68wrToE0Bw9GvxIxoQQHlhNpJRWxJAlwt39U3yEkAQn9C8SI0ZQBuP5g82HhVApHa80zClF0BYkdHajgMUQMABvyr5oBFAft/3fd93FUBDb6hJgVUWQBWMUG7fJhNAkqVrpq6LHkBRJ+DMaD8VQMX1Lh+fuRZATW9605veFECYoLtKMUETQIZ5f/w9nRVAuhihtltNFUABctQQQx0WQJN8qzBbyRZA6t6AMnGlHUC+zV9hVqMWQMM1ABU0WBRAub+1RO5vHUDYxEit7SoWQF7lN128uRRAQdga5/EZFUChYPfA4+oUQCXuTqHeEBFAfYIezbHWE0CouGQI1tEUQAmEyM2mLRRA6SGKlryoHEDtG9a+Ye0SQC4aQliNnxJA45dESLWsE0B0Y54+Wk0WQNfI2L2k6RlA6k1vetObEkDj0/DKmi0UQLf1bDj9mRpA9B/Ofzj/GUD6/vbjoswUQOybX3IA6xZAO+WPOuUPFUCUTTbZZJMRQAn4B/gH+BdAcTyB/Go7FUD5TtninEgVQHWZa964ABZAXqOtgCiXFEAgnCqtPJIVQGDkDAsulRVAqH4YXk1FGEBnISGqvM8UQJB3hxMzXhZAakqIZwA3HEC4SvB+j2oTQAj8AX/AHxBAntiJndiJFUCROMYLC4kTQHHAChmI2B1AXLGkBj3dGEAlbcJqWV4XQAo85naL9hNASimllFJKFUAa40jrKGAYQFy+5Vu+5RRASjFBd5ViEkCH8hrKaygcQBit/0lzGB1AIZEMXtDEEkBEcNKcWXwSQFDXAuzesRNA1SBAMeBJGEB0+H5LCg0RQPCZRO+ZRBlAtnJ8w32qGEC4h5qf18wVQKoxL8RRnhVA6ciegah0FUAAokbOigoUQBGTK4jJFRJAKMRZ+QlxEkB2zlOqhAoWQI0/K+sQ4BVA3r5XzSe8GEC42hia7uATQFVVVVVVVRNAmBTEwk4RGkD73ceJlusXQMCdLcY6iRpA7S56OGmvE0BVa+z6ZrISQPMaymsorxVAyJ5oUf5sEECy5BdLfrEVQFwC9+5zRx1A0qZDSCptGkAkSZIkSZIcQAA3I+HBuhhAk3d8Xcy4DkCBDHo3GZcTQPJCFUIubRRAqcAegZYVFkBeJkI0u3cVQNl8bng2nxtAJ3ZiJ3ZiE0CATw6XAZ8UQEXHDgn1rhNARaZhu1meFEAG463sc0gVQJpzvAJwWRVAyb6mVO1gFUBiJvVhZ7YSQDuNb9drZBJA8oa8IW/IEkBdK3yvRoUSQGLKvCKmzBdAu+iiiy66FkDeDYfg7ukUQJjUtPpg5hJAoJ6pXHe8FEBv09Ow2/QYQOxYkxe8jhtA3pNi7PKhFkAZNfxtilEaQNv62wMbvRZAj+M4juM4GUDSexnzUfUUQL3Eod7CWhRAZe0wnPJoDkAizj3Qx58ZQBzuMQUCDxhAUkTHpO8UGECf53me53kZQH5Ry78hYRZAlibVn5l+FEDT0tLS0tIWQL0P2VKscBVAoL2E9hJaHUBSQd2EcgQYQP0rNBSJqBVA4PxOYu6lEEBaWlpaWloWQDvZXTJi+hBA/VQY63avGEBRWwB16NURQMqyDW2FrhVAsnwfCI+UEkAREApaAY4VQBrjSOsoYBhAHyWNkBNgFEBLqUA8VXIVQI/jOI7jOBpAr+09Fkf3E0DOKV2ywLQWQGqAcXsfshVAigF4YeaUF0CCL65+0FEZQIXHJir2LBRArHq7Zl+QEUBU6NSiPOQUQDVj0k90NBZATcdcIjwpGEBujuomK7sTQKGmMVZePRNAKN6iVeHgHkBKIC7UnAQSQN+rLXKdCRhArGUf2ZJMFkCFOCs/Ic4TQLD0Ik5UnhJAwl5eG9SrF0DxaP5g49EUQEfbRVnNrxNA415ODATjEkA1KNkc1ysVQJ48efLkyRtAhwpBsc9FEkC7gu5vAMoQQOchmYdkHhpAxCkU+DmpHkDYGbEDhwAZQPCbp+2RaxdAV9eqN7OnEUCEhsD21eMWQI8KfHH1gxhATr9ybk9RFEBoK1VoufwTQF6FLzfEgAxAHphrB+baE0CoZ2Ry6U8XQA1teUlDWxZAicrTQnfsHkAwoL+A/gISQMy9KoJpnhRAkGL5rdNAEkAAAAAAAHAXQL+TcDWQLhVA0ql5kLt+GUCksK2yDIgUQM2y1yx7zRJAVHd4xZBoE0DYeDR/sPESQGcN817yYxRA2F80ORzKFkBZyEIWspATQDFG/RMY+hFADLi2xXldH0A8t9o7hQUUQBKzvIEnBhZA//Uq7V+vFkAKj7e12D8UQNdojdZojRdA+30SoJHMFkBKmvvUkgAXQIs14Io14BZAFPvY7Q6IFkCmpaWlpWUVQLUjuuFy3BRAvOdotrF7FUDgOmDYl98UQJdDiSppORRA7o0+D6VKGEBImk8VNuwSQAeMwAiMwBxAdBf8VZyQGkCo2RwF2occQDmBHJn09RJAmWo4PxdiEkCcnnyGID4UQOzETuzEThRALPnFkl8sE0CiMt+h21QTQII9n2V2LRVAoa1dfF5nGkASZhcDwpgSQMRiCe9IJRNAPgrXo3A9EkAm6q1xNfkcQJ8zNMEl/BNAfTf8qC4xG0BKRDWEbdQWQDODcpvR9RZAOcOXneSiFkA5I3jn8KcTQOcCU3knnBVAtlGtRT+2E0BkNXuS72MVQOQ4juM4/hJAeinmC60zEECvYFrJwRMRQEZeSZarpRRAHSiVJMb0FkDiP4qOHRIaQAh4fwh4fxRAdbtvif8rHkC0euEi2L8WQB+pXmMwTRNAM6krF7SNFUBn8bgusJ0aQPjggw8++BpAFOKs/IQ4E0CHzAfYLNoRQO4A0mQBOxdAshVBw0ndG0DC+Ricj8EdQCxDB+z2WBxAM2A0IkB4GUAeRkCQGUITQPsapyyi4BRAKLlTtHAGGEB8fdaY5ZESQKgW4iJEjBNAs6asKWvKGkBJx9it6OMZQBjvP57hWhhAv23IKmhAF0D75PdjhPQWQB/5WERPHBZAKH3SJ33SG0BHfWejvrMVQLqfamO6FhFAZmZmZmZGGEAHU+SzbjAVQNp6N76wyxVAxxkEtX9OEkAJNWakCeQRQEHQjN4LBBlAkA685xvTGkAhwXaRQoIVQBiq706N6xJACKrYI1lBFkBeqELIpY0RQDl5zmlvYxFA671+D3exFEBHdYlZCwUUQA9EzgZ7TRJAtSLp5xhxFUCZh6ovNA8VQKnZsL+LQRVAQugko8oiEkDjEAZyK1oUQKOUFfAuShlAb6nZsL+LFUDIdWQKNkwUQKJiQXOoWBRAiQKTTs2DGEDwJq1Tj2cTQHkxp/0+txhAw+NtLfYPFkAvuuiiiy4SQEjppSwfOhRAFCwKFgWLEkDgjGuRoKYUQBiGYRiGYRxA9P5AQvTXEkDJQUi4Ow8XQBy5et4bChVApl/6pV/6FUCYath1wzsWQDDmUy/mUxNA3t3d3d3dFkCEJkClbT8TQKHyYr251BlA7Hm/HTNCFkD7+vr6+voUQCftSCIKmxVAMg3bzfIkEkAwlvxiyS8SQAmRby6GUxtAngKIoJucEUAQGnnnb3ESQCGWjPVyDxRAgnm6HV4+FkCd15gFC4AVQPJkVrbVLhNAjuM4juM4FkBIJ+G+BAoWQKa4m++VMxdAIuGxkjZhFUCCGulLhhEXQLHe7tnHZhJAPn/MUbp9FUAqOmvHuKsSQEVdUVfUFRVA6FvbuocDEUAd/lpEiLwXQHqJyA82LRFAcQnVpXw/EEBg3mTRi1wSQDwlyFOCPBNAjBFEL5KHEkBJYEsBufoWQHDyN/mb/BVAi8F10NjSFEB/1kbtDqUVQBSvJ2WOARZA0UUXXXRRE0BtVRIDoLcVQCRTniG0gRtArRfqG5K9F0C3XXkjMvEVQMapIwlkARJAwCRCqmUdE0A6Y86YM+YPQObjv91BRhRAqQYDjRFlFUDvIeo1J6gaQLxJIttukhhAfrHkF0t+GECuGpK+XJoTQB7MrM6kxxZAgPAEfR5TGEA20GkDnTYYQF9gsq6PHBFATAUSCu9fFUCO1miN1mgSQJYMoFslAxZAyxbnROqCFUBzGc1lNJcTQCzxBw7dWxNAe2OAmsKkFEA/HmF8PMIYQBXRKdVdrBVADcMwDMNYEEBSBp5uzQ8UQMZ0FtNZTBNA95faX2p/E0DLPofUBGMTQCMjIyMjoxlAQSMnYdJDGkCDmSPr+0EVQNq8T3HJEBxAQRYdMppQFECBhJ9ciLoZQEOZ4VyBqxZAwyNKQjgdE0Du7OE8kYISQHyvnLllvxJA1qDuAMmsFUCNQ9qlqAQUQK22RPQzrBNAiqNChLCkGUDjszEfdrgXQByKYJGAphVAbEo8AEEUFkDeGsWdDuQTQEPv8l9XrhNAsUtxN98rE0BhC7ZgC7YQQEKPDICXeBNAuLDEzXSpFEDWX/3VX/0TQFb0gGCPhBlAlgK1fqVAGEAruy2BUo8QQL2Z8vid4BJAcZC9nBP+EkCG0kCTlXEfQGyWDBDu9Q9Av4sLIQ+eFUAAAAAAAEQRQAeUiSvdGxZAtH6lQK1fEUCGgejGUmgVQIvpLKazuBVAiI1Zo2/vFkDeS/akCzoVQGTddTjJsRJAixbnXhCdFkDBSZG16iIZQLDemIEksBJAZGMw1Bk/HUA+6wZT5LMWQEF8GMqesxFAw8IkYMDPEUBHHScF4n8SQH2rj9gPZRNAK2dwlzdVE0BAM/0gF84dQJ99bEYOdRdAZmZmZmZmEkBz7cBcO7AVQGHWd4zrBRVAGZ+lcI/xFUBHVOF8U4oWQCQs9zTCUhlAIx020mEjFUBmQ+59m8kXQCogGJItohNAGFGtsy+iEkAN8dYQbw0VQCA5zdfqWRRASZIkSZIkHUCend9d9g4XQGidsyCKWhVA3lfeLZTLG0BBvr0a/Q4YQDAdhkzODRlAmm93yY3CE0DOe1hFM6IVQNwQ7apXahRAwgcffPDBGUDCFPmsG0wdQI5PduRgExVA0Jqkc2igGECPh0YxtpEWQNKVykEDYxVA3CDJWMo2EUBTihExo6EYQC8ggTUclxdAInBjGZQKFEAO8UTriAwTQLO4y3ArFhxAut0a3US1EUCvvQAKB98SQEIIIYQQQhhAUvVbdi+gFEAhJ89mPiwbQBcvuRcvuRNAgFhbeujsFkD/uoXs97cWQKATULtn8BJA9DKN2hwxFECsJGTWcCAXQEKagwRcLBVAGMJsF8JsF0A06Y+DcUMWQLfLxxZyZxpAbCmMtubuEECATw6XAZ8UQN4wJJJjbBRAMeRTqXjLE0CBlFk1fsESQNh4NH+w8RJAZZNNNtlkE0CCN+ZOULYSQKcGQsol7RRAuQ/PjKutF0CYV8SUeUUYQJEXQoc4rxpAmkeLSiRfF0B+ensNduoWQMECCyywwBRA4tknHJH/FkA5tg8sWtAUQKf2gXGJCRVAovPVPdLKFEA0BfWIiRYbQCoCYYcQ/BNAfbkhBqRjGUA9RuQlO8AQQIM5kMHLShNAN+/GCoulEUAtwbf5K8wSQJoO4CU9mhZAdob9YoiwEkBml1122eUXQK4iOqW6ixdA27Zt27ZtFUDSWUxnMZ0VQFifaKn4xhVARjzuB0EVE0AGnm7ND4sYQOcPNh7NHxRAnMyNVzStFkApkD1YXIQSQEQGOelHJBZAIXOUbl9ZHUDmh0XKwNMSQHzUDl8NnRJABJM/MPkDF0Ck8lu0Jn0VQGhgDEVmixZA2gTWSYwKFEB6ga95ga8RQOasHjsCdBRA/Cwg/hOAFEDYeDR/sPESQHcsCKlVZhNAwXtH4NJIHUB6j+EBfS0WQC0tLS0tbRZAAAAAAAAAG0AAizZWyh4VQJn2J9YxLBxAJEmSJEmSF0C7nGOLxjgVQCZIkyNKkRVACNbR5n2KG0DPyyI+gVQWQL2TLHWE2BBAOKZoZRQrEkBMIErYua4UQIMj3ylbnBtAvGiE0GExHEAOEPzj6RMRQPGa2x3//BZAuRqOrn+KFUA2/m4eofoUQEYTTTTRRBRAKUYSkO1QEEBFBaaQsqMPQC5VmoErLxdAwx2zZZj6EECsYDeS/aoYQMgH0uuakBJAtif/zuUQFEDZnYpa4rUSQDOXPi2V6BVAhma5knHnE0BWVVVVVVURQHikejYmKBdA/OUH+diLE0Cgtj8h76QVQIIgCIIgCBpAK4lZcWVrFECMRBxg4PoUQNWhira10hVA6Zc59nxvFkD44IMPPvgQQP7Yj/3YjxNAcPmWb/mWHUDFxRG9HKQSQIZhGIZhWBNAcnmpg2XUD0AyZml9OhgSQH4LDkrMwBJA7DrDgyAxEkDMV8JaeJQVQFdqpVZqpRZA8ARnS1kXE0Ag8Af8AX8YQOXnvG4m3RVAxST79lwaFkBf3SOtTJ4UQBj+o+jYIRFAt23btm3bFkDe3d3d3d0RQCh90id9UhNA8VTGUxlPFUDjtau2NF4TQCSHPYjksBdABL64+kFHHUASMyanCCMSQNdh0jcuzhVAoEdjVCEpFkD1cEhKJ8ATQOf1tBtgpRVAhQ8++OCDFUBW0NKYsooTQOiQmmC8lRdAX/TjQys7FkBJgzRIgzQcQIbA1KFoNhpAH5S+IYV/E0AnVxCTK4gZQOKWmg37uxhApsvD+nn/F0CwG9dfN64PQObzy7lrAhtAJzzT36DbFUDkdSPin/IUQLs1PyxSBhJA3wa2VxSbG0CbTF8ljM0eQLLkF0t+sRVARmOytUzbFUBQQrPtKHAeQHb5HPwlgRVA9ZfY3KPSE0CxEzuxEzsTQKy/+qu/+hBAOfgHSybfGkDF50wtF+4SQJcMwTravBVApAhfFesZFUA+IR1BRtkaQP9q2oaFxhNA7wVj16juFUBMQg1pe+UZQL6+vr6+vhZAeT9ymq/VE0BUeVvQaBkUQEYXXXTRRRZAbhBr0jF2E0CcCZHSI0sSQOW+d3F44hpATvAzo0m9FECWQakw8X4UQL/BVUPSlxFAGZcwZ12gGkC2S9SwXBIcQH8bLxOG+xRAiNIbLExTFUB0Y54+Wk0WQL9nrnJ39hFAs0KMfYAZFkBBpw102kAWQBaykIUsZBFAWCuUqaWTDUC3IDNYtpQcQFTJ3px5ig1AtVy4q2+SG0Az8HRrflgaQA/I5+XsLxNAf2835bDsFEBwilTA6JcZQDe7v9y7eh1A6JOjwQXcGEDe0Cb+eYwYQNAX9AV9QRdAPgrXo3A9FEDHrK4YYroTQH7e9XnX5xVAaJE2yx1oEUBdXsnOepAUQKVzPGusiBRANdQmpvDtF0BXRFY2J+oaQHDzV5jVKBJARERERERkGkCsBjUR5x4SQGpiRh0DIRlAxNoQvFU7HkA+B5uRNLYXQHqDhWkqjhJAgKERdY4iE0C/6jQYPE8XQD/wdtKbIxNAN8n762BMFEDIdSZg8FgWQFV9IrcJVBVArIaLH8IgF0BDjSRaEK8WQEnREH/cuhRALPc0wnJPF0BAS4rW62kSQD8r6xDgtRRAdjCI/X5iFUBsoFS5D88WQMqSjnrbpxJAa/7bjIQHF0CP4ziO4xgYQCJADS2Z1RNAd8am6HO3FEA1fPlgBMMWQMkQOfV0WhZAEdU6+yKqFUDDr8ZEeqAKQJRseVd6sBNAFmiBFmiBE0DelR7szPoUQPY3DXpvpxRAx5wxZ8wZE0BFREREREQaQMacMWfMmRlAFYCmizVfG0BVVVVVVVUXQHl5eXl5eRdAYw24Yg24FkC1n64F2L0XQNwzWj04XhZAnVoTDlCXEkCxNyT4a9AUQL+gdEYEvxNAd+an6XKMFECGd13a0NURQLvvuu+67xJA05+zHR+CEkCZz/XHy2AYQIQPPvjggxpAgI0fxRaeFkDjOI7jOI4YQHQyojFtIxVANEr8jBI/FkAkJ7r+x18WQLkFFEZ1mhZA8vrcPD1vEkBhwoQJEyYYQI/jOI7jOBdA54NlKCP+F0C+23jCdxsTQOiiiy66KBZATJeH9fP+FkD4enscrR0aQF8ZXOX42xFA70lbjysAFkBfbogB6VgaQOhjUxEJ6BtATgagXG7wFEBj0L0m40sVQDLgk8NlwBNAkZHiWU4zF0CzTUdfhTYWQPtMW+Pv5hFAW98GDNV0EkCcRCxaAWEVQMlCCOJ0jhdA27Zt27ZtE0DuB05eNG8VQCpFFlAMuxdAm5xVtxXcFUD4IVuKFQ4TQK2jgCF1xhhA6rJUg84DGECdMWfMGXMSQHYoGRavzRRAVVVVVVVVFUAiIiIiIiIWQJ7YiZ3Y+RhAIrUz22t0E0Bc3SbOtHYYQCIiIiIiIhpAsnMrJVEdGECYC/08ucERQA/baVN8nhJA2bdUvEGUFUCBBRZYYIEVQKVMI9Qp1hZA2jSFtvnfFECr2ZN8H6sZQPhHWU46wB1A8UhcnLDjFEABjbt1XgEWQGZZlmVZ1hFA7/jnR8EqFkCDXfsyzxgfQPdO35S4JRlAy4EnQseDGkD3Fp/EGUIaQGziyHBazRlAjMS/wxV8GUAdOdjEjU8WQHFOpC448hVAyZ9XWZzRFkAyyYkwLpMQQNOpeZC7fhRA5WQCQq4NFECmKfku5TkQQCRpp5KZ7BxAgS1dnvXJFkAajUaj0WgYQFJ/Sv0pdRNAZgrKjnWUFUApznWM4lwSQFCpfVl9dhRAzZM0/51zE0CN9I/6nXARQHMyEck5fxNAvLu7u7v7EkAbj+YPNh4VQNlyn9CdhhxAUyNa1FIIE0A2ijh00j4UQBiK+afwjhNAjR5RQbYhGkCcxffNcL4ZQMem0CvI2xhAmI96t+OGEkB605ve9KYbQBjkLNlf6xJAmTle6soPHUC4eVSWzTYSQPI5yecknxNAdq0t5wZfD0AW4tfVO1AXQOPqBx0V+BJAwZOC5M+rDEAElFOobswcQCWNF9poshZAI1+Vh91WF0CKM609+fcSQIS/gcabNRJAvLjtmYkUFEC4tGaMDdwWQMHLKXg5hRJAVpG5dNlDFUAgGnb/k2kQQEdvcd7p4BlA9ZFq9JFqDECCThvotIEZQFYotHq4exRAlnbXIOciFkCY0F5CewkRQJOD3d8n5RFA6qKLLrroFEAuw7Mld9QUQNejcD0K1w9AS0wlphJTFUAPcZUpYD4UQCe6dKQz4RFA4/3USz3YEkC+GD3ljp8bQBS6hn8pMx5AGqRBGqRRE0BNX28XlewUQL0UZoCfOBVApuwGLm7rFkC0mQokFN4RQJVyoiCzqRZAH3ZIl6rHF0BXLKSHFHkSQMBmRy1C/hZA7QFBeZxXFEBXxwQP5okSQAjm2oG5dhZAvrHjGzu+EUC1fLHCUOIUQKa083lr5hJAvtJGN+ArEkBipacWVnoRQOAiJIgwChNAcd5InDcSF0DbPWx9GzAcQJe0JW1JWxJAPQWGAKcZE0Abymsor6EbQCH7TmMDcBNAJgn8RftwFUCfJN657kkVQP8eu0Pb3xNAtAuT//WUFECXqDgsgIkWQO09azDk6RJANfcwquQGF0CxcWp32XoSQAIqoAIqoBhAqX12TkQ2GUD0t5LcP9AQQCKsT7RUfBFAHNyx51wBFkAyR+n2ldUPQKmg87uJdRZAniFQVovpDkAQUtzXMlkUQBoaGhoaGhZA+98H/ajdFUB4NH5pPiISQKqqqqqqqhJAcfyiEp5tF0ASVUDaWboXQO2cJmFb4RRAz99LllSmFUCwVAJeekcYQEbNznlKlRRA/QNQleMlGEDBGdciQU0VQBh4wdRUzxBAfaf2BjJTEkCWFGz3ksMSQFAX+HSBTxdAzbHne1OkFkDA1p8UsPUTQNo69JutQxVAAssHLB+wFEDCvBFbGDwTQEPbuFX7NxpAQYZ8ZTmnFkAp8TNK/EwWQBcaBW5hoBVATAywB87EEkCBP+AP+AMWQL3Sn7MdHxJAc+3AXDswF0DfcAFJyKMXQCVepnZoVhJAMmZYJwfqFkA/UciMqhsfQBnOFbhqJxZAISXzB5ZmFUCevu1wwoIUQNUFR75TthZA8/yqmJouFEDB9i+3mYISQLHxK8L0/RJAzkkgLtScFkDztXp2CNwQQG2/o1fGlhNAUmQRwvuLFEDRJDjPCIcTQPq5FINmgRFAZX1cgdNzFUCRpih592AVQCmQPVhchBJAln0OqQnGD0BgAfVXQP0RQI1IfXindBRASS0IBciOE0Ain3WDKfIUQMqGPhSnbBhA7vUQoIaWFkBf9cnLTjgWQFQdKwGqHxNAYx9ghktXFUBAwi6HdvERQPIt3/It3xJAlQge6a/nFkAWhfpAa1ESQBi2LQyGbRdAgB4RRV0OG0CMLrrooosWQBzHcRzHIRhARaB24/MuE0Ca6X8DdN8VQDr4YtUvdRRAO4rrKK6jGEAa40jrKGAYQAS40AZwoRVA11e4s0snGEDOwqh7eH8WQBcPIMSg9RxAVlVVVVVZGEABHAzAwQAWQD08PDw8PBZAAAAAAAAAF0AEHJ4NJO4TQKLpQTCaHhRAG+i0gU4bFEDaOaY706AUQCLATUgXXhtAI98pW5wTFUAhxfJbp4EUQPGMZzzjGRNAHzeINekYFUBtoythSmMWQCehZ0we7RRAMjFUeHlWFkA6uNkvxIoaQC+tgoW4ThRAbsgb8oa8FUCVURmVURkVQEOxwF8CthRAsf2OXhnbFkBMgKTMMOgUQApQy32GexRA45VPxGwuGUB0qD0q+JEVQMdmf2+U/BNADkwQKK3JE0CX7FV29lgWQAS40AZwoRVA+GQhboZ0FEDt6+vr6+sPQI0o+7ewxBRA3QG/rWABEUC82BJ8m78aQBSfERTlBB5AJB020mGDFEBhp8ilxg4YQN/AYBnQEBVAJkAjmfUVE0ABulUygG4TQB3HcRzHARVA5HAZ8MnhEkD6gr6gL+gbQJTbmuEzGhRAM/B0a35YFkB1txcCU4cSQBy1lNO2zBZAInmI55NlE0Bvh5U3/3YYQFDyeg/XPxVAh15WDeHmFUAdRVqAXu4YQCOzqyfA0hRA2Mb39ogYFkCSLrDuRocbQFKQ03IU5BRAXyz5xZJfFEA0Oon2I0QQQLXf0Stj+w9A/1eq1v+VFkB3fc/7ujATQPxyEPPa9xBAp8yo6AaBE0CPczzO8TgXQFYfXPqxSBhAdTnHFo1xFkCT9NNSf+cUQOxdpF/nlBRAvOC4s0FeEkASJJhAZOMWQIuv+Iqv+BpAjHdvGYorE0BcKBgkbHoTQA5nWzvjcB5Aem2f1/Z5FUAkyMGyYCoUQMi4IOOCjBNA2hixRS/wEEBwJgbYA2cRQOueBQFGOxhAQvr42pmfFEAfNPLO3+IQQPmaeucE/xRAdFeM65b+F0AvGYJ1tLkWQJvx/ZGCyRJAoiiKoiiKFkDK9IEHtRAWQBzTJqAU9RJAU+ISUW/QGEBfb1kTkQMUQKF36loObhZAFcHfNUXwGEAIa1Nvq3sYQGnMDm/HOhlAGqbUjncaFkA0m8S5E6kUQMYE85Nt6hZAB/Dg37vzEkDDMAzDMAwTQIEFFlhggRVAS/pIolYXE0ADhBT3tUwWQFnIQhaykBNAi5UyXuj+D0AhRVbjOa4UQMMiZeDp1hZAIx020mEjFUCzySabbLIYQEsuPE5/JRdA9+pyYKyQFkC/vr6+vj4TQK48H+GlohNA2Y0bbMttE0BqA5020GkXQHpAss6VBxZAcUKjsK2yHEDeG6lZNgoTQIcfw3g9nhZARV1RV9QVFUCdNxLnjcQZQANeZFaojRNAlE022WSTE0Dj5KH1zD8SQLaXJRli/R5Ao4OTi4+NEkBblCIGP80XQOXiY6ODkxNAfPjzHzO4EkDCr61VucQUQJAGaZAG6RxA9yK3ZaAQGkBXBsLPngsVQBhc3SbOtBRAyXrnKX1MEkA/rsxtaLUYQNQaJ657UBVAgvwG8hvIF0AZo6fc8ZMVQJkiEDXrfhdAUB9oLQr1FUCMvajUsIoUQBpeCjPATx5ASb9TSIQJFEAGChCAZgoTQLQJxcjFYRdA1ZLFe1stG0COtmUHxEoXQDwpSP68yhJAm4BS1MtIFEA/1P1Q90MVQNdJGFI51hFAKdTMUzU5FkBI5SVf6fgSQKL3TKL3TBJAX8PjB7qAFEBmeiIYREkTQNPZ5YvTbRRAJbWnTxyeF0C3N1MevxMYQM2uuiiTrxFAXhVmkoIaE0CGLGQhC1kYQPVM5brjxRxAKZ2JGmtaFUBvZZ9DaoIVQDDXDsy1YxRAK5gl5YDIFUAmcxBw67MZQB7F/+gDhxVA+rewxM10E0A20GkDnTYTQDIsXpunQxFAtEb3mjatFED4INRdNIETQCjuXKLB+BJAOYdzOIdzGEBC/ReuDNEUQNlXuRwLTxdANR7NH2w8FkC0jgKG1BkTQGEuYMoAFh9AUhOMt7LPHUBnulRs6w0YQA/Y7bGWoRVAF1Gtsy+iEkCfQ59fbyQTQBhRrbMvohJAG8prKK+hGEBDCabXPgsZQAAAAAAAcBdAxrBllJXzFUBVVVVVVdUUQOHW3lj9gRhA27VywjP9F0CrqqqqqrIXQM0ce743RRZAly11fSGZFkBcGil0rFYWQPqn8I57cxVAAss5YcriE0CHn+WBafgZQPcS2ktoHxVAt6D4x++3EkCurFYd9zIcQMRIRFd/txhAb0ONhvtNEEBWFme0e9gaQKvyKSmz0xRA8RoMNjJpFkDW1eyCO9URQDjkkEMOORhASF1S5LDZE0DBP/NoUYkUQOgtUl9gshZA9CnoAVwXF0CMLrrooosWQAPiMbS+BRFA/UzNeJc+FEAa3LoifiAZQKDbwGt3yhlAIc8+1OeaFkCnTnDLbn8TQBOfwm8TlBVA1BonrntQFUBx2FJX7Q4UQLDVs0PgxhVA3yTvr4MxFUAwEZebPAcYQBmRl+wAwxFArnDPuIhiEUDVASVeU7IRQCqj1T7WERhAns8RfzbRFUDflwt6gvIPQL7lW77lmxRANpoRenXxEEB6nud5nmcTQNy/+IZqoxdAzTPC4RHoGUB8TYzU2q4TQGNGqNbTEBNARgBXX5G9EkDf8i3f8u0SQKWVR7JbPRRAYwu47z3AE0Dd5akvyl0SQJWDBsZQZBFAJ5tssskmGUALzOJOECcTQDutROyq0xpAspCFLGQhE0BOH6Z1lQgTQCKfdYMp8hRAtc75RWlaHkCtKWvKmrIWQCVJkiRJkhRA7M+H0xAqF0D7baVZ42IdQC3iE0gl5xFAC2ZJOSAyE0BUzm7hV2MWQJI8EVoiyRtAIZ8gxCpPGkCQtQwdsNsTQPV2zCdJtxdANKLOUaQFGEA9KxoJ+OYdQAzDMAzD8BNAo4suuugiGkBwNr8PxZoYQIuo1tkXUR1Ap6Els/rtFUCWJY0X2mgUQPRrD7msGBhAHBjxai3GFUCSFtwhyjITQFZVVVVVVRlAHBc0hpklFUAhzspPiLMSQJXiBr2iXBxAL6hfPH42EUC5v7VE7m8dQINfyRlIix9Ax7vYnPurHEDuukP0abgUQCg63a2a+hBAhn3p5FiJFEA5juM4juMcQIqfUeJnlBRAsiVuu+vJEECTwa0r4gcWQIX2EtpLaBtAi2KzEVXOFUAFEeyuZRYUQNNZTGcxfRFAOVFfz+MfF0BzOQT1gisWQONJ2UVxTxxAo0ahd/mvG0D0PsUlQ7AaQIchk3NDbRtAbDaiynkbGEAHaZAGadATQP40Ic0n6R5Af+OjkTpvFED2hD1hT9gWQNzREMnrmBVAmPV+We+XFUBu/xi0C/0VQKyhcWaDRxZAsRM7sRM7FUCk4y0O6XgbQBhLfrHkFxNALNlf6wrNFUD3b2GJm+kSQFAvR7WiMB5AxEhEV3+3GECHvtx2os0TQDTkTno+TBBACk7mxiuaFkCuR+F6FK4UQEcmXKGRCRNA0UUXXXTRFUAA7zCxKMEZQLRLtEu0SxZAZM/3pkgFFEDbtm3btm0TQJrgqbmN0BJAeIKVhMwaE0De4pCOtzgUQGbCV0B6mxJAo6hlgA3LE0C5dmCuHXgSQOO3Sz0ZvxFAGfDJ4TLgE0D5sf5wkx8TQGJl7kQdOhJA2Hg0f7DxEkAN5TWU1zASQE2PwDKkfBVArHtrAaKBHUCAHt7OX3gYQNu2bdu2bRVAzczMzMxMG0CL17yjAPwYQLTDQkDk7hlAHMdxHMdxEkDBra58CIsVQFQ4FChd5hJAaWyudxW4FUCp+tK0agkSQOdjcD4GZxBAgk4b6LSBFUCBg5qt2NAUQHtlbL+jVxZA4Vpzndv+FkCGJ+RqXXgYQKqPql0YexNAyRtrMaE4E0CzC5rBH6IWQNZDsZ1FuRFA8xrKayivHUDZp7/qu3EWQK5STNBdpRRA2NYPuYPxEECK+KBvc2oVQGTC1OQy9xVAo6X/82fOFUDCaST6lGMXQA1Ix1ImwRZA83217VB0EkDhHuEe4R4RQOGDDz744BdAN+CG9ehmFEBPsCEzXXcaQHKRGN5c6xVAYWWrCxDWE0B/vmvL9EQUQO7JDMu7bxZAlrAWHmV1F0AjEXv/5IMWQHowejB6MBhAOXYDtJBkFUDuKn43Jp8YQFou3NU3yRdAFDbWzmsVE0BmkhZU5nYYQIl9mXjMaRVAaJAGaZCmGkC1gyLFxSoWQGgnZ7npghhAMNEoQB/tF0Bl287zfT8VQPtmEOGEgBFAEgTIgcdIE0BH+GzT4HARQG+rh8FJ4BJAEF8jkL7bEUCVwJTAlMAUQGf/AvFKiRdAVlVVVVVVFEABnxwuAz4VQFd5DIzeWRVAqqWHtfa+GECZO2TukHkVQGMCbNfTsRJAY/9gIsh6FEAHvsEJnaIUQIujjIdN6xFALt/yLd/yFkCO3Uc7qc0XQJt+vuHRpRFAi5C/ZkctFkD2cmtXd8wUQOtQKGHe+xBANZujQPuQF0Dw1W/+UUoSQPIBbT9x5xRAfEz0qLAVFkDJeucpfUwSQElZgDjBRRRAOpG64Mh3EkBJn/RJn/QVQPKUIE8J8hRAqXX2RVTrEEBpNt3499YRQHt0db4hOBdAMtgRjk1zGECJVZ78JuQTQKeEkKXCBhVALfKklmQ1GECDwWAwGAwWQERERERERBdA4Wb2vwDxE0DzIbFeZ4EPQGpOAnGhJhFAURRFURRFFUBCFTISxysRQJz8Tf4mfxlAYPhDN1OvEkB/1Cl/1CkZQM/QZ+gz9BNA/1UqQLX6F0CNvfsZe/cTQAVUE5c5fhRAcwpeTsHLGUDPmVou3FUWQDC99lkowRRAy8Y+PKeFGEC2VxSbjagSQL4cYNnmyxVAD91MvZIjEkAaJwxC1q0SQP1FQT6ORhJArpvmummuE0D9ZuvQbzYWQJzT1Hp+cBlACmzgZqr2FkBWVVVVVVUYQInlLH0XZRRAQlwFJwy7EkBcPLnFkxsVQEUXXXTRRRtAVVVVVVVVGkCn9SsFat0UQIiHh4eHhxdAUJo2WgSjGEC5qxQTdFcZQAgld4oWzhJASX89V7FsFUAx4oElAXsXQL7lW77lWxdAPd+YNgGlGECBmW7YStsUQAnzu1rchBVAHWmONEeaE0BbrAzfiAIYQLeIip567xRA8PDw8PAwGEDya1v+eHwcQIxBRbilZhVAcK+HADW0FEA3atVk1h4TQCZRHYicDRVAViRXtr8qFEBu3VzZdnoaQBq303v3DRpAtNxPm6BUFUCnLa6QBKsWQB8ubhVskBRA6a7T4b93FkCUHlkSz9cVQP8yCgKa6xNAbMEWbMEWE0ABox3utvIZQNsx7qowkxhA5iVZY44FE0AHEwWs+mQSQDJS3sf3nBVAq6qqqqqqFEDGNhjbYGwRQNETBbPhuhdAoFQxDkJrFUCtvX1npiATQJqZmZmZmRpAyuN3gpUEFkAcwiEcwqEZQD7RUvGNnxNAN5dslCekEUAAAAAAAIAUQF0YQ1ij5xRAFO9HTvO1E0Ax0W25G7UbQARhQn4gTBhA0UHCa1LrF0CjxM8o8TMYQM6+iGqdfRVAUy/tYNaIFECFSZiESZgYQI3G+wp9VBRA6hdFcp/MFUDk0skMbVcYQIM1Qa4rqBZAdUVdUVfUEkB/sPFo/mATQNfhB3uL+xJAVAyqD0rzEEBi3s6QmLcVQPPiTySc0hNAGjKObInAFUCPwvUoXI8TQIFlf6OG+RZAdf1rEnE6GkBEny9b4QUTQKbTs6ng2hpAc/ZPorA4FUAkF7VnLWcYQIq/Uyt82hFABYcvpAjYFkBssGPoY00aQJJHS7kjeRRAntiJndiJFUC8u7u7u7sSQBcpekXjYhRAwpEdiDlqF0D7XxadMqgUQFAoO7dSEhRAvP/2zVoPGkBz7cBcOzAXQPYuN+L6+xVAOKx9w9o3FEDrXHlAso4SQKREe3OcVhVATPgz4c+ED0Cd0AyPYPQUQGELtmALthNAVF8694fEEUAv79msN5USQOv9iUH0wxFAgiI8QNDSEEAiRLN7l4kQQF9CewntZRhA6gaH1YLLEUBMhRLI/iEVQDFBd5VighJA7+7u7u7uEEAVHzU6xccSQGY8CKStlxdAxo1xY9wYF0BUdy+/n94QQJHTi97/FhBA5e0MiXk7F0BfB5JY+XUYQAVcZ1m5pRRAaQCl6WI5FECvpwm0pGgVQEYiGb2b2B5AVRAvwZnxFEBKbyzeVrIfQHsUrkfhehNAHcUqNxMVFkBY+fxy7hoVQDEPZMPBZBRAaUQztY5VEUDPerHSNbwZQPwCofYFQhlA/eo7TivNGUClT/qkT/oQQLYrUbsStQ9A18WJt1eIFkBu27Zt27YTQPmdYCUhsxZA2WhXawt5E0BGzJ0Rc2ccQMIkTMIkTBhAuKZiCNl4FEA4juM4jmMVQDqkJhhvZRdAOxv1nY36FkDEjM/llygSQHVQB3VQBxJASCcfnXz0EkCG5GaXlyAcQJrmNDWokBFAdqjkmxUuFUC7Gs3cJSYTQOi0gU4b6B5AsVEsyaJ7FUCuIwF4P+MOQBhRrbMvohJAvYDUbk0lF0CxvNJVxPwUQJsXfyLhlBJAL4C1u9bEFUD8pNMgua8QQKlxaxWaGhdAr0WCmgrRGkCCq2hnSq8TQEwqEUvmvBRA9vKVwzaKEkA4cf/iGyoSQD6C+wjuIxBAYc3j/oQpFUBRrbMvoloXQObNKe8gixJAYFm9Sx4MEkCChNHywtcRQBmRl+wAwxFAI0atyzBIE0ATOIETOIERQCYA044vdBxAdrljLCuFFUAEH3VLFYIXQKqqqqqqqhpAhg+AIAxkGUAVrkfhehQVQJpTBvToPRZAHvAis0JtEEAkS+L5umITQETwIbPReRZAJhRiuGVCEUAzgqR3KAYTQGFd/5pEnBJAJurDmmmiEkDmNZTXUF4bQOwWMKclGBZAnSExb2dIHECWqF2J2pUYQHzjt2TSIhNAGPXI0ZzaF0C3SvB+j2oXQAucg1+kOBJAYjEjFjNiEUDxBw7dWzMSQP3prv3prh1A05/1u8a0EkA5lyaEh5QSQOXBgDOuRRVALAMaopcOFkA5juM4juMSQN4xZ0cfPBdAiqNJlYdqEUBgq0bwMHMWQEdu5EZu5BpAg7zJqCAkFED9GJ54i1YRQPYwC8gXCRZAzTPMM8wzGEBHZBBqzEgTQAgLd8+N1RRAQzFycdhSF0D9q1SAavUTQDrWHcYE2BZActfPFivDF0DbEqb7xU8eQM1EXrFvfh1AQqkw8X5kFECyDzDDpasZQFaY5Bm2VRFAS/jILZBzGUCp83YJ10gSQPIOOFI0xBRAQVQ6smcgGUCTTTbZZFMaQCKp5l2NHBdAAgpQgAIUFECneVUDecYSQApui76GwRNAP/rzQ0hRFkAU+FQhFpcfQHI1Hmq2RRRAmYiDE6W5FEBgeTK6Mn8VQPobdLtWThJAMpI4VArdE0Cc/UKsKI0XQCuPZLd66BJAsuu/Jc/VEkDrnam/BnkTQDWP6UOe+BNAbUlb0pa0FUDAnU/IvtMUQAzDMAzDMBpAb4eVN/92GECwBVuwBVsTQDJ5AqLz1RVAQty4n+pEFUAtCXo9S4IWQELh/SsvbRJAQ5BI4TtGEkD2GRkOThoXQGVNWVPWlBlAvyZyCfsgGkBefZO8vw4WQPPkum0Cdh1AHNMmoBT1EkB1fu0hlxUVQKZ8GaVqyg9AoC45tSacFEDfyHL4jSwPQMWjcgOcUxNALRvMdIjwEEB8IX9qjQMTQMNF7+DqIRRAn4zfLvVkEEDJcORqF6sSQF3n0qL+LxNALtScBOIiEkCUc1uv7w8TQFI+nZRPJxFAJl5J04UTGkD0y7lrAqQXQEhM47sGDRJAaC0ZGIzWFkD2Dzx2L4oSQN0B0XBbARJAJsQ0KX9OF0CARjPIS/EUQJ2D4ohdvxRAhc2BRCtsHkD2zUOheO4TQA0bL+96XRRA3LZt27ZtG0CKIEcR5CgWQAAAAAAAABJAbreavtG5E0DCEOA04x4dQHwaYbmnERZATmu2T1QPFEB69UB9IsQQQCwD+ajythhAzFm0VLsbHUBSoNavFKgTQJJfBfbt/BdA9abyIUybEECldygGM4IYQIkvIPPReBJA2TmmO9OgFEAA/oanNUQXQFGbIwY2qBJAoVSYeD9yGkANlPBGU+cUQIWCgRpDKBRAnQGh5E7RFkBFMGn4/boVQHroySGFpxZAAJlu3o0VFkDEB3L05TwTQOKaJztvVBVATWGcTWGcFEB0W78vbnQTQA48yDNiSRVAGIZhGIZhFUD2+CuthbwVQKWUUkoppRlAt6yMEWeiF0CD/VYbQ9MTQG8Gdm8GdhtACvKSODMoF0DDG0NKNNMUQGI2lw412B1AbQJKUS8jFUCHBt58ldoXQHf4V8Md/hNAMR4ZbXINF0AGi3uindASQPMbXDUkfRVAHJZexInKG0C6wP01lwsQQG/5lm/5lhdAwjov56SGFUDi6O2YT5IWQES8Q7xDvBdAwdrQG5tpEUBuNm1xhSQYQCndvrJ6lxRAyoQwdKolFUDWs0PgxjIVQAstl38vehJALA7gtjuwFkBevTsIfQsUQGgvob2E9hNAnWouleAUE0D8Cn1UJDsUQA/soymiPxVAyy677LLLFkD1nY36zkYVQEmijc+QOxlAXj68WMH6EECa8vidYCUTQGyTSADJrR1A5tqBuXZgFUCMJb9Y8gsXQJ19EdU6+xZARaMsoJsCEUAN4DGAxwATQGa7EGa7kBtAuc1zRUoJFUBJoo3PkDsZQGF3JqPFKxNAoRtN7GaYF0Cn6/R3HjYYQPBTXDIE6xZAlk/EbC4dGkCsClsn/iMbQNqAnw342RBAazctK5GlFUDVCzYuH/0RQEYP7VQHfBdAuWB4rdqgFkD3ecCLzAoVQLSzcCkByRVA/ZgeBs7CE0AQ9gWWP0AWQCNU62mIlxJAXH/eijnHFUBVPoz7dUkRQIjG+tBYHxpAn9utFDRwFkBo98kwBvcVQJvtE9WDRhtAoF+dTR/bFkBD7vFVOyYZQCa/WPKLJRdAj8L1KFyPFkCLlIGnW/MSQOdp7G7xcxZACss9jbDcE0CEnmjU/KsVQIslv1jyixpA6lHd/VTJE0DBuMcOvsMRQC3v1Ra5zhBA0etC0etCEUDjA4iY2uITQG2yySabbBdA27Zt27ZtFUBZQYjwmJAQQOBTk4r+PRRAzMPlQMvgEkC7D7eAwqgSQK8dmGsH5hZAhjW8M3qpDkAQsXIUjW0VQOZkXTAizRZAAAAAAACgFEBWVVVVVdUWQJLiBEaWFBdAnmaH3arIFEB4WTy9buARQEdJDZvk5xdAc+3AXDswF0BwzxnbMoIVQIZaogGTyRVA6/2y3i/rFUAj5K/ZUYsUQHbRtGNg+xFAgC7xiKQGEUBlcNHElvwTQMHEWk9C6hNAIRlQz1SuF0DLqLkyaq4QQIC+hST/cBFA7tGXLg/rF0BkdjYipnsTQGmMlVfPjBNAywxjjZDYEkBcZ+5VCssTQOF9a2R1GRZARnnIeWuXEUAbzPsOntcUQKuqqqqqyhNA8DrX3P0XFUCcMhlRCXQcQLqNyJEC6R1ARY+SGjbJE0BWX8Co/UgTQGa4vnNahhNA5A6azaflEUAnj4NqhvIVQJG8Farg0BVArBzO+DdyE0BtSVvSlrQVQGGSWwkOlRNALzL5J7W3GEABHDnVMa4UQDVjAd7AihhAtxzZjImxGkBAyLUB5lcSQHcIJ89rSRRA7l95aTMVFEBfWwhu018YQAFVjtAPUBVAOCXVITbwFUDUOvsiqnUSQErz4k8knBNAb04drkb+FUBNFEDaMCoVQNmRcO2KHRVA2MYG7B82F0CLegpID0kWQItUc+GIrhdAuJDeQnqLFUCNEWX/FpYSQBW9E+SXThVAPZRWL1wEF0ANYxDtyzAWQJ7neZ7nCRtAMF1gzCTjGkCIap19EdUfQPio/xCuABpAiGoMsYSoFkBVY46kvPsTQOTY3I97whNADV92kovaEUCYXXbZZVcYQGm6LvL0wxRAWjTObRTgHUBEw07HfsERQPTFFIpKwhJABhi9XIeMEEDRmwrg2QIRQC0pB0SGexFAckwgQhQ0GUAracEdoiwbQP2FnpNfIRhAmKC7SjFBE0Ab46TLObYSQI1fOJWErxdARpbvXAymFUCoWKdYp1gXQMXnTC0X7hJAJ7/esFy3FkBmbkOrhaATQF3atS5i9xVA5muJa4CKFkDkcSuS8PsTQOqzevMQKBxA/PTTTz/9FEBQoK1g5AcVQJ7P2vuBbxNANXpraKuSE0BeTV1NXU0WQIu4VSLzaQ9AeuEi2L8kD0BhKceOInwdQFBu8eQWTxhATbiYWgq4FUAndmIndmITQLUxNN3B/hRA+hjeZInFFkAEqKEls/oVQPbWhmnughdA7tm5Z+eeFUDEJ5BKzssaQHHYjUEcdhdAaOEMCCV3GEAk5Ztz3QoXQDBDAyBatBVAx1vkkG68FUCOKDDp1DwVQNYOzLUDcxVA032uQVYqE0CRJEmSJEkWQKkeNPLO3xZAhKExAc2mFkBaIve3lsgdQIZZjSIOnRRAOvsiqnX2FEAU3r/y0mYWQBBjH2CGSxdAmW+mDUOIE0AN0iAN0uAUQMVO7MRO7BhAfdr/WkF2E0Bu9IdCcgERQPONEGVBGxJAt23btm3bFkBL68cytFIRQLigbsn/UBRAEasr7VDKFED/osK/qHAUQNjq2SFwYxJAk18AffvXFUBQ6VcLVHoVQNcOzLUDcxlA5tpaK+awE0ArTLwfOc0XQDUQjkZMYBhAOjrWV1zPE0BLDNJkDmQWQCG+rdzt4RRAArkmArkmEkALNy5jJZgTQMLPTbyelBVAoV0LY/ESGUDyDMzuOhoWQOM0hEq60RpA3Z/pxl4mFUBI4XoUrkcfQCK0gfOwQxpAyo7D+WZ8FkBjMC3sbFESQPUgikS19xRAJ5OFWnT+GUB8Fb1MozYXQJarOGB7mRRAiYiIiIiIGEBeT71lN6gbQFIvPojRnxFAxzjpco4tFkDbeer1UuEVQJ3bQSnJuRlAAE7uJ7/aE0BscU6kLjgcQC5C/podtRJAq8Jj0pxoE0A1ltNYTmMRQEKAtXFSMRZA31TsotS3FUDe34zuZdsSQNxSs2F/FxJAITFvZ0jMF0BcqDkJxIUWQDlTJREGChhAlkQXsMf0FEBFHzeINekUQGHj0fzBxhRA9zTCck8jFEBVVVVVVVUXQG0s+u/TxhJAu0XGKiVDGkCJEM3uXSYSQKrjhAZefRRAimsBSwXpGUBeMCLNztgUQPkXMh1hxBFA77ZQPsXnE0BJC9DLXTEUQGTk6zYldBVAto2PVxyDFUA/o8TPKPEVQCrVuAQe0RRAw+AeWl0cEUBR4OD+w3UUQLPUydQYtxhAksghAut/FEDf2f8Gt2UXQJzdwq/GRBZAo2ZRs6hZFkB40s2zu7QVQCxJnBIQyBxARa8LRa8LHUB97cxP0+UUQFtrrbXWWhNA/cvWpkuwFUB6f+xuJiQUQAESfQ4o2BFAq6qqqqqqEkBrWRFfKUUTQJWrA2Tl6hVAFzh4qYnTE0CFrcybCy8RQOffDitv/hlAYR0KOtn2GUCQGNl1hgcTQIkS60DofRJABggrW12AGEBBmiXLKU8UQJcMwTravB9Ay6JxbqMAE0AYS36x5BcPQHhQ7rcgEhVArvlhkTLwEECrW3f9i4kUQBiwzekqzxRAsrrZVUYIFkAJoB+k8pITQOFJQfLnVR5AwXvUfwhXF0DDMAzDMAwTQGEdbd6neBRA0bYj3KBhEUDgEcP3mhUXQBxtLc/IJRFAqHKEfoAqF0DaQMZW81wfQBtr57WK/RZAAN5Ew2BjEkDhQJWNpboQQPdBNRhojBBARnhSkPx5FUDvyxXlbHYSQN3TCMs9jRBAwoaBJb5kEUA8jGR4bvMaQDWwMgPsPBNAK9IJx7D+FUBBtEwQLRMUQIwnt3hyixVArHPlAck6E0BO7Y2UMAYSQF5EdxHdRRRA8fZDAm+/FUDpTW9605sWQJ6dFG3m2RlA14y+8s+RGEB6KLiS2/MXQLloshkSwRBAxmw9HsATE0D6p42nYAUSQM3MzMzMzBRAgIemIhPVFEDuuhsc79kVQO6MD/BpsxVAAAAAAAAAGkCrqqqqqgoYQGjZdPnEwRFAf94/ljnCFUCi6E9j7FkbQFcd6SNviRFAPCm7KO4JFUAiwYAAqxwbQG1+O1j8shRAxInK00L3F0CVqF2J2pUYQEiRFqCXuxJAxF//qMKxGEA6ZDShyMsRQMqUTMmUTBRAr30WSjC9EkBEHriKdqYUQAg9/bVzgxZAHC4DPjlcFkCw8Wj+YOMRQI0dSxAbohNA5tqBuXbgDEBmz9oIR/sXQFyPwvUoXBdA12FLeB7SFkC3bdu2bTsRQBJ9QHXsrRVA1uImzO9qEUDmpDByt28TQB0sbFH3dhdAF3Gi8rTQF0D59ouG2sQRQNBAAw000BBATNBdpZigE0CWX8HQ8isUQJ5oTmAo9xRAPCKpwVHgFUBmWCcH6h4RQNJR+gr8uRpAr6G8hvIaFkCAtUkhctATQEZU6+yLKBFA1Uqt1EqtFEDLgE8OlwETQDvbCvP++BNAZZNNNtlkE0AwpesV/FIWQC/oC/qCvhpAAAAAAAAAGEAAmW7ejRUWQKKajrlEeBRAh1QYdcgsEkAZ2+/olbESQAkieRSQHw5AbIylM2uAFEBUaW8pzucUQHSWyb1x+RNAl00IZfi4FUC1YiYd/cUWQLZ3qbCMQBFA1ULm33LxEkCsFLU9PeoTQObjdfjB3hRAqcAXVz/oFkBFjqkagP0bQDbiz5BHjRpAZmZmZmZmGkD1fZaIIY8ZQKrlwl19kxRAvOv7yfZDEUDQDoEby6ATQOxWi4E0+RBASuvU49k1E0CX8pGefgcdQLz6Jnl/HRZAWyigY/PdFEBO7MRO7MQeQHOwiRuf7BJAdZTTUU5HGkD99noIUEMfQEVdUVfUFRVAHMIhHMIhHEDxM0r8jHITQGnaw5//mBFAYid2Yid2EkAOrhqSvlwSQA6uGpK+XBJA2FBeQ3kNFUAZ60NjfWgeQCcSK4IP1xJAQzaqpXNNFUDFT9HjwSoVQHtjz8bL/hFAzczMzMzMHEDtFcVmI6oYQE3TNE3TxBRA9Sl5ISezGEA1XYWt1f0VQEzUrkTtShdAe2AczP8OFkCrqqqqqvoVQDDoC/qCvhRAq3YH+jfTE0DtJbSX0F4SQH5BVSyctxFAy9cm4yjUEkDv7u7u7k4VQG2U2ZYj6BZAwyezG+oEF0BOMN7KPocYQF9LDnGVKRhAHzCAMx9lD0DXO1g2DHASQJMriMkVxBRAa+lGcFwSFUCZyiRWTxsRQGf2vwDxKxVALOuUOOHiFUBnNzKz+NEZQFoowfTaZxFAI2g4qfvyEEAAAAAAAIARQGxP/p3LIRRAHLmRG7mRG0BLXCLqDZoZQGnDMpe/nRNASWWzeAZxE0Ch0wY6baATQO/Xzxma4BBAyz2NsNzTGEDmMprLaC4TQNtnoQTTaxVAmyYiY+tjEEABmKg4LIAZQC+SfGE5LxhAz9y3hXidFUDAXDsw144TQJMvGzT5shFAm5+s00ioEkArmCXlgMgQQAHKdsfi2RNA6td9EK8uGEA1VwDCE/QTQImd2Imd2BJAuLiB8q5YEUA1SZsiMs8dQDOj1zk8bxRADwN+FBnWEEDUqi6d3gkTQGtJPaA17B5A2V/rCs3tGEAHlqcg6vgRQLy7u7u72xlAw9UXIl6QE0BdVgyU8EYTQO7zgBeZFRZAw5trPStoHEAt0YOrCTscQHkpzAA/cRpAUYnka+qdE0DNRUpQnd0TQJYb2gkXqBNAztuf6JE7EkCnOvAaDDYWQKlFyF+zoxJARowYMWLEFEBUVVVVVaUYQJf1flnvlx1ACYX3r7y0EUDjrPyEOCsfQNYe45CIWw9A9aY3velNEECJqcRUYioZQH7jVVCCwBRAVDIlUzIlGEBPsYokUB4SQBk3R8bNkRFAQ+fCGnFgFkDzzHE1zxwTQIFq0btRbhVAT+JehzSTG0BrWuDXmpYRQKCPP8P0HxVAooJsQ0DxEUBIfDtIfDsYQHfM/Ri3ShNAIGw8mj/YGEDEO8Q7xDsUQJ4RyTLpGRlA2DLv4WsEFEDzPM/zPEcTQFtJ+89mZxVA+VNNBoVtE0BEXT/NpjgTQJIg3pP1jxtAvKl12QSHEUAAeyvZwqIUQK5zaVH/lxNAyHu8x3u8F0AYUa2zL6ISQAeHew4O9xRAZ/cuEyGaFUAecUfcEXcUQGqJHlxN2BlAHQSZxyCBF0A1+S/dlQ0UQHxyuAz45BBAOPKdssU5EUDFmQolkP0TQK7sc0hNMBZA1V4HqWiTFEBPvfWb8OkQQCX5O7OfChFAf6oT1fKUEUClNfN+c18UQJYBnxwuAxdAX3gvvBfeE0Ddo9JfYnMVQPywSBl4uhVAERERERFRFUAlZhLKRTweQI9X1qEdPxVA6ATKUXyoEkA9lbvFojcUQHeLmawRQBhAAAAAAAAAGEAnpORZRvQZQGl/uwZYRRJAuoxBEzZOG0AmaleidiUSQOWdv8VpzRJA5pPt6T4WGEBQC6E5g6sSQK3g8IUUARFA27Zt27ZtG0C7d+/evXsXQLQM5KPK2xJAwTuHP53qFUBalmVZlgUaQJqZmZmZmRlA09LS0tLSFkDIlbce7DoRQPv6+vr6ehdA/5T6U+rPFUDaQJJDZrUUQJWHOysDVhRAzVvWN5IHGEA9yuxvx1cSQDSqCNCbahJArHCyp4AFG0DM6rfXQ4AaQNQFR75TthFAPC74hqMPEkCB7irFBN0ZQF0vRAMoahRAY3quCA8BGUBO5NSUesUUQB/CewjvIRhAkBS72MisFkAAAAAAANQXQId1cqDuWRhAkP37HeghF0Cq2bC/i8ESQN/lTt/lThdAQYZ8ZTmnFkARfRouO5kSQJp09Bf7thJAOVNR551FFEAbll7EicoRQM4u+lGY1B1AXDyKxThvFUDDMAzDMAwTQIRCKIRCKBRAu3fv3r17F0A8x6DLPG4PQHCkaIg/bhdAmpmZmZk5EUCg86PDH5scQFxCkeGXWhVAa97hOgAXFEAJuw7a3foSQJhRENBc3w9A7ZbdGSDaF0CS9Cqs5UMQQBwpGuKPWxdATKfF0mmxFECOISWaaewYQPwBf8Af8BRA+DcMdtPVGUD1nY36zkYVQL8vIDk0exZAzbLXLHvNEkCNLU2kisEVQIFI7x3uKxZAYVrsOwlXE0DGSJZO1zgYQDWKOHTSPhRAZopOhTLrEkDMBTXAuL0NQBA5b+0yyxNASAucbs+KFUC9R4Xuz3sUQCqXMXwNEhVAV/Rxg1iTGEDYwGcMRwsUQL2puQGb8BdAH2GO7jodFUDqRxPVoiETQPivvLSZChRAq6qqqqqqFUAQ5fPJzZYRQJkyZnfS8BNAqe3pUZ9xG0BLk4sgrTQVQPdO35S4JRlAoTVnIrY8FEAXpVKGEfATQFoUiG8+3BNATGgvob38EkDl/tYSub8RQBnogwVEnBRAG3uYBeSLEkAYWO39jYEZQCTv87JRjhVAyC14G0jdFEDcwA3cwA0TQD7nJlXDOhhAWwOlyn14FkCVx+8EKwkTQN2yzfOAThRAMlDZe3c0EUB4G0/4buMVQIZZjSIOnRRA8/Ly8vLyFkAqlxOadsATQGnq/NpDLhRAMFDCG02dF0A9V7FsfDMaQC7f8i3f8hFA7fcvE26SEkCvp62nracZQD6vdW4gPBNA0Xiy4bGYGEBLLBBFXk0RQMitiANiDxhAxUEKQ65QEUDPIReJ5I4RQBIVZBsCChVAg8FgMBgMFkBTzh3uPUEPQPzWaSDFchFAFbELcNzVFkDvmBrYO6YZQGE8w2/y+BBArNHYyxJ/FEB1yak14QAVQCgSTmle/BVAr+a4KLV7GkB27zIRotkVQNbR5n2KSxZA8tX6xO8hFkDvX3lpMxUUQI/c7/qPkRRAQoQIESJEGEBBpw102kATQNh4NH+w8RJAOa3Kg0vCEkAw8gS/IEAYQMkmm2yyyRdAvimLe2jgEUAgbDyaP9gYQCkm6K5STBFAY3cUKJmWEUA2BQYdHTwTQJ/htXigBhlAio4dEupdE0CIxvrQWB8SQN6OGxpcIRJAsVvRxw1iEUCGwLeo/GcbQI8LBNu/3BpAQDMBHu5AF0Dv7u7u7s4WQJXBkAjQPxhA8ujAe74xHUDqVk+foi8SQEbpxpcxeQ9AAAAAAAAAE0AVauM+D3gbQKgpIZ4B3BFAioRTmhd/HkD0PdH3RN8PQAJqkXxK1RdAQKm9RSb/FEBf8RVf8RUSQLETO7ETOxVAa1h6EScqFUBRXxfA2l0XQKDa3kx5/BhApXnxJxJOFkBVVVVVVdUbQIYfr3VZ/hNACJxOaYPbFEBpxwqEkXYWQJ9fzl0TIBhApEXHJY9uGEA00PjKF/8QQDxj2Ttj2RNA8QCLDTj2D0DFISHjZI8SQJvoAKSirBRAtIZaEMucE0AHXLEGXLETQI7jOI7jOBZAA6aaY/ZuFUD5plbz32YUQG644YYbbh5ATICkzDDoFEDbCZExkAAWQFtd+RAWAxRAs5CFLGQhGkBPtjsWz54UQOFdoYx9FRFA5dHOD0TzFkAZfeWfIyEQQB9sPJo/2BhA6rfXQ4AaEkD4MbSVpYIRQAZf16GFXBVAc93xYkvwE0D3qe3NlMcYQOM4juM4jhpA7n54SxByFkDtJbSX0H4XQK4DfgkquhpAejuQakJUFEDyqgEKPGgZQD/VoYxEHBRAdV4Bjbt1FkCkGt68yFYWQC677LLLLhVAp9/UGyXcFkBxJ0wgsWcUQEyXh/XzfhRAndpFaYVyEkAIH3zwwQcXQAmiAXMRFhVAchCKX5nFFUBcOZ4De1YUQIhqJIsAGRNAW4YO2O2xFkAPcHQ5DAgRQDR6RAXZhhNAUq5RrlGuGUBqA5020GkXQEPyk1DXyRhAOFuHfrN1FEApXI/C9SgYQM7ja2U3XBhAHJ17JZHKFEAPFqozXzwYQAc6baDThhdARGwtIv1kFkDVNCLRBngSQEwcES7yUBdAwXJOmLL4GEC8u7u7uzsXQNZfODDvyBxA+93HiZbrF0Bpdsam6HMXQGljpezxrxhA1YdIyDGyF0DETuzETuwUQHTx7DsC2hhANJpBXooHFECOfKdscU4UQLUlbUlb0hRAioyDcuYtF0C8f+WlzVQUQCMCQYJ9CRRA9+nAs/1RGUBu27Zt27YVQEndl8dWBBVAHOoEGWjjEUCpSUT30qsTQCgW98OJxRVAqShVyExYFkBeidqVqF0ZQH+glKUfKBdAMj0MnIXnF0BFF1100UUbQPTiTySc0hhAAcp2x+LZE0Dtk3RabysYQNI9s9ChahNAe6V0P2x8FEA2lNdQXgMYQLW5uIUpbxRAVe9PDKIfFkAMVvfMpdcTQHg0jSmGNRhAKCtS7BVjFkAJd2PfI3ISQME2/EKGfRVACG9aK5tRFEBIkiRJkiQVQGw/QVitEBVA+xFBHB2aFEC35odFykASQHrV6PZG3hhAX996UcfvEkCCSogYTCcVQPap7c2UxxNAraxDgNeiFEACf8Af8AcYQHjfIKFygRRAXL7lW77lG0DQAi3QAq0QQLfJDC851xxAXhArM3qdE0C8u7u7u7sTQC8VnDKlnRBAPfMP7NjwEkCTxuZ6V4EXQFTB6lPB6hNAFDuxEzuxE0CEHkIPoYcUQPkaSN4lqhZAg6nxCTdmGEClSwhFYgoRQBmBERiBERpAgEPzuf74G0DfiAKTTs0TQJLvlC3OiRRA67qu67quE0A4pXnxJxIWQBnwyeEy4BNA7krUrkSNF0A3BBSfM7UWQFzAtX4+nhBAaNwGMFAxFEDCck8jLPcSQCOfdYMp8hFAlhI2QIzGF0DvKfZdGTYTQCpWA7iK1RRAMoHEnv12DkC2Y95bfBIfQPTTiYpvcRVAXXhCrtaFF0CFH9xZWFcRQNACLdACLRhAHYBUlBW3FkCjndFnXtgQQPqZiOLyUg9AAnq5K8Z1D0BHVpdhr/QbQKYg9I9uYxZAvHTB7IPtFkBZ8oslv1gUQKuqqqqqChZAEebd6nuGFECYBw6laBoUQFp7+85MQRJAz5CYtzMkFEDbtm3btm0VQAlXAO9R/xJAlvxiyS+WE0DXAtMMA6QSQIjiA/W9uhpA0E/BPFwOGEAZKx6VG+AUQC3/qsxYuhVARcMKukY0HEAVGAKcZtwfQIPgVCZsgxZACX1OlKsIFUBmZmZmZmYUQAhAgzEu9hRAy5KJjp9HE0B19jpm0uAUQIxgFS613hNAMAg+By3VFUCXJJaCKbMUQJ2vwarL+RpAkIiM2eIwEUDpiUPhq08VQA6+fG2N0hlASaghba+8GUBwjEsPRQkUQJjQXkJ7CRNAcZrkLhDpE0A7ha5T6DoVQAIviTITDRZA8yQyDdvNGkDvX3lpMxUUQEDysYieOBRABAFy4DHSE0A5ZhpFimYUQKJTgMaHpxZARGqC8Vb2EUAAu3K9EA0YQCw9UitMgBZA09LS0tLSEkAlZw63mpUSQGpJ35W2IBJAAVSW5OnlFEAykjhUCt0TQF6DmQfnCBVARwiIVkdKEEBnyMybGTIXQLdgC7ZgCx1AXaWYoLtKF0DhoXJlkakXQE0xbfl5mhFAtPD8mB4GGEDe9WTKaa0XQO/Rb1v6HhFARvaeruCbEUDgyHfKFucSQClQ61cK1BpAmP9Gd3YEE0D42LcknWwVQLzR1Pm1hxZArph3RDvnE0AAAAAAAAAWQMy3fMu3fBNAKyAYki2iE0BKjt6qmwATQJtEnA4T1hVAwOquh48nF0AGaMn9eNQQQE4g+qOzUxdAw9gbaN8OEUCpGclLpXcSQEh6h2IwIxRAijB9/1ziFkBn5SfEWfkZQG6D0R6i/BFATa4gJlcQGkDU2ADc+YQSQLqEHZyethVAzyWjpEc+EkDnLvirOCEXQHQCavcMnhJAcT0K16PwFECL+ARSyXkRQNU8yF0/WxNASL0khQ1eFEBipPP7IYsSQBiGYRiGYRRAr0hGdynDE0DpiNfMY9QbQPWsrvEmRBdAr+jPbOCuFECe6aEb54wXQAkVjZ9TbxFAC+rUccMVFEBkK4KGk7oXQGGoG2fWixhAeWkzFUgoHEB/fg3JDToaQL5d4+t05x9AickVxOSKFUCon3766accQOECF7jABRZAp7Un/87lFEAyrlv6FxoVQGDKSyxHcxRA2mhx8DxyE0CUf+dyCOoVQKoZsSte3BdAGYdjHI5xFEC+t+TAc1AVQN2hJu6e+hlAdJZQSwfNE0A06Y+DcUMWQIOZI+v7QRVAo56YD8JNE0B4MagIt9QTQOnPbOCu6BdA6U1vetObGkAq2u0o2u0cQEGnDXTaQBRA8cEHH3wwGUAkJ7r+x18WQKY2VLi/mBpA04FyfSydFkCWlpaWlpYeQEvQErQELRdAiOf+vpn3FkA7+4D0GLcTQHErFLdCcRJAPYBecXv8FUB7Q9rr/cwSQHqe53me5xFAAmp2vcjaEkD0I/4epoQWQAEVUAEVUBdAiYiIiIiIFkD///////8XQEJHBb64+hVAFrKQhSxkEUAmXakcNDAWQP1m69BvNhZAYENcYENcEEA0WKEzWKEZQAKlHmGO7hJADu+DajDQEUD44IMPPvgVQLD0TZMZGBZAzU7LXIW6FEDA+IZqozEdQNmJndiJnRRAcKPU++ZpE0AeUFjBYHMWQNJ91j8NMxdAuDpiEjlwG0AfMArFT9ATQKg6/KIJQxRArTlcAUdHEkD582OM/nUSQPxx8tOwvhBASjXmSMq7E0DzLd/yLYcRQJRqzJGUdxNADhGwppJQFkCreKDLnvcTQHN/6PJkgBZAMzMzMzMzE0AX4Ux1JMYUQKuqqqqqKhlAgJgCGF7mFEAPKMBVj9MSQIGrzra0WhRA7bLLLrssFEAo4NB8rj8eQH5Mpq12ohlASt5fB2NWHkBVVVVVVVUXQLJO857uhhNArNnc1X5xGkDEWfkJcVYWQPH1AavepBZAiyQI3/VaEkAAAAAAAIAWQM8EDB7LexVAppt3Y4XFEkAAAAAAAGATQPb3DMpvQxRAA9enOpSRGEA9IJyh79wVQF56zN9rIxZAPgXyzyrjFEB3d3d3d1cVQKF6klSI/BZApmG7WZ5EFkAXXXTRRRcXQLDVs0PgxhpAVL4OSziqF0CfkhdyMssTQHQTrydljhdAqbg6Kq6OFkDIn/071TcaQI2ilgE2LBNAIxEDreN2E0CcN6hpjJUXQJY/QKYCmBFA+U7Z4pxIFUBIxDf3S5UUQImQ8QYqahNAKo/fCVYSEkByVlIiQSkSQPF2chcypRlAoFGpmqzhE0BZEcKGVMkSQMcieuJQ+BJAzh7hlfYaEkD1iAqyDQETQMd8HlaMXxxAGM56sdI1EkCZCiQU3r8VQFFQUFBQUBhAKM51jOJcF0DMgq+nIk0TQBwfjdR5AxRAnQ7yb+6REUBbv1Kg1q8TQJnOYjqL6RhAq6qqqqrqFkDctm3btm0XQBaykIUsZBVAGIZhGIZhGUCve5J457ofQA69TnawjRVALTJETj2dFEDfIPUxyzsVQJqZmZmZGRdAvp1gziSwEEAmgCZO0BESQDJ4DerKoRJAfMu3fMu3F0DSYSMdNtIRQBScddIM4RhABAnRX8u+FEAykjhUCt0TQMcNYk06xhZAV9QVdUVdFkBNDoeyrcoUQPJZN5ginxVApzQv/kTCF0DQEp8pd+8UQJ3YiZ3YSRNAbiq/x+XOEkCJM/tk1FITQJEiYGO0nRZAf7DxaP5gE0A/o8TPKPEUQPRyV4zrlhZAdRbTWUznF0BhWYBBMykZQORwGfDJ4RJAKxwKlC5zHUAEro+jIjcTQOWdcC4wlRdA+FAZXHIkFUCNedDENroYQNIU05afpxVAT6QuOPKdGECeXo5qRWEYQBUc0GqOaBdAV4zrlv6FEkA+1jJ0wG4TQCBkb49ycBZAVUCTXPl+HEA9qn0IhKsUQDjP7tI2ZhRAa2VhHmwmHECe+FKtB2IYQFRpsVo6lRZADPa08afKFkCEcP8rgpUTQFRDk2GHOBJAGgNo7qTQEEA6Y86YM+YSQJLTfK2eHRBAd+7cuXPnFkAWwf4l+dARQKmy97o8fg5A3GMtQwfsEkBsqH1/XrAWQAaebs0PCxJAP7Y0JuHKE0ABFdI0EKIUQAzDMAzDcBVACtejcD0KEUDc3r2eI3IVQBXlkL2L9BdAzczMzMxMEUAynQTL5FIPQLDNfJc3+BtAlFs8ucWTFkBAZ6lpyNMYQDOtPfl3LhRAyFmBNlsGFEACr1GqLL8UQCWxsHrFLhVAre/iQsiDF0A1JzCUeygUQBuP5g82HhVAPmdj4NRLGUCwMdpOs4IWQKzvOK00xxNAFFPr3peMGkDKL5b8YskTQIws+CP9VhZA2qVRIIJjF0D67fUQoIYRQDNAJVvvxhdAxBH4vuqEEkDEfgOVxBoWQIQQQgghhBhAwX0E9xHcF0DZ8lBwJbcXQKmJyxw/YBhAuK+s3iUPFkCPbMlRdTMXQH/W4yyMuhVAl1XIPKhxEUBoJTHhMewWQJ/qUoIj4RFA3iwiuSnlG0DGdUv/QiMUQFLOAiFIBRxAsVvRxw1iFUC8u7u7u1sTQFJkEcL7ixRAhCIUoQhFGEAxsYL/ovkeQGVNWVPWlBVAFZDlCyGxEkCQ7Yp3Gf4dQFRgCHCacRFAyd6JyIB1GUAxop5wC10WQMZpzfaJ6hVAK77ELxhAEEDexFzexFwaQIqVyz5F4hBAZFa/vR4CFkB3LtbYPEkRQIHKGJ0OqBBAFrKQhSxkEUCsP9zkx/oTQHHs0igQwRdALiZwuSBgEkD6USX2YggUQGsqhpCN1xZA9hhf6wM1F0CfBNyF21ISQPBzun7ttBdATMG5tAboHEBGSAK6t/0VQFLN+jP4TRRAh0mBKbenEUAouVO0cMYRQGzBFmzBFhNAcnADTMtwFkApUOtXCtQWQPL8vQd0/RhAGfDJ4TLgE0CnIgoPDtsUQDCKsO0QoxJAA5020GkDGEAe4h3iHeITQD/XeACH0hpA13Vd13XdFUAREREREREZQHPtwFw7MBdAXj9brAzfGEBJhob/DeMRQO4A0mQBOxdAywXiTzUZGECBsTPZjW0VQPphkTLw9BRAocpswGomE0ADrlgDrlgTQLA4ZsL7SBNA1schWfETE0DrMMpUPNcYQCaMzYJqzxFAjmWhWhWGFECA7Lg2v7ARQLc9h/UaUxdAkIymIRlNE0ByH54ZV1sRQDOHRre5Hx5AsTJ8IwpMFkBJKUO+IAkXQP2BVwrHNRJA0xS/JEKqDUCleIFMihcQQAAAAAAAABhAbPXsELgxE0CFT0f36nIYQIb1teMEmhdALE4Rz9k/EUA6m7SElVITQBDN7l0mwhFAWjgDQsmdEkD7pV/6pV8aQM3MzMzMzBxANlOBhML7E0DfzpCYtzMUQAnplIg5xhRAD9jtsZahFUD1dmtdE0cWQKNO4E0N7xNAavvFNBshE0DOmafY+BURQO7u7u7u7hpAMYVR/BO4FEDwxJzesQEUQA/X7HiA9RBAJtm359JQE0CDvzy8DEsWQL6Iap19ERVAquyqiSq7EkD5enCQ1D4QQGhiG10JUxRAHXCkaIg/EkAjLUAvd8UUQCz3NMJyTxNAOJL9qmA3EkBgFsZ3Qp8WQBVQaMmaIhRACcs9jbDcE0BTT8Zvl3oVQEPsMfpZDRZADh9T78NBF0BJkiRJkiQTQI75M6olhxpAKTDp1DzIFUAvp+DlFLwUQFpnX0S1zhJAewntJbQ3F0Ab6LSBThsYQOnko5OPThdAq0bwMHNUEkAR7U6fcz0fQLNo1rFo1hVAbzqVvV3BFEDTr2q0GZkUQLAn7Al7whdAFAYh61Z/FkAZ8MnhMuATQIciEbXc+RdALu1u59LuDkDPQFQ6smcWQMovlvxiSRJA4qt0wCtoFEBcqbjOyvQQQG6d3Pnc7BBAKlV0S1sYE0B5HXjJ4eQfQLnixJHQ6RJANNrz8gSdE0BycANMy3AWQJLtnvvHqBlAVEiECU7mFkB12EiHjfQTQBqDiHZfaBBAjnynbHFOGECW/GLJL5YTQIjG+tBYnxJA2dvPVBh0GEBJLQgFyI4TQIozHPxP4xlAheQCXm+jGkBcUAOM2/sUQJF/vQvbZBRAIhOfxdFSE0BCHhd8w9EVQIQKmmQDfBVAFOVLd6J8FUCQKS+i9AYVQDB7L3svex1AKGI2lw41FED75guRzdEUQBkMd2rkqBNA3hXyZdaOEkB0uDEa2HYUQO3HfuzHfhZAe/hBIIozGUCYfELZuZUaQODb/BVmNRpAN5gin3WDFUAAAAAAAAAUQJvhW1KUYBdAwSeHy4BPFEC61RmpmFsdQJqZmZmZ2RhAM5tDO2tXE0C/P1IwmYMSQLPk0n2uQRZADHufbYkSFkC240OQclMRQM01NYYtoxxAGfDJ4TLgE0BxTqQuOPIVQOW2cMjagxJAr4gp84qYEEAAJoMsSX0RQJ7YiZ3YiRVAubOfWeRJGUBSuB6F61EZQD/99NNP/xFAC83U829gFkAKl1rvQroRQOKHMMhZshdAhyIRtdz5F0CGlszqt9cVQNIi0XWG+hhAob2E9hLaFUCiWfA80lkWQKfEzDGPnBhAAAAAAACgGUCdj8H5GJwTQLtIx4DD7xZA6+vr6+vrGUASlnsaYbkVQHqaHi9xeRRA9LBi/ALRFEDBTwekC3sVQCB4pXBc4xNAyQW83kZ/EEAkK8jPp/kTQLkf/gZDYxJAhsVIKG28E0Az2LmvAR0VQNIgDdIgjRNApkKP7hOgFUCSTaB7B+0TQBTev/LSZhZAHf0+CdBIEkC1A3PtwFweQDqwef3+ZRZAkS9W10azE0Ch0wY6baATQBilg5kyYhdAsrGxsbGxEUDYzxYrw7cUQAjGvZwYCBRASC1C/ppdFEDY8HsTPHkWQIWs6QgvPxhAZp4x3nMFFEAYaccKhJEUQCExb2dIzBNAfKkTKl/qGED/XYivfTETQAYoqWCAkhJAcmPtUQ31E0AKe8KesCcUQIVhGIZhgBNAIxme2zyMGEARwaSC6pUVQKadgzVLjBNA0WMMG18tFEAtq3fJgwEfQFFJrCGPwxZAvHkne3U9FEAx5a7k0P4VQBLFkNzs8hJAO/fwU2uTE0DrqAQQR7QTQPJz6q3fhBNAVe2JpQ+rEUCQql0YewMVQLdwsl6obxZAgqh0ZM9AFEBsII+/BEMSQJ3e9KY3vQ1AsAKsACvAFkDsxE7sxE4RQBcfGx2cXBBAdVNds8X3GEBMpAcqZ7cQQJ4MngyeDBZAKBpQRRQeEEAVKlSoUKESQAtIY3kJ0BJAJRNDhZdnEUCKZJKO+UUSQD4/MrSgYxRAzexDF2arE0AiyuT0Y3wQQJS30KgmwRNAQkyuICZXFkA5I3jn8KcTQLY5XeWZ+BNAW1rPi2tmF0BWs/wGxEIYQLQ40jDtFxFAakdm0eokF0CAHYxZafQVQEAkDOE8/BlAAAAAAAAAEkBnZmZmZmYVQERERERERBNAG2644YYbBkDP5GFsE7oTQPKQr+ZJyRVA4t5JljpCHECejfrORn0XQJigu0oxQRNAUd0Lxq5RFUBGjRa2B+oRQImzY+LsmBhA+HaQ+HaQGEAK7195aTMVQLKd8RYMmxdAHiT3QM5sF0A0SbjqCxgTQF1dZpg9LhBAmcZJUXqVEEBl2jlYs8QRQIGodGTPQBRApH3VAjOWFUBpkAZpkAYVQNGhSf4FaxlApziG0xcqF0CeMIHEnv0SQNJbSG8hvRtAFDUKvct/FUC7WF7O95ETQJhK7wscNRNAFmiBFmiBE0DWp6dgYX0SQNrw+WOO0hNAvrpHWpk8F0AUN9ZLz/gSQFqgA6AUTh1Aq6qqqqpqHECaRO+ZRO8TQJwtjnmxIxRAs88hNcF4F0DZ4pxIXXAaQFZvdPOfCBpAlKJpgKqZE0AYs9LoEZUWQKekfyRGsBVAeC0VenSfGEA8Q2LezhASQLKxVBfXfxRAiYiIiIjIFUAMbObTh9gSQOb63ceJlhdAqA102kCnH0DmmDpKDzkQQKrmmL1bCxNAwo/MkVgIEUDPvxig8y8SQD9BVlxX/hRAt23btm3bFkDszBXn93YTQOiuUkzQXRVAlE022WSTE0DCHE2Up4wWQIGEwvtXXhZAthKHWJ61G0CD5M+rLM4UQJKYqbAipBFAHqRsjNdxFUC8phl6JrcRQI47LOoEGhRAMPkASWMWDUBpAXq5K8YXQOKk7stjqxFAsSZQOBlrFEClfLkj49AVQKqqqqqq5xRAOc0CaLUOEkANQA/fZWETQMV1D6pOYRZACr3Em45xEEAMhteqDSoUQNRnP5DuMRNARrnXup+lE0CAbE8QgboRQLJO857uhhNAEvSwIUMWFEB+onrQyDsXQOGHsV55hhJAz2A+g/kMEkBeaf7J0yAcQC/AllPhMh5A03v0mXwSFUD67fUQoIYaQF+BG1HCPxRAiteTMscAH0An23D5ff0SQANz7cBcOxpALV6bp0PJEECM1+bpUDIYQDKNP7gn0xhAdWqAVKz8E0Aw8X7kNF8UQMzq6M6RxBJA9CnoAVwXF0AigbcfEngTQKElkjwRWhZAwWdq+9bhGEDG5zRXDsYSQFQt0AFQCg9AHZT+OSj9E0AG8adru3kVQLxsgsOG0BVAkMH5GJyPE0C/vr6+vr4UQKZhu1meRBFAxb2p+I7tFkDaGK/jAsEWQECwMr4G7xZA0i44EK3PEkC+9957770XQJRSSimllBZABHVBagkRFkCPFpVIvqYQQMWTWzy5pRZAYid2Yid2EkBUVVVVVXUbQAGOCYsK4BRAAAAAAAAAGUBdTrMJwJUcQCmAj181ORFAhPR7EUlIEkCbV25oJ1wSQPOdssU5kRJAsl5ngc+5GEDRYwwbXy0UQI73+pLtlxNAGybxVbJxFkCv67qu67oSQJ8ztVy4qxdAQtlb43WwFUB/OODxhwMSQDgS543EeRNAg0bf/fyIEUBhcyDRCpsTQJzisQ6neBhAKQI2RttpGkBrB+bagbkUQONGq7w9nRZAc08jLPeUGUA2lNdQXkMZQPdteDrSTxhAUGzikxxxGEBhIAWPNk0ZQFVVVVVVVRRA/Vo1goeZE0BG9YqePCYWQCt8uSEGpBNA971qPuGFGEC4lWaNiwUWQPxHpI1s7RpAcojKISqHGECmMWl/uwYUQL65Inmy3xNAJGAWOaHZEkApmgaomjkVQDtV/o+qUxVA8ng8Ho/HEkAYhmEYhmEWQGZmZmZm5hRAUA/vnLr/EUCObklOPogXQB3slJg55hFAu5l0pXLQDkCEW2o27O8QQKiEHdjSUBRAEhiBERiBF0B3fCS8k4EUQGGQLfF2uhNAlj7fp0MFFUDZ1hveB9UVQKy3e/axGRFAD+qgDuqgE0DKIPLAVbQTQCPiZoTjThVA9kvqcwP/FkDUkOkd2N8aQILRatAnGB1ALaj2nExfFUCS1gcoujYVQF/pz9mODxNAnPmmOPNNEUBvX1m9Sx4UQDAYDAaDwRZAspCFLGThEUCllFJKKaUUQFYZ1mLmxxBAyPoOF+fTFUAb6LSBTpsXQNZ71ee4LBJA2AVhF4TdEUD0iAHjsVEVQA4xIB1LmRRAwQs/r5R6FUDneZ7neZ4TQF0PdD3Q9RBAZAfVEU12FECc5YCPsFkUQPA8lum/VBJA2VpE+skMFkDnn/Bjdv4SQP5RCgwOOxJAQg0wbu9DFkAgZxUrrbkWQPeQy4qBEhJAVHjHvbkiFUCDENE4u2AYQJdyKZdyKRdAPfl3LoegHkBk1QnqjnwUQHSXMeXrsBdAFIcFMFFxFkDpd8Aqm68XQExU+2phthRAJMStSm8RFEAZWnV0nugWQOO0ZvtE9RRADnBOHa5GFkAR3h8Pk98WQJE6AGGo4BZAip3YiZ3YE0BSOKTYx24XQITXUqFH9xFAOkt1Q4SKE0AsgHDj7UsQQOGNps6vPRRAYUaQ9A7FFECK2zl99gMZQBsMNEaU/RFAgRLeaOr8GkAc+U7Z4pwcQLSzDBEo3hJA3/+8C0vrEEC3bdu2bdsWQIbSe1hi+hxATFZqBhc6F0CPqCDbENAUQKwyWu1jHRVAZk7IZk7IFkAZ8MnhMuATQGn6oLC6ZRVAxcttQNIPE0CY+7rGfhcYQAOTTs2D3BVA7Z2IDFiXFUC0YXuQs50TQIJOG+i0ARRA9/0bP5xbFEDqt6jfon4UQEkgLtScBBJAvUOvibu8EUAs9zTCck8TQBAW9r1cvBZATIlvXxUnEkCQogpSVEEWQGEYhmEYhhhAG7EuPebvE0Bdr6Ief0EWQDgoMQPLohRAZzGdxXT2FUDvJ0GFo1sWQAyOfKdscRZADCrCLTUbGEC3ralpftMUQPEzSvyMEhNACjeLNvmJFUCO4ziO4zgWQMZzlR882BFAKRkWr83TE0Ag4sUzYVcXQA8gYTX2RRFAn6eyta2iF0BHGYyvUQYTQACvt9EfChlAxhcTX0x8FUDv7u7u7u4eQORuR1KIfxZAXGTyT2pvHUDUhOktfvMQQIKSVm2GrBZA+bjvlkJ/EkCxT21vpjwWQMGEwz57PBFA+q8QHNIyFkCY60d6fmkSQMaES8GxXBRA2Vaff211EkBdeszfayMWQGvBrHhhrxdAeDIQpuz4FEBDCOirQJEXQLFHt7BHtxhAhMkRQU+gGEBf67Ve67UWQIwxxhhjjBRAcipuVGP8F0Agk+IFMikSQMomm2yyyRJADPt+dJDwGkAG84J5wbwUQDXNQIAoUBlAuUdQe6soFUD7v27ELTwVQKuqqqqqahlAOT+VEJDzFEBDUnRiopEZQPsI7iO4DxZAiKb5GQpLFEDtQyBcJXgTQJiTkiBADhhAEyTj43wCFECE1ZZkATodQJYsDwr+VBVAA2IPFGFmGUAWHld4XOERQEft9D2fbBxAOW3Fxe79FUAGledNvhoWQNWfUn9KfRlAf2nq2QIiE0BbWlpaWloYQLCpd07wzxJAMUF3lWKCEkBXBA0ndV8SQOpNb3rTmxZA3s0wEhfMFEAijrZlB8QWQCFtsJRjRxVAY+AsPD+mFkDIKM51jGIXQBzyhrwhbxVAlqs4YHuZFED6JIIw6MoSQMQ8aQdFihdAD9dd9bfEFECYejJ+u9QVQFKQ03IU5BRAvVO2OCdSF0BBdUOxxaUbQFVVVVVVVRRAMuti9ZopEkDQRBNNNNEXQIFsl4XawxBAGgxoVyiwGECvqCvqiroTQL+TcDWQLhVAK8UZDv6nF0B2mzjT2pMVQMpqDLQyXxRAOo7jOI5bGEDGluDb/BUWQFIaH5lA7xRAMHDUjOSlEkB/XqASIgYTQEnxApkULx1AD8asNHpEG0BN8OvJ89MWQEAmNnPUChdAlhI2QIxGF0DPGEPz70cTQBrbQYD9hRNAbOvJh/6yFUA7sRM7sRMXQFr+RlIi7hdAjsknlJ1bGUDUIA3SIA0cQJeJEM3uXRhAhWAsIGS1FkBAfi1hIZwUQFQnquUpgxNAPkMQH4ayF0DPvDPvzLsSQJAHN6ZB2BBA7RtosWJ0E0Dd231pemQSQBJ/vUiviRBAJ3ZiJ3ZiE0DkUJelGnQWQBlCOtiOeRNA/Yp1nMeCEkDAeeBVbtMaQEozNeJDuxRAv6nV/LcZGUCdkM2ckM0UQBvKayivYRpAQYrlt04DGUC1AcpixGEWQPc0wnJPIxRARDqKVW4mGkDbGRLzdgYeQIImY6mUlhdA7VBbFj32FUAqZ7fwqzEVQB33QVspwxVAX1niOvfwFUA+4BsmeAUTQA1AD99lYRNAxvuR03ytHED/4QOEiCEUQEtQrDpqyBNAssMa5tT3EkDgijXgijUVQJVyoiCzqRZAZmZmZmZmE0AgZtY3w0oVQJcMwTraPBJAC9t4uiDqFUAVUiEVUiETQHosEMDoaxVAKVyPwvUoF0AnYjaXDjUYQGHUCjQBlBJAKlLAl90NEkBOX6hcTmgSQDa8St+KSBdAtzdYtiDJE0B24/rrxvUXQFFo35jDthdAh75m0FzyEUAcLxOG+6QaQNWLcPAY+xZA5Ho+B9jOE0CxBlyxBlwZQKuqqqqqKhJAQXqOMhpDFkBweDnUoDITQLU5s7ELThNA0ugRFWQbEkClRVL98gkSQM/6yLimTRZA/eSr6GUaFUBUpp2DNUsTQNnvo1nltBJA5bdOAykWEUAt0AIt0AIdQF0rfK9GhRJA4/3Iab5WE0AiIiIiIsIVQFt11o83SRNA8dzmYSTDFEDNXp+cdpMWQEEuRqjtVhdAqCyDl4DfEUDfeuutt94UQNULNi4f/RFA4JPDZcAnGUCwurRiVwgWQIgxo5VjgxxAbkohFzibE0B/IcmllysVQPWKnjwmlhZAF659rZRDGUBx8UMY5CwVQGdORaASmxZA1XSSiogXFUAAAAAAAAAWQG2QsebCwhFAnQZ3XqSOE0Asc4QLWjQUQL/4H3u5nhRAv7J6lzwYEEDvYzV7ku8ZQP///////xNAbL+jV8b2F0DppBj2iU4aQBwDSVe1JxFAwbjHDr7DEUAGDyjAVY8TQPHc5mEkwxNAZgQfej/QEUC18SU6rGsRQF9Z7P4bKBVA5RdLfrFkF0DFloVCJHEZQNxMoyFkABZAzZnpn0ldEkBgYBktCzEVQGs3LSuRpRVAPDJw2FpCFUBVRrA9USgaQLmUBGezpBJAbpy79DrvH0CdzfQZW9sXQNQaJ657UBVA+V0tbsL8FkBDeQ3lNZQfQFPxchuQ9BNAN9xwww13FUD9A1CV4yUYQAzC4/aZ7xFAlynUozcmGEBS0Sjbz+kVQNDc/RjIAxVA7qTh9VEbFUCPNzMm/4kWQEGUxYIoixVAQobKDlOXFUAr68q6si4SQMtrKK+hvBhAeHd3d3f3FUBaYnzKtHMUQOE9hPcQ3hRAXrerhHCwFUADbe/gNy4YQHEP+hWVixNAuetni5XhFUDOvohqnX0VQD1FAcp2xxZAcPeySqCiE0AEHG82VI4TQPX511affx1AUGpvkck/GUAU3r/y0mYRQHmwFkE0zBFAk54RyTLpGUD+PdMoSqwUQHd7ITB1KBpA55oG1m3zGUDHcRzHcZwXQKRzryRSWRRAQroawCSIEkAWBYuCRcEaQPiXvVJFfxtALQ8nR/pqFEC3dWYawVYUQO/u7u7u7hJAHr0ytt/RE0D2s8XK8I0TQAAAAAAAAB5ACP7x9ImaE0BUGpacFT4cQAaUSuFILRRAcOQ7ZYtzE0A+n8/n8/kXQJRfA+XXQB1AzLIsy7IsF0B8/ahwoBUXQHTaQKcN9BRAAAAAAACAFkB6hqi2mp0cQOTHjx8/fhxA1phID1TOEkCn3l9syJ8UQKAGGLf3IRVAiYo3mRCGFEBTFKBsdywUQLdXphckyxJAnTgF4ENgFEBfLPnFkl8VQLd4D7Y09RNA6gbuYQGWE0DBnhXfoF0TQCIiIiIiohRAC6FsIZQtFECDFjCPxl0TQP8s589y/hJAlu17lu17HkB7CusprKcUQAAAAAAAWBZABCaEFHhkFkAWF6Gi8XMaQKpjb22Y5hZAzADsuEKrGUC/Sd5fB2MRQCgfzkYaWxdA82z+OFd3EUBO/1N2zckSQLm6y/2C4BNAkJ50eEEAE0ARzVmD4mkfQNmKWnyxchdArkMtlNbdE0DBP/NoUYkUQBA2Hs0fbBZAzLjaGihVFkATakjbK28VQDSRa5YZehFAv70eAtTQFkCBBRZYYIEVQH1p4jBWWxVAhqMFCajZFUD///////8XQPO2hzVuahhAUslwzUKkEkBu27Zt27YXQJ020GkDnRZA2+rzr60+E0Dl99ZoS+weQFCYOsiXKBRAB03wXJxDE0BIOC4lXrgTQMQkxgD0uRdAYLDJqfQgGUCo5bcfte8VQF9bff611RdAiz7Rr4UZEkBsg+BUJmwXQAAAAAAAABRA3t3d3d3dFECwCT+9ft0TQEJLZvXb6xRAah1dxqAJG0DM+SRuwZwbQGA3rr9uXBdA0wldrTzVEUAxJwaCcS8bQAS40AZwoRVAc5B5KRE8FkCllckTEJ0TQB9ckVa9DxZACyWLIbt2EkCeBEk9B0IVQCIekxm5hxhA0A6BG8ugE0DVYrAjHJsXQPR0KBkWrxlA8dwU9smbEUCLlIGnWxMbQJqZmZmZmRVAUDIW1TA7FEDWbedmMrATQBODp7YWEBpAaVGksEpQFEDXqDGlP5oXQOFrBNJ3uxhADomyedFGF0C3QSVXHzwYQKzw5YYYkBJA9vqW/PMsFECFEbGt/WYYQFCq3IdnxhdAluTQleTQEUBYjPfZ1D0WQG+DskKMfRhAFuGWmg37FUDE83XFRkMVQJCbxgO5aRRAWrsPt4DCEEAXUa2zL6ISQAJNIdAUAhJAomNuC83XEECINdNEfVgTQJLGLB7XBRJA2l/rCs3tGEBeSBCqDPYQQM6YM+aMORNAuLLPITXBFECWK7J4KBMUQNlkk002qRZASZIkSZIkEUBLM6pX9OQVQNan0OChUxlA11BeQ3kNGUCXeILUY4kTQAVbsAVbsBlAAAAAAACAF0COYvbnw2kQQEIDYygyWxRA6mzSElZKEUBx3dK/0IgRQCELWchCFhpA9edsx4cgEUAo8TNK/AwQQBEfaOCqPBJA5+6rIpWyEEB9MfwT1xYYQHiV23T/5hlATajcBFZUFUCIjbGtktURQOYOmTtk7hBAr0P9oqX/F0Ah3yDfIN8SQCwFZTq9ABdAsRM7sRM7FUCdxXQW01kUQAT1gqvbRBZAejYsII3lFUD8BfQX0F8aQOrBEnG0LRdAQATd5HxeEUCQZgCBQqYUQIg16Ri7FRJAt7XehC7AEkA32WSTTTYSQBZf8RVf8RJAxOQKYnIFEUCxes0UnQoRQP8jU8FOmRVAwJ1PyL7TFEAhDdIgDdIWQHCyYzlBSRJAaTJyzhz4FUBxPgbnY3AWQLh2meXEBBhA+cGcx6VvF0B24/rrxvUXQISfXIi6GRRA7195aTMVFECXFlDHFJUTQAWoVv8qFRBAI/gmJFzjF0DahGLk4rAVQJFZw4HYpxhATwDMIBFtFEByxMadHLEVQPV0F9kjKxNAj86k2tGZFEAFVpCpsvAWQBs4EtC2ihRA+06xhO1/EkCk3rDntusWQHW8HlSwrB1A4ziO4ziOFEDDX8oTUfEWQGZmZmZmZhJAJlZiJVZiHUCSVKwymRYSQKDB9GTphBNAvG4mXakcFkDe0Cb+eYwYQMj8vTZiXRJA7NBvtg79FkD3r7y0mYoRQL6fgWNFJxVAW2uttdZaE0An2jhIt5cSQIIPhTtz+xBASZ/0SZ+0FED+mKN0+8oTQLu9mF1/WRVAuYu7uIu7FEAg05zDXssVQNjcj3vCOxRA287zfT+lGkDn1FBh5rgVQHl04D3fmBZAZ27UuIOVFEB7PQSooSUXQGo9/esuVBJAYhiGYRiGGUAnFh25b3wQQL+gUT+HIxpACOmxKfQKFkCl++0GEdIXQCg7crCJGxdAegs7D0V/FEDA473guTATQBzyhrwhbxRAKh/532KsHEARA4koXgsQQHn0t73hAhJAoTbu84AXFUCcR9GqdnETQHV8lGJAERhATyMs9zTCEkDfqc2mVHMZQGHqPGaYOhNAyOB8DM7HGEDp4OTiY6MTQLdhwCq00hZAelKkdmZ7F0DA+YFUa9QSQIx9t6nQuhRAdtLDgprnGECKndiJndgXQMLWjPOPDxRAjCW/WPKLE0CNilaKp04fQEb2GvcfFRhAz6a96oLkFUBSTx/AzYATQNP7AkfNSBZAWxE0nNR9HUAjIKXdCEgZQGcxncV01hJAy3XHiy3BHUBkWMToTWwUQJ2PwfkYHBxA8Z02p9AIE0ANI7J8ivoSQA60SWaisxhArPStiLREGEAkSZIkSRIWQLy7u7u7uxFAvw5JBSamEUCiz683kiEVQM3MzMzMzBxAd/TK2H5HHUCnbuqmbuoYQJD6D+EK4BFAI5FIJBKJFEBikTLwdGseQFlWaSCAYhVAbSz679PGEkCq5xSJUH8XQKbLObZojBNA/vKkgpIBE0A2Tlz3oOoSQKwSim91yR5AzF/sMgOrFkBoaxef1xkYQJxp7cm/cxVAPyxSBp5uFECycow6yWQXQPeK6LIfwg9A09+g27XyF0D3KS4ZgnUWQAGEHHm6BhVA20ZiQFBFFkB4Yoh3m1IUQKS7Tof/3hNAfL6vXYxlFEAUnulv0O0UQGB7olDMHBRAgIlE8UqvFUBM8qfRe58RQGzl9ztEOhNASb6m3jnBEkD3uXiRokwbQG0s+u/TxhJAxpJfLPnFHkBAsGPDS2ESQJ2nSe3kaxdAD9tpU3yeEkAXUa2zL6ISQDVixufySxhAUIJnUEUhEEDRRRdddNEVQMtLm6lAQhlAMAzDMAxDEUDoyUGll6EWQGgq1x0vthJA2SRQc+qLE0AGW7AFW7ARQLF6WD2sHhZA7BXXfZh9E0Ayo5CtNtsTQIvBddDY0hRADw8PDw8PFkCLATCJ1oIUQD4K16NwvRVAmu5gv9XGFEAqf9Qpf9QVQKI+rJkm6hNAt8h1JmDwFkAPVM5u4RcUQNydeBOdAhRADIfjMoqGF0BgLQg6KNMTQFVVVVVVlRNAPWAjw5/cFEBCUSF+Xb0VQMqsbKtdBhZAEGgKgaaQFUCSa1s5AmcUQNGGzx9zlBJA2S9eNPaLF0AWbrHVwY8TQGlwhUgceRVA6qZPT17KF0BziwIdsXwZQB9Nhlb03RRAOcVjHU7xEkAAAAAAAAAUQMAPQsUt9hVAhmEYhmEYFkA/J6zhndEUQD/b53S86BVAbn4HK1p5FkAqUv/ImFcXQCD2UzYy1R9AVJv/ItXmG0AhLkLEuGEVQLgWWtPgxRNAa9fSy3zhE0DWLDE+ZdoVQJjKxayjtxRA1br2agbxEkAOul0rJzwTQJ/t2Z7t2RpAJ3hzdxrDE0BT3TlvMiAVQN8E2TdB9hVATLRLtEu0G0BJgzRIgzQcQC4y+Se1txhARr0X9V7UFUDjW8gN3k4RQHD3dOK+0xxAfxsvE4b7FEDFZL+8aL0VQM5hssEZlBNAyCT5nSX+E0CrqqqqqooVQASwHJKTVRBAolTS7gLzFECibzojaKMRQCpvCxotAxlAMaHGzmtqEkBBWaR5j/4RQLUoDzlv7RZAZxu752i2FUCbOr/2kMsXQBhFnb9IgBRAGSZ6AjcMFUDhvwaGrtIZQOyGxifJ9BdAz+w4i9x+HkDVLGoWNYsaQCEB5lVIABNA3Nzc3NysE0Ch0uO2GuYQQICDszgxJB5ASA9Uzm7hF0Ct2EppcVEfQPLKK6+88h5At13F78bkG0Ac3k7uQqYUQJeplGfLyRFASfyMEj+jGECV3ClaOAMSQBUvkEnxAhZA7+7u7u7uEEBXOG/qMWQVQKabd2OFxRJAB7EmHWO3EkA3ORSxX1IXQDDS5x0lNxRA89iKoOGkEkBZYTzEvWgUQBEC8+PUxRRAGIeSrNncF0BXe9s9xtQWQGliS/6RyBhAipNtZGgiE0DRIA3SIN0TQOY0IeY0IRJApg6WUf97GEBVVVVVVVUTQDs0LbOnpB1AMzMzMzMzE0DbaHYJI18MQGcNiqc9rhRAhjrf/c3oFkCy+W74UV0WQHUW01lMZx1AAeZVSIB5FEAN5TWU11AaQIO/ihNS8hRA64X6hmTvGUCUf+dyCOoaQJTqBELkZhdAoAYYt/chFUCzW/jVmEgXQD6zCbdyEBdAAzeWQakwFkAzCXYVvtwSQEPEG3wyEBNAqIEUy2+dFkDMe/M/TTkXQAlagpagpRVAY2X4RhSYFEDd6173utcZQHkCovPVPRZA9KY3velND0BATlu6rzgUQHbvfnsKQBdA8UdX5XzyEEBVVVVVVVUWQOMai2ssrhNAj4dGMbaRFkCmMqbBxj4ZQJQ+6ZM+aRBAvZ6UOQY4EUAzMzMzMzMTQGm6g/1WmxRASdGHIVL0EUDaibrMOBUWQJYYSWU38xJAggUWWGCBFUDij1TuU7EVQD86+ejkoxNAN9lkk002E0CEDz744IMdQCBDZYepyxFAKKoHjbzzF0C2PedtYdUSQPp4FNz9qBhAmGbfpdl3GUBBAehjpUISQCgn6ejJSRpAEsiHEZvOEUDS9B1sTcYUQL9eWHcFCh1AO8kfMkVjFkDN9MzbbNIYQArOpTVARwlA2Ymd2ImdEkCWWqmVWqkVQAAAAAAAABRABsXHTt3PFkC8EGa7EGYXQFxaRdHmxhdAMau4ndNnF0AZgnW0eZ8SQKD5ZaD5ZRhAgBVgBVgBF0ADBw4cOHAQQKLavRg95RJA3NcyWeQAEUDT3AV/FScUQAK4weku7BRAzRLjU6adE0BL2eNf0cYWQIQaM9IE8hJAsb1qbdAfF0DhHM7hHM4VQJNx5ydfRRVATwOM2/uQGUCAEoXFKeIYQNfjt1G3UxRA2qVSn2eSFkAkBG/SOvUUQP2HDxAihhRAQhR/kTMsGECLlIGnW/MXQOzETuzEThhA+kaOPitmFUDi4H1rZHURQMovlvxiyRFAFrKQhSxkEUAXXXTRRZcWQNULNi4f/RFAm1GWnyLJGEBo4Zbl5h8WQC9u70O2FBdAuwdVpzAXF0CSz7rBFPkUQGu0PILP3BZALRfu6pvkHUBC5QLxp5oYQNkUegV5mxRAZZSMyygZF0AdLgM+OVwWQD1QObuFXxlAMJmDgFufFUDZpbib75UTQCborlJM0B1A9oHWolAfFECkKA+UNSoXQJLhuc3DyBZAvnhVYhsOEkCVUkoppZQWQPfOkkFApRNA8eKZsKuzFkDCiiGZPkYVQIH7O1HjNBhA+5Ab+7MnEkBuZ0Knw0gTQJsDiVbYHBZA3UdwH8F9GkAWFbcF8QMUQMaj+YONRxRA5plmRNg6EUCu5OLUkQQWQBcJTPCT7BlAMe8nQYWjF0AOHa1C7vERQABDWQucIRZAIG4BhVGdFkCW68tXAyMXQLRhHbtxgxlAnotXu+ZoF0AGzlV2WwIVQHQDUA/zkxZAamjJrH57E0ARh07aB8kYQOP93xJONxJALUFL0BK0EUBdji9e+zoVQDvL6yyvsxxAEToX1ogDE0D4QTUYaIwUQDdiDFRK5xdA5npQUsLpEUAgZTFjib8TQE9JgOCILxVAK+i30sN2EkCu67qu67oSQKWUUkoppRRALLDAAgssEkCaGGAPnIkTQLy7u7u7OxNAjoQDaim9EUBrJPT3VboUQA==",
          "dtype": "f8"
         },
         "y": {
          "bdata": "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",
          "dtype": "f8"
         }
        },
        {
         "line": {
          "color": "red",
          "dash": "dash"
         },
         "mode": "lines",
         "name": "Ideal (y = x)",
         "type": "scatter",
         "x": [
          2,
          8
         ],
         "y": [
          2,
          8
         ]
        }
       ],
       "layout": {
        "height": 600,
        "legend": {
         "x": 0.02,
         "y": 0.98
        },
        "template": {
         "data": {
          "bar": [
           {
            "error_x": {
             "color": "#2a3f5f"
            },
            "error_y": {
             "color": "#2a3f5f"
            },
            "marker": {
             "line": {
              "color": "white",
              "width": 0.5
             },
             "pattern": {
              "fillmode": "overlay",
              "size": 10,
              "solidity": 0.2
             }
            },
            "type": "bar"
           }
          ],
          "barpolar": [
           {
            "marker": {
             "line": {
              "color": "white",
              "width": 0.5
             },
             "pattern": {
              "fillmode": "overlay",
              "size": 10,
              "solidity": 0.2
             }
            },
            "type": "barpolar"
           }
          ],
          "carpet": [
           {
            "aaxis": {
             "endlinecolor": "#2a3f5f",
             "gridcolor": "#C8D4E3",
             "linecolor": "#C8D4E3",
             "minorgridcolor": "#C8D4E3",
             "startlinecolor": "#2a3f5f"
            },
            "baxis": {
             "endlinecolor": "#2a3f5f",
             "gridcolor": "#C8D4E3",
             "linecolor": "#C8D4E3",
             "minorgridcolor": "#C8D4E3",
             "startlinecolor": "#2a3f5f"
            },
            "type": "carpet"
           }
          ],
          "choropleth": [
           {
            "colorbar": {
             "outlinewidth": 0,
             "ticks": ""
            },
            "type": "choropleth"
           }
          ],
          "contour": [
           {
            "colorbar": {
             "outlinewidth": 0,
             "ticks": ""
            },
            "colorscale": [
             [
              0,
              "#0d0887"
             ],
             [
              0.1111111111111111,
              "#46039f"
             ],
             [
              0.2222222222222222,
              "#7201a8"
             ],
             [
              0.3333333333333333,
              "#9c179e"
             ],
             [
              0.4444444444444444,
              "#bd3786"
             ],
             [
              0.5555555555555556,
              "#d8576b"
             ],
             [
              0.6666666666666666,
              "#ed7953"
             ],
             [
              0.7777777777777778,
              "#fb9f3a"
             ],
             [
              0.8888888888888888,
              "#fdca26"
             ],
             [
              1,
              "#f0f921"
             ]
            ],
            "type": "contour"
           }
          ],
          "contourcarpet": [
           {
            "colorbar": {
             "outlinewidth": 0,
             "ticks": ""
            },
            "type": "contourcarpet"
           }
          ],
          "heatmap": [
           {
            "colorbar": {
             "outlinewidth": 0,
             "ticks": ""
            },
            "colorscale": [
             [
              0,
              "#0d0887"
             ],
             [
              0.1111111111111111,
              "#46039f"
             ],
             [
              0.2222222222222222,
              "#7201a8"
             ],
             [
              0.3333333333333333,
              "#9c179e"
             ],
             [
              0.4444444444444444,
              "#bd3786"
             ],
             [
              0.5555555555555556,
              "#d8576b"
             ],
             [
              0.6666666666666666,
              "#ed7953"
             ],
             [
              0.7777777777777778,
              "#fb9f3a"
             ],
             [
              0.8888888888888888,
              "#fdca26"
             ],
             [
              1,
              "#f0f921"
             ]
            ],
            "type": "heatmap"
           }
          ],
          "histogram": [
           {
            "marker": {
             "pattern": {
              "fillmode": "overlay",
              "size": 10,
              "solidity": 0.2
             }
            },
            "type": "histogram"
           }
          ],
          "histogram2d": [
           {
            "colorbar": {
             "outlinewidth": 0,
             "ticks": ""
            },
            "colorscale": [
             [
              0,
              "#0d0887"
             ],
             [
              0.1111111111111111,
              "#46039f"
             ],
             [
              0.2222222222222222,
              "#7201a8"
             ],
             [
              0.3333333333333333,
              "#9c179e"
             ],
             [
              0.4444444444444444,
              "#bd3786"
             ],
             [
              0.5555555555555556,
              "#d8576b"
             ],
             [
              0.6666666666666666,
              "#ed7953"
             ],
             [
              0.7777777777777778,
              "#fb9f3a"
             ],
             [
              0.8888888888888888,
              "#fdca26"
             ],
             [
              1,
              "#f0f921"
             ]
            ],
            "type": "histogram2d"
           }
          ],
          "histogram2dcontour": [
           {
            "colorbar": {
             "outlinewidth": 0,
             "ticks": ""
            },
            "colorscale": [
             [
              0,
              "#0d0887"
             ],
             [
              0.1111111111111111,
              "#46039f"
             ],
             [
              0.2222222222222222,
              "#7201a8"
             ],
             [
              0.3333333333333333,
              "#9c179e"
             ],
             [
              0.4444444444444444,
              "#bd3786"
             ],
             [
              0.5555555555555556,
              "#d8576b"
             ],
             [
              0.6666666666666666,
              "#ed7953"
             ],
             [
              0.7777777777777778,
              "#fb9f3a"
             ],
             [
              0.8888888888888888,
              "#fdca26"
             ],
             [
              1,
              "#f0f921"
             ]
            ],
            "type": "histogram2dcontour"
           }
          ],
          "mesh3d": [
           {
            "colorbar": {
             "outlinewidth": 0,
             "ticks": ""
            },
            "type": "mesh3d"
           }
          ],
          "parcoords": [
           {
            "line": {
             "colorbar": {
              "outlinewidth": 0,
              "ticks": ""
             }
            },
            "type": "parcoords"
           }
          ],
          "pie": [
           {
            "automargin": true,
            "type": "pie"
           }
          ],
          "scatter": [
           {
            "fillpattern": {
             "fillmode": "overlay",
             "size": 10,
             "solidity": 0.2
            },
            "type": "scatter"
           }
          ],
          "scatter3d": [
           {
            "line": {
             "colorbar": {
              "outlinewidth": 0,
              "ticks": ""
             }
            },
            "marker": {
             "colorbar": {
              "outlinewidth": 0,
              "ticks": ""
             }
            },
            "type": "scatter3d"
           }
          ],
          "scattercarpet": [
           {
            "marker": {
             "colorbar": {
              "outlinewidth": 0,
              "ticks": ""
             }
            },
            "type": "scattercarpet"
           }
          ],
          "scattergeo": [
           {
            "marker": {
             "colorbar": {
              "outlinewidth": 0,
              "ticks": ""
             }
            },
            "type": "scattergeo"
           }
          ],
          "scattergl": [
           {
            "marker": {
             "colorbar": {
              "outlinewidth": 0,
              "ticks": ""
             }
            },
            "type": "scattergl"
           }
          ],
          "scattermap": [
           {
            "marker": {
             "colorbar": {
              "outlinewidth": 0,
              "ticks": ""
             }
            },
            "type": "scattermap"
           }
          ],
          "scattermapbox": [
           {
            "marker": {
             "colorbar": {
              "outlinewidth": 0,
              "ticks": ""
             }
            },
            "type": "scattermapbox"
           }
          ],
          "scatterpolar": [
           {
            "marker": {
             "colorbar": {
              "outlinewidth": 0,
              "ticks": ""
             }
            },
            "type": "scatterpolar"
           }
          ],
          "scatterpolargl": [
           {
            "marker": {
             "colorbar": {
              "outlinewidth": 0,
              "ticks": ""
             }
            },
            "type": "scatterpolargl"
           }
          ],
          "scatterternary": [
           {
            "marker": {
             "colorbar": {
              "outlinewidth": 0,
              "ticks": ""
             }
            },
            "type": "scatterternary"
           }
          ],
          "surface": [
           {
            "colorbar": {
             "outlinewidth": 0,
             "ticks": ""
            },
            "colorscale": [
             [
              0,
              "#0d0887"
             ],
             [
              0.1111111111111111,
              "#46039f"
             ],
             [
              0.2222222222222222,
              "#7201a8"
             ],
             [
              0.3333333333333333,
              "#9c179e"
             ],
             [
              0.4444444444444444,
              "#bd3786"
             ],
             [
              0.5555555555555556,
              "#d8576b"
             ],
             [
              0.6666666666666666,
              "#ed7953"
             ],
             [
              0.7777777777777778,
              "#fb9f3a"
             ],
             [
              0.8888888888888888,
              "#fdca26"
             ],
             [
              1,
              "#f0f921"
             ]
            ],
            "type": "surface"
           }
          ],
          "table": [
           {
            "cells": {
             "fill": {
              "color": "#EBF0F8"
             },
             "line": {
              "color": "white"
             }
            },
            "header": {
             "fill": {
              "color": "#C8D4E3"
             },
             "line": {
              "color": "white"
             }
            },
            "type": "table"
           }
          ]
         },
         "layout": {
          "annotationdefaults": {
           "arrowcolor": "#2a3f5f",
           "arrowhead": 0,
           "arrowwidth": 1
          },
          "autotypenumbers": "strict",
          "coloraxis": {
           "colorbar": {
            "outlinewidth": 0,
            "ticks": ""
           }
          },
          "colorscale": {
           "diverging": [
            [
             0,
             "#8e0152"
            ],
            [
             0.1,
             "#c51b7d"
            ],
            [
             0.2,
             "#de77ae"
            ],
            [
             0.3,
             "#f1b6da"
            ],
            [
             0.4,
             "#fde0ef"
            ],
            [
             0.5,
             "#f7f7f7"
            ],
            [
             0.6,
             "#e6f5d0"
            ],
            [
             0.7,
             "#b8e186"
            ],
            [
             0.8,
             "#7fbc41"
            ],
            [
             0.9,
             "#4d9221"
            ],
            [
             1,
             "#276419"
            ]
           ],
           "sequential": [
            [
             0,
             "#0d0887"
            ],
            [
             0.1111111111111111,
             "#46039f"
            ],
            [
             0.2222222222222222,
             "#7201a8"
            ],
            [
             0.3333333333333333,
             "#9c179e"
            ],
            [
             0.4444444444444444,
             "#bd3786"
            ],
            [
             0.5555555555555556,
             "#d8576b"
            ],
            [
             0.6666666666666666,
             "#ed7953"
            ],
            [
             0.7777777777777778,
             "#fb9f3a"
            ],
            [
             0.8888888888888888,
             "#fdca26"
            ],
            [
             1,
             "#f0f921"
            ]
           ],
           "sequentialminus": [
            [
             0,
             "#0d0887"
            ],
            [
             0.1111111111111111,
             "#46039f"
            ],
            [
             0.2222222222222222,
             "#7201a8"
            ],
            [
             0.3333333333333333,
             "#9c179e"
            ],
            [
             0.4444444444444444,
             "#bd3786"
            ],
            [
             0.5555555555555556,
             "#d8576b"
            ],
            [
             0.6666666666666666,
             "#ed7953"
            ],
            [
             0.7777777777777778,
             "#fb9f3a"
            ],
            [
             0.8888888888888888,
             "#fdca26"
            ],
            [
             1,
             "#f0f921"
            ]
           ]
          },
          "colorway": [
           "#636efa",
           "#EF553B",
           "#00cc96",
           "#ab63fa",
           "#FFA15A",
           "#19d3f3",
           "#FF6692",
           "#B6E880",
           "#FF97FF",
           "#FECB52"
          ],
          "font": {
           "color": "#2a3f5f"
          },
          "geo": {
           "bgcolor": "white",
           "lakecolor": "white",
           "landcolor": "white",
           "showlakes": true,
           "showland": true,
           "subunitcolor": "#C8D4E3"
          },
          "hoverlabel": {
           "align": "left"
          },
          "hovermode": "closest",
          "mapbox": {
           "style": "light"
          },
          "paper_bgcolor": "white",
          "plot_bgcolor": "white",
          "polar": {
           "angularaxis": {
            "gridcolor": "#EBF0F8",
            "linecolor": "#EBF0F8",
            "ticks": ""
           },
           "bgcolor": "white",
           "radialaxis": {
            "gridcolor": "#EBF0F8",
            "linecolor": "#EBF0F8",
            "ticks": ""
           }
          },
          "scene": {
           "xaxis": {
            "backgroundcolor": "white",
            "gridcolor": "#DFE8F3",
            "gridwidth": 2,
            "linecolor": "#EBF0F8",
            "showbackground": true,
            "ticks": "",
            "zerolinecolor": "#EBF0F8"
           },
           "yaxis": {
            "backgroundcolor": "white",
            "gridcolor": "#DFE8F3",
            "gridwidth": 2,
            "linecolor": "#EBF0F8",
            "showbackground": true,
            "ticks": "",
            "zerolinecolor": "#EBF0F8"
           },
           "zaxis": {
            "backgroundcolor": "white",
            "gridcolor": "#DFE8F3",
            "gridwidth": 2,
            "linecolor": "#EBF0F8",
            "showbackground": true,
            "ticks": "",
            "zerolinecolor": "#EBF0F8"
           }
          },
          "shapedefaults": {
           "line": {
            "color": "#2a3f5f"
           }
          },
          "ternary": {
           "aaxis": {
            "gridcolor": "#DFE8F3",
            "linecolor": "#A2B1C6",
            "ticks": ""
           },
           "baxis": {
            "gridcolor": "#DFE8F3",
            "linecolor": "#A2B1C6",
            "ticks": ""
           },
           "bgcolor": "white",
           "caxis": {
            "gridcolor": "#DFE8F3",
            "linecolor": "#A2B1C6",
            "ticks": ""
           }
          },
          "title": {
           "x": 0.05
          },
          "xaxis": {
           "automargin": true,
           "gridcolor": "#EBF0F8",
           "linecolor": "#EBF0F8",
           "ticks": "",
           "title": {
            "standoff": 15
           },
           "zerolinecolor": "#EBF0F8",
           "zerolinewidth": 2
          },
          "yaxis": {
           "automargin": true,
           "gridcolor": "#EBF0F8",
           "linecolor": "#EBF0F8",
           "ticks": "",
           "title": {
            "standoff": 15
           },
           "zerolinecolor": "#EBF0F8",
           "zerolinewidth": 2
          }
         }
        },
        "title": {
         "text": "Ritmo real vs. predicho (Decision Tree Regressor)"
        },
        "width": 800,
        "xaxis": {
         "gridcolor": "lightgray",
         "range": [
          2,
          8
         ],
         "title": {
          "text": "Ritmo real (min/km)"
         }
        },
        "yaxis": {
         "gridcolor": "lightgray",
         "range": [
          2,
          8
         ],
         "title": {
          "text": "Ritmo predicho (min/km)"
         }
        }
       }
      }
     },
     "metadata": {},
     "output_type": "display_data"
    }
   ],
   "source": [
    "import plotly.graph_objects as go\n",
    "\n",
    "# Tomamos una pequeña muestra para visualización\n",
    "sample_pd = dt_predictions.select(\"pace_real_min_km\", \"pace_pred_min_km\") \\\n",
    "                          .sample(False, 0.03, seed=42).toPandas()\n",
    "\n",
    "# Eliminamos posibles valores extremos (por seguridad)\n",
    "sample_pd = sample_pd[\n",
    "    (sample_pd[\"pace_real_min_km\"].between(2, 8)) &\n",
    "    (sample_pd[\"pace_pred_min_km\"].between(2, 8))\n",
    "]\n",
    "\n",
    "# Figura interactiva\n",
    "fig = go.Figure()\n",
    "\n",
    "# Puntos de dispersión\n",
    "fig.add_trace(go.Scatter(\n",
    "    x=sample_pd[\"pace_real_min_km\"],\n",
    "    y=sample_pd[\"pace_pred_min_km\"],\n",
    "    mode=\"markers\",\n",
    "    marker=dict(size=6, opacity=0.4, color=\"green\"),\n",
    "    name=\"Predicciones\",\n",
    "    hovertemplate=\"<b>Ritmo real:</b> %{x:.2f} min/km<br><b>Ritmo predicho:</b> %{y:.2f} min/km\"\n",
    "))\n",
    "\n",
    "# Línea ideal (y = x)\n",
    "fig.add_trace(go.Scatter(\n",
    "    x=[2, 8], y=[2, 8],\n",
    "    mode=\"lines\",\n",
    "    line=dict(color=\"red\", dash=\"dash\"),\n",
    "    name=\"Ideal (y = x)\"\n",
    "))\n",
    "\n",
    "# Configuración visual\n",
    "fig.update_layout(\n",
    "    title=\"Ritmo real vs. predicho (Decision Tree Regressor)\",\n",
    "    xaxis_title=\"Ritmo real (min/km)\",\n",
    "    yaxis_title=\"Ritmo predicho (min/km)\",\n",
    "    xaxis=dict(range=[2, 8], gridcolor=\"lightgray\"),\n",
    "    yaxis=dict(range=[2, 8], gridcolor=\"lightgray\"),\n",
    "    width=800,\n",
    "    height=600,\n",
    "    legend=dict(x=0.02, y=0.98),\n",
    "    template=\"plotly_white\"\n",
    ")\n",
    "\n",
    "# Mostrar figura interactiva\n",
    "fig.show()\n"
   ]
  },
  {
   "cell_type": "markdown",
   "id": "87ce5800",
   "metadata": {},
   "source": [
    "### Modelo de regresión basado en un bosque aleatorio de árboles de decisión"
   ]
  },
  {
   "cell_type": "code",
   "execution_count": 26,
   "id": "1797803b",
   "metadata": {},
   "outputs": [
    {
     "name": "stdout",
     "output_type": "stream",
     "text": [
      "=== Random Forest Regressor ===\n",
      "RMSE: 13.57\n",
      "R²: 0.8358\n",
      "+-------+------------------+------------------+\n",
      "|athlete|label             |prediction        |\n",
      "+-------+------------------+------------------+\n",
      "|1580   |63.0              |56.618306268858205|\n",
      "|5518   |57.45             |63.28518223619411 |\n",
      "|9852   |46.166666666666664|53.78296257767584 |\n",
      "|10623  |107.0             |120.32723889594389|\n",
      "|11141  |48.25             |55.82035903734392 |\n",
      "|11858  |124.61666666666667|92.17297241203022 |\n",
      "|1580   |62.0              |56.195207278508065|\n",
      "|6397   |47.583333333333336|40.912929639925224|\n",
      "|6620   |94.0              |90.95221354293795 |\n",
      "|9852   |57.53333333333333 |54.14865306862893 |\n",
      "+-------+------------------+------------------+\n",
      "only showing top 10 rows\n"
     ]
    }
   ],
   "source": [
    "# Crear el modelo de Random Forest\n",
    "rf = RandomForestRegressor(featuresCol=\"features\", labelCol=\"label\", numTrees=70, maxDepth=8, seed=42)\n",
    "\n",
    "\n",
    "\n",
    "# Entrenar el modelo\n",
    "rf_model = rf.fit(train_df)\n",
    "\n",
    "# Generar predicciones sobre el conjunto de test\n",
    "rf_predictions = rf_model.transform(test_df)\n",
    "\n",
    "# Evaluador\n",
    "evaluator = RegressionEvaluator(labelCol=\"label\", predictionCol=\"prediction\")\n",
    "\n",
    "# Calcular métricas\n",
    "rmse = evaluator.setMetricName(\"rmse\").evaluate(rf_predictions)\n",
    "r2 = evaluator.setMetricName(\"r2\").evaluate(rf_predictions)\n",
    "\n",
    "# Mostrar resultados\n",
    "print(\"=== Random Forest Regressor ===\")\n",
    "print(f\"RMSE: {rmse:.2f}\")\n",
    "print(f\"R²: {r2:.4f}\")\n",
    "\n",
    "# Mostrar algunas predicciones\n",
    "rf_predictions.select(\"athlete\", \"label\", \"prediction\").show(10, truncate=False)"
   ]
  },
  {
   "cell_type": "code",
   "execution_count": 27,
   "id": "cd0e33df",
   "metadata": {},
   "outputs": [
    {
     "name": "stdout",
     "output_type": "stream",
     "text": [
      "+-------+------------------+------------------+------------------+------------------+------------------+\n",
      "|athlete|distance          |label             |prediction        |pace_real_min_km  |pace_pred_min_km  |\n",
      "+-------+------------------+------------------+------------------+------------------+------------------+\n",
      "|1580   |11.54             |63.0              |59.2936391055939  |5.459272097053726 |5.138096976221308 |\n",
      "|5518   |13.200000000000001|57.45             |68.56256260058177 |4.3522727272727275|5.194133530347103 |\n",
      "|9852   |10.18             |46.166666666666664|48.39707813528593 |4.535036018336608 |4.754133412110602 |\n",
      "|10623  |20.6              |107.0             |118.51505242938543|5.194174757281553 |5.753157884921623 |\n",
      "|11141  |8.45              |48.25             |50.305679962891894|5.710059171597633 |5.953334906851112 |\n",
      "|11858  |16.54             |124.61666666666667|87.08665259752836 |7.534260378879485 |5.265214788242344 |\n",
      "|1580   |10.24             |62.0              |52.60782553861448 |6.0546875         |5.13748296275532  |\n",
      "|6397   |7.79              |47.583333333333336|39.096072334793696|6.108258451005563 |5.018751262489563 |\n",
      "|6620   |16.129            |94.0              |86.13238178862224 |5.828011656023311 |5.3402183513312815|\n",
      "|9852   |10.66             |57.53333333333333 |50.865686221555265|5.397123202001251 |4.7716403584948655|\n",
      "+-------+------------------+------------------+------------------+------------------+------------------+\n",
      "only showing top 10 rows\n"
     ]
    }
   ],
   "source": [
    "rf_predictions = add_paces(lr_predictions)\n",
    "rf_predictions.select(\"athlete\", \"distance\", \"label\", \"prediction\", \n",
    "                      \"pace_real_min_km\", \"pace_pred_min_km\").show(10, truncate=False)\n"
   ]
  },
  {
   "cell_type": "code",
   "execution_count": 28,
   "id": "0c9df649",
   "metadata": {},
   "outputs": [
    {
     "data": {
      "application/vnd.plotly.v1+json": {
       "config": {
        "plotlyServerURL": "https://plot.ly"
       },
       "data": [
        {
         "hovertemplate": "<b>Ritmo real:</b> %{x:.2f} min/km<br><b>Ritmo predicho:</b> %{y:.2f} min/km",
         "marker": {
          "color": "purple",
          "opacity": 0.4,
          "size": 6
         },
         "mode": "markers",
         "name": "Predicciones",
         "type": "scatter",
         "x": {
          "bdata": "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",
          "dtype": "f8"
         },
         "y": {
          "bdata": "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",
          "dtype": "f8"
         }
        },
        {
         "line": {
          "color": "red",
          "dash": "dash"
         },
         "mode": "lines",
         "name": "Ideal (y = x)",
         "type": "scatter",
         "x": [
          2,
          8
         ],
         "y": [
          2,
          8
         ]
        }
       ],
       "layout": {
        "height": 600,
        "legend": {
         "x": 0.02,
         "y": 0.98
        },
        "template": {
         "data": {
          "bar": [
           {
            "error_x": {
             "color": "#2a3f5f"
            },
            "error_y": {
             "color": "#2a3f5f"
            },
            "marker": {
             "line": {
              "color": "white",
              "width": 0.5
             },
             "pattern": {
              "fillmode": "overlay",
              "size": 10,
              "solidity": 0.2
             }
            },
            "type": "bar"
           }
          ],
          "barpolar": [
           {
            "marker": {
             "line": {
              "color": "white",
              "width": 0.5
             },
             "pattern": {
              "fillmode": "overlay",
              "size": 10,
              "solidity": 0.2
             }
            },
            "type": "barpolar"
           }
          ],
          "carpet": [
           {
            "aaxis": {
             "endlinecolor": "#2a3f5f",
             "gridcolor": "#C8D4E3",
             "linecolor": "#C8D4E3",
             "minorgridcolor": "#C8D4E3",
             "startlinecolor": "#2a3f5f"
            },
            "baxis": {
             "endlinecolor": "#2a3f5f",
             "gridcolor": "#C8D4E3",
             "linecolor": "#C8D4E3",
             "minorgridcolor": "#C8D4E3",
             "startlinecolor": "#2a3f5f"
            },
            "type": "carpet"
           }
          ],
          "choropleth": [
           {
            "colorbar": {
             "outlinewidth": 0,
             "ticks": ""
            },
            "type": "choropleth"
           }
          ],
          "contour": [
           {
            "colorbar": {
             "outlinewidth": 0,
             "ticks": ""
            },
            "colorscale": [
             [
              0,
              "#0d0887"
             ],
             [
              0.1111111111111111,
              "#46039f"
             ],
             [
              0.2222222222222222,
              "#7201a8"
             ],
             [
              0.3333333333333333,
              "#9c179e"
             ],
             [
              0.4444444444444444,
              "#bd3786"
             ],
             [
              0.5555555555555556,
              "#d8576b"
             ],
             [
              0.6666666666666666,
              "#ed7953"
             ],
             [
              0.7777777777777778,
              "#fb9f3a"
             ],
             [
              0.8888888888888888,
              "#fdca26"
             ],
             [
              1,
              "#f0f921"
             ]
            ],
            "type": "contour"
           }
          ],
          "contourcarpet": [
           {
            "colorbar": {
             "outlinewidth": 0,
             "ticks": ""
            },
            "type": "contourcarpet"
           }
          ],
          "heatmap": [
           {
            "colorbar": {
             "outlinewidth": 0,
             "ticks": ""
            },
            "colorscale": [
             [
              0,
              "#0d0887"
             ],
             [
              0.1111111111111111,
              "#46039f"
             ],
             [
              0.2222222222222222,
              "#7201a8"
             ],
             [
              0.3333333333333333,
              "#9c179e"
             ],
             [
              0.4444444444444444,
              "#bd3786"
             ],
             [
              0.5555555555555556,
              "#d8576b"
             ],
             [
              0.6666666666666666,
              "#ed7953"
             ],
             [
              0.7777777777777778,
              "#fb9f3a"
             ],
             [
              0.8888888888888888,
              "#fdca26"
             ],
             [
              1,
              "#f0f921"
             ]
            ],
            "type": "heatmap"
           }
          ],
          "histogram": [
           {
            "marker": {
             "pattern": {
              "fillmode": "overlay",
              "size": 10,
              "solidity": 0.2
             }
            },
            "type": "histogram"
           }
          ],
          "histogram2d": [
           {
            "colorbar": {
             "outlinewidth": 0,
             "ticks": ""
            },
            "colorscale": [
             [
              0,
              "#0d0887"
             ],
             [
              0.1111111111111111,
              "#46039f"
             ],
             [
              0.2222222222222222,
              "#7201a8"
             ],
             [
              0.3333333333333333,
              "#9c179e"
             ],
             [
              0.4444444444444444,
              "#bd3786"
             ],
             [
              0.5555555555555556,
              "#d8576b"
             ],
             [
              0.6666666666666666,
              "#ed7953"
             ],
             [
              0.7777777777777778,
              "#fb9f3a"
             ],
             [
              0.8888888888888888,
              "#fdca26"
             ],
             [
              1,
              "#f0f921"
             ]
            ],
            "type": "histogram2d"
           }
          ],
          "histogram2dcontour": [
           {
            "colorbar": {
             "outlinewidth": 0,
             "ticks": ""
            },
            "colorscale": [
             [
              0,
              "#0d0887"
             ],
             [
              0.1111111111111111,
              "#46039f"
             ],
             [
              0.2222222222222222,
              "#7201a8"
             ],
             [
              0.3333333333333333,
              "#9c179e"
             ],
             [
              0.4444444444444444,
              "#bd3786"
             ],
             [
              0.5555555555555556,
              "#d8576b"
             ],
             [
              0.6666666666666666,
              "#ed7953"
             ],
             [
              0.7777777777777778,
              "#fb9f3a"
             ],
             [
              0.8888888888888888,
              "#fdca26"
             ],
             [
              1,
              "#f0f921"
             ]
            ],
            "type": "histogram2dcontour"
           }
          ],
          "mesh3d": [
           {
            "colorbar": {
             "outlinewidth": 0,
             "ticks": ""
            },
            "type": "mesh3d"
           }
          ],
          "parcoords": [
           {
            "line": {
             "colorbar": {
              "outlinewidth": 0,
              "ticks": ""
             }
            },
            "type": "parcoords"
           }
          ],
          "pie": [
           {
            "automargin": true,
            "type": "pie"
           }
          ],
          "scatter": [
           {
            "fillpattern": {
             "fillmode": "overlay",
             "size": 10,
             "solidity": 0.2
            },
            "type": "scatter"
           }
          ],
          "scatter3d": [
           {
            "line": {
             "colorbar": {
              "outlinewidth": 0,
              "ticks": ""
             }
            },
            "marker": {
             "colorbar": {
              "outlinewidth": 0,
              "ticks": ""
             }
            },
            "type": "scatter3d"
           }
          ],
          "scattercarpet": [
           {
            "marker": {
             "colorbar": {
              "outlinewidth": 0,
              "ticks": ""
             }
            },
            "type": "scattercarpet"
           }
          ],
          "scattergeo": [
           {
            "marker": {
             "colorbar": {
              "outlinewidth": 0,
              "ticks": ""
             }
            },
            "type": "scattergeo"
           }
          ],
          "scattergl": [
           {
            "marker": {
             "colorbar": {
              "outlinewidth": 0,
              "ticks": ""
             }
            },
            "type": "scattergl"
           }
          ],
          "scattermap": [
           {
            "marker": {
             "colorbar": {
              "outlinewidth": 0,
              "ticks": ""
             }
            },
            "type": "scattermap"
           }
          ],
          "scattermapbox": [
           {
            "marker": {
             "colorbar": {
              "outlinewidth": 0,
              "ticks": ""
             }
            },
            "type": "scattermapbox"
           }
          ],
          "scatterpolar": [
           {
            "marker": {
             "colorbar": {
              "outlinewidth": 0,
              "ticks": ""
             }
            },
            "type": "scatterpolar"
           }
          ],
          "scatterpolargl": [
           {
            "marker": {
             "colorbar": {
              "outlinewidth": 0,
              "ticks": ""
             }
            },
            "type": "scatterpolargl"
           }
          ],
          "scatterternary": [
           {
            "marker": {
             "colorbar": {
              "outlinewidth": 0,
              "ticks": ""
             }
            },
            "type": "scatterternary"
           }
          ],
          "surface": [
           {
            "colorbar": {
             "outlinewidth": 0,
             "ticks": ""
            },
            "colorscale": [
             [
              0,
              "#0d0887"
             ],
             [
              0.1111111111111111,
              "#46039f"
             ],
             [
              0.2222222222222222,
              "#7201a8"
             ],
             [
              0.3333333333333333,
              "#9c179e"
             ],
             [
              0.4444444444444444,
              "#bd3786"
             ],
             [
              0.5555555555555556,
              "#d8576b"
             ],
             [
              0.6666666666666666,
              "#ed7953"
             ],
             [
              0.7777777777777778,
              "#fb9f3a"
             ],
             [
              0.8888888888888888,
              "#fdca26"
             ],
             [
              1,
              "#f0f921"
             ]
            ],
            "type": "surface"
           }
          ],
          "table": [
           {
            "cells": {
             "fill": {
              "color": "#EBF0F8"
             },
             "line": {
              "color": "white"
             }
            },
            "header": {
             "fill": {
              "color": "#C8D4E3"
             },
             "line": {
              "color": "white"
             }
            },
            "type": "table"
           }
          ]
         },
         "layout": {
          "annotationdefaults": {
           "arrowcolor": "#2a3f5f",
           "arrowhead": 0,
           "arrowwidth": 1
          },
          "autotypenumbers": "strict",
          "coloraxis": {
           "colorbar": {
            "outlinewidth": 0,
            "ticks": ""
           }
          },
          "colorscale": {
           "diverging": [
            [
             0,
             "#8e0152"
            ],
            [
             0.1,
             "#c51b7d"
            ],
            [
             0.2,
             "#de77ae"
            ],
            [
             0.3,
             "#f1b6da"
            ],
            [
             0.4,
             "#fde0ef"
            ],
            [
             0.5,
             "#f7f7f7"
            ],
            [
             0.6,
             "#e6f5d0"
            ],
            [
             0.7,
             "#b8e186"
            ],
            [
             0.8,
             "#7fbc41"
            ],
            [
             0.9,
             "#4d9221"
            ],
            [
             1,
             "#276419"
            ]
           ],
           "sequential": [
            [
             0,
             "#0d0887"
            ],
            [
             0.1111111111111111,
             "#46039f"
            ],
            [
             0.2222222222222222,
             "#7201a8"
            ],
            [
             0.3333333333333333,
             "#9c179e"
            ],
            [
             0.4444444444444444,
             "#bd3786"
            ],
            [
             0.5555555555555556,
             "#d8576b"
            ],
            [
             0.6666666666666666,
             "#ed7953"
            ],
            [
             0.7777777777777778,
             "#fb9f3a"
            ],
            [
             0.8888888888888888,
             "#fdca26"
            ],
            [
             1,
             "#f0f921"
            ]
           ],
           "sequentialminus": [
            [
             0,
             "#0d0887"
            ],
            [
             0.1111111111111111,
             "#46039f"
            ],
            [
             0.2222222222222222,
             "#7201a8"
            ],
            [
             0.3333333333333333,
             "#9c179e"
            ],
            [
             0.4444444444444444,
             "#bd3786"
            ],
            [
             0.5555555555555556,
             "#d8576b"
            ],
            [
             0.6666666666666666,
             "#ed7953"
            ],
            [
             0.7777777777777778,
             "#fb9f3a"
            ],
            [
             0.8888888888888888,
             "#fdca26"
            ],
            [
             1,
             "#f0f921"
            ]
           ]
          },
          "colorway": [
           "#636efa",
           "#EF553B",
           "#00cc96",
           "#ab63fa",
           "#FFA15A",
           "#19d3f3",
           "#FF6692",
           "#B6E880",
           "#FF97FF",
           "#FECB52"
          ],
          "font": {
           "color": "#2a3f5f"
          },
          "geo": {
           "bgcolor": "white",
           "lakecolor": "white",
           "landcolor": "white",
           "showlakes": true,
           "showland": true,
           "subunitcolor": "#C8D4E3"
          },
          "hoverlabel": {
           "align": "left"
          },
          "hovermode": "closest",
          "mapbox": {
           "style": "light"
          },
          "paper_bgcolor": "white",
          "plot_bgcolor": "white",
          "polar": {
           "angularaxis": {
            "gridcolor": "#EBF0F8",
            "linecolor": "#EBF0F8",
            "ticks": ""
           },
           "bgcolor": "white",
           "radialaxis": {
            "gridcolor": "#EBF0F8",
            "linecolor": "#EBF0F8",
            "ticks": ""
           }
          },
          "scene": {
           "xaxis": {
            "backgroundcolor": "white",
            "gridcolor": "#DFE8F3",
            "gridwidth": 2,
            "linecolor": "#EBF0F8",
            "showbackground": true,
            "ticks": "",
            "zerolinecolor": "#EBF0F8"
           },
           "yaxis": {
            "backgroundcolor": "white",
            "gridcolor": "#DFE8F3",
            "gridwidth": 2,
            "linecolor": "#EBF0F8",
            "showbackground": true,
            "ticks": "",
            "zerolinecolor": "#EBF0F8"
           },
           "zaxis": {
            "backgroundcolor": "white",
            "gridcolor": "#DFE8F3",
            "gridwidth": 2,
            "linecolor": "#EBF0F8",
            "showbackground": true,
            "ticks": "",
            "zerolinecolor": "#EBF0F8"
           }
          },
          "shapedefaults": {
           "line": {
            "color": "#2a3f5f"
           }
          },
          "ternary": {
           "aaxis": {
            "gridcolor": "#DFE8F3",
            "linecolor": "#A2B1C6",
            "ticks": ""
           },
           "baxis": {
            "gridcolor": "#DFE8F3",
            "linecolor": "#A2B1C6",
            "ticks": ""
           },
           "bgcolor": "white",
           "caxis": {
            "gridcolor": "#DFE8F3",
            "linecolor": "#A2B1C6",
            "ticks": ""
           }
          },
          "title": {
           "x": 0.05
          },
          "xaxis": {
           "automargin": true,
           "gridcolor": "#EBF0F8",
           "linecolor": "#EBF0F8",
           "ticks": "",
           "title": {
            "standoff": 15
           },
           "zerolinecolor": "#EBF0F8",
           "zerolinewidth": 2
          },
          "yaxis": {
           "automargin": true,
           "gridcolor": "#EBF0F8",
           "linecolor": "#EBF0F8",
           "ticks": "",
           "title": {
            "standoff": 15
           },
           "zerolinecolor": "#EBF0F8",
           "zerolinewidth": 2
          }
         }
        },
        "title": {
         "text": "Ritmo real vs. predicho (Random Forest Regressor)"
        },
        "width": 800,
        "xaxis": {
         "gridcolor": "lightgray",
         "range": [
          2,
          8
         ],
         "title": {
          "text": "Ritmo real (min/km)"
         }
        },
        "yaxis": {
         "gridcolor": "lightgray",
         "range": [
          2,
          8
         ],
         "title": {
          "text": "Ritmo predicho (min/km)"
         }
        }
       }
      }
     },
     "metadata": {},
     "output_type": "display_data"
    }
   ],
   "source": [
    "import plotly.graph_objects as go\n",
    "\n",
    "# Muestra para visualización\n",
    "sample_pd = rf_predictions.select(\"pace_real_min_km\", \"pace_pred_min_km\") \\\n",
    "                          .sample(False, 0.03, seed=42).toPandas()\n",
    "\n",
    "# Filtrado simple de outliers por rango visual\n",
    "sample_pd = sample_pd[\n",
    "    (sample_pd[\"pace_real_min_km\"].between(2, 8)) &\n",
    "    (sample_pd[\"pace_pred_min_km\"].between(2, 8))\n",
    "]\n",
    "\n",
    "# Figura interactiva\n",
    "fig = go.Figure()\n",
    "\n",
    "# Dispersión\n",
    "fig.add_trace(go.Scatter(\n",
    "    x=sample_pd[\"pace_real_min_km\"],\n",
    "    y=sample_pd[\"pace_pred_min_km\"],\n",
    "    mode=\"markers\",\n",
    "    marker=dict(size=6, opacity=0.4, color=\"purple\"),\n",
    "    name=\"Predicciones\",\n",
    "    hovertemplate=\"<b>Ritmo real:</b> %{x:.2f} min/km<br><b>Ritmo predicho:</b> %{y:.2f} min/km\"\n",
    "))\n",
    "\n",
    "# Línea ideal (y = x)\n",
    "fig.add_trace(go.Scatter(\n",
    "    x=[2, 8], y=[2, 8],\n",
    "    mode=\"lines\",\n",
    "    line=dict(color=\"red\", dash=\"dash\"),\n",
    "    name=\"Ideal (y = x)\"\n",
    "))\n",
    "\n",
    "# Layout\n",
    "fig.update_layout(\n",
    "    title=\"Ritmo real vs. predicho (Random Forest Regressor)\",\n",
    "    xaxis_title=\"Ritmo real (min/km)\",\n",
    "    yaxis_title=\"Ritmo predicho (min/km)\",\n",
    "    xaxis=dict(range=[2, 8], gridcolor=\"lightgray\"),\n",
    "    yaxis=dict(range=[2, 8], gridcolor=\"lightgray\"),\n",
    "    width=800,\n",
    "    height=600,\n",
    "    legend=dict(x=0.02, y=0.98),\n",
    "    template=\"plotly_white\"\n",
    ")\n",
    "\n",
    "fig.show()\n"
   ]
  },
  {
   "cell_type": "markdown",
   "id": "31ede0ef",
   "metadata": {},
   "source": [
    "## Busqueda de hiperparametros"
   ]
  },
  {
   "cell_type": "code",
   "execution_count": 82,
   "id": "14d9b8b3",
   "metadata": {},
   "outputs": [
    {
     "name": "stdout",
     "output_type": "stream",
     "text": [
      "CV -> LinearRegression\n",
      "[LR] RMSE: 10.5104 | R2: 0.9015\n",
      "[LR] Mejores hiperparámetros: {'regParam': 0.0, 'elasticNetParam': 1.0, 'maxIter': 50}\n",
      "[LR] #Coef: 113\n"
     ]
    }
   ],
   "source": [
    "from pyspark.ml.tuning import ParamGridBuilder, CrossValidator\n",
    "from pyspark.ml.evaluation import RegressionEvaluator\n",
    "from pyspark.ml.regression import LinearRegression\n",
    "\n",
    "# Evaluador propio\n",
    "evaluator_rmse = RegressionEvaluator(labelCol=\"label\", predictionCol=\"prediction\", metricName=\"rmse\")\n",
    "evaluator_r2 = RegressionEvaluator(labelCol=\"label\", predictionCol=\"prediction\", metricName=\"r2\")\n",
    "\n",
    "\n",
    "\n",
    "# Modelo base\n",
    "lr = LinearRegression(featuresCol=\"features\", labelCol=\"label\", maxIter=50)\n",
    "\n",
    "# Grid propio\n",
    "lr_grid = (ParamGridBuilder()\n",
    "           .addGrid(lr.regParam, [0.0, 0.01, 0.1])\n",
    "           .addGrid(lr.elasticNetParam, [0.0, 0.5, 1.0])  # Ridge / Mixto / Lasso\n",
    "           .build())\n",
    "\n",
    "# CV propio\n",
    "lr_cv = CrossValidator(\n",
    "    estimator=lr,\n",
    "    estimatorParamMaps=lr_grid,\n",
    "    evaluator=evaluator_r2,\n",
    "    numFolds=3,              # baja de 5/10 a 3\n",
    "    parallelism=1,           # ¡clave para no reventar memoria!\n",
    "    seed=42,\n",
    "    collectSubModels=False   # evita guardar todos los submodelos\n",
    ")\n",
    "\n",
    "\n",
    "print(\"CV -> LinearRegression\")\n",
    "lr_cv_model = lr_cv.fit(train_df)\n",
    "\n",
    "# Evaluación test\n",
    "lr_preds = lr_cv_model.transform(test_df).cache()\n",
    "lr_rmse  = evaluator_rmse.evaluate(lr_preds)\n",
    "lr_r2    = evaluator_r2.evaluate(lr_preds)\n",
    "\n",
    "# Mejores hiperparámetros\n",
    "best_lr = lr_cv_model.bestModel\n",
    "best_lr_params = {p.name: best_lr.getOrDefault(p) for p in best_lr.extractParamMap()}\n",
    "\n",
    "print(f\"[LR] RMSE: {lr_rmse:.4f} | R2: {lr_r2:.4f}\")\n",
    "print(\"[LR] Mejores hiperparámetros:\", {k: best_lr_params[k] for k in [\"regParam\",\"elasticNetParam\",\"maxIter\"] if k in best_lr_params})\n",
    "\n",
    "# (Opcional) Coeficientes\n",
    "print(\"[LR] #Coef:\", len(best_lr.coefficients))\n"
   ]
  },
  {
   "cell_type": "code",
   "execution_count": 83,
   "id": "42b488b8",
   "metadata": {},
   "outputs": [
    {
     "name": "stdout",
     "output_type": "stream",
     "text": [
      "CV -> DecisionTree\n",
      "[DT] RMSE: 11.7169 | R2: 0.8776\n",
      "[DT] Mejores hiperparámetros: {'maxDepth': 15, 'minInstancesPerNode': 5}\n",
      "[DT] Profundidad: 15\n"
     ]
    }
   ],
   "source": [
    "from pyspark.ml.tuning import ParamGridBuilder, CrossValidator\n",
    "from pyspark.ml.evaluation import RegressionEvaluator\n",
    "from pyspark.ml.regression import DecisionTreeRegressor\n",
    "\n",
    "\n",
    "\n",
    "# Modelo base\n",
    "dt = DecisionTreeRegressor(featuresCol=\"features\", labelCol=\"label\", seed=42)\n",
    "\n",
    "# Grid propio\n",
    "dt_grid = (ParamGridBuilder()\n",
    "           .addGrid(dt.maxDepth, [5, 10, 15])\n",
    "           .addGrid(dt.minInstancesPerNode, [1, 5, 20])\n",
    "           .build())\n",
    "\n",
    "# CV propio\n",
    "dt_cv = CrossValidator(\n",
    "    estimator=dt,\n",
    "    estimatorParamMaps=dt_grid,\n",
    "    evaluator=evaluator_r2,\n",
    "    numFolds=3,\n",
    "    parallelism=2,\n",
    "    seed=42\n",
    ")\n",
    "\n",
    "print(\"CV -> DecisionTree\")\n",
    "dt_cv_model = dt_cv.fit(train_df)\n",
    "\n",
    "# Evaluación test\n",
    "dt_preds = dt_cv_model.transform(test_df).cache()\n",
    "dt_rmse  = evaluator_rmse.evaluate(dt_preds)\n",
    "dt_r2    = evaluator_r2.evaluate(dt_preds)\n",
    "\n",
    "# Mejores hiperparámetros\n",
    "best_dt = dt_cv_model.bestModel\n",
    "best_dt_params = {\n",
    "    \"maxDepth\": best_dt.getOrDefault(best_dt.maxDepth),\n",
    "    \"minInstancesPerNode\": best_dt.getOrDefault(best_dt.minInstancesPerNode)\n",
    "}\n",
    "\n",
    "print(f\"[DT] RMSE: {dt_rmse:.4f} | R2: {dt_r2:.4f}\")\n",
    "print(\"[DT] Mejores hiperparámetros:\", best_dt_params)\n",
    "\n",
    "# (Opcional) Importancias no aplican; es un árbol único. Puedes inspeccionar la profundidad:\n",
    "print(\"[DT] Profundidad:\", best_dt.depth)\n"
   ]
  },
  {
   "cell_type": "code",
   "execution_count": 84,
   "id": "62c02ef0",
   "metadata": {},
   "outputs": [
    {
     "name": "stdout",
     "output_type": "stream",
     "text": [
      "CV -> RandomForest\n",
      "[RF] RMSE: 13.6147 | R2: 0.8348\n",
      "[RF] Mejores hiperparámetros: {'numTrees': 10, 'maxDepth': 10, 'featureSubsetStrategy': 'auto'}\n",
      "[RF] Top-10 importancias: [0.9804969486606325, 0.004068483762475069, 0.0019442440171991888, 0.005150575528054973, 0.0006594079086587231, 0.003295654780443366, 0.0007336784744782139, 6.590290968432209e-05, 7.454738273079893e-05, 6.8340907300780375e-06]\n"
     ]
    }
   ],
   "source": [
    "from pyspark.ml.tuning import ParamGridBuilder, CrossValidator\n",
    "from pyspark.ml.evaluation import RegressionEvaluator\n",
    "from pyspark.ml.regression import RandomForestRegressor\n",
    "\n",
    "\n",
    "\n",
    "\n",
    "# Modelo base\n",
    "rf = RandomForestRegressor(featuresCol=\"features\", labelCol=\"label\", seed=42)\n",
    "\n",
    "# Grid propio\n",
    "rf_grid = (ParamGridBuilder()\n",
    "           .addGrid(rf.numTrees, [2, 5, 10]) #Bajar mucho (2, 5, 10)\n",
    "           .addGrid(rf.maxDepth, [3, 5, 10]) #Bajar\n",
    "           .addGrid(rf.featureSubsetStrategy, [\"auto\", \"sqrt\"])\n",
    "           .build())\n",
    "\n",
    "# CV propio\n",
    "rf_cv = CrossValidator(\n",
    "    estimator=rf,\n",
    "    estimatorParamMaps=rf_grid,\n",
    "    evaluator=evaluator_r2,\n",
    "    numFolds=3,\n",
    "    parallelism=2,\n",
    "    seed=42\n",
    ")\n",
    "\n",
    "print(\"CV -> RandomForest\")\n",
    "rf_cv_model = rf_cv.fit(train_df)\n",
    "\n",
    "# Evaluación test\n",
    "rf_preds = rf_cv_model.transform(test_df).cache()\n",
    "rf_rmse  = evaluator_rmse.evaluate(rf_preds)\n",
    "rf_r2    = evaluator_r2.evaluate(rf_preds)\n",
    "\n",
    "# Mejores hiperparámetros\n",
    "best_rf = rf_cv_model.bestModel\n",
    "best_rf_params = {\n",
    "    \"numTrees\": best_rf.getNumTrees,\n",
    "    \"maxDepth\": best_rf.getOrDefault(best_rf.maxDepth),\n",
    "    \"featureSubsetStrategy\": best_rf.getOrDefault(best_rf.featureSubsetStrategy),\n",
    "}\n",
    "\n",
    "print(f\"[RF] RMSE: {rf_rmse:.4f} | R2: {rf_r2:.4f}\")\n",
    "print(\"[RF] Mejores hiperparámetros:\", best_rf_params)\n",
    "\n",
    "# (Opcional) Importancias\n",
    "print(\"[RF] Top-10 importancias:\", list(best_rf.featureImportances.toArray())[:10])\n"
   ]
  }
 ],
 "metadata": {
  "kernelspec": {
   "display_name": "TotalEnergies",
   "language": "python",
   "name": "python3"
  },
  "language_info": {
   "codemirror_mode": {
    "name": "ipython",
    "version": 3
   },
   "file_extension": ".py",
   "mimetype": "text/x-python",
   "name": "python",
   "nbconvert_exporter": "python",
   "pygments_lexer": "ipython3",
   "version": "3.10.18"
  }
 },
 "nbformat": 4,
 "nbformat_minor": 5
}
