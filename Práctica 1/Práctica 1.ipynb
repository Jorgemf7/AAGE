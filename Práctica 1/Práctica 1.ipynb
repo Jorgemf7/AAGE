{
 "cells": [
  {
   "cell_type": "markdown",
   "id": "bcbcf848",
   "metadata": {},
   "source": [
    "# Práctica 1"
   ]
  },
  {
   "cell_type": "markdown",
   "id": "c8e3416a",
   "metadata": {},
   "source": [
    "## Importaciones"
   ]
  },
  {
   "cell_type": "code",
   "execution_count": 1,
   "id": "9693568d",
   "metadata": {},
   "outputs": [],
   "source": [
    "import os\n",
    "import sys\n",
    "from pyspark.sql import SparkSession\n",
    "from pyspark.sql.functions import month, when\n",
    "from pyspark.sql.functions import col, when\n",
    "from pyspark.ml.feature import StringIndexer, OneHotEncoder, VectorAssembler\n",
    "from pyspark.ml import Pipeline\n",
    "from pyspark.ml.regression import LinearRegression, DecisionTreeRegressor, RandomForestRegressor\n",
    "from pyspark.ml.evaluation import RegressionEvaluator"
   ]
  },
  {
   "cell_type": "markdown",
   "id": "28e65db3",
   "metadata": {},
   "source": [
    "## Inicio de sesión en Spark"
   ]
  },
  {
   "cell_type": "code",
   "execution_count": null,
   "id": "6d51337c",
   "metadata": {},
   "outputs": [
    {
     "data": {
      "text/plain": [
       "'# Inicio de la sesión de Spark.\\nspark = SparkSession.builder     .appName(\"MarathonRegression\")     .getOrCreate()'"
      ]
     },
     "execution_count": 2,
     "metadata": {},
     "output_type": "execute_result"
    }
   ],
   "source": [
    "os.environ['JAVA_HOME'] = \"C:\\Program Files\\Java\\jdk-17\"\n",
    "os.environ['PYSPARK_PYTHON'] = sys.executable\n",
    "os.environ['PYSPARK_DRIVER_PYTHON'] = sys.executable\n",
    "\n",
    "spark = SparkSession.builder \\\n",
    "    .appName(\"AA1\") \\\n",
    "    .config(\"spark.driver.memory\", \"8g\") \\\n",
    "    .getOrCreate()\n",
    "\"\"\"# Inicio de la sesión de Spark.\n",
    "spark = SparkSession.builder \\\n",
    "    .appName(\"MarathonRegression\") \\\n",
    "    .getOrCreate()\"\"\""
   ]
  },
  {
   "cell_type": "markdown",
   "id": "ec9484a8",
   "metadata": {},
   "source": [
    "## Visualización inicial de los datos"
   ]
  },
  {
   "cell_type": "markdown",
   "id": "8aa47690",
   "metadata": {},
   "source": [
    "### Carga del dataset"
   ]
  },
  {
   "cell_type": "code",
   "execution_count": 3,
   "id": "702073d3",
   "metadata": {},
   "outputs": [],
   "source": [
    "# Cargar el dataset.\n",
    "df = spark.read.csv(r\"C:\\Users\\Usuario\\Desktop\\ALEX\\GCED\\7º cuatri\\aprendizaje automático a gran escala\\run_ww_2020_d.csv\", header=True, inferSchema=True)"
   ]
  },
  {
   "cell_type": "markdown",
   "id": "53273c03",
   "metadata": {},
   "source": [
    "### Muestra de las cinco primeras filas y del esquema"
   ]
  },
  {
   "cell_type": "code",
   "execution_count": 4,
   "id": "b18ae0c3",
   "metadata": {},
   "outputs": [
    {
     "name": "stdout",
     "output_type": "stream",
     "text": [
      "+---+----------+-------+--------+------------------+------+---------+--------------+-----------------------+\n",
      "|_c0|datetime  |athlete|distance|duration          |gender|age_group|country       |major                  |\n",
      "+---+----------+-------+--------+------------------+------+---------+--------------+-----------------------+\n",
      "|0  |2020-01-01|0      |0.0     |0.0               |F     |18 - 34  |United States |CHICAGO 2019           |\n",
      "|1  |2020-01-01|1      |5.72    |31.633333333333333|M     |35 - 54  |Germany       |BERLIN 2016            |\n",
      "|2  |2020-01-01|2      |0.0     |0.0               |M     |35 - 54  |United Kingdom|LONDON 2018,LONDON 2019|\n",
      "|3  |2020-01-01|3      |0.0     |0.0               |M     |18 - 34  |United Kingdom|LONDON 2017            |\n",
      "|4  |2020-01-01|4      |8.07    |38.61666666666667 |M     |35 - 54  |United States |BOSTON 2017            |\n",
      "+---+----------+-------+--------+------------------+------+---------+--------------+-----------------------+\n",
      "only showing top 5 rows\n",
      "root\n",
      " |-- _c0: integer (nullable = true)\n",
      " |-- datetime: date (nullable = true)\n",
      " |-- athlete: integer (nullable = true)\n",
      " |-- distance: double (nullable = true)\n",
      " |-- duration: double (nullable = true)\n",
      " |-- gender: string (nullable = true)\n",
      " |-- age_group: string (nullable = true)\n",
      " |-- country: string (nullable = true)\n",
      " |-- major: string (nullable = true)\n",
      "\n"
     ]
    }
   ],
   "source": [
    "# Mostrar las cinco primeras filas.\n",
    "df.show(5, truncate=False)\n",
    "\n",
    "# Mostrar esquema de columnas.\n",
    "df.printSchema()"
   ]
  },
  {
   "cell_type": "markdown",
   "id": "c133fb33",
   "metadata": {},
   "source": [
    "### Muestra de filas y variables y principales estadísticas del dataset"
   ]
  },
  {
   "cell_type": "code",
   "execution_count": 5,
   "id": "7e180237",
   "metadata": {},
   "outputs": [
    {
     "name": "stdout",
     "output_type": "stream",
     "text": [
      "Filas: 13326792, Variables: 9\n",
      "+-------+-----------------+------------------+\n",
      "|summary|         distance|          duration|\n",
      "+-------+-----------------+------------------+\n",
      "|  count|         13326792|          13326792|\n",
      "|   mean|3.864718473881684| 21.39197543564929|\n",
      "| stddev|6.661547347662435| 39.27358918572176|\n",
      "|    min|              0.0|               0.0|\n",
      "|    max|           347.95|2299.9666666666667|\n",
      "+-------+-----------------+------------------+\n",
      "\n",
      "+------+--------+\n",
      "|gender|   count|\n",
      "+------+--------+\n",
      "|     F| 3253374|\n",
      "|     M|10073418|\n",
      "+------+--------+\n",
      "\n",
      "+---------+-------+\n",
      "|age_group|  count|\n",
      "+---------+-------+\n",
      "|     55 +| 940254|\n",
      "|  35 - 54|7905966|\n",
      "|  18 - 34|4480572|\n",
      "+---------+-------+\n",
      "\n"
     ]
    }
   ],
   "source": [
    "# Número de filas y variables.\n",
    "print(f\"Filas: {df.count()}, Variables: {len(df.columns)}\")\n",
    "\n",
    "# Estadísticas descriptivas de variables numéricas.\n",
    "df.describe(['distance', 'duration']).show()\n",
    "\n",
    "# Distribución por género y grupo de edad.\n",
    "df.groupBy(\"gender\").count().show()\n",
    "df.groupBy(\"age_group\").count().show()"
   ]
  },
  {
   "cell_type": "markdown",
   "id": "31e85d52",
   "metadata": {},
   "source": [
    "## Preparación del dataset"
   ]
  },
  {
   "cell_type": "markdown",
   "id": "985ea670",
   "metadata": {},
   "source": [
    "### Filtrado de filas"
   ]
  },
  {
   "cell_type": "markdown",
   "id": "5039e570",
   "metadata": {},
   "source": [
    "Como tenemos un gran número de filas, vamos a filtrar. Primero, nos quedamos solo con los registros que no estén vacíos, es decir, aquellos cuya duración y distancia sea mayor a 0."
   ]
  },
  {
   "cell_type": "code",
   "execution_count": 6,
   "id": "a602c374",
   "metadata": {},
   "outputs": [
    {
     "name": "stdout",
     "output_type": "stream",
     "text": [
      "Filas tras filtrar: 4581764\n"
     ]
    }
   ],
   "source": [
    "# Filtrado de filas.\n",
    "df_filtered = df.filter((df.duration > 0) & (df.distance > 0))\n",
    "\n",
    "# Comprobar tamaño.\n",
    "print(f\"Filas tras filtrar: {df_filtered.count()}\")"
   ]
  },
  {
   "cell_type": "markdown",
   "id": "7c831cb7",
   "metadata": {},
   "source": [
    "### Eliminamos las filas con valores nulos"
   ]
  },
  {
   "cell_type": "code",
   "execution_count": null,
   "id": "b98042ac",
   "metadata": {},
   "outputs": [],
   "source": [
    "df_filtered = df_filtered.dropna()\n",
    "\n",
    "# Comprobar tamaño.\n",
    "print(f\"Filas tras filtrar: {df_filtered.count()}\")"
   ]
  },
  {
   "cell_type": "markdown",
   "id": "66948153",
   "metadata": {},
   "source": [
    "Como seguimos teniendo gran número de filas, volvemos a filtrar. Ahora vamos a filtrar por número de atletas. Inicialmente tenemos 36.7k atletas. Vamos a probar con cuantos nos quedamos con el número de filas más adecuado."
   ]
  },
  {
   "cell_type": "code",
   "execution_count": 8,
   "id": "66645f94",
   "metadata": {},
   "outputs": [
    {
     "name": "stdout",
     "output_type": "stream",
     "text": [
      "Filas con athlete < 5000: 625635\n",
      "Filas con athlete < 8000: 996749\n",
      "Filas con athlete < 10000: 1249180\n",
      "Filas con athlete < 15000: 1869208\n",
      "Filas con athlete < 20000: 2471216\n"
     ]
    }
   ],
   "source": [
    "# Filtrar atletas con ID < 5000.\n",
    "df_filtered_5000 = df_filtered.filter(df_filtered.athlete < 5000)\n",
    "print(f\"Filas con athlete < 5000: {df_filtered_5000.count()}\")\n",
    "\n",
    "# Filtrar atletas con ID < 8000.\n",
    "df_filtered_8000 = df_filtered.filter(df_filtered.athlete < 8000)\n",
    "print(f\"Filas con athlete < 8000: {df_filtered_8000.count()}\")\n",
    "\n",
    "# Filtrar atletas con ID < 10000.\n",
    "df_filtered_10000 = df_filtered.filter(df_filtered.athlete < 10000)\n",
    "print(f\"Filas con athlete < 10000: {df_filtered_10000.count()}\")\n",
    "\n",
    "# Filtrar atletas con ID < 15000.\n",
    "df_final = df_filtered.filter(df_filtered.athlete < 15000)\n",
    "print(f\"Filas con athlete < 15000: {df_final.count()}\")\n",
    "\n",
    "# Filtrar atletas con ID < 20000.\n",
    "df_filtered_20000 = df_filtered.filter(df_filtered.athlete < 20000)\n",
    "print(f\"Filas con athlete < 20000: {df_filtered_20000.count()}\")"
   ]
  },
  {
   "cell_type": "markdown",
   "id": "8cef25a0",
   "metadata": {},
   "source": [
    "Nos quedamos con 15000 atletas, ya que creemos que es el valor más adecuado para lograr un equilibrio entre cantidad para un correcto aprendizaje y velocidad de procesamiento. "
   ]
  },
  {
   "cell_type": "markdown",
   "id": "fa66c5c0",
   "metadata": {},
   "source": [
    "### Creación de la variable \"season\" a partir de la variable datetime"
   ]
  },
  {
   "cell_type": "code",
   "execution_count": 9,
   "id": "6e502a1e",
   "metadata": {},
   "outputs": [],
   "source": [
    "df_final = df_final.withColumn(\n",
    "    \"season\",\n",
    "    when((month(\"datetime\") >= 3) & (month(\"datetime\") <= 5), \"spring\")\n",
    "    .when((month(\"datetime\") >= 6) & (month(\"datetime\") <= 8), \"summer\")\n",
    "    .when((month(\"datetime\") >= 9) & (month(\"datetime\") <= 11), \"autumn\")\n",
    "    .otherwise(\"winter\"))"
   ]
  },
  {
   "cell_type": "markdown",
   "id": "48e4cf50",
   "metadata": {},
   "source": [
    "### Seleccionamos solo las columnas relevantes"
   ]
  },
  {
   "cell_type": "code",
   "execution_count": 10,
   "id": "6dedb56a",
   "metadata": {},
   "outputs": [],
   "source": [
    "# Seleccionamos las columnas que no son datetime o major.\n",
    "df_final = df_final.select(\"athlete\", \"distance\", \"duration\", \"gender\", \"age_group\", \"country\", \"season\")"
   ]
  },
  {
   "cell_type": "markdown",
   "id": "dce03769",
   "metadata": {},
   "source": [
    "### Muestra de las cinco primeras filas y del esquema del dataset final "
   ]
  },
  {
   "cell_type": "code",
   "execution_count": 11,
   "id": "b1bf6ea8",
   "metadata": {},
   "outputs": [
    {
     "name": "stdout",
     "output_type": "stream",
     "text": [
      "+-------+--------+------------------+------+---------+--------------+------+\n",
      "|athlete|distance|duration          |gender|age_group|country       |season|\n",
      "+-------+--------+------------------+------+---------+--------------+------+\n",
      "|1      |5.72    |31.633333333333333|M     |35 - 54  |Germany       |winter|\n",
      "|4      |8.07    |38.61666666666667 |M     |35 - 54  |United States |winter|\n",
      "|5      |10.09   |43.56666666666667 |F     |35 - 54  |United States |winter|\n",
      "|6      |9.82    |50.53333333333333 |M     |55 +     |United States |winter|\n",
      "|8      |10.05   |59.05             |M     |35 - 54  |United Kingdom|winter|\n",
      "+-------+--------+------------------+------+---------+--------------+------+\n",
      "only showing top 5 rows\n",
      "root\n",
      " |-- athlete: integer (nullable = true)\n",
      " |-- distance: double (nullable = true)\n",
      " |-- duration: double (nullable = true)\n",
      " |-- gender: string (nullable = true)\n",
      " |-- age_group: string (nullable = true)\n",
      " |-- country: string (nullable = true)\n",
      " |-- season: string (nullable = false)\n",
      "\n"
     ]
    }
   ],
   "source": [
    "# Mostrar las cinco primeras filas.\n",
    "df_final.show(5, truncate=False)\n",
    "\n",
    "# Mostrar esquema de columnas.\n",
    "df_final.printSchema()"
   ]
  },
  {
   "cell_type": "markdown",
   "id": "75ccf50a",
   "metadata": {},
   "source": [
    "### Muestra de filas y variables y principales estadísticas del dataset final"
   ]
  },
  {
   "cell_type": "code",
   "execution_count": 12,
   "id": "02328486",
   "metadata": {},
   "outputs": [
    {
     "name": "stdout",
     "output_type": "stream",
     "text": [
      "Filas: 1869208, Variables: 7\n",
      "+-------+-----------------+--------------------+\n",
      "|summary|         distance|            duration|\n",
      "+-------+-----------------+--------------------+\n",
      "|  count|          1869208|             1869208|\n",
      "|   mean| 11.3417861425814|   62.65104727956109|\n",
      "| stddev|6.851907901598776|   44.45724057163195|\n",
      "|    min|             0.01|0.016666666666666666|\n",
      "|    max|           263.37|              2202.0|\n",
      "+-------+-----------------+--------------------+\n",
      "\n",
      "+------+-------+\n",
      "|gender|  count|\n",
      "+------+-------+\n",
      "|     F| 463958|\n",
      "|     M|1405250|\n",
      "+------+-------+\n",
      "\n",
      "+---------+-------+\n",
      "|age_group|  count|\n",
      "+---------+-------+\n",
      "|     55 +| 138448|\n",
      "|  35 - 54|1117572|\n",
      "|  18 - 34| 613188|\n",
      "+---------+-------+\n",
      "\n",
      "+------+------+\n",
      "|season| count|\n",
      "+------+------+\n",
      "|winter|458894|\n",
      "|spring|507774|\n",
      "|summer|473599|\n",
      "|autumn|428941|\n",
      "+------+------+\n",
      "\n"
     ]
    }
   ],
   "source": [
    "# Número de filas y variables.\n",
    "print(f\"Filas: {df_final.count()}, Variables: {len(df_final.columns)}\")\n",
    "\n",
    "# Estadísticas descriptivas de variables numéricas.\n",
    "df_final.describe(['distance', 'duration']).show()\n",
    "\n",
    "# Distribución por género, grupo de edad y estación.\n",
    "df_final.groupBy(\"gender\").count().show()\n",
    "df_final.groupBy(\"age_group\").count().show()\n",
    "df_final.groupBy(\"season\").count().show()"
   ]
  },
  {
   "cell_type": "markdown",
   "id": "c38f4998",
   "metadata": {},
   "source": [
    "## Eliminar valores atípicos"
   ]
  },
  {
   "cell_type": "code",
   "execution_count": 13,
   "id": "b7f8f18d",
   "metadata": {},
   "outputs": [
    {
     "name": "stdout",
     "output_type": "stream",
     "text": [
      "Filas tras eliminar outliers: 1806322\n",
      "+-------+------------------+\n",
      "|summary|       pace_min_km|\n",
      "+-------+------------------+\n",
      "|  count|           1806322|\n",
      "|   mean| 5.441138410356253|\n",
      "| stddev| 0.893577322735295|\n",
      "|    min|1.6812481773111694|\n",
      "|    max|               9.0|\n",
      "+-------+------------------+\n",
      "\n"
     ]
    },
    {
     "data": {
      "text/plain": [
       "DataFrame[summary: string, athlete: string, distance: string, duration: string, gender: string, age_group: string, country: string, season: string, pace_min_km: string]"
      ]
     },
     "execution_count": 13,
     "metadata": {},
     "output_type": "execute_result"
    }
   ],
   "source": [
    "# === Eliminación de valores atípicos ===\n",
    "# Queremos eliminar actividades con duraciones o distancias poco realistas.\n",
    "\n",
    "from pyspark.sql.functions import col\n",
    "\n",
    "# Filtro básico: evitar actividades imposibles (duración o distancia muy baja/alta)\n",
    "df_final = df_final.filter((col(\"distance\") > 0.5) & (col(\"distance\") < 100)) \\\n",
    "                   .filter((col(\"duration\") > 5) & (col(\"duration\") < 300))\n",
    "\n",
    "# --- Filtrado adicional por ritmo medio ---\n",
    "# Calculamos el ritmo medio (min/km) y filtramos actividades con ritmo fuera de [2,6] min/km\n",
    "df_final = df_final.withColumn(\"pace_min_km\", col(\"duration\") / col(\"distance\")) \\\n",
    "                   .filter((col(\"pace_min_km\") >= 1.0) & (col(\"pace_min_km\") <= 9.0))\n",
    "\n",
    "# Comprobamos el tamaño tras limpiar outliers\n",
    "print(f\"Filas tras eliminar outliers: {df_final.count()}\")\n",
    "\n",
    "# (Opcional) Revisar estadísticas del nuevo ritmo\n",
    "df_final.select(\"pace_min_km\").describe().show()\n",
    "\n",
    "df_final.summary()\n"
   ]
  },
  {
   "cell_type": "markdown",
   "id": "419d7c1a",
   "metadata": {},
   "source": [
    "## Preparación de los datos para el entrenamiento"
   ]
  },
  {
   "cell_type": "markdown",
   "id": "5312546a",
   "metadata": {},
   "source": [
    "### Convertimos los datos categóricos en vectores one-hot."
   ]
  },
  {
   "cell_type": "code",
   "execution_count": 14,
   "id": "af946dcf",
   "metadata": {},
   "outputs": [],
   "source": [
    "# Convertimos las columnas de tipo categórico en índices numéricos. \n",
    "gender_indexer = StringIndexer(inputCol=\"gender\", outputCol=\"gender_index\")\n",
    "age_indexer = StringIndexer(inputCol=\"age_group\", outputCol=\"age_index\")\n",
    "country_indexer = StringIndexer(inputCol=\"country\", outputCol=\"country_index\")\n",
    "season_indexer = StringIndexer(inputCol=\"season\", outputCol=\"season_index\")\n",
    "\n",
    "# Convertimos los índices numéricos del paso anterior en vectores one-hot.\n",
    "encoder = OneHotEncoder(inputCols=[\"gender_index\", \"age_index\", \"country_index\", \"season_index\"],\n",
    "                        outputCols=[\"gender_vec\", \"age_vec\", \"country_vec\", \"season_vec\"])"
   ]
  },
  {
   "cell_type": "markdown",
   "id": "81f9fcb1",
   "metadata": {},
   "source": [
    "### Combinamos las columnas numéricas en un solo vector."
   ]
  },
  {
   "cell_type": "code",
   "execution_count": 15,
   "id": "eaf712f1",
   "metadata": {},
   "outputs": [],
   "source": [
    "# Creamos un vector features que combine todas las variables numéricas.\n",
    "assembler = VectorAssembler(inputCols=[\"distance\", \"gender_vec\", \"age_vec\", \"country_vec\", \"season_vec\"],\n",
    "                            outputCol=\"features\")\n"
   ]
  },
  {
   "cell_type": "markdown",
   "id": "5d5e8ad9",
   "metadata": {},
   "source": [
    "### Creamos un pipeline para aplicar todas las transformaciones"
   ]
  },
  {
   "cell_type": "code",
   "execution_count": 16,
   "id": "a8880510",
   "metadata": {},
   "outputs": [],
   "source": [
    "# Creamos el Pipeline con todas las etapas.\n",
    "pipeline = Pipeline(stages=[gender_indexer, age_indexer, country_indexer, season_indexer, encoder, assembler])\n",
    "\n",
    "# Ajustamos el pipeline y transformamos los datos.\n",
    "df_prepared = pipeline.fit(df_final).transform(df_final)"
   ]
  },
  {
   "cell_type": "markdown",
   "id": "c6703fd2",
   "metadata": {},
   "source": [
    "### División de los datos en entrenamiento y test"
   ]
  },
  {
   "cell_type": "code",
   "execution_count": 17,
   "id": "1cdd81f8",
   "metadata": {},
   "outputs": [
    {
     "name": "stdout",
     "output_type": "stream",
     "text": [
      "Train: 1455983 filas, Test: 350339 filas\n"
     ]
    }
   ],
   "source": [
    "# Obtenemos los atletas.\n",
    "athletes = df_final.select(\"athlete\").distinct()\n",
    "\n",
    "# Asignamos aleatoriamente el 80% de atletas a train y el 20% a test.\n",
    "train_athletes, test_athletes = athletes.randomSplit([0.8, 0.2], seed=42)\n",
    "\n",
    "# Filtramos filas según atletas asignados.\n",
    "train_df = df_prepared.join(train_athletes, on=\"athlete\", how=\"inner\")\n",
    "test_df = df_prepared.join(test_athletes, on=\"athlete\", how=\"inner\")\n",
    "\n",
    "# Mostramos el número de filas en train y test.\n",
    "print(f\"Train: {train_df.count()} filas, Test: {test_df.count()} filas\")"
   ]
  },
  {
   "cell_type": "markdown",
   "id": "e74aa302",
   "metadata": {},
   "source": [
    "## Creación de los modelos"
   ]
  },
  {
   "cell_type": "code",
   "execution_count": 18,
   "id": "2f5198fe",
   "metadata": {},
   "outputs": [],
   "source": [
    "from pyspark.sql.functions import col\n",
    "\n",
    "def add_paces(pred_df, distance_col=\"distance\", y_true_col=\"label\", y_pred_col=\"prediction\"):\n",
    "    \"\"\"\n",
    "    Añade:\n",
    "      - pace_real_min_km = label / distance\n",
    "      - pace_pred_min_km = prediction / distance\n",
    "    Asume duration/label/prediction en MINUTOS y distance en KM.\n",
    "    \"\"\"\n",
    "    return (pred_df\n",
    "            .withColumn(\"pace_real_min_km\",  col(y_true_col) / col(distance_col))\n",
    "            .withColumn(\"pace_pred_min_km\",  col(y_pred_col) / col(distance_col)))\n"
   ]
  },
  {
   "cell_type": "markdown",
   "id": "3aeb6078",
   "metadata": {},
   "source": [
    "### Modelo Regresión Lineal"
   ]
  },
  {
   "cell_type": "code",
   "execution_count": 19,
   "id": "cbba4c31",
   "metadata": {},
   "outputs": [],
   "source": [
    "# Definir la columna objetivo\n",
    "df_model = df_prepared.withColumnRenamed(\"duration\", \"label\")"
   ]
  },
  {
   "cell_type": "code",
   "execution_count": 20,
   "id": "14942504",
   "metadata": {},
   "outputs": [
    {
     "name": "stdout",
     "output_type": "stream",
     "text": [
      "=== Linear Regression ===\n",
      "RMSE: 10.51\n",
      "R²: 0.9015\n",
      "+-------+------------------+------------------+\n",
      "|athlete|label             |prediction        |\n",
      "+-------+------------------+------------------+\n",
      "|1580   |63.0              |59.29363910423041 |\n",
      "|5518   |57.45             |68.56256260068136 |\n",
      "|9852   |46.166666666666664|48.39707813619842 |\n",
      "|10623  |107.0             |118.51505242802655|\n",
      "|11141  |48.25             |50.30567996209459 |\n",
      "|11858  |124.61666666666667|87.08665259588511 |\n",
      "|1580   |62.0              |52.60782553721557 |\n",
      "|6397   |47.583333333333336|39.09607233576694 |\n",
      "|6620   |94.0              |86.13238178973782 |\n",
      "|9852   |57.53333333333333 |50.86568622248082 |\n",
      "+-------+------------------+------------------+\n",
      "only showing top 10 rows\n"
     ]
    }
   ],
   "source": [
    "\n",
    "# Asegurarnos de que la columna 'label' existe\n",
    "train_df = train_df.withColumnRenamed(\"duration\", \"label\")\n",
    "test_df = test_df.withColumnRenamed(\"duration\", \"label\")\n",
    "\n",
    "# Crear el modelo de regresión lineal\n",
    "lr = LinearRegression(featuresCol=\"features\", labelCol=\"label\")\n",
    "\n",
    "# Entrenar el modelo\n",
    "lr_model = lr.fit(train_df)\n",
    "\n",
    "# Generar predicciones sobre el conjunto de test\n",
    "lr_predictions = lr_model.transform(test_df)\n",
    "\n",
    "# Evaluador para regresión\n",
    "evaluator = RegressionEvaluator(labelCol=\"label\", predictionCol=\"prediction\")\n",
    "\n",
    "# Calcular métricas\n",
    "rmse = evaluator.setMetricName(\"rmse\").evaluate(lr_predictions)\n",
    "r2 = evaluator.setMetricName(\"r2\").evaluate(lr_predictions)\n",
    "\n",
    "# Mostrar resultados\n",
    "print(\"=== Linear Regression ===\")\n",
    "print(f\"RMSE: {rmse:.2f}\")\n",
    "print(f\"R²: {r2:.4f}\")\n",
    "\n",
    "# (Opcional) Mostrar algunas predicciones reales vs. predichas\n",
    "lr_predictions.select(\"athlete\", \"label\", \"prediction\").show(10, truncate=False)\n"
   ]
  },
  {
   "cell_type": "code",
   "execution_count": 21,
   "id": "30339067",
   "metadata": {},
   "outputs": [
    {
     "name": "stdout",
     "output_type": "stream",
     "text": [
      "+-------+------------------+------------------+------------------+------------------+------------------+\n",
      "|athlete|distance          |label             |prediction        |pace_real_min_km  |pace_pred_min_km  |\n",
      "+-------+------------------+------------------+------------------+------------------+------------------+\n",
      "|1580   |11.54             |63.0              |59.29363910423041 |5.459272097053726 |5.138096976103156 |\n",
      "|5518   |13.200000000000001|57.45             |68.56256260068136 |4.3522727272727275|5.194133530354648 |\n",
      "|9852   |10.18             |46.166666666666664|48.39707813619842 |4.535036018336608 |4.754133412200238 |\n",
      "|10623  |20.6              |107.0             |118.51505242802655|5.194174757281553 |5.753157884855657 |\n",
      "|11141  |8.45              |48.25             |50.30567996209459 |5.710059171597633 |5.953334906756757 |\n",
      "|11858  |16.54             |124.61666666666667|87.08665259588511 |7.534260378879485 |5.265214788142994 |\n",
      "|1580   |10.24             |62.0              |52.60782553721557 |6.0546875         |5.137482962618708 |\n",
      "|6397   |7.79              |47.583333333333336|39.09607233576694 |6.108258451005563 |5.018751262614498 |\n",
      "|6620   |16.129            |94.0              |86.13238178973782 |5.828011656023311 |5.3402183514004475|\n",
      "|9852   |10.66             |57.53333333333333 |50.86568622248082 |5.397123202001251 |4.77164035858169  |\n",
      "+-------+------------------+------------------+------------------+------------------+------------------+\n",
      "only showing top 10 rows\n"
     ]
    }
   ],
   "source": [
    "lr_predictions = add_paces(lr_predictions)\n",
    "lr_predictions.select(\"athlete\", \"distance\", \"label\", \"prediction\", \n",
    "                      \"pace_real_min_km\", \"pace_pred_min_km\").show(10, truncate=False)\n"
   ]
  },
  {
   "cell_type": "code",
   "execution_count": 1,
   "id": "fdfe3964",
   "metadata": {},
   "outputs": [
    {
     "ename": "NameError",
     "evalue": "name 'lr_predictions' is not defined",
     "output_type": "error",
     "traceback": [
      "\u001b[31m---------------------------------------------------------------------------\u001b[39m",
      "\u001b[31mNameError\u001b[39m                                 Traceback (most recent call last)",
      "\u001b[36mCell\u001b[39m\u001b[36m \u001b[39m\u001b[32mIn[1]\u001b[39m\u001b[32m, line 4\u001b[39m\n\u001b[32m      1\u001b[39m \u001b[38;5;28;01mimport\u001b[39;00m\u001b[38;5;250m \u001b[39m\u001b[34;01mplotly\u001b[39;00m\u001b[34;01m.\u001b[39;00m\u001b[34;01mgraph_objects\u001b[39;00m\u001b[38;5;250m \u001b[39m\u001b[38;5;28;01mas\u001b[39;00m\u001b[38;5;250m \u001b[39m\u001b[34;01mgo\u001b[39;00m\n\u001b[32m      3\u001b[39m \u001b[38;5;66;03m# Tomamos una pequeña muestra para visualización\u001b[39;00m\n\u001b[32m----> \u001b[39m\u001b[32m4\u001b[39m sample_pd = \u001b[43mlr_predictions\u001b[49m.select(\u001b[33m\"\u001b[39m\u001b[33mpace_real_min_km\u001b[39m\u001b[33m\"\u001b[39m, \u001b[33m\"\u001b[39m\u001b[33mpace_pred_min_km\u001b[39m\u001b[33m\"\u001b[39m) \\\n\u001b[32m      5\u001b[39m                           .sample(\u001b[38;5;28;01mFalse\u001b[39;00m, \u001b[32m0.03\u001b[39m, seed=\u001b[32m42\u001b[39m).toPandas()\n\u001b[32m      7\u001b[39m \u001b[38;5;66;03m# Eliminamos posibles valores extremos\u001b[39;00m\n\u001b[32m      8\u001b[39m sample_pd = sample_pd[\n\u001b[32m      9\u001b[39m     (sample_pd[\u001b[33m\"\u001b[39m\u001b[33mpace_real_min_km\u001b[39m\u001b[33m\"\u001b[39m].between(\u001b[32m2\u001b[39m, \u001b[32m8\u001b[39m)) &\n\u001b[32m     10\u001b[39m     (sample_pd[\u001b[33m\"\u001b[39m\u001b[33mpace_pred_min_km\u001b[39m\u001b[33m\"\u001b[39m].between(\u001b[32m2\u001b[39m, \u001b[32m8\u001b[39m))\n\u001b[32m     11\u001b[39m ]\n",
      "\u001b[31mNameError\u001b[39m: name 'lr_predictions' is not defined"
     ]
    }
   ],
   "source": [
    "import plotly.graph_objects as go\n",
    "\n",
    "# Tomamos una pequeña muestra para visualización\n",
    "sample_pd = lr_predictions.select(\"pace_real_min_km\", \"pace_pred_min_km\") \\\n",
    "                          .sample(False, 0.03, seed=42).toPandas()\n",
    "\n",
    "# Eliminamos posibles valores extremos\n",
    "sample_pd = sample_pd[\n",
    "    (sample_pd[\"pace_real_min_km\"].between(2, 8)) &\n",
    "    (sample_pd[\"pace_pred_min_km\"].between(2, 8))\n",
    "]\n",
    "\n",
    "# Creamos la figura interactiva\n",
    "fig = go.Figure()\n",
    "\n",
    "# Añadimos los puntos de dispersión\n",
    "fig.add_trace(go.Scatter(\n",
    "    x=sample_pd[\"pace_real_min_km\"],\n",
    "    y=sample_pd[\"pace_pred_min_km\"],\n",
    "    mode=\"markers\",\n",
    "    marker=dict(size=6, opacity=0.4, color=\"blue\"),\n",
    "    name=\"Predicciones\",\n",
    "    hovertemplate=\"<b>Ritmo real:</b> %{x:.2f} min/km<br><b>Ritmo predicho:</b> %{y:.2f} min/km\"\n",
    "))\n",
    "\n",
    "# Línea ideal (y = x)\n",
    "fig.add_trace(go.Scatter(\n",
    "    x=[2, 8], y=[2, 8],\n",
    "    mode=\"lines\",\n",
    "    line=dict(color=\"red\", dash=\"dash\"),\n",
    "    name=\"Ideal (y = x)\"\n",
    "))\n",
    "\n",
    "# Configuración del layout\n",
    "fig.update_layout(\n",
    "    title=\"Ritmo real vs. predicho (Linear Regression)\",\n",
    "    xaxis_title=\"Ritmo real (min/km)\",\n",
    "    yaxis_title=\"Ritmo predicho (min/km)\",\n",
    "    xaxis=dict(range=[2, 8], gridcolor=\"lightgray\"),\n",
    "    yaxis=dict(range=[2, 8], gridcolor=\"lightgray\"),\n",
    "    width=800,\n",
    "    height=600,\n",
    "    legend=dict(x=0.02, y=0.98),\n",
    "    template=\"plotly_white\"\n",
    ")\n",
    "\n",
    "# Mostrar\n",
    "fig.show()\n"
   ]
  },
  {
   "cell_type": "markdown",
   "id": "3e052268",
   "metadata": {},
   "source": [
    "### Modelo de regresión basado en árboles de decisión"
   ]
  },
  {
   "cell_type": "code",
   "execution_count": 23,
   "id": "9d936b8b",
   "metadata": {},
   "outputs": [
    {
     "name": "stdout",
     "output_type": "stream",
     "text": [
      "=== Decision Tree Regressor ===\n",
      "RMSE: 12.36\n",
      "R²: 0.8638\n",
      "+-------+------------------+------------------+\n",
      "|athlete|label             |prediction        |\n",
      "+-------+------------------+------------------+\n",
      "|1580   |63.0              |58.675084711205095|\n",
      "|5518   |57.45             |65.04588047390659 |\n",
      "|9852   |46.166666666666664|52.027873300318575|\n",
      "|10623  |107.0             |117.47675821889301|\n",
      "|11141  |48.25             |46.48827375081197 |\n",
      "|11858  |124.61666666666667|82.88784767860683 |\n",
      "|1580   |62.0              |52.027873300318575|\n",
      "|6397   |47.583333333333336|42.93124998401063 |\n",
      "|6620   |94.0              |90.74458580256983 |\n",
      "|9852   |57.53333333333333 |58.675084711205095|\n",
      "+-------+------------------+------------------+\n",
      "only showing top 10 rows\n"
     ]
    }
   ],
   "source": [
    "\n",
    "\n",
    "# Crear el modelo de árbol de decisión\n",
    "dt = DecisionTreeRegressor(featuresCol=\"features\", labelCol=\"label\")\n",
    "\n",
    "# Entrenar el modelo\n",
    "dt_model = dt.fit(train_df)\n",
    "\n",
    "# Generar predicciones sobre el conjunto de test\n",
    "dt_predictions = dt_model.transform(test_df)\n",
    "\n",
    "# Evaluar el modelo\n",
    "evaluator = RegressionEvaluator(labelCol=\"label\", predictionCol=\"prediction\")\n",
    "\n",
    "rmse = evaluator.setMetricName(\"rmse\").evaluate(dt_predictions)\n",
    "r2 = evaluator.setMetricName(\"r2\").evaluate(dt_predictions)\n",
    "\n",
    "# Mostrar resultados\n",
    "print(\"=== Decision Tree Regressor ===\")\n",
    "print(f\"RMSE: {rmse:.2f}\")\n",
    "print(f\"R²: {r2:.4f}\")\n",
    "\n",
    "# Mostrar algunas predicciones\n",
    "dt_predictions.select(\"athlete\", \"label\", \"prediction\").show(10, truncate=False)"
   ]
  },
  {
   "cell_type": "code",
   "execution_count": 24,
   "id": "b77d39b6",
   "metadata": {},
   "outputs": [
    {
     "name": "stdout",
     "output_type": "stream",
     "text": [
      "+-------+------------------+------------------+------------------+------------------+------------------+\n",
      "|athlete|distance          |label             |prediction        |pace_real_min_km  |pace_pred_min_km  |\n",
      "+-------+------------------+------------------+------------------+------------------+------------------+\n",
      "|1580   |11.54             |63.0              |59.29363910423041 |5.459272097053726 |5.138096976103156 |\n",
      "|5518   |13.200000000000001|57.45             |68.56256260068136 |4.3522727272727275|5.194133530354648 |\n",
      "|9852   |10.18             |46.166666666666664|48.39707813619842 |4.535036018336608 |4.754133412200238 |\n",
      "|10623  |20.6              |107.0             |118.51505242802655|5.194174757281553 |5.753157884855657 |\n",
      "|11141  |8.45              |48.25             |50.30567996209459 |5.710059171597633 |5.953334906756757 |\n",
      "|11858  |16.54             |124.61666666666667|87.08665259588511 |7.534260378879485 |5.265214788142994 |\n",
      "|1580   |10.24             |62.0              |52.60782553721557 |6.0546875         |5.137482962618708 |\n",
      "|6397   |7.79              |47.583333333333336|39.09607233576694 |6.108258451005563 |5.018751262614498 |\n",
      "|6620   |16.129            |94.0              |86.13238178973782 |5.828011656023311 |5.3402183514004475|\n",
      "|9852   |10.66             |57.53333333333333 |50.86568622248082 |5.397123202001251 |4.77164035858169  |\n",
      "+-------+------------------+------------------+------------------+------------------+------------------+\n",
      "only showing top 10 rows\n"
     ]
    }
   ],
   "source": [
    "dt_predictions = add_paces(lr_predictions)\n",
    "dt_predictions.select(\"athlete\", \"distance\", \"label\", \"prediction\", \n",
    "                      \"pace_real_min_km\", \"pace_pred_min_km\").show(10, truncate=False)\n"
   ]
  },
  {
   "cell_type": "code",
   "execution_count": 25,
   "id": "b6b94af2",
   "metadata": {},
   "outputs": [
    {
     "ename": "ModuleNotFoundError",
     "evalue": "No module named 'plotly'",
     "output_type": "error",
     "traceback": [
      "\u001b[31m---------------------------------------------------------------------------\u001b[39m",
      "\u001b[31mModuleNotFoundError\u001b[39m                       Traceback (most recent call last)",
      "\u001b[36mCell\u001b[39m\u001b[36m \u001b[39m\u001b[32mIn[25]\u001b[39m\u001b[32m, line 1\u001b[39m\n\u001b[32m----> \u001b[39m\u001b[32m1\u001b[39m \u001b[38;5;28;01mimport\u001b[39;00m\u001b[38;5;250m \u001b[39m\u001b[34;01mplotly\u001b[39;00m\u001b[34;01m.\u001b[39;00m\u001b[34;01mgraph_objects\u001b[39;00m\u001b[38;5;250m \u001b[39m\u001b[38;5;28;01mas\u001b[39;00m\u001b[38;5;250m \u001b[39m\u001b[34;01mgo\u001b[39;00m\n\u001b[32m      3\u001b[39m \u001b[38;5;66;03m# Tomamos una pequeña muestra para visualización\u001b[39;00m\n\u001b[32m      4\u001b[39m sample_pd = dt_predictions.select(\u001b[33m\"\u001b[39m\u001b[33mpace_real_min_km\u001b[39m\u001b[33m\"\u001b[39m, \u001b[33m\"\u001b[39m\u001b[33mpace_pred_min_km\u001b[39m\u001b[33m\"\u001b[39m) \\\n\u001b[32m      5\u001b[39m                           .sample(\u001b[38;5;28;01mFalse\u001b[39;00m, \u001b[32m0.03\u001b[39m, seed=\u001b[32m42\u001b[39m).toPandas()\n",
      "\u001b[31mModuleNotFoundError\u001b[39m: No module named 'plotly'"
     ]
    }
   ],
   "source": [
    "import plotly.graph_objects as go\n",
    "\n",
    "# Tomamos una pequeña muestra para visualización\n",
    "sample_pd = dt_predictions.select(\"pace_real_min_km\", \"pace_pred_min_km\") \\\n",
    "                          .sample(False, 0.03, seed=42).toPandas()\n",
    "\n",
    "# Eliminamos posibles valores extremos (por seguridad)\n",
    "sample_pd = sample_pd[\n",
    "    (sample_pd[\"pace_real_min_km\"].between(2, 8)) &\n",
    "    (sample_pd[\"pace_pred_min_km\"].between(2, 8))\n",
    "]\n",
    "\n",
    "# Figura interactiva\n",
    "fig = go.Figure()\n",
    "\n",
    "# Puntos de dispersión\n",
    "fig.add_trace(go.Scatter(\n",
    "    x=sample_pd[\"pace_real_min_km\"],\n",
    "    y=sample_pd[\"pace_pred_min_km\"],\n",
    "    mode=\"markers\",\n",
    "    marker=dict(size=6, opacity=0.4, color=\"green\"),\n",
    "    name=\"Predicciones\",\n",
    "    hovertemplate=\"<b>Ritmo real:</b> %{x:.2f} min/km<br><b>Ritmo predicho:</b> %{y:.2f} min/km\"\n",
    "))\n",
    "\n",
    "# Línea ideal (y = x)\n",
    "fig.add_trace(go.Scatter(\n",
    "    x=[2, 8], y=[2, 8],\n",
    "    mode=\"lines\",\n",
    "    line=dict(color=\"red\", dash=\"dash\"),\n",
    "    name=\"Ideal (y = x)\"\n",
    "))\n",
    "\n",
    "# Configuración visual\n",
    "fig.update_layout(\n",
    "    title=\"Ritmo real vs. predicho (Decision Tree Regressor)\",\n",
    "    xaxis_title=\"Ritmo real (min/km)\",\n",
    "    yaxis_title=\"Ritmo predicho (min/km)\",\n",
    "    xaxis=dict(range=[2, 8], gridcolor=\"lightgray\"),\n",
    "    yaxis=dict(range=[2, 8], gridcolor=\"lightgray\"),\n",
    "    width=800,\n",
    "    height=600,\n",
    "    legend=dict(x=0.02, y=0.98),\n",
    "    template=\"plotly_white\"\n",
    ")\n",
    "\n",
    "# Mostrar figura interactiva\n",
    "fig.show()\n"
   ]
  },
  {
   "cell_type": "markdown",
   "id": "87ce5800",
   "metadata": {},
   "source": [
    "### Modelo de regresión basado en un bosque aleatorio de árboles de decisión"
   ]
  },
  {
   "cell_type": "code",
   "execution_count": 26,
   "id": "1797803b",
   "metadata": {},
   "outputs": [
    {
     "name": "stdout",
     "output_type": "stream",
     "text": [
      "=== Random Forest Regressor ===\n",
      "RMSE: 13.54\n",
      "R²: 0.8365\n",
      "+-------+------------------+------------------+\n",
      "|athlete|label             |prediction        |\n",
      "+-------+------------------+------------------+\n",
      "|1580   |63.0              |57.11344550162917 |\n",
      "|5518   |57.45             |63.10709948784832 |\n",
      "|9852   |46.166666666666664|52.97158820476551 |\n",
      "|10623  |107.0             |119.48795765479507|\n",
      "|11141  |48.25             |43.291078561717825|\n",
      "|11858  |124.61666666666667|93.2150388384905  |\n",
      "|1580   |62.0              |55.78131323760753 |\n",
      "|6397   |47.583333333333336|42.36493431469606 |\n",
      "|6620   |94.0              |90.24799191192383 |\n",
      "|9852   |57.53333333333333 |54.48272527797078 |\n",
      "+-------+------------------+------------------+\n",
      "only showing top 10 rows\n"
     ]
    }
   ],
   "source": [
    "# Crear el modelo de Random Forest\n",
    "rf = RandomForestRegressor(featuresCol=\"features\", labelCol=\"label\", numTrees=70, maxDepth=8, seed=42)\n",
    "\n",
    "\n",
    "\n",
    "# Entrenar el modelo\n",
    "rf_model = rf.fit(train_df)\n",
    "\n",
    "# Generar predicciones sobre el conjunto de test\n",
    "rf_predictions = rf_model.transform(test_df)\n",
    "\n",
    "# Evaluador\n",
    "evaluator = RegressionEvaluator(labelCol=\"label\", predictionCol=\"prediction\")\n",
    "\n",
    "# Calcular métricas\n",
    "rmse = evaluator.setMetricName(\"rmse\").evaluate(rf_predictions)\n",
    "r2 = evaluator.setMetricName(\"r2\").evaluate(rf_predictions)\n",
    "\n",
    "# Mostrar resultados\n",
    "print(\"=== Random Forest Regressor ===\")\n",
    "print(f\"RMSE: {rmse:.2f}\")\n",
    "print(f\"R²: {r2:.4f}\")\n",
    "\n",
    "# Mostrar algunas predicciones\n",
    "rf_predictions.select(\"athlete\", \"label\", \"prediction\").show(10, truncate=False)"
   ]
  },
  {
   "cell_type": "code",
   "execution_count": 27,
   "id": "cd0e33df",
   "metadata": {},
   "outputs": [
    {
     "name": "stdout",
     "output_type": "stream",
     "text": [
      "+-------+------------------+------------------+------------------+------------------+------------------+\n",
      "|athlete|distance          |label             |prediction        |pace_real_min_km  |pace_pred_min_km  |\n",
      "+-------+------------------+------------------+------------------+------------------+------------------+\n",
      "|1580   |11.54             |63.0              |59.29363910423041 |5.459272097053726 |5.138096976103156 |\n",
      "|5518   |13.200000000000001|57.45             |68.56256260068136 |4.3522727272727275|5.194133530354648 |\n",
      "|9852   |10.18             |46.166666666666664|48.39707813619842 |4.535036018336608 |4.754133412200238 |\n",
      "|10623  |20.6              |107.0             |118.51505242802655|5.194174757281553 |5.753157884855657 |\n",
      "|11141  |8.45              |48.25             |50.30567996209459 |5.710059171597633 |5.953334906756757 |\n",
      "|11858  |16.54             |124.61666666666667|87.08665259588511 |7.534260378879485 |5.265214788142994 |\n",
      "|1580   |10.24             |62.0              |52.60782553721557 |6.0546875         |5.137482962618708 |\n",
      "|6397   |7.79              |47.583333333333336|39.09607233576694 |6.108258451005563 |5.018751262614498 |\n",
      "|6620   |16.129            |94.0              |86.13238178973782 |5.828011656023311 |5.3402183514004475|\n",
      "|9852   |10.66             |57.53333333333333 |50.86568622248082 |5.397123202001251 |4.77164035858169  |\n",
      "+-------+------------------+------------------+------------------+------------------+------------------+\n",
      "only showing top 10 rows\n"
     ]
    }
   ],
   "source": [
    "rf_predictions = add_paces(lr_predictions)\n",
    "rf_predictions.select(\"athlete\", \"distance\", \"label\", \"prediction\", \n",
    "                      \"pace_real_min_km\", \"pace_pred_min_km\").show(10, truncate=False)\n"
   ]
  },
  {
   "cell_type": "code",
   "execution_count": null,
   "id": "0c9df649",
   "metadata": {},
   "outputs": [],
   "source": [
    "import plotly.graph_objects as go\n",
    "\n",
    "# Muestra para visualización\n",
    "sample_pd = rf_predictions.select(\"pace_real_min_km\", \"pace_pred_min_km\") \\\n",
    "                          .sample(False, 0.03, seed=42).toPandas()\n",
    "\n",
    "# Filtrado simple de outliers por rango visual\n",
    "sample_pd = sample_pd[\n",
    "    (sample_pd[\"pace_real_min_km\"].between(2, 8)) &\n",
    "    (sample_pd[\"pace_pred_min_km\"].between(2, 8))\n",
    "]\n",
    "\n",
    "# Figura interactiva\n",
    "fig = go.Figure()\n",
    "\n",
    "# Dispersión\n",
    "fig.add_trace(go.Scatter(\n",
    "    x=sample_pd[\"pace_real_min_km\"],\n",
    "    y=sample_pd[\"pace_pred_min_km\"],\n",
    "    mode=\"markers\",\n",
    "    marker=dict(size=6, opacity=0.4, color=\"purple\"),\n",
    "    name=\"Predicciones\",\n",
    "    hovertemplate=\"<b>Ritmo real:</b> %{x:.2f} min/km<br><b>Ritmo predicho:</b> %{y:.2f} min/km\"\n",
    "))\n",
    "\n",
    "# Línea ideal (y = x)\n",
    "fig.add_trace(go.Scatter(\n",
    "    x=[2, 8], y=[2, 8],\n",
    "    mode=\"lines\",\n",
    "    line=dict(color=\"red\", dash=\"dash\"),\n",
    "    name=\"Ideal (y = x)\"\n",
    "))\n",
    "\n",
    "# Layout\n",
    "fig.update_layout(\n",
    "    title=\"Ritmo real vs. predicho (Random Forest Regressor)\",\n",
    "    xaxis_title=\"Ritmo real (min/km)\",\n",
    "    yaxis_title=\"Ritmo predicho (min/km)\",\n",
    "    xaxis=dict(range=[2, 8], gridcolor=\"lightgray\"),\n",
    "    yaxis=dict(range=[2, 8], gridcolor=\"lightgray\"),\n",
    "    width=800,\n",
    "    height=600,\n",
    "    legend=dict(x=0.02, y=0.98),\n",
    "    template=\"plotly_white\"\n",
    ")\n",
    "\n",
    "fig.show()\n"
   ]
  },
  {
   "cell_type": "markdown",
   "id": "31ede0ef",
   "metadata": {},
   "source": [
    "## Busqueda de hiperparametros"
   ]
  },
  {
   "cell_type": "code",
   "execution_count": 28,
   "id": "14d9b8b3",
   "metadata": {},
   "outputs": [
    {
     "name": "stdout",
     "output_type": "stream",
     "text": [
      "CV -> LinearRegression\n",
      "[LR] RMSE: 10.5104 | R2: 0.9015\n",
      "[LR] Mejores hiperparámetros: {'regParam': 0.0, 'elasticNetParam': 0.5, 'maxIter': 50}\n",
      "[LR] #Coef: 113\n"
     ]
    }
   ],
   "source": [
    "from pyspark.ml.tuning import ParamGridBuilder, CrossValidator\n",
    "from pyspark.ml.evaluation import RegressionEvaluator\n",
    "from pyspark.ml.regression import LinearRegression\n",
    "\n",
    "# Evaluador propio\n",
    "evaluator_rmse = RegressionEvaluator(labelCol=\"label\", predictionCol=\"prediction\", metricName=\"rmse\")\n",
    "evaluator_r2 = RegressionEvaluator(labelCol=\"label\", predictionCol=\"prediction\", metricName=\"r2\")\n",
    "\n",
    "\n",
    "\n",
    "# Modelo base\n",
    "lr = LinearRegression(featuresCol=\"features\", labelCol=\"label\", maxIter=50)\n",
    "\n",
    "# Grid propio\n",
    "lr_grid = (ParamGridBuilder()\n",
    "           .addGrid(lr.regParam, [0.0, 0.01, 0.1])\n",
    "           .addGrid(lr.elasticNetParam, [0.0, 0.5, 1.0])  # Ridge / Mixto / Lasso\n",
    "           .build())\n",
    "\n",
    "# CV propio\n",
    "lr_cv = CrossValidator(\n",
    "    estimator=lr,\n",
    "    estimatorParamMaps=lr_grid,\n",
    "    evaluator=evaluator_r2,\n",
    "    numFolds=3,              # baja de 5/10 a 3\n",
    "    parallelism=1,           # ¡clave para no reventar memoria!\n",
    "    seed=42,\n",
    "    collectSubModels=False   # evita guardar todos los submodelos\n",
    ")\n",
    "\n",
    "\n",
    "print(\"CV -> LinearRegression\")\n",
    "lr_cv_model = lr_cv.fit(train_df)\n",
    "\n",
    "# Evaluación test\n",
    "lr_preds = lr_cv_model.transform(test_df).cache()\n",
    "lr_rmse  = evaluator_rmse.evaluate(lr_preds)\n",
    "lr_r2    = evaluator_r2.evaluate(lr_preds)\n",
    "\n",
    "# Mejores hiperparámetros\n",
    "best_lr = lr_cv_model.bestModel\n",
    "best_lr_params = {p.name: best_lr.getOrDefault(p) for p in best_lr.extractParamMap()}\n",
    "\n",
    "print(f\"[LR] RMSE: {lr_rmse:.4f} | R2: {lr_r2:.4f}\")\n",
    "print(\"[LR] Mejores hiperparámetros:\", {k: best_lr_params[k] for k in [\"regParam\",\"elasticNetParam\",\"maxIter\"] if k in best_lr_params})\n",
    "\n",
    "# (Opcional) Coeficientes\n",
    "print(\"[LR] #Coef:\", len(best_lr.coefficients))\n"
   ]
  },
  {
   "cell_type": "code",
   "execution_count": 30,
   "id": "42b488b8",
   "metadata": {},
   "outputs": [
    {
     "name": "stdout",
     "output_type": "stream",
     "text": [
      "CV -> DecisionTree\n",
      "[DT] RMSE: 11.8483 | R2: 0.8749\n",
      "[DT] Mejores hiperparámetros: {'maxDepth': 15, 'minInstancesPerNode': 5}\n",
      "[DT] Profundidad: 15\n"
     ]
    }
   ],
   "source": [
    "from pyspark.ml.tuning import ParamGridBuilder, CrossValidator\n",
    "from pyspark.ml.evaluation import RegressionEvaluator\n",
    "from pyspark.ml.regression import DecisionTreeRegressor\n",
    "\n",
    "\n",
    "\n",
    "# Modelo base\n",
    "dt = DecisionTreeRegressor(featuresCol=\"features\", labelCol=\"label\", seed=42)\n",
    "\n",
    "# Grid propio\n",
    "dt_grid = (ParamGridBuilder()\n",
    "           .addGrid(dt.maxDepth, [5, 10, 15])\n",
    "           .addGrid(dt.minInstancesPerNode, [1, 5, 20])\n",
    "           .build())\n",
    "\n",
    "# CV propio\n",
    "dt_cv = CrossValidator(\n",
    "    estimator=dt,\n",
    "    estimatorParamMaps=dt_grid,\n",
    "    evaluator=evaluator_r2,\n",
    "    numFolds=3,\n",
    "    parallelism=2,\n",
    "    seed=42\n",
    ")\n",
    "\n",
    "print(\"CV -> DecisionTree\")\n",
    "dt_cv_model = dt_cv.fit(train_df)\n",
    "\n",
    "# Evaluación test\n",
    "dt_preds = dt_cv_model.transform(test_df).cache()\n",
    "dt_rmse  = evaluator_rmse.evaluate(dt_preds)\n",
    "dt_r2    = evaluator_r2.evaluate(dt_preds)\n",
    "\n",
    "# Mejores hiperparámetros\n",
    "best_dt = dt_cv_model.bestModel\n",
    "best_dt_params = {\n",
    "    \"maxDepth\": best_dt.getOrDefault(best_dt.maxDepth),\n",
    "    \"minInstancesPerNode\": best_dt.getOrDefault(best_dt.minInstancesPerNode)\n",
    "}\n",
    "\n",
    "print(f\"[DT] RMSE: {dt_rmse:.4f} | R2: {dt_r2:.4f}\")\n",
    "print(\"[DT] Mejores hiperparámetros:\", best_dt_params)\n",
    "\n",
    "# (Opcional) Importancias no aplican; es un árbol único. Puedes inspeccionar la profundidad:\n",
    "print(\"[DT] Profundidad:\", best_dt.depth)\n"
   ]
  },
  {
   "cell_type": "code",
   "execution_count": 31,
   "id": "62c02ef0",
   "metadata": {},
   "outputs": [
    {
     "name": "stdout",
     "output_type": "stream",
     "text": [
      "CV -> RandomForest\n",
      "[RF] RMSE: 13.4586 | R2: 0.8385\n",
      "[RF] Mejores hiperparámetros: {'numTrees': 10, 'maxDepth': 10, 'featureSubsetStrategy': 'auto'}\n",
      "[RF] Top-10 importancias: [0.9808886816449259, 0.0035216388881679855, 0.002011204539472217, 0.00511115388976862, 0.0006734818466692576, 0.0033781870591683694, 0.0006948370038978162, 6.398334661911931e-05, 8.60044855248726e-05, 1.3533457455006735e-05]\n"
     ]
    }
   ],
   "source": [
    "from pyspark.ml.tuning import ParamGridBuilder, CrossValidator\n",
    "from pyspark.ml.evaluation import RegressionEvaluator\n",
    "from pyspark.ml.regression import RandomForestRegressor\n",
    "\n",
    "\n",
    "\n",
    "\n",
    "# Modelo base\n",
    "rf = RandomForestRegressor(featuresCol=\"features\", labelCol=\"label\", seed=42)\n",
    "\n",
    "# Grid propio\n",
    "rf_grid = (ParamGridBuilder()\n",
    "           .addGrid(rf.numTrees, [2, 5, 10]) #Bajar mucho (2, 5, 10)\n",
    "           .addGrid(rf.maxDepth, [3, 5, 10]) #Bajar\n",
    "           .addGrid(rf.featureSubsetStrategy, [\"auto\", \"sqrt\"])\n",
    "           .build())\n",
    "\n",
    "# CV propio\n",
    "rf_cv = CrossValidator(\n",
    "    estimator=rf,\n",
    "    estimatorParamMaps=rf_grid,\n",
    "    evaluator=evaluator_r2,\n",
    "    numFolds=3,\n",
    "    parallelism=2,\n",
    "    seed=42\n",
    ")\n",
    "\n",
    "print(\"CV -> RandomForest\")\n",
    "rf_cv_model = rf_cv.fit(train_df)\n",
    "\n",
    "# Evaluación test\n",
    "rf_preds = rf_cv_model.transform(test_df).cache()\n",
    "rf_rmse  = evaluator_rmse.evaluate(rf_preds)\n",
    "rf_r2    = evaluator_r2.evaluate(rf_preds)\n",
    "\n",
    "# Mejores hiperparámetros\n",
    "best_rf = rf_cv_model.bestModel\n",
    "best_rf_params = {\n",
    "    \"numTrees\": best_rf.getNumTrees,\n",
    "    \"maxDepth\": best_rf.getOrDefault(best_rf.maxDepth),\n",
    "    \"featureSubsetStrategy\": best_rf.getOrDefault(best_rf.featureSubsetStrategy),\n",
    "}\n",
    "\n",
    "print(f\"[RF] RMSE: {rf_rmse:.4f} | R2: {rf_r2:.4f}\")\n",
    "print(\"[RF] Mejores hiperparámetros:\", best_rf_params)\n",
    "\n",
    "# (Opcional) Importancias\n",
    "print(\"[RF] Top-10 importancias:\", list(best_rf.featureImportances.toArray())[:10])\n"
   ]
  },
  {
   "cell_type": "code",
   "execution_count": null,
   "id": "6001bc2e",
   "metadata": {},
   "outputs": [],
   "source": []
  }
 ],
 "metadata": {
  "kernelspec": {
   "display_name": "aage",
   "language": "python",
   "name": "python3"
  },
  "language_info": {
   "codemirror_mode": {
    "name": "ipython",
    "version": 3
   },
   "file_extension": ".py",
   "mimetype": "text/x-python",
   "name": "python",
   "nbconvert_exporter": "python",
   "pygments_lexer": "ipython3",
   "version": "3.11.9"
  }
 },
 "nbformat": 4,
 "nbformat_minor": 5
}
