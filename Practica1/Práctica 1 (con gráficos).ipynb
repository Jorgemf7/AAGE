{
 "cells": [
  {
   "cell_type": "markdown",
   "id": "bcbcf848",
   "metadata": {},
   "source": [
    "# Práctica 1"
   ]
  },
  {
   "cell_type": "markdown",
   "id": "c8e3416a",
   "metadata": {},
   "source": [
    "## Importaciones"
   ]
  },
  {
   "cell_type": "code",
   "execution_count": 1,
   "id": "9693568d",
   "metadata": {},
   "outputs": [],
   "source": [
    "import os\n",
    "import sys\n",
    "from pyspark.sql import SparkSession\n",
    "from pyspark.sql.functions import month, when, col\n",
    "from pyspark.ml.feature import StringIndexer, OneHotEncoder, VectorAssembler\n",
    "from pyspark.ml import Pipeline\n",
    "from pyspark.ml.regression import LinearRegression, DecisionTreeRegressor, RandomForestRegressor\n",
    "from pyspark.ml.evaluation import RegressionEvaluator\n",
    "from pyspark.ml.tuning import ParamGridBuilder, CrossValidator\n",
    "import plotly.graph_objects as go"
   ]
  },
  {
   "cell_type": "markdown",
   "id": "28e65db3",
   "metadata": {},
   "source": [
    "## Inicio de sesión en Spark"
   ]
  },
  {
   "cell_type": "code",
   "execution_count": 2,
   "id": "6d51337c",
   "metadata": {},
   "outputs": [],
   "source": [
    "os.environ['JAVA_HOME'] = r\"C:\\Program Files\\Java\\jdk-22\"\n",
    "os.environ['PYSPARK_PYTHON'] = sys.executable\n",
    "os.environ['PYSPARK_DRIVER_PYTHON'] = sys.executable\n",
    "\n",
    "spark = SparkSession.builder \\\n",
    "    .config(\"spark.driver.memory\", \"8g\") \\\n",
    "    .getOrCreate()"
   ]
  },
  {
   "cell_type": "markdown",
   "id": "ec9484a8",
   "metadata": {},
   "source": [
    "## Visualización inicial de los datos"
   ]
  },
  {
   "cell_type": "markdown",
   "id": "8aa47690",
   "metadata": {},
   "source": [
    "### Carga del dataset"
   ]
  },
  {
   "cell_type": "code",
   "execution_count": 3,
   "id": "702073d3",
   "metadata": {},
   "outputs": [],
   "source": [
    "# Cargar el dataset.\n",
    "df = spark.read.csv(\"run_ww_2020_d.csv\", header=True, inferSchema=True)"
   ]
  },
  {
   "cell_type": "markdown",
   "id": "53273c03",
   "metadata": {},
   "source": [
    "### Muestra de las cinco primeras filas y del esquema"
   ]
  },
  {
   "cell_type": "code",
   "execution_count": 4,
   "id": "b18ae0c3",
   "metadata": {},
   "outputs": [
    {
     "name": "stdout",
     "output_type": "stream",
     "text": [
      "+---+----------+-------+--------+------------------+------+---------+--------------+-----------------------+\n",
      "|_c0|datetime  |athlete|distance|duration          |gender|age_group|country       |major                  |\n",
      "+---+----------+-------+--------+------------------+------+---------+--------------+-----------------------+\n",
      "|0  |2020-01-01|0      |0.0     |0.0               |F     |18 - 34  |United States |CHICAGO 2019           |\n",
      "|1  |2020-01-01|1      |5.72    |31.633333333333333|M     |35 - 54  |Germany       |BERLIN 2016            |\n",
      "|2  |2020-01-01|2      |0.0     |0.0               |M     |35 - 54  |United Kingdom|LONDON 2018,LONDON 2019|\n",
      "|3  |2020-01-01|3      |0.0     |0.0               |M     |18 - 34  |United Kingdom|LONDON 2017            |\n",
      "|4  |2020-01-01|4      |8.07    |38.61666666666667 |M     |35 - 54  |United States |BOSTON 2017            |\n",
      "+---+----------+-------+--------+------------------+------+---------+--------------+-----------------------+\n",
      "only showing top 5 rows\n",
      "root\n",
      " |-- _c0: integer (nullable = true)\n",
      " |-- datetime: date (nullable = true)\n",
      " |-- athlete: integer (nullable = true)\n",
      " |-- distance: double (nullable = true)\n",
      " |-- duration: double (nullable = true)\n",
      " |-- gender: string (nullable = true)\n",
      " |-- age_group: string (nullable = true)\n",
      " |-- country: string (nullable = true)\n",
      " |-- major: string (nullable = true)\n",
      "\n"
     ]
    }
   ],
   "source": [
    "# Mostrar las cinco primeras filas.\n",
    "df.show(5, truncate=False)\n",
    "\n",
    "# Mostrar esquema de columnas.\n",
    "df.printSchema()"
   ]
  },
  {
   "cell_type": "markdown",
   "id": "c133fb33",
   "metadata": {},
   "source": [
    "### Muestra de filas y variables y principales estadísticas del dataset"
   ]
  },
  {
   "cell_type": "code",
   "execution_count": 5,
   "id": "7e180237",
   "metadata": {},
   "outputs": [
    {
     "name": "stdout",
     "output_type": "stream",
     "text": [
      "Filas: 13326792, Variables: 9\n",
      "+-------+------------------+------------------+\n",
      "|summary|          distance|          duration|\n",
      "+-------+------------------+------------------+\n",
      "|  count|          13326792|          13326792|\n",
      "|   mean|3.8647184738824425|21.391975435649456|\n",
      "| stddev| 6.661547347662418| 39.27358918572197|\n",
      "|    min|               0.0|               0.0|\n",
      "|    max|            347.95|2299.9666666666667|\n",
      "+-------+------------------+------------------+\n",
      "\n",
      "+------+--------+\n",
      "|gender|   count|\n",
      "+------+--------+\n",
      "|     F| 3253374|\n",
      "|     M|10073418|\n",
      "+------+--------+\n",
      "\n",
      "+---------+-------+\n",
      "|age_group|  count|\n",
      "+---------+-------+\n",
      "|     55 +| 940254|\n",
      "|  35 - 54|7905966|\n",
      "|  18 - 34|4480572|\n",
      "+---------+-------+\n",
      "\n"
     ]
    }
   ],
   "source": [
    "# Número de filas y variables.\n",
    "print(f\"Filas: {df.count()}, Variables: {len(df.columns)}\")\n",
    "\n",
    "# Estadísticas descriptivas de variables numéricas.\n",
    "df.describe(['distance', 'duration']).show()\n",
    "\n",
    "# Distribución por género y grupo de edad.\n",
    "df.groupBy(\"gender\").count().show()\n",
    "df.groupBy(\"age_group\").count().show()"
   ]
  },
  {
   "cell_type": "markdown",
   "id": "31e85d52",
   "metadata": {},
   "source": [
    "## Preparación del dataset"
   ]
  },
  {
   "cell_type": "markdown",
   "id": "985ea670",
   "metadata": {},
   "source": [
    "### Filtrado de filas"
   ]
  },
  {
   "cell_type": "markdown",
   "id": "5039e570",
   "metadata": {},
   "source": [
    "Como tenemos un gran número de filas, vamos a filtrar. Primero, nos quedamos solo con los registros que no estén vacíos, es decir, aquellos cuya duración y distancia sea mayor a 0."
   ]
  },
  {
   "cell_type": "code",
   "execution_count": 6,
   "id": "a602c374",
   "metadata": {},
   "outputs": [
    {
     "name": "stdout",
     "output_type": "stream",
     "text": [
      "Filas tras filtrar: 4581764\n"
     ]
    }
   ],
   "source": [
    "# Filtrado de filas.\n",
    "df_filtered = df.filter((df.duration > 0) & (df.distance > 0))\n",
    "\n",
    "# Comprobar tamaño.\n",
    "print(f\"Filas tras filtrar: {df_filtered.count()}\")"
   ]
  },
  {
   "cell_type": "markdown",
   "id": "7c831cb7",
   "metadata": {},
   "source": [
    "### Eliminamos las filas con valores nulos"
   ]
  },
  {
   "cell_type": "code",
   "execution_count": 7,
   "id": "b98042ac",
   "metadata": {},
   "outputs": [
    {
     "name": "stdout",
     "output_type": "stream",
     "text": [
      "Filas tras filtrar: 4555724\n"
     ]
    }
   ],
   "source": [
    "df_filtered = df_filtered.dropna()\n",
    "\n",
    "# Comprobar tamaño.\n",
    "print(f\"Filas tras filtrar: {df_filtered.count()}\")"
   ]
  },
  {
   "cell_type": "markdown",
   "id": "66948153",
   "metadata": {},
   "source": [
    "Como seguimos teniendo gran número de filas, volvemos a filtrar. Ahora vamos a filtrar por número de atletas. Inicialmente tenemos 36.7k atletas. Vamos a probar con cuantos nos quedamos con el número de filas más adecuado."
   ]
  },
  {
   "cell_type": "code",
   "execution_count": 8,
   "id": "66645f94",
   "metadata": {},
   "outputs": [
    {
     "name": "stdout",
     "output_type": "stream",
     "text": [
      "Filas con athlete < 5000: 625635\n",
      "Filas con athlete < 8000: 996749\n",
      "Filas con athlete < 10000: 1249180\n",
      "Filas con athlete < 15000: 1869208\n",
      "Filas con athlete < 20000: 2471216\n"
     ]
    }
   ],
   "source": [
    "# Filtrar atletas con ID < 5000.\n",
    "df_filtered_5000 = df_filtered.filter(df_filtered.athlete < 5000)\n",
    "print(f\"Filas con athlete < 5000: {df_filtered_5000.count()}\")\n",
    "\n",
    "# Filtrar atletas con ID < 8000.\n",
    "df_filtered_8000 = df_filtered.filter(df_filtered.athlete < 8000)\n",
    "print(f\"Filas con athlete < 8000: {df_filtered_8000.count()}\")\n",
    "\n",
    "# Filtrar atletas con ID < 10000.\n",
    "df_filtered_10000 = df_filtered.filter(df_filtered.athlete < 10000)\n",
    "print(f\"Filas con athlete < 10000: {df_filtered_10000.count()}\")\n",
    "\n",
    "# Filtrar atletas con ID < 15000.\n",
    "df_final = df_filtered.filter(df_filtered.athlete < 15000)\n",
    "print(f\"Filas con athlete < 15000: {df_final.count()}\")\n",
    "\n",
    "# Filtrar atletas con ID < 20000.\n",
    "df_filtered_20000 = df_filtered.filter(df_filtered.athlete < 20000)\n",
    "print(f\"Filas con athlete < 20000: {df_filtered_20000.count()}\")"
   ]
  },
  {
   "cell_type": "markdown",
   "id": "8cef25a0",
   "metadata": {},
   "source": [
    "Nos quedamos con 15000 atletas, ya que creemos que es el valor más adecuado para lograr un equilibrio entre cantidad para un correcto aprendizaje y velocidad de procesamiento. "
   ]
  },
  {
   "cell_type": "markdown",
   "id": "fa66c5c0",
   "metadata": {},
   "source": [
    "### Creación de la variable \"season\" a partir de la variable datetime"
   ]
  },
  {
   "cell_type": "code",
   "execution_count": 9,
   "id": "6e502a1e",
   "metadata": {},
   "outputs": [],
   "source": [
    "df_final = df_final.withColumn(\n",
    "    \"season\",\n",
    "    when((month(\"datetime\") >= 3) & (month(\"datetime\") <= 5), \"spring\")\n",
    "    .when((month(\"datetime\") >= 6) & (month(\"datetime\") <= 8), \"summer\")\n",
    "    .when((month(\"datetime\") >= 9) & (month(\"datetime\") <= 11), \"autumn\")\n",
    "    .otherwise(\"winter\"))"
   ]
  },
  {
   "cell_type": "markdown",
   "id": "48e4cf50",
   "metadata": {},
   "source": [
    "### Seleccionamos solo las columnas relevantes"
   ]
  },
  {
   "cell_type": "code",
   "execution_count": 10,
   "id": "6dedb56a",
   "metadata": {},
   "outputs": [],
   "source": [
    "# Seleccionamos las columnas que no son datetime o major.\n",
    "df_final = df_final.select(\"athlete\", \"distance\", \"duration\", \"gender\", \"age_group\", \"country\", \"season\")"
   ]
  },
  {
   "cell_type": "markdown",
   "id": "dce03769",
   "metadata": {},
   "source": [
    "### Muestra de las cinco primeras filas y del esquema del dataset"
   ]
  },
  {
   "cell_type": "code",
   "execution_count": 11,
   "id": "b1bf6ea8",
   "metadata": {},
   "outputs": [
    {
     "name": "stdout",
     "output_type": "stream",
     "text": [
      "+-------+--------+------------------+------+---------+--------------+------+\n",
      "|athlete|distance|duration          |gender|age_group|country       |season|\n",
      "+-------+--------+------------------+------+---------+--------------+------+\n",
      "|1      |5.72    |31.633333333333333|M     |35 - 54  |Germany       |winter|\n",
      "|4      |8.07    |38.61666666666667 |M     |35 - 54  |United States |winter|\n",
      "|5      |10.09   |43.56666666666667 |F     |35 - 54  |United States |winter|\n",
      "|6      |9.82    |50.53333333333333 |M     |55 +     |United States |winter|\n",
      "|8      |10.05   |59.05             |M     |35 - 54  |United Kingdom|winter|\n",
      "+-------+--------+------------------+------+---------+--------------+------+\n",
      "only showing top 5 rows\n",
      "root\n",
      " |-- athlete: integer (nullable = true)\n",
      " |-- distance: double (nullable = true)\n",
      " |-- duration: double (nullable = true)\n",
      " |-- gender: string (nullable = true)\n",
      " |-- age_group: string (nullable = true)\n",
      " |-- country: string (nullable = true)\n",
      " |-- season: string (nullable = false)\n",
      "\n"
     ]
    }
   ],
   "source": [
    "# Mostrar las cinco primeras filas.\n",
    "df_final.show(5, truncate=False)\n",
    "\n",
    "# Mostrar esquema de columnas.\n",
    "df_final.printSchema()"
   ]
  },
  {
   "cell_type": "markdown",
   "id": "75ccf50a",
   "metadata": {},
   "source": [
    "### Muestra de filas y variables y principales estadísticas del dataset"
   ]
  },
  {
   "cell_type": "code",
   "execution_count": 12,
   "id": "02328486",
   "metadata": {},
   "outputs": [
    {
     "name": "stdout",
     "output_type": "stream",
     "text": [
      "Filas: 1869208, Variables: 7\n",
      "+-------+-----------------+--------------------+\n",
      "|summary|         distance|            duration|\n",
      "+-------+-----------------+--------------------+\n",
      "|  count|          1869208|             1869208|\n",
      "|   mean|11.34178614258103|  62.651047279560196|\n",
      "| stddev|6.851907901598767|   44.45724057163191|\n",
      "|    min|             0.01|0.016666666666666666|\n",
      "|    max|           263.37|              2202.0|\n",
      "+-------+-----------------+--------------------+\n",
      "\n",
      "+------+-------+\n",
      "|gender|  count|\n",
      "+------+-------+\n",
      "|     F| 463958|\n",
      "|     M|1405250|\n",
      "+------+-------+\n",
      "\n",
      "+---------+-------+\n",
      "|age_group|  count|\n",
      "+---------+-------+\n",
      "|     55 +| 138448|\n",
      "|  35 - 54|1117572|\n",
      "|  18 - 34| 613188|\n",
      "+---------+-------+\n",
      "\n",
      "+------+------+\n",
      "|season| count|\n",
      "+------+------+\n",
      "|winter|458894|\n",
      "|spring|507774|\n",
      "|summer|473599|\n",
      "|autumn|428941|\n",
      "+------+------+\n",
      "\n"
     ]
    }
   ],
   "source": [
    "# Número de filas y variables.\n",
    "print(f\"Filas: {df_final.count()}, Variables: {len(df_final.columns)}\")\n",
    "\n",
    "# Estadísticas descriptivas de variables numéricas.\n",
    "df_final.describe(['distance', 'duration']).show()\n",
    "\n",
    "# Distribución por género, grupo de edad y estación.\n",
    "df_final.groupBy(\"gender\").count().show()\n",
    "df_final.groupBy(\"age_group\").count().show()\n",
    "df_final.groupBy(\"season\").count().show()"
   ]
  },
  {
   "cell_type": "markdown",
   "id": "c38f4998",
   "metadata": {},
   "source": [
    "### Eliminar valores atípicos (distancia, duración y ritmo medio)"
   ]
  },
  {
   "cell_type": "code",
   "execution_count": 13,
   "id": "b7f8f18d",
   "metadata": {},
   "outputs": [],
   "source": [
    "# Filtramos primero por distancia. Eliminamos actividades con distancia < 0.5 km o > 100 km.\n",
    "df_final = df_final.filter((col(\"distance\") > 0.5) & (col(\"distance\") < 100)) \n",
    "\n",
    "# Luego filtramos por duración. Eliminamos actividades con duración < 5 min o > 300 min.\n",
    "df_final = df_final.filter((col(\"duration\") > 5) & (col(\"duration\") < 300)) \n",
    "\n",
    "# Hacemos un filtrado adicional por ritmo medio.\n",
    "# Primero añadimos la columna pace_min_km (min/km) como el resultado de la duración entre la distancia.\n",
    "df_final = df_final.withColumn(\"pace_min_km\", col(\"duration\") / col(\"distance\")) \n",
    "\n",
    "# Filtramos actividades con ritmo medio < 1 min/km o > 9 min/km.\n",
    "df_final = df_final.filter((col(\"pace_min_km\") >= 1.0) & (col(\"pace_min_km\") <= 9.0))"
   ]
  },
  {
   "cell_type": "markdown",
   "id": "6890eb2b",
   "metadata": {},
   "source": [
    "### Muestra de las cinco primeras filas y del esquema del dataset final"
   ]
  },
  {
   "cell_type": "code",
   "execution_count": 14,
   "id": "c1d6f50b",
   "metadata": {},
   "outputs": [
    {
     "name": "stdout",
     "output_type": "stream",
     "text": [
      "+-------+--------+------------------+------+---------+--------------+------+-----------------+\n",
      "|athlete|distance|duration          |gender|age_group|country       |season|pace_min_km      |\n",
      "+-------+--------+------------------+------+---------+--------------+------+-----------------+\n",
      "|1      |5.72    |31.633333333333333|M     |35 - 54  |Germany       |winter|5.53030303030303 |\n",
      "|4      |8.07    |38.61666666666667 |M     |35 - 54  |United States |winter|4.785212722015696|\n",
      "|5      |10.09   |43.56666666666667 |F     |35 - 54  |United States |winter|4.317806408985795|\n",
      "|6      |9.82    |50.53333333333333 |M     |55 +     |United States |winter|5.145960624575696|\n",
      "|8      |10.05   |59.05             |M     |35 - 54  |United Kingdom|winter|5.875621890547263|\n",
      "+-------+--------+------------------+------+---------+--------------+------+-----------------+\n",
      "only showing top 5 rows\n",
      "root\n",
      " |-- athlete: integer (nullable = true)\n",
      " |-- distance: double (nullable = true)\n",
      " |-- duration: double (nullable = true)\n",
      " |-- gender: string (nullable = true)\n",
      " |-- age_group: string (nullable = true)\n",
      " |-- country: string (nullable = true)\n",
      " |-- season: string (nullable = false)\n",
      " |-- pace_min_km: double (nullable = true)\n",
      "\n"
     ]
    }
   ],
   "source": [
    "# Mostrar las cinco primeras filas.\n",
    "df_final.show(5, truncate=False)\n",
    "\n",
    "# Mostrar esquema de columnas.\n",
    "df_final.printSchema()"
   ]
  },
  {
   "cell_type": "markdown",
   "id": "b22720bf",
   "metadata": {},
   "source": [
    "### Muestra de filas y variables y principales estadísticas del dataset final"
   ]
  },
  {
   "cell_type": "code",
   "execution_count": 15,
   "id": "9c6e1d80",
   "metadata": {},
   "outputs": [
    {
     "name": "stdout",
     "output_type": "stream",
     "text": [
      "Filas: 1806322, Variables: 8\n",
      "+-------+------------------+-----------------+------------------+\n",
      "|summary|          distance|         duration|       pace_min_km|\n",
      "+-------+------------------+-----------------+------------------+\n",
      "|  count|           1806322|          1806322|           1806322|\n",
      "|   mean|11.326626417106976|60.57503812535387| 5.441138410356235|\n",
      "| stddev| 6.204587315338015|33.55932521375634|0.8935773227352968|\n",
      "|    min|              0.57|5.016666666666667|1.6812481773111694|\n",
      "|    max|             88.53|           299.95|               9.0|\n",
      "+-------+------------------+-----------------+------------------+\n",
      "\n",
      "+------+-------+\n",
      "|gender|  count|\n",
      "+------+-------+\n",
      "|     F| 440092|\n",
      "|     M|1366230|\n",
      "+------+-------+\n",
      "\n",
      "+---------+-------+\n",
      "|age_group|  count|\n",
      "+---------+-------+\n",
      "|     55 +| 129521|\n",
      "|  35 - 54|1078807|\n",
      "|  18 - 34| 597994|\n",
      "+---------+-------+\n",
      "\n",
      "+------+------+\n",
      "|season| count|\n",
      "+------+------+\n",
      "|winter|446493|\n",
      "|spring|491814|\n",
      "|summer|454843|\n",
      "|autumn|413172|\n",
      "+------+------+\n",
      "\n"
     ]
    }
   ],
   "source": [
    "# Número de filas y variables.\n",
    "print(f\"Filas: {df_final.count()}, Variables: {len(df_final.columns)}\")\n",
    "\n",
    "# Estadísticas descriptivas de variables numéricas.\n",
    "df_final.describe(['distance', 'duration', 'pace_min_km']).show()\n",
    "\n",
    "# Distribución por género, grupo de edad y estación.\n",
    "df_final.groupBy(\"gender\").count().show()\n",
    "df_final.groupBy(\"age_group\").count().show()\n",
    "df_final.groupBy(\"season\").count().show()"
   ]
  },
  {
   "cell_type": "markdown",
   "id": "419d7c1a",
   "metadata": {},
   "source": [
    "## Preparación de los datos para el entrenamiento"
   ]
  },
  {
   "cell_type": "markdown",
   "id": "5312546a",
   "metadata": {},
   "source": [
    "### Convertimos los datos categóricos en vectores one-hot"
   ]
  },
  {
   "cell_type": "code",
   "execution_count": 16,
   "id": "af946dcf",
   "metadata": {},
   "outputs": [],
   "source": [
    "# Convertimos las columnas de tipo categórico en índices numéricos. \n",
    "gender_indexer = StringIndexer(inputCol=\"gender\", outputCol=\"gender_index\")\n",
    "age_indexer = StringIndexer(inputCol=\"age_group\", outputCol=\"age_index\")\n",
    "country_indexer = StringIndexer(inputCol=\"country\", outputCol=\"country_index\")\n",
    "season_indexer = StringIndexer(inputCol=\"season\", outputCol=\"season_index\")\n",
    "\n",
    "# Convertimos los índices numéricos del paso anterior en vectores one-hot.\n",
    "encoder = OneHotEncoder(inputCols=[\"gender_index\", \"age_index\", \"country_index\", \"season_index\"],\n",
    "                        outputCols=[\"gender_vec\", \"age_vec\", \"country_vec\", \"season_vec\"])"
   ]
  },
  {
   "cell_type": "markdown",
   "id": "81f9fcb1",
   "metadata": {},
   "source": [
    "### Combinamos las columnas numéricas en un solo vector"
   ]
  },
  {
   "cell_type": "code",
   "execution_count": 17,
   "id": "eaf712f1",
   "metadata": {},
   "outputs": [],
   "source": [
    "# Creamos un vector features que combine todas las variables numéricas.\n",
    "assembler = VectorAssembler(inputCols=[\"distance\", \"gender_vec\", \"age_vec\", \"country_vec\", \"season_vec\"],\n",
    "                            outputCol=\"features\")"
   ]
  },
  {
   "cell_type": "markdown",
   "id": "5d5e8ad9",
   "metadata": {},
   "source": [
    "### Creamos un pipeline para aplicar todas las transformaciones"
   ]
  },
  {
   "cell_type": "code",
   "execution_count": 18,
   "id": "a8880510",
   "metadata": {},
   "outputs": [],
   "source": [
    "# Creamos el Pipeline con todas las etapas.\n",
    "pipeline = Pipeline(stages=[gender_indexer, age_indexer, country_indexer, season_indexer, encoder, assembler])\n",
    "\n",
    "# Ajustamos el pipeline y transformamos los datos.\n",
    "df_prepared = pipeline.fit(df_final).transform(df_final)"
   ]
  },
  {
   "cell_type": "markdown",
   "id": "c6703fd2",
   "metadata": {},
   "source": [
    "### División de los datos en entrenamiento y test"
   ]
  },
  {
   "cell_type": "code",
   "execution_count": 19,
   "id": "1cdd81f8",
   "metadata": {},
   "outputs": [
    {
     "name": "stdout",
     "output_type": "stream",
     "text": [
      "Train: 1455983 filas, Test: 350339 filas\n"
     ]
    }
   ],
   "source": [
    "# Obtenemos los atletas.\n",
    "athletes = df_final.select(\"athlete\").distinct()\n",
    "\n",
    "# Asignamos aleatoriamente el 80% de atletas a train y el 20% a test.\n",
    "train_athletes, test_athletes = athletes.randomSplit([0.8, 0.2], seed=42)\n",
    "\n",
    "# Filtramos filas según atletas asignados.\n",
    "train_df = df_prepared.join(train_athletes, on=\"athlete\", how=\"inner\")\n",
    "test_df = df_prepared.join(test_athletes, on=\"athlete\", how=\"inner\")\n",
    "\n",
    "# Mostramos el número de filas en train y test.\n",
    "print(f\"Train: {train_df.count()} filas, Test: {test_df.count()} filas\")"
   ]
  },
  {
   "cell_type": "markdown",
   "id": "df104a9b",
   "metadata": {},
   "source": [
    "### Definición de la variable objetivo a predecir"
   ]
  },
  {
   "cell_type": "code",
   "execution_count": 20,
   "id": "b12edb62",
   "metadata": {},
   "outputs": [],
   "source": [
    "# Renombramos la columna 'duration' a 'label', ya que es la variable a predecir.\n",
    "train_df = train_df.withColumnRenamed(\"duration\", \"label\")  \n",
    "test_df = test_df.withColumnRenamed(\"duration\", \"label\")    "
   ]
  },
  {
   "cell_type": "markdown",
   "id": "e74aa302",
   "metadata": {},
   "source": [
    "## Modelos"
   ]
  },
  {
   "cell_type": "markdown",
   "id": "9eb5cb38",
   "metadata": {},
   "source": [
    "### Función para calcular ritmos medios "
   ]
  },
  {
   "cell_type": "code",
   "execution_count": 21,
   "id": "2f5198fe",
   "metadata": {},
   "outputs": [],
   "source": [
    "# Función para añadir columnas de ritmo (min/km) al DataFrame de predicciones.\n",
    "def add_paces(pred_df, distance_col=\"distance\", y_true_col=\"label\", y_pred_col=\"prediction\"):\n",
    "  \n",
    "    return (pred_df\n",
    "            .withColumn(\"pace_real_min_km\",  col(y_true_col) / col(distance_col))  \n",
    "            .withColumn(\"pace_pred_min_km\",  col(y_pred_col) / col(distance_col))) "
   ]
  },
  {
   "cell_type": "markdown",
   "id": "3aeb6078",
   "metadata": {},
   "source": [
    "### Modelo Regresión Lineal"
   ]
  },
  {
   "cell_type": "markdown",
   "id": "717aa060",
   "metadata": {},
   "source": [
    "#### Creación del modelo"
   ]
  },
  {
   "cell_type": "code",
   "execution_count": 22,
   "id": "14942504",
   "metadata": {},
   "outputs": [
    {
     "name": "stdout",
     "output_type": "stream",
     "text": [
      "Buscando los mejores hiperparámetros con CrossValidator...\n",
      "\n",
      "=== Linear Regression (Mejor Modelo) ===\n",
      "RMSE: 10.5110\n",
      "R²: 0.9015\n",
      "[LR] Mejores hiperparámetros:\n",
      "   regParam: 0.001\n",
      "   elasticNetParam: 1.0\n",
      "   maxIter: 50\n",
      "[LR] Número de coeficientes: 113\n"
     ]
    }
   ],
   "source": [
    "# Preparar evaluadores\n",
    "evaluator_rmse = RegressionEvaluator(labelCol=\"label\", predictionCol=\"prediction\", metricName=\"rmse\")\n",
    "evaluator_r2   = RegressionEvaluator(labelCol=\"label\", predictionCol=\"prediction\", metricName=\"r2\")\n",
    "\n",
    "# Definir el modelo base\n",
    "lr = LinearRegression(featuresCol=\"features\", labelCol=\"label\", maxIter=50)  \n",
    "\n",
    "# Definir la grid de hiperparámetros\n",
    "lr_grid = (ParamGridBuilder()\n",
    "           .addGrid(lr.regParam, [0.0, 0.001, 0.01, 0.1])        \n",
    "           .addGrid(lr.elasticNetParam, [0.0, 0.5, 1.0]) \n",
    "           .build())\n",
    "\n",
    "# Configurar CrossValidator\n",
    "lr_cv = CrossValidator(\n",
    "    estimator=lr,\n",
    "    estimatorParamMaps=lr_grid,\n",
    "    evaluator=evaluator_r2, \n",
    "    numFolds=3,             \n",
    "    parallelism=1,          \n",
    "    seed=42,\n",
    "    collectSubModels=False)\n",
    "\n",
    "# Entrenar directamente el mejor modelo sobre train\n",
    "print(\"Buscando los mejores hiperparámetros con CrossValidator...\")\n",
    "lr_cv_model = lr_cv.fit(train_df)\n",
    "\n",
    "# Evaluación sobre test\n",
    "lr_preds = lr_cv_model.transform(test_df).cache()\n",
    "\n",
    "lr_rmse = evaluator_rmse.evaluate(lr_preds)\n",
    "lr_r2   = evaluator_r2.evaluate(lr_preds)\n",
    "\n",
    "print(f\"\\n=== Linear Regression (Mejor Modelo) ===\")\n",
    "print(f\"RMSE: {lr_rmse:.4f}\")\n",
    "print(f\"R²: {lr_r2:.4f}\")\n",
    "\n",
    "# Mejor modelo e hiperparámetros\n",
    "best_lr = lr_cv_model.bestModel\n",
    "best_params = {p.name: best_lr.getOrDefault(p) for p in best_lr.extractParamMap()}\n",
    "\n",
    "print(\"[LR] Mejores hiperparámetros:\")\n",
    "for k in [\"regParam\", \"elasticNetParam\", \"maxIter\"]:\n",
    "    if k in best_params:\n",
    "        print(f\"   {k}: {best_params[k]}\")\n",
    "\n",
    "print(f\"[LR] Número de coeficientes: {len(best_lr.coefficients)}\")"
   ]
  },
  {
   "cell_type": "markdown",
   "id": "9629e048",
   "metadata": {},
   "source": [
    "#### Añadir ritmos y ver resultados"
   ]
  },
  {
   "cell_type": "code",
   "execution_count": 23,
   "id": "30339067",
   "metadata": {},
   "outputs": [
    {
     "name": "stdout",
     "output_type": "stream",
     "text": [
      "+-------+------------------+------------------+------------------+------------------+-----------------+\n",
      "|athlete|distance          |label             |prediction        |pace_real_min_km  |pace_pred_min_km |\n",
      "+-------+------------------+------------------+------------------+------------------+-----------------+\n",
      "|1580   |11.54             |63.0              |59.306256071322395|5.459272097053726 |5.139190300807834|\n",
      "|5518   |13.200000000000001|57.45             |68.56728011690942 |4.3522727272727275|5.194490917947682|\n",
      "|9852   |10.18             |46.166666666666664|48.408025626852826|4.535036018336608 |4.755208804209511|\n",
      "|10623  |20.6              |107.0             |118.49682114573739|5.194174757281553 |5.7522728711523  |\n",
      "|11141  |8.45              |48.25             |50.30669819828221 |5.710059171597633 |5.953455408080735|\n",
      "|11858  |16.54             |124.61666666666667|87.06601033869693 |7.534260378879485 |5.263966767756767|\n",
      "|1580   |10.24             |62.0              |52.62069701400962 |6.0546875         |5.138739942774377|\n",
      "|6397   |7.79              |47.583333333333336|39.09679598745781 |6.108258451005563 |5.018844157568396|\n",
      "|6620   |16.129            |94.0              |86.13258149992505 |5.828011656023311 |5.34023073345682 |\n",
      "|9852   |10.66             |57.53333333333333 |50.876539740322166|5.397123202001251 |4.772658512225344|\n",
      "+-------+------------------+------------------+------------------+------------------+-----------------+\n",
      "only showing top 10 rows\n"
     ]
    }
   ],
   "source": [
    "# Añadir columnas de ritmo (min/km)\n",
    "lr_preds = add_paces(lr_preds)\n",
    "\n",
    "# Mostrar algunas predicciones con ritmos\n",
    "lr_preds.select(\"athlete\", \"distance\", \"label\", \"prediction\", \n",
    "                \"pace_real_min_km\", \"pace_pred_min_km\").show(10, truncate=False)"
   ]
  },
  {
   "cell_type": "markdown",
   "id": "e6876069",
   "metadata": {},
   "source": [
    "#### Resultados gráficos"
   ]
  },
  {
   "cell_type": "code",
   "execution_count": 24,
   "id": "fdfe3964",
   "metadata": {},
   "outputs": [
    {
     "data": {
      "application/vnd.plotly.v1+json": {
       "config": {
        "plotlyServerURL": "https://plot.ly"
       },
       "data": [
        {
         "hovertemplate": "<b>Ritmo real:</b> %{x:.2f} min/km<br><b>Ritmo predicho:</b> %{y:.2f} min/km",
         "marker": {
          "color": "blue",
          "opacity": 0.4,
          "size": 6
         },
         "mode": "markers",
         "name": "Predicciones",
         "type": "scatter",
         "x": {
          "bdata": "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",
          "dtype": "f8"
         },
         "y": {
          "bdata": "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",
          "dtype": "f8"
         }
        },
        {
         "line": {
          "color": "red",
          "dash": "dash"
         },
         "mode": "lines",
         "name": "Ideal (y = x)",
         "type": "scatter",
         "x": [
          2,
          8
         ],
         "y": [
          2,
          8
         ]
        }
       ],
       "layout": {
        "height": 600,
        "legend": {
         "x": 0.02,
         "y": 0.98
        },
        "template": {
         "data": {
          "bar": [
           {
            "error_x": {
             "color": "#2a3f5f"
            },
            "error_y": {
             "color": "#2a3f5f"
            },
            "marker": {
             "line": {
              "color": "white",
              "width": 0.5
             },
             "pattern": {
              "fillmode": "overlay",
              "size": 10,
              "solidity": 0.2
             }
            },
            "type": "bar"
           }
          ],
          "barpolar": [
           {
            "marker": {
             "line": {
              "color": "white",
              "width": 0.5
             },
             "pattern": {
              "fillmode": "overlay",
              "size": 10,
              "solidity": 0.2
             }
            },
            "type": "barpolar"
           }
          ],
          "carpet": [
           {
            "aaxis": {
             "endlinecolor": "#2a3f5f",
             "gridcolor": "#C8D4E3",
             "linecolor": "#C8D4E3",
             "minorgridcolor": "#C8D4E3",
             "startlinecolor": "#2a3f5f"
            },
            "baxis": {
             "endlinecolor": "#2a3f5f",
             "gridcolor": "#C8D4E3",
             "linecolor": "#C8D4E3",
             "minorgridcolor": "#C8D4E3",
             "startlinecolor": "#2a3f5f"
            },
            "type": "carpet"
           }
          ],
          "choropleth": [
           {
            "colorbar": {
             "outlinewidth": 0,
             "ticks": ""
            },
            "type": "choropleth"
           }
          ],
          "contour": [
           {
            "colorbar": {
             "outlinewidth": 0,
             "ticks": ""
            },
            "colorscale": [
             [
              0,
              "#0d0887"
             ],
             [
              0.1111111111111111,
              "#46039f"
             ],
             [
              0.2222222222222222,
              "#7201a8"
             ],
             [
              0.3333333333333333,
              "#9c179e"
             ],
             [
              0.4444444444444444,
              "#bd3786"
             ],
             [
              0.5555555555555556,
              "#d8576b"
             ],
             [
              0.6666666666666666,
              "#ed7953"
             ],
             [
              0.7777777777777778,
              "#fb9f3a"
             ],
             [
              0.8888888888888888,
              "#fdca26"
             ],
             [
              1,
              "#f0f921"
             ]
            ],
            "type": "contour"
           }
          ],
          "contourcarpet": [
           {
            "colorbar": {
             "outlinewidth": 0,
             "ticks": ""
            },
            "type": "contourcarpet"
           }
          ],
          "heatmap": [
           {
            "colorbar": {
             "outlinewidth": 0,
             "ticks": ""
            },
            "colorscale": [
             [
              0,
              "#0d0887"
             ],
             [
              0.1111111111111111,
              "#46039f"
             ],
             [
              0.2222222222222222,
              "#7201a8"
             ],
             [
              0.3333333333333333,
              "#9c179e"
             ],
             [
              0.4444444444444444,
              "#bd3786"
             ],
             [
              0.5555555555555556,
              "#d8576b"
             ],
             [
              0.6666666666666666,
              "#ed7953"
             ],
             [
              0.7777777777777778,
              "#fb9f3a"
             ],
             [
              0.8888888888888888,
              "#fdca26"
             ],
             [
              1,
              "#f0f921"
             ]
            ],
            "type": "heatmap"
           }
          ],
          "histogram": [
           {
            "marker": {
             "pattern": {
              "fillmode": "overlay",
              "size": 10,
              "solidity": 0.2
             }
            },
            "type": "histogram"
           }
          ],
          "histogram2d": [
           {
            "colorbar": {
             "outlinewidth": 0,
             "ticks": ""
            },
            "colorscale": [
             [
              0,
              "#0d0887"
             ],
             [
              0.1111111111111111,
              "#46039f"
             ],
             [
              0.2222222222222222,
              "#7201a8"
             ],
             [
              0.3333333333333333,
              "#9c179e"
             ],
             [
              0.4444444444444444,
              "#bd3786"
             ],
             [
              0.5555555555555556,
              "#d8576b"
             ],
             [
              0.6666666666666666,
              "#ed7953"
             ],
             [
              0.7777777777777778,
              "#fb9f3a"
             ],
             [
              0.8888888888888888,
              "#fdca26"
             ],
             [
              1,
              "#f0f921"
             ]
            ],
            "type": "histogram2d"
           }
          ],
          "histogram2dcontour": [
           {
            "colorbar": {
             "outlinewidth": 0,
             "ticks": ""
            },
            "colorscale": [
             [
              0,
              "#0d0887"
             ],
             [
              0.1111111111111111,
              "#46039f"
             ],
             [
              0.2222222222222222,
              "#7201a8"
             ],
             [
              0.3333333333333333,
              "#9c179e"
             ],
             [
              0.4444444444444444,
              "#bd3786"
             ],
             [
              0.5555555555555556,
              "#d8576b"
             ],
             [
              0.6666666666666666,
              "#ed7953"
             ],
             [
              0.7777777777777778,
              "#fb9f3a"
             ],
             [
              0.8888888888888888,
              "#fdca26"
             ],
             [
              1,
              "#f0f921"
             ]
            ],
            "type": "histogram2dcontour"
           }
          ],
          "mesh3d": [
           {
            "colorbar": {
             "outlinewidth": 0,
             "ticks": ""
            },
            "type": "mesh3d"
           }
          ],
          "parcoords": [
           {
            "line": {
             "colorbar": {
              "outlinewidth": 0,
              "ticks": ""
             }
            },
            "type": "parcoords"
           }
          ],
          "pie": [
           {
            "automargin": true,
            "type": "pie"
           }
          ],
          "scatter": [
           {
            "fillpattern": {
             "fillmode": "overlay",
             "size": 10,
             "solidity": 0.2
            },
            "type": "scatter"
           }
          ],
          "scatter3d": [
           {
            "line": {
             "colorbar": {
              "outlinewidth": 0,
              "ticks": ""
             }
            },
            "marker": {
             "colorbar": {
              "outlinewidth": 0,
              "ticks": ""
             }
            },
            "type": "scatter3d"
           }
          ],
          "scattercarpet": [
           {
            "marker": {
             "colorbar": {
              "outlinewidth": 0,
              "ticks": ""
             }
            },
            "type": "scattercarpet"
           }
          ],
          "scattergeo": [
           {
            "marker": {
             "colorbar": {
              "outlinewidth": 0,
              "ticks": ""
             }
            },
            "type": "scattergeo"
           }
          ],
          "scattergl": [
           {
            "marker": {
             "colorbar": {
              "outlinewidth": 0,
              "ticks": ""
             }
            },
            "type": "scattergl"
           }
          ],
          "scattermap": [
           {
            "marker": {
             "colorbar": {
              "outlinewidth": 0,
              "ticks": ""
             }
            },
            "type": "scattermap"
           }
          ],
          "scattermapbox": [
           {
            "marker": {
             "colorbar": {
              "outlinewidth": 0,
              "ticks": ""
             }
            },
            "type": "scattermapbox"
           }
          ],
          "scatterpolar": [
           {
            "marker": {
             "colorbar": {
              "outlinewidth": 0,
              "ticks": ""
             }
            },
            "type": "scatterpolar"
           }
          ],
          "scatterpolargl": [
           {
            "marker": {
             "colorbar": {
              "outlinewidth": 0,
              "ticks": ""
             }
            },
            "type": "scatterpolargl"
           }
          ],
          "scatterternary": [
           {
            "marker": {
             "colorbar": {
              "outlinewidth": 0,
              "ticks": ""
             }
            },
            "type": "scatterternary"
           }
          ],
          "surface": [
           {
            "colorbar": {
             "outlinewidth": 0,
             "ticks": ""
            },
            "colorscale": [
             [
              0,
              "#0d0887"
             ],
             [
              0.1111111111111111,
              "#46039f"
             ],
             [
              0.2222222222222222,
              "#7201a8"
             ],
             [
              0.3333333333333333,
              "#9c179e"
             ],
             [
              0.4444444444444444,
              "#bd3786"
             ],
             [
              0.5555555555555556,
              "#d8576b"
             ],
             [
              0.6666666666666666,
              "#ed7953"
             ],
             [
              0.7777777777777778,
              "#fb9f3a"
             ],
             [
              0.8888888888888888,
              "#fdca26"
             ],
             [
              1,
              "#f0f921"
             ]
            ],
            "type": "surface"
           }
          ],
          "table": [
           {
            "cells": {
             "fill": {
              "color": "#EBF0F8"
             },
             "line": {
              "color": "white"
             }
            },
            "header": {
             "fill": {
              "color": "#C8D4E3"
             },
             "line": {
              "color": "white"
             }
            },
            "type": "table"
           }
          ]
         },
         "layout": {
          "annotationdefaults": {
           "arrowcolor": "#2a3f5f",
           "arrowhead": 0,
           "arrowwidth": 1
          },
          "autotypenumbers": "strict",
          "coloraxis": {
           "colorbar": {
            "outlinewidth": 0,
            "ticks": ""
           }
          },
          "colorscale": {
           "diverging": [
            [
             0,
             "#8e0152"
            ],
            [
             0.1,
             "#c51b7d"
            ],
            [
             0.2,
             "#de77ae"
            ],
            [
             0.3,
             "#f1b6da"
            ],
            [
             0.4,
             "#fde0ef"
            ],
            [
             0.5,
             "#f7f7f7"
            ],
            [
             0.6,
             "#e6f5d0"
            ],
            [
             0.7,
             "#b8e186"
            ],
            [
             0.8,
             "#7fbc41"
            ],
            [
             0.9,
             "#4d9221"
            ],
            [
             1,
             "#276419"
            ]
           ],
           "sequential": [
            [
             0,
             "#0d0887"
            ],
            [
             0.1111111111111111,
             "#46039f"
            ],
            [
             0.2222222222222222,
             "#7201a8"
            ],
            [
             0.3333333333333333,
             "#9c179e"
            ],
            [
             0.4444444444444444,
             "#bd3786"
            ],
            [
             0.5555555555555556,
             "#d8576b"
            ],
            [
             0.6666666666666666,
             "#ed7953"
            ],
            [
             0.7777777777777778,
             "#fb9f3a"
            ],
            [
             0.8888888888888888,
             "#fdca26"
            ],
            [
             1,
             "#f0f921"
            ]
           ],
           "sequentialminus": [
            [
             0,
             "#0d0887"
            ],
            [
             0.1111111111111111,
             "#46039f"
            ],
            [
             0.2222222222222222,
             "#7201a8"
            ],
            [
             0.3333333333333333,
             "#9c179e"
            ],
            [
             0.4444444444444444,
             "#bd3786"
            ],
            [
             0.5555555555555556,
             "#d8576b"
            ],
            [
             0.6666666666666666,
             "#ed7953"
            ],
            [
             0.7777777777777778,
             "#fb9f3a"
            ],
            [
             0.8888888888888888,
             "#fdca26"
            ],
            [
             1,
             "#f0f921"
            ]
           ]
          },
          "colorway": [
           "#636efa",
           "#EF553B",
           "#00cc96",
           "#ab63fa",
           "#FFA15A",
           "#19d3f3",
           "#FF6692",
           "#B6E880",
           "#FF97FF",
           "#FECB52"
          ],
          "font": {
           "color": "#2a3f5f"
          },
          "geo": {
           "bgcolor": "white",
           "lakecolor": "white",
           "landcolor": "white",
           "showlakes": true,
           "showland": true,
           "subunitcolor": "#C8D4E3"
          },
          "hoverlabel": {
           "align": "left"
          },
          "hovermode": "closest",
          "mapbox": {
           "style": "light"
          },
          "paper_bgcolor": "white",
          "plot_bgcolor": "white",
          "polar": {
           "angularaxis": {
            "gridcolor": "#EBF0F8",
            "linecolor": "#EBF0F8",
            "ticks": ""
           },
           "bgcolor": "white",
           "radialaxis": {
            "gridcolor": "#EBF0F8",
            "linecolor": "#EBF0F8",
            "ticks": ""
           }
          },
          "scene": {
           "xaxis": {
            "backgroundcolor": "white",
            "gridcolor": "#DFE8F3",
            "gridwidth": 2,
            "linecolor": "#EBF0F8",
            "showbackground": true,
            "ticks": "",
            "zerolinecolor": "#EBF0F8"
           },
           "yaxis": {
            "backgroundcolor": "white",
            "gridcolor": "#DFE8F3",
            "gridwidth": 2,
            "linecolor": "#EBF0F8",
            "showbackground": true,
            "ticks": "",
            "zerolinecolor": "#EBF0F8"
           },
           "zaxis": {
            "backgroundcolor": "white",
            "gridcolor": "#DFE8F3",
            "gridwidth": 2,
            "linecolor": "#EBF0F8",
            "showbackground": true,
            "ticks": "",
            "zerolinecolor": "#EBF0F8"
           }
          },
          "shapedefaults": {
           "line": {
            "color": "#2a3f5f"
           }
          },
          "ternary": {
           "aaxis": {
            "gridcolor": "#DFE8F3",
            "linecolor": "#A2B1C6",
            "ticks": ""
           },
           "baxis": {
            "gridcolor": "#DFE8F3",
            "linecolor": "#A2B1C6",
            "ticks": ""
           },
           "bgcolor": "white",
           "caxis": {
            "gridcolor": "#DFE8F3",
            "linecolor": "#A2B1C6",
            "ticks": ""
           }
          },
          "title": {
           "x": 0.05
          },
          "xaxis": {
           "automargin": true,
           "gridcolor": "#EBF0F8",
           "linecolor": "#EBF0F8",
           "ticks": "",
           "title": {
            "standoff": 15
           },
           "zerolinecolor": "#EBF0F8",
           "zerolinewidth": 2
          },
          "yaxis": {
           "automargin": true,
           "gridcolor": "#EBF0F8",
           "linecolor": "#EBF0F8",
           "ticks": "",
           "title": {
            "standoff": 15
           },
           "zerolinecolor": "#EBF0F8",
           "zerolinewidth": 2
          }
         }
        },
        "title": {
         "text": "Ritmo real vs. predicho (Linear Regression)"
        },
        "width": 800,
        "xaxis": {
         "gridcolor": "lightgray",
         "range": [
          2,
          8
         ],
         "title": {
          "text": "Ritmo real (min/km)"
         }
        },
        "yaxis": {
         "gridcolor": "lightgray",
         "range": [
          2,
          8
         ],
         "title": {
          "text": "Ritmo predicho (min/km)"
         }
        }
       }
      }
     },
     "metadata": {},
     "output_type": "display_data"
    }
   ],
   "source": [
    "# Tomamos una pequeña muestra para visualización\n",
    "sample_pd = lr_preds.select(\"pace_real_min_km\", \"pace_pred_min_km\") \\\n",
    "                          .sample(False, 0.03, seed=42).toPandas()\n",
    "\n",
    "# Eliminamos posibles valores extremos\n",
    "sample_pd = sample_pd[\n",
    "    (sample_pd[\"pace_real_min_km\"].between(2, 8)) &\n",
    "    (sample_pd[\"pace_pred_min_km\"].between(2, 8))\n",
    "]\n",
    "\n",
    "# Creamos la figura interactiva\n",
    "fig = go.Figure()\n",
    "\n",
    "# Añadimos los puntos de dispersión\n",
    "fig.add_trace(go.Scatter(\n",
    "    x=sample_pd[\"pace_real_min_km\"],\n",
    "    y=sample_pd[\"pace_pred_min_km\"],\n",
    "    mode=\"markers\",\n",
    "    marker=dict(size=6, opacity=0.4, color=\"blue\"),\n",
    "    name=\"Predicciones\",\n",
    "    hovertemplate=\"<b>Ritmo real:</b> %{x:.2f} min/km<br><b>Ritmo predicho:</b> %{y:.2f} min/km\"\n",
    "))\n",
    "\n",
    "# Línea ideal (y = x)\n",
    "fig.add_trace(go.Scatter(\n",
    "    x=[2, 8], y=[2, 8],\n",
    "    mode=\"lines\",\n",
    "    line=dict(color=\"red\", dash=\"dash\"),\n",
    "    name=\"Ideal (y = x)\"\n",
    "))\n",
    "\n",
    "# Configuración del layout\n",
    "fig.update_layout(\n",
    "    title=\"Ritmo real vs. predicho (Linear Regression)\",\n",
    "    xaxis_title=\"Ritmo real (min/km)\",\n",
    "    yaxis_title=\"Ritmo predicho (min/km)\",\n",
    "    xaxis=dict(range=[2, 8], gridcolor=\"lightgray\"),\n",
    "    yaxis=dict(range=[2, 8], gridcolor=\"lightgray\"),\n",
    "    width=800,\n",
    "    height=600,\n",
    "    legend=dict(x=0.02, y=0.98),\n",
    "    template=\"plotly_white\"\n",
    ")\n",
    "\n",
    "# Mostrar\n",
    "fig.show()\n",
    "\n",
    "fig.write_html(\"grafico_linear.html\")\n",
    "fig.write_image(\"grafico_linear.png\", scale=2)\n",
    "\n",
    "\n"
   ]
  },
  {
   "cell_type": "markdown",
   "id": "3e052268",
   "metadata": {},
   "source": [
    "### Modelo de Regresión basado en Árboles de Decisión"
   ]
  },
  {
   "cell_type": "markdown",
   "id": "14b1d096",
   "metadata": {},
   "source": [
    "#### Creación del modelo"
   ]
  },
  {
   "cell_type": "code",
   "execution_count": 25,
   "id": "9d936b8b",
   "metadata": {},
   "outputs": [
    {
     "name": "stdout",
     "output_type": "stream",
     "text": [
      "Buscando los mejores hiperparámetros con CrossValidator para Decision Tree...\n",
      "\n",
      "=== Decision Tree Regressor (Mejor Modelo) ===\n",
      "RMSE: 11.7169\n",
      "R²: 0.8776\n",
      "[DT] Mejores hiperparámetros: {'maxDepth': 15, 'minInstancesPerNode': 5}\n",
      "[DT] Profundidad del árbol: 15\n"
     ]
    }
   ],
   "source": [
    "# Preparar evaluadores\n",
    "evaluator_rmse = RegressionEvaluator(labelCol=\"label\", predictionCol=\"prediction\", metricName=\"rmse\")\n",
    "evaluator_r2   = RegressionEvaluator(labelCol=\"label\", predictionCol=\"prediction\", metricName=\"r2\")\n",
    "\n",
    "# Definir el modelo base\n",
    "dt = DecisionTreeRegressor(featuresCol=\"features\", labelCol=\"label\", seed=42)\n",
    "\n",
    "# Definir la grid de hiperparámetros\n",
    "dt_grid = (ParamGridBuilder()\n",
    "           .addGrid(dt.maxDepth, [5, 10, 15])                \n",
    "           .addGrid(dt.minInstancesPerNode, [1, 5, 20])     \n",
    "           .build())\n",
    "\n",
    "# Configurar CrossValidator\n",
    "dt_cv = CrossValidator(\n",
    "    estimator=dt,\n",
    "    estimatorParamMaps=dt_grid,\n",
    "    evaluator=evaluator_r2, \n",
    "    numFolds=3,\n",
    "    parallelism=2,           \n",
    "    seed=42,\n",
    "    collectSubModels=False)\n",
    "\n",
    "# Entrenar directamente el mejor modelo sobre train\n",
    "print(\"Buscando los mejores hiperparámetros con CrossValidator para Decision Tree...\")\n",
    "dt_cv_model = dt_cv.fit(train_df)\n",
    "\n",
    "# Evaluación sobre test\n",
    "dt_preds = dt_cv_model.transform(test_df).cache()\n",
    "\n",
    "dt_rmse = evaluator_rmse.evaluate(dt_preds)\n",
    "dt_r2   = evaluator_r2.evaluate(dt_preds)\n",
    "\n",
    "print(f\"\\n=== Decision Tree Regressor (Mejor Modelo) ===\")\n",
    "print(f\"RMSE: {dt_rmse:.4f}\")\n",
    "print(f\"R²: {dt_r2:.4f}\")\n",
    "\n",
    "# Mejor modelo e hiperparámetros\n",
    "best_dt = dt_cv_model.bestModel\n",
    "best_dt_params = {\n",
    "    \"maxDepth\": best_dt.getOrDefault(best_dt.maxDepth),\n",
    "    \"minInstancesPerNode\": best_dt.getOrDefault(best_dt.minInstancesPerNode)}\n",
    "\n",
    "print(\"[DT] Mejores hiperparámetros:\", best_dt_params)\n",
    "print(f\"[DT] Profundidad del árbol: {best_dt.depth}\")"
   ]
  },
  {
   "cell_type": "markdown",
   "id": "51b82a1a",
   "metadata": {},
   "source": [
    "#### Añadir ritmos y ver resultados"
   ]
  },
  {
   "cell_type": "code",
   "execution_count": 26,
   "id": "b77d39b6",
   "metadata": {},
   "outputs": [
    {
     "name": "stdout",
     "output_type": "stream",
     "text": [
      "+-------+------------------+------------------+------------------+------------------+-----------------+\n",
      "|athlete|distance          |label             |prediction        |pace_real_min_km  |pace_pred_min_km |\n",
      "+-------+------------------+------------------+------------------+------------------+-----------------+\n",
      "|1580   |11.54             |63.0              |61.26171098140943 |5.459272097053726 |5.308640466326641|\n",
      "|5518   |13.200000000000001|57.45             |69.50191507311588 |4.3522727272727275|5.265296596448173|\n",
      "|9852   |10.18             |46.166666666666664|53.175249500998014|4.535036018336608 |5.223501915618666|\n",
      "|10623  |20.6              |107.0             |134.3870238095238 |5.194174757281553 |6.523641932501155|\n",
      "|11141  |8.45              |48.25             |50.17114624505928 |5.710059171597633 |5.93741375681175 |\n",
      "|11858  |16.54             |124.61666666666667|88.43925573659727 |7.534260378879485 |5.34699248709778 |\n",
      "|1580   |10.24             |62.0              |55.91136019059996 |6.0546875         |5.460093768613277|\n",
      "|6397   |7.79              |47.583333333333336|41.92030096536058 |6.108258451005563 |5.381296657941024|\n",
      "|6620   |16.129            |94.0              |85.06021448663853 |5.828011656023311 |5.27374384565928 |\n",
      "|9852   |10.66             |57.53333333333333 |54.633442096035836|5.397123202001251 |5.125088376738821|\n",
      "+-------+------------------+------------------+------------------+------------------+-----------------+\n",
      "only showing top 10 rows\n"
     ]
    }
   ],
   "source": [
    "# Añadir columnas de ritmo (min/km)\n",
    "dt_preds = add_paces(dt_preds)\n",
    "\n",
    "# Mostrar algunas predicciones con ritmos\n",
    "dt_preds.select(\"athlete\", \"distance\", \"label\", \"prediction\", \n",
    "                \"pace_real_min_km\", \"pace_pred_min_km\").show(10, truncate=False)"
   ]
  },
  {
   "cell_type": "markdown",
   "id": "66b3cc57",
   "metadata": {},
   "source": [
    "#### Resultados gráficos"
   ]
  },
  {
   "cell_type": "code",
   "execution_count": 27,
   "id": "b6b94af2",
   "metadata": {},
   "outputs": [
    {
     "data": {
      "application/vnd.plotly.v1+json": {
       "config": {
        "plotlyServerURL": "https://plot.ly"
       },
       "data": [
        {
         "hovertemplate": "<b>Ritmo real:</b> %{x:.2f} min/km<br><b>Ritmo predicho:</b> %{y:.2f} min/km",
         "marker": {
          "color": "green",
          "opacity": 0.4,
          "size": 6
         },
         "mode": "markers",
         "name": "Predicciones",
         "type": "scatter",
         "x": {
          "bdata": "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",
          "dtype": "f8"
         },
         "y": {
          "bdata": "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",
          "dtype": "f8"
         }
        },
        {
         "line": {
          "color": "red",
          "dash": "dash"
         },
         "mode": "lines",
         "name": "Ideal (y = x)",
         "type": "scatter",
         "x": [
          2,
          8
         ],
         "y": [
          2,
          8
         ]
        }
       ],
       "layout": {
        "height": 600,
        "legend": {
         "x": 0.02,
         "y": 0.98
        },
        "template": {
         "data": {
          "bar": [
           {
            "error_x": {
             "color": "#2a3f5f"
            },
            "error_y": {
             "color": "#2a3f5f"
            },
            "marker": {
             "line": {
              "color": "white",
              "width": 0.5
             },
             "pattern": {
              "fillmode": "overlay",
              "size": 10,
              "solidity": 0.2
             }
            },
            "type": "bar"
           }
          ],
          "barpolar": [
           {
            "marker": {
             "line": {
              "color": "white",
              "width": 0.5
             },
             "pattern": {
              "fillmode": "overlay",
              "size": 10,
              "solidity": 0.2
             }
            },
            "type": "barpolar"
           }
          ],
          "carpet": [
           {
            "aaxis": {
             "endlinecolor": "#2a3f5f",
             "gridcolor": "#C8D4E3",
             "linecolor": "#C8D4E3",
             "minorgridcolor": "#C8D4E3",
             "startlinecolor": "#2a3f5f"
            },
            "baxis": {
             "endlinecolor": "#2a3f5f",
             "gridcolor": "#C8D4E3",
             "linecolor": "#C8D4E3",
             "minorgridcolor": "#C8D4E3",
             "startlinecolor": "#2a3f5f"
            },
            "type": "carpet"
           }
          ],
          "choropleth": [
           {
            "colorbar": {
             "outlinewidth": 0,
             "ticks": ""
            },
            "type": "choropleth"
           }
          ],
          "contour": [
           {
            "colorbar": {
             "outlinewidth": 0,
             "ticks": ""
            },
            "colorscale": [
             [
              0,
              "#0d0887"
             ],
             [
              0.1111111111111111,
              "#46039f"
             ],
             [
              0.2222222222222222,
              "#7201a8"
             ],
             [
              0.3333333333333333,
              "#9c179e"
             ],
             [
              0.4444444444444444,
              "#bd3786"
             ],
             [
              0.5555555555555556,
              "#d8576b"
             ],
             [
              0.6666666666666666,
              "#ed7953"
             ],
             [
              0.7777777777777778,
              "#fb9f3a"
             ],
             [
              0.8888888888888888,
              "#fdca26"
             ],
             [
              1,
              "#f0f921"
             ]
            ],
            "type": "contour"
           }
          ],
          "contourcarpet": [
           {
            "colorbar": {
             "outlinewidth": 0,
             "ticks": ""
            },
            "type": "contourcarpet"
           }
          ],
          "heatmap": [
           {
            "colorbar": {
             "outlinewidth": 0,
             "ticks": ""
            },
            "colorscale": [
             [
              0,
              "#0d0887"
             ],
             [
              0.1111111111111111,
              "#46039f"
             ],
             [
              0.2222222222222222,
              "#7201a8"
             ],
             [
              0.3333333333333333,
              "#9c179e"
             ],
             [
              0.4444444444444444,
              "#bd3786"
             ],
             [
              0.5555555555555556,
              "#d8576b"
             ],
             [
              0.6666666666666666,
              "#ed7953"
             ],
             [
              0.7777777777777778,
              "#fb9f3a"
             ],
             [
              0.8888888888888888,
              "#fdca26"
             ],
             [
              1,
              "#f0f921"
             ]
            ],
            "type": "heatmap"
           }
          ],
          "histogram": [
           {
            "marker": {
             "pattern": {
              "fillmode": "overlay",
              "size": 10,
              "solidity": 0.2
             }
            },
            "type": "histogram"
           }
          ],
          "histogram2d": [
           {
            "colorbar": {
             "outlinewidth": 0,
             "ticks": ""
            },
            "colorscale": [
             [
              0,
              "#0d0887"
             ],
             [
              0.1111111111111111,
              "#46039f"
             ],
             [
              0.2222222222222222,
              "#7201a8"
             ],
             [
              0.3333333333333333,
              "#9c179e"
             ],
             [
              0.4444444444444444,
              "#bd3786"
             ],
             [
              0.5555555555555556,
              "#d8576b"
             ],
             [
              0.6666666666666666,
              "#ed7953"
             ],
             [
              0.7777777777777778,
              "#fb9f3a"
             ],
             [
              0.8888888888888888,
              "#fdca26"
             ],
             [
              1,
              "#f0f921"
             ]
            ],
            "type": "histogram2d"
           }
          ],
          "histogram2dcontour": [
           {
            "colorbar": {
             "outlinewidth": 0,
             "ticks": ""
            },
            "colorscale": [
             [
              0,
              "#0d0887"
             ],
             [
              0.1111111111111111,
              "#46039f"
             ],
             [
              0.2222222222222222,
              "#7201a8"
             ],
             [
              0.3333333333333333,
              "#9c179e"
             ],
             [
              0.4444444444444444,
              "#bd3786"
             ],
             [
              0.5555555555555556,
              "#d8576b"
             ],
             [
              0.6666666666666666,
              "#ed7953"
             ],
             [
              0.7777777777777778,
              "#fb9f3a"
             ],
             [
              0.8888888888888888,
              "#fdca26"
             ],
             [
              1,
              "#f0f921"
             ]
            ],
            "type": "histogram2dcontour"
           }
          ],
          "mesh3d": [
           {
            "colorbar": {
             "outlinewidth": 0,
             "ticks": ""
            },
            "type": "mesh3d"
           }
          ],
          "parcoords": [
           {
            "line": {
             "colorbar": {
              "outlinewidth": 0,
              "ticks": ""
             }
            },
            "type": "parcoords"
           }
          ],
          "pie": [
           {
            "automargin": true,
            "type": "pie"
           }
          ],
          "scatter": [
           {
            "fillpattern": {
             "fillmode": "overlay",
             "size": 10,
             "solidity": 0.2
            },
            "type": "scatter"
           }
          ],
          "scatter3d": [
           {
            "line": {
             "colorbar": {
              "outlinewidth": 0,
              "ticks": ""
             }
            },
            "marker": {
             "colorbar": {
              "outlinewidth": 0,
              "ticks": ""
             }
            },
            "type": "scatter3d"
           }
          ],
          "scattercarpet": [
           {
            "marker": {
             "colorbar": {
              "outlinewidth": 0,
              "ticks": ""
             }
            },
            "type": "scattercarpet"
           }
          ],
          "scattergeo": [
           {
            "marker": {
             "colorbar": {
              "outlinewidth": 0,
              "ticks": ""
             }
            },
            "type": "scattergeo"
           }
          ],
          "scattergl": [
           {
            "marker": {
             "colorbar": {
              "outlinewidth": 0,
              "ticks": ""
             }
            },
            "type": "scattergl"
           }
          ],
          "scattermap": [
           {
            "marker": {
             "colorbar": {
              "outlinewidth": 0,
              "ticks": ""
             }
            },
            "type": "scattermap"
           }
          ],
          "scattermapbox": [
           {
            "marker": {
             "colorbar": {
              "outlinewidth": 0,
              "ticks": ""
             }
            },
            "type": "scattermapbox"
           }
          ],
          "scatterpolar": [
           {
            "marker": {
             "colorbar": {
              "outlinewidth": 0,
              "ticks": ""
             }
            },
            "type": "scatterpolar"
           }
          ],
          "scatterpolargl": [
           {
            "marker": {
             "colorbar": {
              "outlinewidth": 0,
              "ticks": ""
             }
            },
            "type": "scatterpolargl"
           }
          ],
          "scatterternary": [
           {
            "marker": {
             "colorbar": {
              "outlinewidth": 0,
              "ticks": ""
             }
            },
            "type": "scatterternary"
           }
          ],
          "surface": [
           {
            "colorbar": {
             "outlinewidth": 0,
             "ticks": ""
            },
            "colorscale": [
             [
              0,
              "#0d0887"
             ],
             [
              0.1111111111111111,
              "#46039f"
             ],
             [
              0.2222222222222222,
              "#7201a8"
             ],
             [
              0.3333333333333333,
              "#9c179e"
             ],
             [
              0.4444444444444444,
              "#bd3786"
             ],
             [
              0.5555555555555556,
              "#d8576b"
             ],
             [
              0.6666666666666666,
              "#ed7953"
             ],
             [
              0.7777777777777778,
              "#fb9f3a"
             ],
             [
              0.8888888888888888,
              "#fdca26"
             ],
             [
              1,
              "#f0f921"
             ]
            ],
            "type": "surface"
           }
          ],
          "table": [
           {
            "cells": {
             "fill": {
              "color": "#EBF0F8"
             },
             "line": {
              "color": "white"
             }
            },
            "header": {
             "fill": {
              "color": "#C8D4E3"
             },
             "line": {
              "color": "white"
             }
            },
            "type": "table"
           }
          ]
         },
         "layout": {
          "annotationdefaults": {
           "arrowcolor": "#2a3f5f",
           "arrowhead": 0,
           "arrowwidth": 1
          },
          "autotypenumbers": "strict",
          "coloraxis": {
           "colorbar": {
            "outlinewidth": 0,
            "ticks": ""
           }
          },
          "colorscale": {
           "diverging": [
            [
             0,
             "#8e0152"
            ],
            [
             0.1,
             "#c51b7d"
            ],
            [
             0.2,
             "#de77ae"
            ],
            [
             0.3,
             "#f1b6da"
            ],
            [
             0.4,
             "#fde0ef"
            ],
            [
             0.5,
             "#f7f7f7"
            ],
            [
             0.6,
             "#e6f5d0"
            ],
            [
             0.7,
             "#b8e186"
            ],
            [
             0.8,
             "#7fbc41"
            ],
            [
             0.9,
             "#4d9221"
            ],
            [
             1,
             "#276419"
            ]
           ],
           "sequential": [
            [
             0,
             "#0d0887"
            ],
            [
             0.1111111111111111,
             "#46039f"
            ],
            [
             0.2222222222222222,
             "#7201a8"
            ],
            [
             0.3333333333333333,
             "#9c179e"
            ],
            [
             0.4444444444444444,
             "#bd3786"
            ],
            [
             0.5555555555555556,
             "#d8576b"
            ],
            [
             0.6666666666666666,
             "#ed7953"
            ],
            [
             0.7777777777777778,
             "#fb9f3a"
            ],
            [
             0.8888888888888888,
             "#fdca26"
            ],
            [
             1,
             "#f0f921"
            ]
           ],
           "sequentialminus": [
            [
             0,
             "#0d0887"
            ],
            [
             0.1111111111111111,
             "#46039f"
            ],
            [
             0.2222222222222222,
             "#7201a8"
            ],
            [
             0.3333333333333333,
             "#9c179e"
            ],
            [
             0.4444444444444444,
             "#bd3786"
            ],
            [
             0.5555555555555556,
             "#d8576b"
            ],
            [
             0.6666666666666666,
             "#ed7953"
            ],
            [
             0.7777777777777778,
             "#fb9f3a"
            ],
            [
             0.8888888888888888,
             "#fdca26"
            ],
            [
             1,
             "#f0f921"
            ]
           ]
          },
          "colorway": [
           "#636efa",
           "#EF553B",
           "#00cc96",
           "#ab63fa",
           "#FFA15A",
           "#19d3f3",
           "#FF6692",
           "#B6E880",
           "#FF97FF",
           "#FECB52"
          ],
          "font": {
           "color": "#2a3f5f"
          },
          "geo": {
           "bgcolor": "white",
           "lakecolor": "white",
           "landcolor": "white",
           "showlakes": true,
           "showland": true,
           "subunitcolor": "#C8D4E3"
          },
          "hoverlabel": {
           "align": "left"
          },
          "hovermode": "closest",
          "mapbox": {
           "style": "light"
          },
          "paper_bgcolor": "white",
          "plot_bgcolor": "white",
          "polar": {
           "angularaxis": {
            "gridcolor": "#EBF0F8",
            "linecolor": "#EBF0F8",
            "ticks": ""
           },
           "bgcolor": "white",
           "radialaxis": {
            "gridcolor": "#EBF0F8",
            "linecolor": "#EBF0F8",
            "ticks": ""
           }
          },
          "scene": {
           "xaxis": {
            "backgroundcolor": "white",
            "gridcolor": "#DFE8F3",
            "gridwidth": 2,
            "linecolor": "#EBF0F8",
            "showbackground": true,
            "ticks": "",
            "zerolinecolor": "#EBF0F8"
           },
           "yaxis": {
            "backgroundcolor": "white",
            "gridcolor": "#DFE8F3",
            "gridwidth": 2,
            "linecolor": "#EBF0F8",
            "showbackground": true,
            "ticks": "",
            "zerolinecolor": "#EBF0F8"
           },
           "zaxis": {
            "backgroundcolor": "white",
            "gridcolor": "#DFE8F3",
            "gridwidth": 2,
            "linecolor": "#EBF0F8",
            "showbackground": true,
            "ticks": "",
            "zerolinecolor": "#EBF0F8"
           }
          },
          "shapedefaults": {
           "line": {
            "color": "#2a3f5f"
           }
          },
          "ternary": {
           "aaxis": {
            "gridcolor": "#DFE8F3",
            "linecolor": "#A2B1C6",
            "ticks": ""
           },
           "baxis": {
            "gridcolor": "#DFE8F3",
            "linecolor": "#A2B1C6",
            "ticks": ""
           },
           "bgcolor": "white",
           "caxis": {
            "gridcolor": "#DFE8F3",
            "linecolor": "#A2B1C6",
            "ticks": ""
           }
          },
          "title": {
           "x": 0.05
          },
          "xaxis": {
           "automargin": true,
           "gridcolor": "#EBF0F8",
           "linecolor": "#EBF0F8",
           "ticks": "",
           "title": {
            "standoff": 15
           },
           "zerolinecolor": "#EBF0F8",
           "zerolinewidth": 2
          },
          "yaxis": {
           "automargin": true,
           "gridcolor": "#EBF0F8",
           "linecolor": "#EBF0F8",
           "ticks": "",
           "title": {
            "standoff": 15
           },
           "zerolinecolor": "#EBF0F8",
           "zerolinewidth": 2
          }
         }
        },
        "title": {
         "text": "Ritmo real vs. predicho (Decision Tree Regressor)"
        },
        "width": 800,
        "xaxis": {
         "gridcolor": "lightgray",
         "range": [
          2,
          8
         ],
         "title": {
          "text": "Ritmo real (min/km)"
         }
        },
        "yaxis": {
         "gridcolor": "lightgray",
         "range": [
          2,
          8
         ],
         "title": {
          "text": "Ritmo predicho (min/km)"
         }
        }
       }
      }
     },
     "metadata": {},
     "output_type": "display_data"
    }
   ],
   "source": [
    "# Tomamos una pequeña muestra para visualización\n",
    "sample_pd = dt_preds.select(\"pace_real_min_km\", \"pace_pred_min_km\") \\\n",
    "                          .sample(False, 0.03, seed=42).toPandas()\n",
    "\n",
    "# Eliminamos posibles valores extremos (por seguridad)\n",
    "sample_pd = sample_pd[\n",
    "    (sample_pd[\"pace_real_min_km\"].between(2, 8)) &\n",
    "    (sample_pd[\"pace_pred_min_km\"].between(2, 8))\n",
    "]\n",
    "\n",
    "# Figura interactiva\n",
    "fig = go.Figure()\n",
    "\n",
    "# Puntos de dispersión\n",
    "fig.add_trace(go.Scatter(\n",
    "    x=sample_pd[\"pace_real_min_km\"],\n",
    "    y=sample_pd[\"pace_pred_min_km\"],\n",
    "    mode=\"markers\",\n",
    "    marker=dict(size=6, opacity=0.4, color=\"green\"),\n",
    "    name=\"Predicciones\",\n",
    "    hovertemplate=\"<b>Ritmo real:</b> %{x:.2f} min/km<br><b>Ritmo predicho:</b> %{y:.2f} min/km\"\n",
    "))\n",
    "\n",
    "# Línea ideal (y = x)\n",
    "fig.add_trace(go.Scatter(\n",
    "    x=[2, 8], y=[2, 8],\n",
    "    mode=\"lines\",\n",
    "    line=dict(color=\"red\", dash=\"dash\"),\n",
    "    name=\"Ideal (y = x)\"\n",
    "))\n",
    "\n",
    "# Configuración visual\n",
    "fig.update_layout(\n",
    "    title=\"Ritmo real vs. predicho (Decision Tree Regressor)\",\n",
    "    xaxis_title=\"Ritmo real (min/km)\",\n",
    "    yaxis_title=\"Ritmo predicho (min/km)\",\n",
    "    xaxis=dict(range=[2, 8], gridcolor=\"lightgray\"),\n",
    "    yaxis=dict(range=[2, 8], gridcolor=\"lightgray\"),\n",
    "    width=800,\n",
    "    height=600,\n",
    "    legend=dict(x=0.02, y=0.98),\n",
    "    template=\"plotly_white\"\n",
    ")\n",
    "\n",
    "# Mostrar figura interactiva\n",
    "fig.show()\n",
    "fig.write_html(\"grafico_tree.html\")\n",
    "fig.write_image(\"grafico_tree.png\", scale=2)\n"
   ]
  },
  {
   "cell_type": "markdown",
   "id": "87ce5800",
   "metadata": {},
   "source": [
    "### Modelo de Regresión basado en un Bosque Aleatorio de Árboles de Decisión"
   ]
  },
  {
   "cell_type": "markdown",
   "id": "9e6cf1c5",
   "metadata": {},
   "source": [
    "#### Creación del modelo"
   ]
  },
  {
   "cell_type": "code",
   "execution_count": 28,
   "id": "1797803b",
   "metadata": {},
   "outputs": [
    {
     "name": "stdout",
     "output_type": "stream",
     "text": [
      "Buscando los mejores hiperparámetros con CrossValidator para Random Forest...\n",
      "\n",
      "=== Random Forest Regressor (Mejor Modelo) ===\n",
      "RMSE: 13.6147\n",
      "R²: 0.8348\n",
      "[RF] Mejores hiperparámetros: {'numTrees': 10, 'maxDepth': 10, 'featureSubsetStrategy': 'auto'}\n",
      "[RF] Top-10 importancias: [np.float64(0.9804969486606325), np.float64(0.004068483762475069), np.float64(0.0019442440171991888), np.float64(0.005150575528054973), np.float64(0.0006594079086587231), np.float64(0.003295654780443366), np.float64(0.0007336784744782139), np.float64(6.590290968432209e-05), np.float64(7.454738273079893e-05), np.float64(6.8340907300780375e-06)]\n"
     ]
    }
   ],
   "source": [
    "# Preparar evaluadores\n",
    "evaluator_rmse = RegressionEvaluator(labelCol=\"label\", predictionCol=\"prediction\", metricName=\"rmse\")\n",
    "evaluator_r2   = RegressionEvaluator(labelCol=\"label\", predictionCol=\"prediction\", metricName=\"r2\")\n",
    "\n",
    "# Definir el modelo base\n",
    "rf = RandomForestRegressor(featuresCol=\"features\", labelCol=\"label\", seed=42)\n",
    "\n",
    "# Definir la grid de hiperparámetros\n",
    "rf_grid = (ParamGridBuilder()\n",
    "           .addGrid(rf.numTrees, [2, 5, 10])                     \n",
    "           .addGrid(rf.maxDepth, [3, 5, 10])                    \n",
    "           .addGrid(rf.featureSubsetStrategy, [\"auto\", \"sqrt\"]) \n",
    "           .build())\n",
    "\n",
    "# Configurar CrossValidator\n",
    "rf_cv = CrossValidator(\n",
    "    estimator=rf,\n",
    "    estimatorParamMaps=rf_grid,\n",
    "    evaluator=evaluator_r2,  \n",
    "    numFolds=3,\n",
    "    parallelism=2,           \n",
    "    seed=42,\n",
    "    collectSubModels=False)\n",
    "\n",
    "# Entrenar directamente el mejor modelo sobre train\n",
    "print(\"Buscando los mejores hiperparámetros con CrossValidator para Random Forest...\")\n",
    "rf_cv_model = rf_cv.fit(train_df)\n",
    "\n",
    "# Evaluación sobre test\n",
    "rf_preds = rf_cv_model.transform(test_df).cache()\n",
    "\n",
    "rf_rmse = evaluator_rmse.evaluate(rf_preds)\n",
    "rf_r2   = evaluator_r2.evaluate(rf_preds)\n",
    "\n",
    "print(f\"\\n=== Random Forest Regressor (Mejor Modelo) ===\")\n",
    "print(f\"RMSE: {rf_rmse:.4f}\")\n",
    "print(f\"R²: {rf_r2:.4f}\")\n",
    "\n",
    "# Mejor modelo e hiperparámetros\n",
    "best_rf = rf_cv_model.bestModel\n",
    "best_rf_params = {\n",
    "    \"numTrees\": best_rf.getNumTrees,\n",
    "    \"maxDepth\": best_rf.getOrDefault(best_rf.maxDepth),\n",
    "    \"featureSubsetStrategy\": best_rf.getOrDefault(best_rf.featureSubsetStrategy),}\n",
    "\n",
    "print(\"[RF] Mejores hiperparámetros:\", best_rf_params)\n",
    "\n",
    "# Importancia de features (Top-10)\n",
    "print(\"[RF] Top-10 importancias:\", list(best_rf.featureImportances.toArray())[:10])"
   ]
  },
  {
   "cell_type": "markdown",
   "id": "210f3070",
   "metadata": {},
   "source": [
    "#### Añadir ritmos y ver resultados"
   ]
  },
  {
   "cell_type": "code",
   "execution_count": 29,
   "id": "cd0e33df",
   "metadata": {},
   "outputs": [
    {
     "name": "stdout",
     "output_type": "stream",
     "text": [
      "+-------+------------------+------------------+------------------+------------------+------------------+\n",
      "|athlete|distance          |label             |prediction        |pace_real_min_km  |pace_pred_min_km  |\n",
      "+-------+------------------+------------------+------------------+------------------+------------------+\n",
      "|1580   |11.54             |63.0              |55.18800409401608 |5.459272097053726 |4.782322711786489 |\n",
      "|5518   |13.200000000000001|57.45             |63.04546251874676 |4.3522727272727275|4.77617140293536  |\n",
      "|9852   |10.18             |46.166666666666664|52.69014435759927 |4.535036018336608 |5.175849151041186 |\n",
      "|10623  |20.6              |107.0             |120.32705270060899|5.194174757281553 |5.841119063136358 |\n",
      "|11141  |8.45              |48.25             |53.9404561046108  |5.710059171597633 |6.383485929539741 |\n",
      "|11858  |16.54             |124.61666666666667|91.90525375381728 |7.534260378879485 |5.556544966978071 |\n",
      "|1580   |10.24             |62.0              |54.15068301944793 |6.0546875         |5.288152638617962 |\n",
      "|6397   |7.79              |47.583333333333336|43.04150571239152 |6.108258451005563 |5.5252253802813245|\n",
      "|6620   |16.129            |94.0              |87.50923453653118 |5.828011656023311 |5.425583392431718 |\n",
      "|9852   |10.66             |57.53333333333333 |52.69014435759927 |5.397123202001251 |4.942790277448337 |\n",
      "+-------+------------------+------------------+------------------+------------------+------------------+\n",
      "only showing top 10 rows\n"
     ]
    }
   ],
   "source": [
    "# Añadir columnas de ritmo (min/km)\n",
    "rf_preds = add_paces(rf_preds)\n",
    "\n",
    "# Mostrar algunas predicciones con ritmos\n",
    "rf_preds.select(\"athlete\", \"distance\", \"label\", \"prediction\", \n",
    "                \"pace_real_min_km\", \"pace_pred_min_km\").show(10, truncate=False)"
   ]
  },
  {
   "cell_type": "markdown",
   "id": "5042681f",
   "metadata": {},
   "source": [
    "#### Resultados gráficos"
   ]
  },
  {
   "cell_type": "code",
   "execution_count": 30,
   "id": "0c9df649",
   "metadata": {},
   "outputs": [
    {
     "data": {
      "application/vnd.plotly.v1+json": {
       "config": {
        "plotlyServerURL": "https://plot.ly"
       },
       "data": [
        {
         "hovertemplate": "<b>Ritmo real:</b> %{x:.2f} min/km<br><b>Ritmo predicho:</b> %{y:.2f} min/km",
         "marker": {
          "color": "purple",
          "opacity": 0.4,
          "size": 6
         },
         "mode": "markers",
         "name": "Predicciones",
         "type": "scatter",
         "x": {
          "bdata": "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",
          "dtype": "f8"
         },
         "y": {
          "bdata": "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",
          "dtype": "f8"
         }
        },
        {
         "line": {
          "color": "red",
          "dash": "dash"
         },
         "mode": "lines",
         "name": "Ideal (y = x)",
         "type": "scatter",
         "x": [
          2,
          8
         ],
         "y": [
          2,
          8
         ]
        }
       ],
       "layout": {
        "height": 600,
        "legend": {
         "x": 0.02,
         "y": 0.98
        },
        "template": {
         "data": {
          "bar": [
           {
            "error_x": {
             "color": "#2a3f5f"
            },
            "error_y": {
             "color": "#2a3f5f"
            },
            "marker": {
             "line": {
              "color": "white",
              "width": 0.5
             },
             "pattern": {
              "fillmode": "overlay",
              "size": 10,
              "solidity": 0.2
             }
            },
            "type": "bar"
           }
          ],
          "barpolar": [
           {
            "marker": {
             "line": {
              "color": "white",
              "width": 0.5
             },
             "pattern": {
              "fillmode": "overlay",
              "size": 10,
              "solidity": 0.2
             }
            },
            "type": "barpolar"
           }
          ],
          "carpet": [
           {
            "aaxis": {
             "endlinecolor": "#2a3f5f",
             "gridcolor": "#C8D4E3",
             "linecolor": "#C8D4E3",
             "minorgridcolor": "#C8D4E3",
             "startlinecolor": "#2a3f5f"
            },
            "baxis": {
             "endlinecolor": "#2a3f5f",
             "gridcolor": "#C8D4E3",
             "linecolor": "#C8D4E3",
             "minorgridcolor": "#C8D4E3",
             "startlinecolor": "#2a3f5f"
            },
            "type": "carpet"
           }
          ],
          "choropleth": [
           {
            "colorbar": {
             "outlinewidth": 0,
             "ticks": ""
            },
            "type": "choropleth"
           }
          ],
          "contour": [
           {
            "colorbar": {
             "outlinewidth": 0,
             "ticks": ""
            },
            "colorscale": [
             [
              0,
              "#0d0887"
             ],
             [
              0.1111111111111111,
              "#46039f"
             ],
             [
              0.2222222222222222,
              "#7201a8"
             ],
             [
              0.3333333333333333,
              "#9c179e"
             ],
             [
              0.4444444444444444,
              "#bd3786"
             ],
             [
              0.5555555555555556,
              "#d8576b"
             ],
             [
              0.6666666666666666,
              "#ed7953"
             ],
             [
              0.7777777777777778,
              "#fb9f3a"
             ],
             [
              0.8888888888888888,
              "#fdca26"
             ],
             [
              1,
              "#f0f921"
             ]
            ],
            "type": "contour"
           }
          ],
          "contourcarpet": [
           {
            "colorbar": {
             "outlinewidth": 0,
             "ticks": ""
            },
            "type": "contourcarpet"
           }
          ],
          "heatmap": [
           {
            "colorbar": {
             "outlinewidth": 0,
             "ticks": ""
            },
            "colorscale": [
             [
              0,
              "#0d0887"
             ],
             [
              0.1111111111111111,
              "#46039f"
             ],
             [
              0.2222222222222222,
              "#7201a8"
             ],
             [
              0.3333333333333333,
              "#9c179e"
             ],
             [
              0.4444444444444444,
              "#bd3786"
             ],
             [
              0.5555555555555556,
              "#d8576b"
             ],
             [
              0.6666666666666666,
              "#ed7953"
             ],
             [
              0.7777777777777778,
              "#fb9f3a"
             ],
             [
              0.8888888888888888,
              "#fdca26"
             ],
             [
              1,
              "#f0f921"
             ]
            ],
            "type": "heatmap"
           }
          ],
          "histogram": [
           {
            "marker": {
             "pattern": {
              "fillmode": "overlay",
              "size": 10,
              "solidity": 0.2
             }
            },
            "type": "histogram"
           }
          ],
          "histogram2d": [
           {
            "colorbar": {
             "outlinewidth": 0,
             "ticks": ""
            },
            "colorscale": [
             [
              0,
              "#0d0887"
             ],
             [
              0.1111111111111111,
              "#46039f"
             ],
             [
              0.2222222222222222,
              "#7201a8"
             ],
             [
              0.3333333333333333,
              "#9c179e"
             ],
             [
              0.4444444444444444,
              "#bd3786"
             ],
             [
              0.5555555555555556,
              "#d8576b"
             ],
             [
              0.6666666666666666,
              "#ed7953"
             ],
             [
              0.7777777777777778,
              "#fb9f3a"
             ],
             [
              0.8888888888888888,
              "#fdca26"
             ],
             [
              1,
              "#f0f921"
             ]
            ],
            "type": "histogram2d"
           }
          ],
          "histogram2dcontour": [
           {
            "colorbar": {
             "outlinewidth": 0,
             "ticks": ""
            },
            "colorscale": [
             [
              0,
              "#0d0887"
             ],
             [
              0.1111111111111111,
              "#46039f"
             ],
             [
              0.2222222222222222,
              "#7201a8"
             ],
             [
              0.3333333333333333,
              "#9c179e"
             ],
             [
              0.4444444444444444,
              "#bd3786"
             ],
             [
              0.5555555555555556,
              "#d8576b"
             ],
             [
              0.6666666666666666,
              "#ed7953"
             ],
             [
              0.7777777777777778,
              "#fb9f3a"
             ],
             [
              0.8888888888888888,
              "#fdca26"
             ],
             [
              1,
              "#f0f921"
             ]
            ],
            "type": "histogram2dcontour"
           }
          ],
          "mesh3d": [
           {
            "colorbar": {
             "outlinewidth": 0,
             "ticks": ""
            },
            "type": "mesh3d"
           }
          ],
          "parcoords": [
           {
            "line": {
             "colorbar": {
              "outlinewidth": 0,
              "ticks": ""
             }
            },
            "type": "parcoords"
           }
          ],
          "pie": [
           {
            "automargin": true,
            "type": "pie"
           }
          ],
          "scatter": [
           {
            "fillpattern": {
             "fillmode": "overlay",
             "size": 10,
             "solidity": 0.2
            },
            "type": "scatter"
           }
          ],
          "scatter3d": [
           {
            "line": {
             "colorbar": {
              "outlinewidth": 0,
              "ticks": ""
             }
            },
            "marker": {
             "colorbar": {
              "outlinewidth": 0,
              "ticks": ""
             }
            },
            "type": "scatter3d"
           }
          ],
          "scattercarpet": [
           {
            "marker": {
             "colorbar": {
              "outlinewidth": 0,
              "ticks": ""
             }
            },
            "type": "scattercarpet"
           }
          ],
          "scattergeo": [
           {
            "marker": {
             "colorbar": {
              "outlinewidth": 0,
              "ticks": ""
             }
            },
            "type": "scattergeo"
           }
          ],
          "scattergl": [
           {
            "marker": {
             "colorbar": {
              "outlinewidth": 0,
              "ticks": ""
             }
            },
            "type": "scattergl"
           }
          ],
          "scattermap": [
           {
            "marker": {
             "colorbar": {
              "outlinewidth": 0,
              "ticks": ""
             }
            },
            "type": "scattermap"
           }
          ],
          "scattermapbox": [
           {
            "marker": {
             "colorbar": {
              "outlinewidth": 0,
              "ticks": ""
             }
            },
            "type": "scattermapbox"
           }
          ],
          "scatterpolar": [
           {
            "marker": {
             "colorbar": {
              "outlinewidth": 0,
              "ticks": ""
             }
            },
            "type": "scatterpolar"
           }
          ],
          "scatterpolargl": [
           {
            "marker": {
             "colorbar": {
              "outlinewidth": 0,
              "ticks": ""
             }
            },
            "type": "scatterpolargl"
           }
          ],
          "scatterternary": [
           {
            "marker": {
             "colorbar": {
              "outlinewidth": 0,
              "ticks": ""
             }
            },
            "type": "scatterternary"
           }
          ],
          "surface": [
           {
            "colorbar": {
             "outlinewidth": 0,
             "ticks": ""
            },
            "colorscale": [
             [
              0,
              "#0d0887"
             ],
             [
              0.1111111111111111,
              "#46039f"
             ],
             [
              0.2222222222222222,
              "#7201a8"
             ],
             [
              0.3333333333333333,
              "#9c179e"
             ],
             [
              0.4444444444444444,
              "#bd3786"
             ],
             [
              0.5555555555555556,
              "#d8576b"
             ],
             [
              0.6666666666666666,
              "#ed7953"
             ],
             [
              0.7777777777777778,
              "#fb9f3a"
             ],
             [
              0.8888888888888888,
              "#fdca26"
             ],
             [
              1,
              "#f0f921"
             ]
            ],
            "type": "surface"
           }
          ],
          "table": [
           {
            "cells": {
             "fill": {
              "color": "#EBF0F8"
             },
             "line": {
              "color": "white"
             }
            },
            "header": {
             "fill": {
              "color": "#C8D4E3"
             },
             "line": {
              "color": "white"
             }
            },
            "type": "table"
           }
          ]
         },
         "layout": {
          "annotationdefaults": {
           "arrowcolor": "#2a3f5f",
           "arrowhead": 0,
           "arrowwidth": 1
          },
          "autotypenumbers": "strict",
          "coloraxis": {
           "colorbar": {
            "outlinewidth": 0,
            "ticks": ""
           }
          },
          "colorscale": {
           "diverging": [
            [
             0,
             "#8e0152"
            ],
            [
             0.1,
             "#c51b7d"
            ],
            [
             0.2,
             "#de77ae"
            ],
            [
             0.3,
             "#f1b6da"
            ],
            [
             0.4,
             "#fde0ef"
            ],
            [
             0.5,
             "#f7f7f7"
            ],
            [
             0.6,
             "#e6f5d0"
            ],
            [
             0.7,
             "#b8e186"
            ],
            [
             0.8,
             "#7fbc41"
            ],
            [
             0.9,
             "#4d9221"
            ],
            [
             1,
             "#276419"
            ]
           ],
           "sequential": [
            [
             0,
             "#0d0887"
            ],
            [
             0.1111111111111111,
             "#46039f"
            ],
            [
             0.2222222222222222,
             "#7201a8"
            ],
            [
             0.3333333333333333,
             "#9c179e"
            ],
            [
             0.4444444444444444,
             "#bd3786"
            ],
            [
             0.5555555555555556,
             "#d8576b"
            ],
            [
             0.6666666666666666,
             "#ed7953"
            ],
            [
             0.7777777777777778,
             "#fb9f3a"
            ],
            [
             0.8888888888888888,
             "#fdca26"
            ],
            [
             1,
             "#f0f921"
            ]
           ],
           "sequentialminus": [
            [
             0,
             "#0d0887"
            ],
            [
             0.1111111111111111,
             "#46039f"
            ],
            [
             0.2222222222222222,
             "#7201a8"
            ],
            [
             0.3333333333333333,
             "#9c179e"
            ],
            [
             0.4444444444444444,
             "#bd3786"
            ],
            [
             0.5555555555555556,
             "#d8576b"
            ],
            [
             0.6666666666666666,
             "#ed7953"
            ],
            [
             0.7777777777777778,
             "#fb9f3a"
            ],
            [
             0.8888888888888888,
             "#fdca26"
            ],
            [
             1,
             "#f0f921"
            ]
           ]
          },
          "colorway": [
           "#636efa",
           "#EF553B",
           "#00cc96",
           "#ab63fa",
           "#FFA15A",
           "#19d3f3",
           "#FF6692",
           "#B6E880",
           "#FF97FF",
           "#FECB52"
          ],
          "font": {
           "color": "#2a3f5f"
          },
          "geo": {
           "bgcolor": "white",
           "lakecolor": "white",
           "landcolor": "white",
           "showlakes": true,
           "showland": true,
           "subunitcolor": "#C8D4E3"
          },
          "hoverlabel": {
           "align": "left"
          },
          "hovermode": "closest",
          "mapbox": {
           "style": "light"
          },
          "paper_bgcolor": "white",
          "plot_bgcolor": "white",
          "polar": {
           "angularaxis": {
            "gridcolor": "#EBF0F8",
            "linecolor": "#EBF0F8",
            "ticks": ""
           },
           "bgcolor": "white",
           "radialaxis": {
            "gridcolor": "#EBF0F8",
            "linecolor": "#EBF0F8",
            "ticks": ""
           }
          },
          "scene": {
           "xaxis": {
            "backgroundcolor": "white",
            "gridcolor": "#DFE8F3",
            "gridwidth": 2,
            "linecolor": "#EBF0F8",
            "showbackground": true,
            "ticks": "",
            "zerolinecolor": "#EBF0F8"
           },
           "yaxis": {
            "backgroundcolor": "white",
            "gridcolor": "#DFE8F3",
            "gridwidth": 2,
            "linecolor": "#EBF0F8",
            "showbackground": true,
            "ticks": "",
            "zerolinecolor": "#EBF0F8"
           },
           "zaxis": {
            "backgroundcolor": "white",
            "gridcolor": "#DFE8F3",
            "gridwidth": 2,
            "linecolor": "#EBF0F8",
            "showbackground": true,
            "ticks": "",
            "zerolinecolor": "#EBF0F8"
           }
          },
          "shapedefaults": {
           "line": {
            "color": "#2a3f5f"
           }
          },
          "ternary": {
           "aaxis": {
            "gridcolor": "#DFE8F3",
            "linecolor": "#A2B1C6",
            "ticks": ""
           },
           "baxis": {
            "gridcolor": "#DFE8F3",
            "linecolor": "#A2B1C6",
            "ticks": ""
           },
           "bgcolor": "white",
           "caxis": {
            "gridcolor": "#DFE8F3",
            "linecolor": "#A2B1C6",
            "ticks": ""
           }
          },
          "title": {
           "x": 0.05
          },
          "xaxis": {
           "automargin": true,
           "gridcolor": "#EBF0F8",
           "linecolor": "#EBF0F8",
           "ticks": "",
           "title": {
            "standoff": 15
           },
           "zerolinecolor": "#EBF0F8",
           "zerolinewidth": 2
          },
          "yaxis": {
           "automargin": true,
           "gridcolor": "#EBF0F8",
           "linecolor": "#EBF0F8",
           "ticks": "",
           "title": {
            "standoff": 15
           },
           "zerolinecolor": "#EBF0F8",
           "zerolinewidth": 2
          }
         }
        },
        "title": {
         "text": "Ritmo real vs. predicho (Random Forest Regressor)"
        },
        "width": 800,
        "xaxis": {
         "gridcolor": "lightgray",
         "range": [
          2,
          8
         ],
         "title": {
          "text": "Ritmo real (min/km)"
         }
        },
        "yaxis": {
         "gridcolor": "lightgray",
         "range": [
          2,
          8
         ],
         "title": {
          "text": "Ritmo predicho (min/km)"
         }
        }
       }
      }
     },
     "metadata": {},
     "output_type": "display_data"
    }
   ],
   "source": [
    "# Muestra para visualización\n",
    "sample_pd = rf_preds.select(\"pace_real_min_km\", \"pace_pred_min_km\") \\\n",
    "                          .sample(False, 0.03, seed=42).toPandas()\n",
    "\n",
    "# Filtrado simple de outliers por rango visual\n",
    "sample_pd = sample_pd[\n",
    "    (sample_pd[\"pace_real_min_km\"].between(2, 8)) &\n",
    "    (sample_pd[\"pace_pred_min_km\"].between(2, 8))\n",
    "]\n",
    "\n",
    "# Figura interactiva\n",
    "fig = go.Figure()\n",
    "\n",
    "# Dispersión\n",
    "fig.add_trace(go.Scatter(\n",
    "    x=sample_pd[\"pace_real_min_km\"],\n",
    "    y=sample_pd[\"pace_pred_min_km\"],\n",
    "    mode=\"markers\",\n",
    "    marker=dict(size=6, opacity=0.4, color=\"purple\"),\n",
    "    name=\"Predicciones\",\n",
    "    hovertemplate=\"<b>Ritmo real:</b> %{x:.2f} min/km<br><b>Ritmo predicho:</b> %{y:.2f} min/km\"\n",
    "))\n",
    "\n",
    "# Línea ideal (y = x)\n",
    "fig.add_trace(go.Scatter(\n",
    "    x=[2, 8], y=[2, 8],\n",
    "    mode=\"lines\",\n",
    "    line=dict(color=\"red\", dash=\"dash\"),\n",
    "    name=\"Ideal (y = x)\"\n",
    "))\n",
    "\n",
    "# Layout\n",
    "fig.update_layout(\n",
    "    title=\"Ritmo real vs. predicho (Random Forest Regressor)\",\n",
    "    xaxis_title=\"Ritmo real (min/km)\",\n",
    "    yaxis_title=\"Ritmo predicho (min/km)\",\n",
    "    xaxis=dict(range=[2, 8], gridcolor=\"lightgray\"),\n",
    "    yaxis=dict(range=[2, 8], gridcolor=\"lightgray\"),\n",
    "    width=800,\n",
    "    height=600,\n",
    "    legend=dict(x=0.02, y=0.98),\n",
    "    template=\"plotly_white\"\n",
    ")\n",
    "\n",
    "fig.show()\n",
    "fig.write_html(\"grafico_RFR.html\")\n",
    "fig.write_image(\"grafico_RFR.png\", scale=2)\n"
   ]
  }
 ],
 "metadata": {
  "kernelspec": {
   "display_name": "TotalEnergies",
   "language": "python",
   "name": "python3"
  },
  "language_info": {
   "codemirror_mode": {
    "name": "ipython",
    "version": 3
   },
   "file_extension": ".py",
   "mimetype": "text/x-python",
   "name": "python",
   "nbconvert_exporter": "python",
   "pygments_lexer": "ipython3",
   "version": "3.10.18"
  }
 },
 "nbformat": 4,
 "nbformat_minor": 5
}
