{
 "cells": [
  {
   "cell_type": "markdown",
   "id": "bcbcf848",
   "metadata": {},
   "source": [
    "# Práctica 1"
   ]
  },
  {
   "cell_type": "markdown",
   "id": "c8e3416a",
   "metadata": {},
   "source": [
    "## Importaciones"
   ]
  },
  {
   "cell_type": "code",
   "execution_count": 1,
   "id": "9693568d",
   "metadata": {},
   "outputs": [],
   "source": [
    "import os\n",
    "import sys\n",
    "from pyspark.sql import SparkSession\n",
    "from pyspark.sql.functions import month, when, col\n",
    "from pyspark.ml.feature import StringIndexer, OneHotEncoder, VectorAssembler\n",
    "from pyspark.ml import Pipeline\n",
    "from pyspark.ml.regression import LinearRegression, DecisionTreeRegressor, RandomForestRegressor\n",
    "from pyspark.ml.evaluation import RegressionEvaluator\n",
    "from pyspark.ml.tuning import ParamGridBuilder, CrossValidator\n",
    "import plotly.graph_objects as go"
   ]
  },
  {
   "cell_type": "markdown",
   "id": "28e65db3",
   "metadata": {},
   "source": [
    "## Inicio de sesión en Spark"
   ]
  },
  {
   "cell_type": "code",
   "execution_count": 2,
   "id": "6d51337c",
   "metadata": {},
   "outputs": [],
   "source": [
    "os.environ['JAVA_HOME'] = r\"C:\\Program Files\\Java\\jdk-22\"\n",
    "os.environ['PYSPARK_PYTHON'] = sys.executable\n",
    "os.environ['PYSPARK_DRIVER_PYTHON'] = sys.executable\n",
    "\n",
    "spark = SparkSession.builder \\\n",
    "    .config(\"spark.driver.memory\", \"8g\") \\\n",
    "    .getOrCreate()"
   ]
  },
  {
   "cell_type": "markdown",
   "id": "ec9484a8",
   "metadata": {},
   "source": [
    "## Visualización inicial de los datos"
   ]
  },
  {
   "cell_type": "markdown",
   "id": "8aa47690",
   "metadata": {},
   "source": [
    "### Carga del dataset"
   ]
  },
  {
   "cell_type": "code",
   "execution_count": 3,
   "id": "702073d3",
   "metadata": {},
   "outputs": [],
   "source": [
    "# Cargar el dataset.\n",
    "df = spark.read.csv(\"run_ww_2020_d.csv\", header=True, inferSchema=True)"
   ]
  },
  {
   "cell_type": "markdown",
   "id": "53273c03",
   "metadata": {},
   "source": [
    "### Muestra de las cinco primeras filas y del esquema"
   ]
  },
  {
   "cell_type": "code",
   "execution_count": 4,
   "id": "b18ae0c3",
   "metadata": {},
   "outputs": [
    {
     "name": "stdout",
     "output_type": "stream",
     "text": [
      "+---+----------+-------+--------+------------------+------+---------+--------------+-----------------------+\n",
      "|_c0|datetime  |athlete|distance|duration          |gender|age_group|country       |major                  |\n",
      "+---+----------+-------+--------+------------------+------+---------+--------------+-----------------------+\n",
      "|0  |2020-01-01|0      |0.0     |0.0               |F     |18 - 34  |United States |CHICAGO 2019           |\n",
      "|1  |2020-01-01|1      |5.72    |31.633333333333333|M     |35 - 54  |Germany       |BERLIN 2016            |\n",
      "|2  |2020-01-01|2      |0.0     |0.0               |M     |35 - 54  |United Kingdom|LONDON 2018,LONDON 2019|\n",
      "|3  |2020-01-01|3      |0.0     |0.0               |M     |18 - 34  |United Kingdom|LONDON 2017            |\n",
      "|4  |2020-01-01|4      |8.07    |38.61666666666667 |M     |35 - 54  |United States |BOSTON 2017            |\n",
      "+---+----------+-------+--------+------------------+------+---------+--------------+-----------------------+\n",
      "only showing top 5 rows\n",
      "root\n",
      " |-- _c0: integer (nullable = true)\n",
      " |-- datetime: date (nullable = true)\n",
      " |-- athlete: integer (nullable = true)\n",
      " |-- distance: double (nullable = true)\n",
      " |-- duration: double (nullable = true)\n",
      " |-- gender: string (nullable = true)\n",
      " |-- age_group: string (nullable = true)\n",
      " |-- country: string (nullable = true)\n",
      " |-- major: string (nullable = true)\n",
      "\n"
     ]
    }
   ],
   "source": [
    "# Mostrar las cinco primeras filas.\n",
    "df.show(5, truncate=False)\n",
    "\n",
    "# Mostrar esquema de columnas.\n",
    "df.printSchema()"
   ]
  },
  {
   "cell_type": "markdown",
   "id": "c133fb33",
   "metadata": {},
   "source": [
    "### Muestra de filas y variables y principales estadísticas del dataset"
   ]
  },
  {
   "cell_type": "code",
   "execution_count": 5,
   "id": "7e180237",
   "metadata": {},
   "outputs": [
    {
     "name": "stdout",
     "output_type": "stream",
     "text": [
      "Filas: 13326792, Variables: 9\n",
      "+-------+------------------+------------------+\n",
      "|summary|          distance|          duration|\n",
      "+-------+------------------+------------------+\n",
      "|  count|          13326792|          13326792|\n",
      "|   mean|3.8647184738824425|21.391975435649456|\n",
      "| stddev| 6.661547347662418| 39.27358918572197|\n",
      "|    min|               0.0|               0.0|\n",
      "|    max|            347.95|2299.9666666666667|\n",
      "+-------+------------------+------------------+\n",
      "\n",
      "+------+--------+\n",
      "|gender|   count|\n",
      "+------+--------+\n",
      "|     F| 3253374|\n",
      "|     M|10073418|\n",
      "+------+--------+\n",
      "\n",
      "+---------+-------+\n",
      "|age_group|  count|\n",
      "+---------+-------+\n",
      "|     55 +| 940254|\n",
      "|  35 - 54|7905966|\n",
      "|  18 - 34|4480572|\n",
      "+---------+-------+\n",
      "\n"
     ]
    }
   ],
   "source": [
    "# Número de filas y variables.\n",
    "print(f\"Filas: {df.count()}, Variables: {len(df.columns)}\")\n",
    "\n",
    "# Estadísticas descriptivas de variables numéricas.\n",
    "df.describe(['distance', 'duration']).show()\n",
    "\n",
    "# Distribución por género y grupo de edad.\n",
    "df.groupBy(\"gender\").count().show()\n",
    "df.groupBy(\"age_group\").count().show()"
   ]
  },
  {
   "cell_type": "markdown",
   "id": "31e85d52",
   "metadata": {},
   "source": [
    "## Preparación del dataset"
   ]
  },
  {
   "cell_type": "markdown",
   "id": "985ea670",
   "metadata": {},
   "source": [
    "### Filtrado de filas"
   ]
  },
  {
   "cell_type": "markdown",
   "id": "5039e570",
   "metadata": {},
   "source": [
    "Como tenemos un gran número de filas, vamos a filtrar. Primero, nos quedamos solo con los registros que no estén vacíos, es decir, aquellos cuya duración y distancia sea mayor a 0."
   ]
  },
  {
   "cell_type": "code",
   "execution_count": 6,
   "id": "a602c374",
   "metadata": {},
   "outputs": [
    {
     "name": "stdout",
     "output_type": "stream",
     "text": [
      "Filas tras filtrar: 4581764\n"
     ]
    }
   ],
   "source": [
    "# Filtrado de filas.\n",
    "df_filtered = df.filter((df.duration > 0) & (df.distance > 0))\n",
    "\n",
    "# Comprobar tamaño.\n",
    "print(f\"Filas tras filtrar: {df_filtered.count()}\")"
   ]
  },
  {
   "cell_type": "markdown",
   "id": "7c831cb7",
   "metadata": {},
   "source": [
    "### Eliminamos las filas con valores nulos"
   ]
  },
  {
   "cell_type": "code",
   "execution_count": 7,
   "id": "b98042ac",
   "metadata": {},
   "outputs": [
    {
     "name": "stdout",
     "output_type": "stream",
     "text": [
      "Filas tras filtrar: 4555724\n"
     ]
    }
   ],
   "source": [
    "df_filtered = df_filtered.dropna()\n",
    "\n",
    "# Comprobar tamaño.\n",
    "print(f\"Filas tras filtrar: {df_filtered.count()}\")"
   ]
  },
  {
   "cell_type": "markdown",
   "id": "66948153",
   "metadata": {},
   "source": [
    "Como seguimos teniendo gran número de filas, volvemos a filtrar. Ahora vamos a filtrar por número de atletas. Inicialmente tenemos 36.7k atletas. Vamos a probar con cuantos nos quedamos con el número de filas más adecuado."
   ]
  },
  {
   "cell_type": "code",
   "execution_count": 8,
   "id": "66645f94",
   "metadata": {},
   "outputs": [
    {
     "name": "stdout",
     "output_type": "stream",
     "text": [
      "Filas con athlete < 5000: 625635\n",
      "Filas con athlete < 8000: 996749\n",
      "Filas con athlete < 10000: 1249180\n",
      "Filas con athlete < 15000: 1869208\n",
      "Filas con athlete < 20000: 2471216\n"
     ]
    }
   ],
   "source": [
    "# Filtrar atletas con ID < 5000.\n",
    "df_filtered_5000 = df_filtered.filter(df_filtered.athlete < 5000)\n",
    "print(f\"Filas con athlete < 5000: {df_filtered_5000.count()}\")\n",
    "\n",
    "# Filtrar atletas con ID < 8000.\n",
    "df_filtered_8000 = df_filtered.filter(df_filtered.athlete < 8000)\n",
    "print(f\"Filas con athlete < 8000: {df_filtered_8000.count()}\")\n",
    "\n",
    "# Filtrar atletas con ID < 10000.\n",
    "df_filtered_10000 = df_filtered.filter(df_filtered.athlete < 10000)\n",
    "print(f\"Filas con athlete < 10000: {df_filtered_10000.count()}\")\n",
    "\n",
    "# Filtrar atletas con ID < 15000.\n",
    "df_final = df_filtered.filter(df_filtered.athlete < 15000)\n",
    "print(f\"Filas con athlete < 15000: {df_final.count()}\")\n",
    "\n",
    "# Filtrar atletas con ID < 20000.\n",
    "df_filtered_20000 = df_filtered.filter(df_filtered.athlete < 20000)\n",
    "print(f\"Filas con athlete < 20000: {df_filtered_20000.count()}\")"
   ]
  },
  {
   "cell_type": "markdown",
   "id": "8cef25a0",
   "metadata": {},
   "source": [
    "Nos quedamos con 15000 atletas, ya que creemos que es el valor más adecuado para lograr un equilibrio entre cantidad para un correcto aprendizaje y velocidad de procesamiento. "
   ]
  },
  {
   "cell_type": "markdown",
   "id": "fa66c5c0",
   "metadata": {},
   "source": [
    "### Creación de la variable \"season\" a partir de la variable datetime"
   ]
  },
  {
   "cell_type": "code",
   "execution_count": 9,
   "id": "6e502a1e",
   "metadata": {},
   "outputs": [],
   "source": [
    "df_final = df_final.withColumn(\n",
    "    \"season\",\n",
    "    when((month(\"datetime\") >= 3) & (month(\"datetime\") <= 5), \"spring\")\n",
    "    .when((month(\"datetime\") >= 6) & (month(\"datetime\") <= 8), \"summer\")\n",
    "    .when((month(\"datetime\") >= 9) & (month(\"datetime\") <= 11), \"autumn\")\n",
    "    .otherwise(\"winter\"))"
   ]
  },
  {
   "cell_type": "markdown",
   "id": "48e4cf50",
   "metadata": {},
   "source": [
    "### Seleccionamos solo las columnas relevantes"
   ]
  },
  {
   "cell_type": "code",
   "execution_count": 10,
   "id": "6dedb56a",
   "metadata": {},
   "outputs": [],
   "source": [
    "# Seleccionamos las columnas que no son datetime o major.\n",
    "df_final = df_final.select(\"athlete\", \"distance\", \"duration\", \"gender\", \"age_group\", \"country\", \"season\")"
   ]
  },
  {
   "cell_type": "markdown",
   "id": "dce03769",
   "metadata": {},
   "source": [
    "### Muestra de las cinco primeras filas y del esquema del dataset"
   ]
  },
  {
   "cell_type": "code",
   "execution_count": 11,
   "id": "b1bf6ea8",
   "metadata": {},
   "outputs": [
    {
     "name": "stdout",
     "output_type": "stream",
     "text": [
      "+-------+--------+------------------+------+---------+--------------+------+\n",
      "|athlete|distance|duration          |gender|age_group|country       |season|\n",
      "+-------+--------+------------------+------+---------+--------------+------+\n",
      "|1      |5.72    |31.633333333333333|M     |35 - 54  |Germany       |winter|\n",
      "|4      |8.07    |38.61666666666667 |M     |35 - 54  |United States |winter|\n",
      "|5      |10.09   |43.56666666666667 |F     |35 - 54  |United States |winter|\n",
      "|6      |9.82    |50.53333333333333 |M     |55 +     |United States |winter|\n",
      "|8      |10.05   |59.05             |M     |35 - 54  |United Kingdom|winter|\n",
      "+-------+--------+------------------+------+---------+--------------+------+\n",
      "only showing top 5 rows\n",
      "root\n",
      " |-- athlete: integer (nullable = true)\n",
      " |-- distance: double (nullable = true)\n",
      " |-- duration: double (nullable = true)\n",
      " |-- gender: string (nullable = true)\n",
      " |-- age_group: string (nullable = true)\n",
      " |-- country: string (nullable = true)\n",
      " |-- season: string (nullable = false)\n",
      "\n"
     ]
    }
   ],
   "source": [
    "# Mostrar las cinco primeras filas.\n",
    "df_final.show(5, truncate=False)\n",
    "\n",
    "# Mostrar esquema de columnas.\n",
    "df_final.printSchema()"
   ]
  },
  {
   "cell_type": "markdown",
   "id": "75ccf50a",
   "metadata": {},
   "source": [
    "### Muestra de filas y variables y principales estadísticas del dataset"
   ]
  },
  {
   "cell_type": "code",
   "execution_count": 12,
   "id": "02328486",
   "metadata": {},
   "outputs": [
    {
     "name": "stdout",
     "output_type": "stream",
     "text": [
      "Filas: 1869208, Variables: 7\n",
      "+-------+-----------------+--------------------+\n",
      "|summary|         distance|            duration|\n",
      "+-------+-----------------+--------------------+\n",
      "|  count|          1869208|             1869208|\n",
      "|   mean|11.34178614258103|  62.651047279560196|\n",
      "| stddev|6.851907901598767|   44.45724057163191|\n",
      "|    min|             0.01|0.016666666666666666|\n",
      "|    max|           263.37|              2202.0|\n",
      "+-------+-----------------+--------------------+\n",
      "\n",
      "+------+-------+\n",
      "|gender|  count|\n",
      "+------+-------+\n",
      "|     F| 463958|\n",
      "|     M|1405250|\n",
      "+------+-------+\n",
      "\n",
      "+---------+-------+\n",
      "|age_group|  count|\n",
      "+---------+-------+\n",
      "|     55 +| 138448|\n",
      "|  35 - 54|1117572|\n",
      "|  18 - 34| 613188|\n",
      "+---------+-------+\n",
      "\n",
      "+------+------+\n",
      "|season| count|\n",
      "+------+------+\n",
      "|winter|458894|\n",
      "|spring|507774|\n",
      "|summer|473599|\n",
      "|autumn|428941|\n",
      "+------+------+\n",
      "\n"
     ]
    }
   ],
   "source": [
    "# Número de filas y variables.\n",
    "print(f\"Filas: {df_final.count()}, Variables: {len(df_final.columns)}\")\n",
    "\n",
    "# Estadísticas descriptivas de variables numéricas.\n",
    "df_final.describe(['distance', 'duration']).show()\n",
    "\n",
    "# Distribución por género, grupo de edad y estación.\n",
    "df_final.groupBy(\"gender\").count().show()\n",
    "df_final.groupBy(\"age_group\").count().show()\n",
    "df_final.groupBy(\"season\").count().show()"
   ]
  },
  {
   "cell_type": "markdown",
   "id": "c38f4998",
   "metadata": {},
   "source": [
    "### Eliminar valores atípicos (distancia, duración y ritmo medio)"
   ]
  },
  {
   "cell_type": "code",
   "execution_count": 13,
   "id": "b7f8f18d",
   "metadata": {},
   "outputs": [],
   "source": [
    "# Filtramos primero por distancia. Eliminamos actividades con distancia < 0.5 km o > 100 km.\n",
    "df_final = df_final.filter((col(\"distance\") > 0.5) & (col(\"distance\") < 100)) \n",
    "\n",
    "# Luego filtramos por duración. Eliminamos actividades con duración < 5 min o > 300 min.\n",
    "df_final = df_final.filter((col(\"duration\") > 5) & (col(\"duration\") < 300)) \n",
    "\n",
    "# Hacemos un filtrado adicional por ritmo medio.\n",
    "# Primero añadimos la columna pace_min_km (min/km) como el resultado de la duración entre la distancia.\n",
    "df_final = df_final.withColumn(\"pace_min_km\", col(\"duration\") / col(\"distance\")) \n",
    "\n",
    "# Filtramos actividades con ritmo medio < 1 min/km o > 9 min/km.\n",
    "df_final = df_final.filter((col(\"pace_min_km\") >= 1.0) & (col(\"pace_min_km\") <= 9.0))"
   ]
  },
  {
   "cell_type": "markdown",
   "id": "6890eb2b",
   "metadata": {},
   "source": [
    "### Muestra de las cinco primeras filas y del esquema del dataset final"
   ]
  },
  {
   "cell_type": "code",
   "execution_count": 14,
   "id": "c1d6f50b",
   "metadata": {},
   "outputs": [
    {
     "name": "stdout",
     "output_type": "stream",
     "text": [
      "+-------+--------+------------------+------+---------+--------------+------+-----------------+\n",
      "|athlete|distance|duration          |gender|age_group|country       |season|pace_min_km      |\n",
      "+-------+--------+------------------+------+---------+--------------+------+-----------------+\n",
      "|1      |5.72    |31.633333333333333|M     |35 - 54  |Germany       |winter|5.53030303030303 |\n",
      "|4      |8.07    |38.61666666666667 |M     |35 - 54  |United States |winter|4.785212722015696|\n",
      "|5      |10.09   |43.56666666666667 |F     |35 - 54  |United States |winter|4.317806408985795|\n",
      "|6      |9.82    |50.53333333333333 |M     |55 +     |United States |winter|5.145960624575696|\n",
      "|8      |10.05   |59.05             |M     |35 - 54  |United Kingdom|winter|5.875621890547263|\n",
      "+-------+--------+------------------+------+---------+--------------+------+-----------------+\n",
      "only showing top 5 rows\n",
      "root\n",
      " |-- athlete: integer (nullable = true)\n",
      " |-- distance: double (nullable = true)\n",
      " |-- duration: double (nullable = true)\n",
      " |-- gender: string (nullable = true)\n",
      " |-- age_group: string (nullable = true)\n",
      " |-- country: string (nullable = true)\n",
      " |-- season: string (nullable = false)\n",
      " |-- pace_min_km: double (nullable = true)\n",
      "\n"
     ]
    }
   ],
   "source": [
    "# Mostrar las cinco primeras filas.\n",
    "df_final.show(5, truncate=False)\n",
    "\n",
    "# Mostrar esquema de columnas.\n",
    "df_final.printSchema()"
   ]
  },
  {
   "cell_type": "markdown",
   "id": "b22720bf",
   "metadata": {},
   "source": [
    "### Muestra de filas y variables y principales estadísticas del dataset final"
   ]
  },
  {
   "cell_type": "code",
   "execution_count": 15,
   "id": "9c6e1d80",
   "metadata": {},
   "outputs": [
    {
     "name": "stdout",
     "output_type": "stream",
     "text": [
      "Filas: 1806322, Variables: 8\n",
      "+-------+------------------+-----------------+------------------+\n",
      "|summary|          distance|         duration|       pace_min_km|\n",
      "+-------+------------------+-----------------+------------------+\n",
      "|  count|           1806322|          1806322|           1806322|\n",
      "|   mean|11.326626417106976|60.57503812535387| 5.441138410356235|\n",
      "| stddev| 6.204587315338015|33.55932521375634|0.8935773227352968|\n",
      "|    min|              0.57|5.016666666666667|1.6812481773111694|\n",
      "|    max|             88.53|           299.95|               9.0|\n",
      "+-------+------------------+-----------------+------------------+\n",
      "\n",
      "+------+-------+\n",
      "|gender|  count|\n",
      "+------+-------+\n",
      "|     F| 440092|\n",
      "|     M|1366230|\n",
      "+------+-------+\n",
      "\n",
      "+---------+-------+\n",
      "|age_group|  count|\n",
      "+---------+-------+\n",
      "|     55 +| 129521|\n",
      "|  35 - 54|1078807|\n",
      "|  18 - 34| 597994|\n",
      "+---------+-------+\n",
      "\n",
      "+------+------+\n",
      "|season| count|\n",
      "+------+------+\n",
      "|winter|446493|\n",
      "|spring|491814|\n",
      "|summer|454843|\n",
      "|autumn|413172|\n",
      "+------+------+\n",
      "\n"
     ]
    }
   ],
   "source": [
    "# Número de filas y variables.\n",
    "print(f\"Filas: {df_final.count()}, Variables: {len(df_final.columns)}\")\n",
    "\n",
    "# Estadísticas descriptivas de variables numéricas.\n",
    "df_final.describe(['distance', 'duration', 'pace_min_km']).show()\n",
    "\n",
    "# Distribución por género, grupo de edad y estación.\n",
    "df_final.groupBy(\"gender\").count().show()\n",
    "df_final.groupBy(\"age_group\").count().show()\n",
    "df_final.groupBy(\"season\").count().show()"
   ]
  },
  {
   "cell_type": "markdown",
   "id": "419d7c1a",
   "metadata": {},
   "source": [
    "## Preparación de los datos para el entrenamiento"
   ]
  },
  {
   "cell_type": "markdown",
   "id": "5312546a",
   "metadata": {},
   "source": [
    "### Convertimos los datos categóricos en vectores one-hot"
   ]
  },
  {
   "cell_type": "code",
   "execution_count": 16,
   "id": "af946dcf",
   "metadata": {},
   "outputs": [],
   "source": [
    "# Convertimos las columnas de tipo categórico en índices numéricos. \n",
    "gender_indexer = StringIndexer(inputCol=\"gender\", outputCol=\"gender_index\")\n",
    "age_indexer = StringIndexer(inputCol=\"age_group\", outputCol=\"age_index\")\n",
    "country_indexer = StringIndexer(inputCol=\"country\", outputCol=\"country_index\")\n",
    "season_indexer = StringIndexer(inputCol=\"season\", outputCol=\"season_index\")\n",
    "\n",
    "# Convertimos los índices numéricos del paso anterior en vectores one-hot.\n",
    "encoder = OneHotEncoder(inputCols=[\"gender_index\", \"age_index\", \"country_index\", \"season_index\"],\n",
    "                        outputCols=[\"gender_vec\", \"age_vec\", \"country_vec\", \"season_vec\"])"
   ]
  },
  {
   "cell_type": "markdown",
   "id": "81f9fcb1",
   "metadata": {},
   "source": [
    "### Combinamos las columnas numéricas en un solo vector"
   ]
  },
  {
   "cell_type": "code",
   "execution_count": 17,
   "id": "eaf712f1",
   "metadata": {},
   "outputs": [],
   "source": [
    "# Creamos un vector features que combine todas las variables numéricas.\n",
    "assembler = VectorAssembler(inputCols=[\"distance\", \"gender_vec\", \"age_vec\", \"country_vec\", \"season_vec\"],\n",
    "                            outputCol=\"features\")"
   ]
  },
  {
   "cell_type": "markdown",
   "id": "5d5e8ad9",
   "metadata": {},
   "source": [
    "### Creamos un pipeline para aplicar todas las transformaciones"
   ]
  },
  {
   "cell_type": "code",
   "execution_count": 18,
   "id": "a8880510",
   "metadata": {},
   "outputs": [],
   "source": [
    "# Creamos el Pipeline con todas las etapas.\n",
    "pipeline = Pipeline(stages=[gender_indexer, age_indexer, country_indexer, season_indexer, encoder, assembler])\n",
    "\n",
    "# Ajustamos el pipeline y transformamos los datos.\n",
    "df_prepared = pipeline.fit(df_final).transform(df_final)"
   ]
  },
  {
   "cell_type": "markdown",
   "id": "c6703fd2",
   "metadata": {},
   "source": [
    "### División de los datos en entrenamiento y test"
   ]
  },
  {
   "cell_type": "code",
   "execution_count": 19,
   "id": "1cdd81f8",
   "metadata": {},
   "outputs": [
    {
     "name": "stdout",
     "output_type": "stream",
     "text": [
      "Train: 1455983 filas, Test: 350339 filas\n"
     ]
    }
   ],
   "source": [
    "# Obtenemos los atletas.\n",
    "athletes = df_final.select(\"athlete\").distinct()\n",
    "\n",
    "# Asignamos aleatoriamente el 80% de atletas a train y el 20% a test.\n",
    "train_athletes, test_athletes = athletes.randomSplit([0.8, 0.2], seed=42)\n",
    "\n",
    "# Filtramos filas según atletas asignados.\n",
    "train_df = df_prepared.join(train_athletes, on=\"athlete\", how=\"inner\")\n",
    "test_df = df_prepared.join(test_athletes, on=\"athlete\", how=\"inner\")\n",
    "\n",
    "# Mostramos el número de filas en train y test.\n",
    "print(f\"Train: {train_df.count()} filas, Test: {test_df.count()} filas\")"
   ]
  },
  {
   "cell_type": "markdown",
   "id": "df104a9b",
   "metadata": {},
   "source": [
    "### Definición de la variable objetivo a predecir"
   ]
  },
  {
   "cell_type": "code",
   "execution_count": 20,
   "id": "b12edb62",
   "metadata": {},
   "outputs": [],
   "source": [
    "# Renombramos la columna 'duration' a 'label', ya que es la variable a predecir.\n",
    "train_df = train_df.withColumnRenamed(\"duration\", \"label\")  \n",
    "test_df = test_df.withColumnRenamed(\"duration\", \"label\")    "
   ]
  },
  {
   "cell_type": "markdown",
   "id": "e74aa302",
   "metadata": {},
   "source": [
    "## Modelos"
   ]
  },
  {
   "cell_type": "markdown",
   "id": "9eb5cb38",
   "metadata": {},
   "source": [
    "### Función para calcular ritmos medios "
   ]
  },
  {
   "cell_type": "code",
   "execution_count": 21,
   "id": "2f5198fe",
   "metadata": {},
   "outputs": [],
   "source": [
    "# Función para añadir columnas de ritmo (min/km) al DataFrame de predicciones.\n",
    "def add_paces(pred_df, distance_col=\"distance\", y_true_col=\"label\", y_pred_col=\"prediction\"):\n",
    "  \n",
    "    return (pred_df\n",
    "            .withColumn(\"pace_real_min_km\",  col(y_true_col) / col(distance_col))  \n",
    "            .withColumn(\"pace_pred_min_km\",  col(y_pred_col) / col(distance_col))) "
   ]
  },
  {
   "cell_type": "markdown",
   "id": "3aeb6078",
   "metadata": {},
   "source": [
    "### Modelo Regresión Lineal"
   ]
  },
  {
   "cell_type": "markdown",
   "id": "717aa060",
   "metadata": {},
   "source": [
    "#### Creación del modelo"
   ]
  },
  {
   "cell_type": "code",
   "execution_count": 22,
   "id": "14942504",
   "metadata": {},
   "outputs": [
    {
     "name": "stdout",
     "output_type": "stream",
     "text": [
      "Buscando los mejores hiperparámetros con CrossValidator...\n",
      "\n",
      "=== Linear Regression (Mejor Modelo) ===\n",
      "RMSE: 10.5110\n",
      "R²: 0.9015\n",
      "[LR] Mejores hiperparámetros:\n",
      "   regParam: 0.001\n",
      "   elasticNetParam: 1.0\n",
      "   maxIter: 50\n",
      "[LR] Número de coeficientes: 113\n"
     ]
    }
   ],
   "source": [
    "# Preparar evaluadores\n",
    "evaluator_rmse = RegressionEvaluator(labelCol=\"label\", predictionCol=\"prediction\", metricName=\"rmse\")\n",
    "evaluator_r2   = RegressionEvaluator(labelCol=\"label\", predictionCol=\"prediction\", metricName=\"r2\")\n",
    "\n",
    "# Definir el modelo base\n",
    "lr = LinearRegression(featuresCol=\"features\", labelCol=\"label\", maxIter=50)  \n",
    "\n",
    "# Definir la grid de hiperparámetros\n",
    "lr_grid = (ParamGridBuilder()\n",
    "           .addGrid(lr.regParam, [0.0, 0.001, 0.01, 0.1])        \n",
    "           .addGrid(lr.elasticNetParam, [0.0, 0.5, 1.0]) \n",
    "           .build())\n",
    "\n",
    "# Configurar CrossValidator\n",
    "lr_cv = CrossValidator(\n",
    "    estimator=lr,\n",
    "    estimatorParamMaps=lr_grid,\n",
    "    evaluator=evaluator_r2, \n",
    "    numFolds=3,             \n",
    "    parallelism=1,          \n",
    "    seed=42,\n",
    "    collectSubModels=False)\n",
    "\n",
    "# Entrenar directamente el mejor modelo sobre train\n",
    "print(\"Buscando los mejores hiperparámetros con CrossValidator...\")\n",
    "lr_cv_model = lr_cv.fit(train_df)\n",
    "\n",
    "# Evaluación sobre test\n",
    "lr_preds = lr_cv_model.transform(test_df).cache()\n",
    "\n",
    "lr_rmse = evaluator_rmse.evaluate(lr_preds)\n",
    "lr_r2   = evaluator_r2.evaluate(lr_preds)\n",
    "\n",
    "print(f\"\\n=== Linear Regression (Mejor Modelo) ===\")\n",
    "print(f\"RMSE: {lr_rmse:.4f}\")\n",
    "print(f\"R²: {lr_r2:.4f}\")\n",
    "\n",
    "# Mejor modelo e hiperparámetros\n",
    "best_lr = lr_cv_model.bestModel\n",
    "best_params = {p.name: best_lr.getOrDefault(p) for p in best_lr.extractParamMap()}\n",
    "\n",
    "print(\"[LR] Mejores hiperparámetros:\")\n",
    "for k in [\"regParam\", \"elasticNetParam\", \"maxIter\"]:\n",
    "    if k in best_params:\n",
    "        print(f\"   {k}: {best_params[k]}\")\n",
    "\n",
    "print(f\"[LR] Número de coeficientes: {len(best_lr.coefficients)}\")"
   ]
  },
  {
   "cell_type": "markdown",
   "id": "9629e048",
   "metadata": {},
   "source": [
    "#### Añadir ritmos y ver resultados"
   ]
  },
  {
   "cell_type": "code",
   "execution_count": 23,
   "id": "30339067",
   "metadata": {},
   "outputs": [
    {
     "name": "stdout",
     "output_type": "stream",
     "text": [
      "+-------+------------------+------------------+------------------+------------------+------------------+\n",
      "|athlete|distance          |label             |prediction        |pace_real_min_km  |pace_pred_min_km  |\n",
      "+-------+------------------+------------------+------------------+------------------+------------------+\n",
      "|1580   |11.54             |63.0              |59.30625607132603 |5.459272097053726 |5.139190300808149 |\n",
      "|5518   |13.200000000000001|57.45             |68.56728011690983 |4.3522727272727275|5.1944909179477134|\n",
      "|9852   |10.18             |46.166666666666664|48.40802562685664 |4.535036018336608 |4.755208804209886 |\n",
      "|10623  |20.6              |107.0             |118.49682114573409|5.194174757281553 |5.75227287115214  |\n",
      "|11141  |8.45              |48.25             |50.3066981982814  |5.710059171597633 |5.953455408080639 |\n",
      "|11858  |16.54             |124.61666666666667|87.0660103386952  |7.534260378879485 |5.263966767756663 |\n",
      "|1580   |10.24             |62.0              |52.62069701401326 |6.0546875         |5.138739942774732 |\n",
      "|6397   |7.79              |47.583333333333336|39.09679598745667 |6.108258451005563 |5.0188441575682505|\n",
      "|6620   |16.129            |94.0              |86.13258149992359 |5.828011656023311 |5.340230733456729 |\n",
      "|9852   |10.66             |57.53333333333333 |50.87653974032598 |5.397123202001251 |4.772658512225702 |\n",
      "+-------+------------------+------------------+------------------+------------------+------------------+\n",
      "only showing top 10 rows\n"
     ]
    }
   ],
   "source": [
    "# Añadir columnas de ritmo (min/km)\n",
    "lr_preds = add_paces(lr_preds)\n",
    "\n",
    "# Mostrar algunas predicciones con ritmos\n",
    "lr_preds.select(\"athlete\", \"distance\", \"label\", \"prediction\", \n",
    "                \"pace_real_min_km\", \"pace_pred_min_km\").show(10, truncate=False)"
   ]
  },
  {
   "cell_type": "markdown",
   "id": "e6876069",
   "metadata": {},
   "source": [
    "#### Resultados gráficos"
   ]
  },
  {
   "cell_type": "code",
   "execution_count": 25,
   "id": "fdfe3964",
   "metadata": {},
   "outputs": [
    {
     "data": {
      "application/vnd.plotly.v1+json": {
       "config": {
        "plotlyServerURL": "https://plot.ly"
       },
       "data": [
        {
         "hovertemplate": "<b>Ritmo real:</b> %{x:.2f} min/km<br><b>Ritmo predicho:</b> %{y:.2f} min/km",
         "marker": {
          "color": "blue",
          "opacity": 0.4,
          "size": 6
         },
         "mode": "markers",
         "name": "Predicciones",
         "type": "scatter",
         "x": {
          "bdata": "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",
          "dtype": "f8"
         },
         "y": {
          "bdata": "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",
          "dtype": "f8"
         }
        },
        {
         "line": {
          "color": "red",
          "dash": "dash"
         },
         "mode": "lines",
         "name": "Ideal (y = x)",
         "type": "scatter",
         "x": [
          2,
          8
         ],
         "y": [
          2,
          8
         ]
        }
       ],
       "layout": {
        "height": 600,
        "legend": {
         "x": 0.02,
         "y": 0.98
        },
        "template": {
         "data": {
          "bar": [
           {
            "error_x": {
             "color": "#2a3f5f"
            },
            "error_y": {
             "color": "#2a3f5f"
            },
            "marker": {
             "line": {
              "color": "white",
              "width": 0.5
             },
             "pattern": {
              "fillmode": "overlay",
              "size": 10,
              "solidity": 0.2
             }
            },
            "type": "bar"
           }
          ],
          "barpolar": [
           {
            "marker": {
             "line": {
              "color": "white",
              "width": 0.5
             },
             "pattern": {
              "fillmode": "overlay",
              "size": 10,
              "solidity": 0.2
             }
            },
            "type": "barpolar"
           }
          ],
          "carpet": [
           {
            "aaxis": {
             "endlinecolor": "#2a3f5f",
             "gridcolor": "#C8D4E3",
             "linecolor": "#C8D4E3",
             "minorgridcolor": "#C8D4E3",
             "startlinecolor": "#2a3f5f"
            },
            "baxis": {
             "endlinecolor": "#2a3f5f",
             "gridcolor": "#C8D4E3",
             "linecolor": "#C8D4E3",
             "minorgridcolor": "#C8D4E3",
             "startlinecolor": "#2a3f5f"
            },
            "type": "carpet"
           }
          ],
          "choropleth": [
           {
            "colorbar": {
             "outlinewidth": 0,
             "ticks": ""
            },
            "type": "choropleth"
           }
          ],
          "contour": [
           {
            "colorbar": {
             "outlinewidth": 0,
             "ticks": ""
            },
            "colorscale": [
             [
              0,
              "#0d0887"
             ],
             [
              0.1111111111111111,
              "#46039f"
             ],
             [
              0.2222222222222222,
              "#7201a8"
             ],
             [
              0.3333333333333333,
              "#9c179e"
             ],
             [
              0.4444444444444444,
              "#bd3786"
             ],
             [
              0.5555555555555556,
              "#d8576b"
             ],
             [
              0.6666666666666666,
              "#ed7953"
             ],
             [
              0.7777777777777778,
              "#fb9f3a"
             ],
             [
              0.8888888888888888,
              "#fdca26"
             ],
             [
              1,
              "#f0f921"
             ]
            ],
            "type": "contour"
           }
          ],
          "contourcarpet": [
           {
            "colorbar": {
             "outlinewidth": 0,
             "ticks": ""
            },
            "type": "contourcarpet"
           }
          ],
          "heatmap": [
           {
            "colorbar": {
             "outlinewidth": 0,
             "ticks": ""
            },
            "colorscale": [
             [
              0,
              "#0d0887"
             ],
             [
              0.1111111111111111,
              "#46039f"
             ],
             [
              0.2222222222222222,
              "#7201a8"
             ],
             [
              0.3333333333333333,
              "#9c179e"
             ],
             [
              0.4444444444444444,
              "#bd3786"
             ],
             [
              0.5555555555555556,
              "#d8576b"
             ],
             [
              0.6666666666666666,
              "#ed7953"
             ],
             [
              0.7777777777777778,
              "#fb9f3a"
             ],
             [
              0.8888888888888888,
              "#fdca26"
             ],
             [
              1,
              "#f0f921"
             ]
            ],
            "type": "heatmap"
           }
          ],
          "histogram": [
           {
            "marker": {
             "pattern": {
              "fillmode": "overlay",
              "size": 10,
              "solidity": 0.2
             }
            },
            "type": "histogram"
           }
          ],
          "histogram2d": [
           {
            "colorbar": {
             "outlinewidth": 0,
             "ticks": ""
            },
            "colorscale": [
             [
              0,
              "#0d0887"
             ],
             [
              0.1111111111111111,
              "#46039f"
             ],
             [
              0.2222222222222222,
              "#7201a8"
             ],
             [
              0.3333333333333333,
              "#9c179e"
             ],
             [
              0.4444444444444444,
              "#bd3786"
             ],
             [
              0.5555555555555556,
              "#d8576b"
             ],
             [
              0.6666666666666666,
              "#ed7953"
             ],
             [
              0.7777777777777778,
              "#fb9f3a"
             ],
             [
              0.8888888888888888,
              "#fdca26"
             ],
             [
              1,
              "#f0f921"
             ]
            ],
            "type": "histogram2d"
           }
          ],
          "histogram2dcontour": [
           {
            "colorbar": {
             "outlinewidth": 0,
             "ticks": ""
            },
            "colorscale": [
             [
              0,
              "#0d0887"
             ],
             [
              0.1111111111111111,
              "#46039f"
             ],
             [
              0.2222222222222222,
              "#7201a8"
             ],
             [
              0.3333333333333333,
              "#9c179e"
             ],
             [
              0.4444444444444444,
              "#bd3786"
             ],
             [
              0.5555555555555556,
              "#d8576b"
             ],
             [
              0.6666666666666666,
              "#ed7953"
             ],
             [
              0.7777777777777778,
              "#fb9f3a"
             ],
             [
              0.8888888888888888,
              "#fdca26"
             ],
             [
              1,
              "#f0f921"
             ]
            ],
            "type": "histogram2dcontour"
           }
          ],
          "mesh3d": [
           {
            "colorbar": {
             "outlinewidth": 0,
             "ticks": ""
            },
            "type": "mesh3d"
           }
          ],
          "parcoords": [
           {
            "line": {
             "colorbar": {
              "outlinewidth": 0,
              "ticks": ""
             }
            },
            "type": "parcoords"
           }
          ],
          "pie": [
           {
            "automargin": true,
            "type": "pie"
           }
          ],
          "scatter": [
           {
            "fillpattern": {
             "fillmode": "overlay",
             "size": 10,
             "solidity": 0.2
            },
            "type": "scatter"
           }
          ],
          "scatter3d": [
           {
            "line": {
             "colorbar": {
              "outlinewidth": 0,
              "ticks": ""
             }
            },
            "marker": {
             "colorbar": {
              "outlinewidth": 0,
              "ticks": ""
             }
            },
            "type": "scatter3d"
           }
          ],
          "scattercarpet": [
           {
            "marker": {
             "colorbar": {
              "outlinewidth": 0,
              "ticks": ""
             }
            },
            "type": "scattercarpet"
           }
          ],
          "scattergeo": [
           {
            "marker": {
             "colorbar": {
              "outlinewidth": 0,
              "ticks": ""
             }
            },
            "type": "scattergeo"
           }
          ],
          "scattergl": [
           {
            "marker": {
             "colorbar": {
              "outlinewidth": 0,
              "ticks": ""
             }
            },
            "type": "scattergl"
           }
          ],
          "scattermap": [
           {
            "marker": {
             "colorbar": {
              "outlinewidth": 0,
              "ticks": ""
             }
            },
            "type": "scattermap"
           }
          ],
          "scattermapbox": [
           {
            "marker": {
             "colorbar": {
              "outlinewidth": 0,
              "ticks": ""
             }
            },
            "type": "scattermapbox"
           }
          ],
          "scatterpolar": [
           {
            "marker": {
             "colorbar": {
              "outlinewidth": 0,
              "ticks": ""
             }
            },
            "type": "scatterpolar"
           }
          ],
          "scatterpolargl": [
           {
            "marker": {
             "colorbar": {
              "outlinewidth": 0,
              "ticks": ""
             }
            },
            "type": "scatterpolargl"
           }
          ],
          "scatterternary": [
           {
            "marker": {
             "colorbar": {
              "outlinewidth": 0,
              "ticks": ""
             }
            },
            "type": "scatterternary"
           }
          ],
          "surface": [
           {
            "colorbar": {
             "outlinewidth": 0,
             "ticks": ""
            },
            "colorscale": [
             [
              0,
              "#0d0887"
             ],
             [
              0.1111111111111111,
              "#46039f"
             ],
             [
              0.2222222222222222,
              "#7201a8"
             ],
             [
              0.3333333333333333,
              "#9c179e"
             ],
             [
              0.4444444444444444,
              "#bd3786"
             ],
             [
              0.5555555555555556,
              "#d8576b"
             ],
             [
              0.6666666666666666,
              "#ed7953"
             ],
             [
              0.7777777777777778,
              "#fb9f3a"
             ],
             [
              0.8888888888888888,
              "#fdca26"
             ],
             [
              1,
              "#f0f921"
             ]
            ],
            "type": "surface"
           }
          ],
          "table": [
           {
            "cells": {
             "fill": {
              "color": "#EBF0F8"
             },
             "line": {
              "color": "white"
             }
            },
            "header": {
             "fill": {
              "color": "#C8D4E3"
             },
             "line": {
              "color": "white"
             }
            },
            "type": "table"
           }
          ]
         },
         "layout": {
          "annotationdefaults": {
           "arrowcolor": "#2a3f5f",
           "arrowhead": 0,
           "arrowwidth": 1
          },
          "autotypenumbers": "strict",
          "coloraxis": {
           "colorbar": {
            "outlinewidth": 0,
            "ticks": ""
           }
          },
          "colorscale": {
           "diverging": [
            [
             0,
             "#8e0152"
            ],
            [
             0.1,
             "#c51b7d"
            ],
            [
             0.2,
             "#de77ae"
            ],
            [
             0.3,
             "#f1b6da"
            ],
            [
             0.4,
             "#fde0ef"
            ],
            [
             0.5,
             "#f7f7f7"
            ],
            [
             0.6,
             "#e6f5d0"
            ],
            [
             0.7,
             "#b8e186"
            ],
            [
             0.8,
             "#7fbc41"
            ],
            [
             0.9,
             "#4d9221"
            ],
            [
             1,
             "#276419"
            ]
           ],
           "sequential": [
            [
             0,
             "#0d0887"
            ],
            [
             0.1111111111111111,
             "#46039f"
            ],
            [
             0.2222222222222222,
             "#7201a8"
            ],
            [
             0.3333333333333333,
             "#9c179e"
            ],
            [
             0.4444444444444444,
             "#bd3786"
            ],
            [
             0.5555555555555556,
             "#d8576b"
            ],
            [
             0.6666666666666666,
             "#ed7953"
            ],
            [
             0.7777777777777778,
             "#fb9f3a"
            ],
            [
             0.8888888888888888,
             "#fdca26"
            ],
            [
             1,
             "#f0f921"
            ]
           ],
           "sequentialminus": [
            [
             0,
             "#0d0887"
            ],
            [
             0.1111111111111111,
             "#46039f"
            ],
            [
             0.2222222222222222,
             "#7201a8"
            ],
            [
             0.3333333333333333,
             "#9c179e"
            ],
            [
             0.4444444444444444,
             "#bd3786"
            ],
            [
             0.5555555555555556,
             "#d8576b"
            ],
            [
             0.6666666666666666,
             "#ed7953"
            ],
            [
             0.7777777777777778,
             "#fb9f3a"
            ],
            [
             0.8888888888888888,
             "#fdca26"
            ],
            [
             1,
             "#f0f921"
            ]
           ]
          },
          "colorway": [
           "#636efa",
           "#EF553B",
           "#00cc96",
           "#ab63fa",
           "#FFA15A",
           "#19d3f3",
           "#FF6692",
           "#B6E880",
           "#FF97FF",
           "#FECB52"
          ],
          "font": {
           "color": "#2a3f5f"
          },
          "geo": {
           "bgcolor": "white",
           "lakecolor": "white",
           "landcolor": "white",
           "showlakes": true,
           "showland": true,
           "subunitcolor": "#C8D4E3"
          },
          "hoverlabel": {
           "align": "left"
          },
          "hovermode": "closest",
          "mapbox": {
           "style": "light"
          },
          "paper_bgcolor": "white",
          "plot_bgcolor": "white",
          "polar": {
           "angularaxis": {
            "gridcolor": "#EBF0F8",
            "linecolor": "#EBF0F8",
            "ticks": ""
           },
           "bgcolor": "white",
           "radialaxis": {
            "gridcolor": "#EBF0F8",
            "linecolor": "#EBF0F8",
            "ticks": ""
           }
          },
          "scene": {
           "xaxis": {
            "backgroundcolor": "white",
            "gridcolor": "#DFE8F3",
            "gridwidth": 2,
            "linecolor": "#EBF0F8",
            "showbackground": true,
            "ticks": "",
            "zerolinecolor": "#EBF0F8"
           },
           "yaxis": {
            "backgroundcolor": "white",
            "gridcolor": "#DFE8F3",
            "gridwidth": 2,
            "linecolor": "#EBF0F8",
            "showbackground": true,
            "ticks": "",
            "zerolinecolor": "#EBF0F8"
           },
           "zaxis": {
            "backgroundcolor": "white",
            "gridcolor": "#DFE8F3",
            "gridwidth": 2,
            "linecolor": "#EBF0F8",
            "showbackground": true,
            "ticks": "",
            "zerolinecolor": "#EBF0F8"
           }
          },
          "shapedefaults": {
           "line": {
            "color": "#2a3f5f"
           }
          },
          "ternary": {
           "aaxis": {
            "gridcolor": "#DFE8F3",
            "linecolor": "#A2B1C6",
            "ticks": ""
           },
           "baxis": {
            "gridcolor": "#DFE8F3",
            "linecolor": "#A2B1C6",
            "ticks": ""
           },
           "bgcolor": "white",
           "caxis": {
            "gridcolor": "#DFE8F3",
            "linecolor": "#A2B1C6",
            "ticks": ""
           }
          },
          "title": {
           "x": 0.05
          },
          "xaxis": {
           "automargin": true,
           "gridcolor": "#EBF0F8",
           "linecolor": "#EBF0F8",
           "ticks": "",
           "title": {
            "standoff": 15
           },
           "zerolinecolor": "#EBF0F8",
           "zerolinewidth": 2
          },
          "yaxis": {
           "automargin": true,
           "gridcolor": "#EBF0F8",
           "linecolor": "#EBF0F8",
           "ticks": "",
           "title": {
            "standoff": 15
           },
           "zerolinecolor": "#EBF0F8",
           "zerolinewidth": 2
          }
         }
        },
        "title": {
         "text": "Ritmo real vs. predicho (Linear Regression)"
        },
        "width": 800,
        "xaxis": {
         "gridcolor": "lightgray",
         "range": [
          2,
          8
         ],
         "title": {
          "text": "Ritmo real (min/km)"
         }
        },
        "yaxis": {
         "gridcolor": "lightgray",
         "range": [
          2,
          8
         ],
         "title": {
          "text": "Ritmo predicho (min/km)"
         }
        }
       }
      }
     },
     "metadata": {},
     "output_type": "display_data"
    }
   ],
   "source": [
    "# Tomamos una pequeña muestra para visualización\n",
    "sample_pd = lr_preds.select(\"pace_real_min_km\", \"pace_pred_min_km\") \\\n",
    "                          .sample(False, 0.03, seed=42).toPandas()\n",
    "\n",
    "# Eliminamos posibles valores extremos\n",
    "sample_pd = sample_pd[\n",
    "    (sample_pd[\"pace_real_min_km\"].between(2, 8)) &\n",
    "    (sample_pd[\"pace_pred_min_km\"].between(2, 8))\n",
    "]\n",
    "\n",
    "# Creamos la figura interactiva\n",
    "fig = go.Figure()\n",
    "\n",
    "# Añadimos los puntos de dispersión\n",
    "fig.add_trace(go.Scatter(\n",
    "    x=sample_pd[\"pace_real_min_km\"],\n",
    "    y=sample_pd[\"pace_pred_min_km\"],\n",
    "    mode=\"markers\",\n",
    "    marker=dict(size=6, opacity=0.4, color=\"blue\"),\n",
    "    name=\"Predicciones\",\n",
    "    hovertemplate=\"<b>Ritmo real:</b> %{x:.2f} min/km<br><b>Ritmo predicho:</b> %{y:.2f} min/km\"\n",
    "))\n",
    "\n",
    "# Línea ideal (y = x)\n",
    "fig.add_trace(go.Scatter(\n",
    "    x=[2, 8], y=[2, 8],\n",
    "    mode=\"lines\",\n",
    "    line=dict(color=\"red\", dash=\"dash\"),\n",
    "    name=\"Ideal (y = x)\"\n",
    "))\n",
    "\n",
    "# Configuración del layout\n",
    "fig.update_layout(\n",
    "    title=\"Ritmo real vs. predicho (Linear Regression)\",\n",
    "    xaxis_title=\"Ritmo real (min/km)\",\n",
    "    yaxis_title=\"Ritmo predicho (min/km)\",\n",
    "    xaxis=dict(range=[2, 8], gridcolor=\"lightgray\"),\n",
    "    yaxis=dict(range=[2, 8], gridcolor=\"lightgray\"),\n",
    "    width=800,\n",
    "    height=600,\n",
    "    legend=dict(x=0.02, y=0.98),\n",
    "    template=\"plotly_white\"\n",
    ")\n",
    "\n",
    "# Mostrar\n",
    "fig.show()\n",
    "\n",
    "fig.write_html(\"grafico_linear.html\")\n",
    "fig.write_image(\"grafico_linear.png\", scale=2)\n",
    "\n",
    "\n"
   ]
  },
  {
   "cell_type": "markdown",
   "id": "3e052268",
   "metadata": {},
   "source": [
    "### Modelo de Regresión basado en Árboles de Decisión"
   ]
  },
  {
   "cell_type": "markdown",
   "id": "14b1d096",
   "metadata": {},
   "source": [
    "#### Creación del modelo"
   ]
  },
  {
   "cell_type": "code",
   "execution_count": null,
   "id": "9d936b8b",
   "metadata": {},
   "outputs": [
    {
     "name": "stdout",
     "output_type": "stream",
     "text": [
      "Buscando los mejores hiperparámetros con CrossValidator para Decision Tree...\n"
     ]
    }
   ],
   "source": [
    "# Preparar evaluadores\n",
    "evaluator_rmse = RegressionEvaluator(labelCol=\"label\", predictionCol=\"prediction\", metricName=\"rmse\")\n",
    "evaluator_r2   = RegressionEvaluator(labelCol=\"label\", predictionCol=\"prediction\", metricName=\"r2\")\n",
    "\n",
    "# Definir el modelo base\n",
    "dt = DecisionTreeRegressor(featuresCol=\"features\", labelCol=\"label\", seed=42)\n",
    "\n",
    "# Definir la grid de hiperparámetros\n",
    "dt_grid = (ParamGridBuilder()\n",
    "           .addGrid(dt.maxDepth, [5, 10, 15])                \n",
    "           .addGrid(dt.minInstancesPerNode, [1, 5, 20])     \n",
    "           .build())\n",
    "\n",
    "# Configurar CrossValidator\n",
    "dt_cv = CrossValidator(\n",
    "    estimator=dt,\n",
    "    estimatorParamMaps=dt_grid,\n",
    "    evaluator=evaluator_r2, \n",
    "    numFolds=3,\n",
    "    parallelism=2,           \n",
    "    seed=42,\n",
    "    collectSubModels=False)\n",
    "\n",
    "# Entrenar directamente el mejor modelo sobre train\n",
    "print(\"Buscando los mejores hiperparámetros con CrossValidator para Decision Tree...\")\n",
    "dt_cv_model = dt_cv.fit(train_df)\n",
    "\n",
    "# Evaluación sobre test\n",
    "dt_preds = dt_cv_model.transform(test_df).cache()\n",
    "\n",
    "dt_rmse = evaluator_rmse.evaluate(dt_preds)\n",
    "dt_r2   = evaluator_r2.evaluate(dt_preds)\n",
    "\n",
    "print(f\"\\n=== Decision Tree Regressor (Mejor Modelo) ===\")\n",
    "print(f\"RMSE: {dt_rmse:.4f}\")\n",
    "print(f\"R²: {dt_r2:.4f}\")\n",
    "\n",
    "# Mejor modelo e hiperparámetros\n",
    "best_dt = dt_cv_model.bestModel\n",
    "best_dt_params = {\n",
    "    \"maxDepth\": best_dt.getOrDefault(best_dt.maxDepth),\n",
    "    \"minInstancesPerNode\": best_dt.getOrDefault(best_dt.minInstancesPerNode)}\n",
    "\n",
    "print(\"[DT] Mejores hiperparámetros:\", best_dt_params)\n",
    "print(f\"[DT] Profundidad del árbol: {best_dt.depth}\")"
   ]
  },
  {
   "cell_type": "markdown",
   "id": "51b82a1a",
   "metadata": {},
   "source": [
    "#### Añadir ritmos y ver resultados"
   ]
  },
  {
   "cell_type": "code",
   "execution_count": null,
   "id": "b77d39b6",
   "metadata": {},
   "outputs": [
    {
     "name": "stdout",
     "output_type": "stream",
     "text": [
      "+-------+------------------+------------------+------------------+------------------+-----------------+\n",
      "|athlete|distance          |label             |prediction        |pace_real_min_km  |pace_pred_min_km |\n",
      "+-------+------------------+------------------+------------------+------------------+-----------------+\n",
      "|1580   |11.54             |63.0              |59.37502536856212 |5.459272097053726 |5.145149512007117|\n",
      "|5518   |13.200000000000001|57.45             |70.1823876805548  |4.3522727272727275|5.316847551557181|\n",
      "|9852   |10.18             |46.166666666666664|50.158694632132146|4.535036018336608 |4.927180219266419|\n",
      "|10623  |20.6              |107.0             |132.89422572178478|5.194174757281553 |6.451176005911882|\n",
      "|11141  |8.45              |48.25             |47.968574181117525|5.710059171597633 |5.676754340960654|\n",
      "|11858  |16.54             |124.61666666666667|87.71721119796887 |7.534260378879485 |5.303338040989654|\n",
      "|1580   |10.24             |62.0              |53.66815704030261 |6.0546875         |5.241030960967052|\n",
      "|6397   |7.79              |47.583333333333336|42.523560095631375|6.108258451005563 |5.458736854381434|\n",
      "|6620   |16.129            |94.0              |84.69334451901567 |5.828011656023311 |5.250997862174695|\n",
      "|9852   |10.66             |57.53333333333333 |53.91317049808428 |5.397123202001251 |5.057520684623291|\n",
      "+-------+------------------+------------------+------------------+------------------+-----------------+\n",
      "only showing top 10 rows\n"
     ]
    }
   ],
   "source": [
    "# Añadir columnas de ritmo (min/km)\n",
    "dt_preds = add_paces(dt_preds)\n",
    "\n",
    "# Mostrar algunas predicciones con ritmos\n",
    "dt_preds.select(\"athlete\", \"distance\", \"label\", \"prediction\", \n",
    "                \"pace_real_min_km\", \"pace_pred_min_km\").show(10, truncate=False)"
   ]
  },
  {
   "cell_type": "markdown",
   "id": "66b3cc57",
   "metadata": {},
   "source": [
    "#### Resultados gráficos"
   ]
  },
  {
   "cell_type": "code",
   "execution_count": null,
   "id": "b6b94af2",
   "metadata": {},
   "outputs": [],
   "source": [
    "# Tomamos una pequeña muestra para visualización\n",
    "sample_pd = dt_preds.select(\"pace_real_min_km\", \"pace_pred_min_km\") \\\n",
    "                          .sample(False, 0.03, seed=42).toPandas()\n",
    "\n",
    "# Eliminamos posibles valores extremos (por seguridad)\n",
    "sample_pd = sample_pd[\n",
    "    (sample_pd[\"pace_real_min_km\"].between(2, 8)) &\n",
    "    (sample_pd[\"pace_pred_min_km\"].between(2, 8))\n",
    "]\n",
    "\n",
    "# Figura interactiva\n",
    "fig = go.Figure()\n",
    "\n",
    "# Puntos de dispersión\n",
    "fig.add_trace(go.Scatter(\n",
    "    x=sample_pd[\"pace_real_min_km\"],\n",
    "    y=sample_pd[\"pace_pred_min_km\"],\n",
    "    mode=\"markers\",\n",
    "    marker=dict(size=6, opacity=0.4, color=\"green\"),\n",
    "    name=\"Predicciones\",\n",
    "    hovertemplate=\"<b>Ritmo real:</b> %{x:.2f} min/km<br><b>Ritmo predicho:</b> %{y:.2f} min/km\"\n",
    "))\n",
    "\n",
    "# Línea ideal (y = x)\n",
    "fig.add_trace(go.Scatter(\n",
    "    x=[2, 8], y=[2, 8],\n",
    "    mode=\"lines\",\n",
    "    line=dict(color=\"red\", dash=\"dash\"),\n",
    "    name=\"Ideal (y = x)\"\n",
    "))\n",
    "\n",
    "# Configuración visual\n",
    "fig.update_layout(\n",
    "    title=\"Ritmo real vs. predicho (Decision Tree Regressor)\",\n",
    "    xaxis_title=\"Ritmo real (min/km)\",\n",
    "    yaxis_title=\"Ritmo predicho (min/km)\",\n",
    "    xaxis=dict(range=[2, 8], gridcolor=\"lightgray\"),\n",
    "    yaxis=dict(range=[2, 8], gridcolor=\"lightgray\"),\n",
    "    width=800,\n",
    "    height=600,\n",
    "    legend=dict(x=0.02, y=0.98),\n",
    "    template=\"plotly_white\"\n",
    ")\n",
    "\n",
    "# Mostrar figura interactiva\n",
    "fig.show()\n"
   ]
  },
  {
   "cell_type": "markdown",
   "id": "87ce5800",
   "metadata": {},
   "source": [
    "### Modelo de Regresión basado en un Bosque Aleatorio de Árboles de Decisión"
   ]
  },
  {
   "cell_type": "markdown",
   "id": "9e6cf1c5",
   "metadata": {},
   "source": [
    "#### Creación del modelo"
   ]
  },
  {
   "cell_type": "code",
   "execution_count": null,
   "id": "1797803b",
   "metadata": {},
   "outputs": [
    {
     "name": "stdout",
     "output_type": "stream",
     "text": [
      "Buscando los mejores hiperparámetros con CrossValidator para Random Forest...\n",
      "\n",
      "=== Random Forest Regressor (Mejor Modelo) ===\n",
      "RMSE: 13.4586\n",
      "R²: 0.8385\n",
      "[RF] Mejores hiperparámetros: {'numTrees': 10, 'maxDepth': 10, 'featureSubsetStrategy': 'auto'}\n",
      "[RF] Top-10 importancias: [0.9808886816449259, 0.0035216388881679855, 0.002011204539472217, 0.00511115388976862, 0.0006734818466692576, 0.0033781870591683694, 0.0006948370038978162, 6.398334661911931e-05, 8.60044855248726e-05, 1.3533457455006735e-05]\n"
     ]
    }
   ],
   "source": [
    "# Preparar evaluadores\n",
    "evaluator_rmse = RegressionEvaluator(labelCol=\"label\", predictionCol=\"prediction\", metricName=\"rmse\")\n",
    "evaluator_r2   = RegressionEvaluator(labelCol=\"label\", predictionCol=\"prediction\", metricName=\"r2\")\n",
    "\n",
    "# Definir el modelo base\n",
    "rf = RandomForestRegressor(featuresCol=\"features\", labelCol=\"label\", seed=42)\n",
    "\n",
    "# Definir la grid de hiperparámetros\n",
    "rf_grid = (ParamGridBuilder()\n",
    "           .addGrid(rf.numTrees, [2, 5, 10])                     \n",
    "           .addGrid(rf.maxDepth, [3, 5, 10])                    \n",
    "           .addGrid(rf.featureSubsetStrategy, [\"auto\", \"sqrt\"]) \n",
    "           .build())\n",
    "\n",
    "# Configurar CrossValidator\n",
    "rf_cv = CrossValidator(\n",
    "    estimator=rf,\n",
    "    estimatorParamMaps=rf_grid,\n",
    "    evaluator=evaluator_r2,  \n",
    "    numFolds=3,\n",
    "    parallelism=2,           \n",
    "    seed=42,\n",
    "    collectSubModels=False)\n",
    "\n",
    "# Entrenar directamente el mejor modelo sobre train\n",
    "print(\"Buscando los mejores hiperparámetros con CrossValidator para Random Forest...\")\n",
    "rf_cv_model = rf_cv.fit(train_df)\n",
    "\n",
    "# Evaluación sobre test\n",
    "rf_preds = rf_cv_model.transform(test_df).cache()\n",
    "\n",
    "rf_rmse = evaluator_rmse.evaluate(rf_preds)\n",
    "rf_r2   = evaluator_r2.evaluate(rf_preds)\n",
    "\n",
    "print(f\"\\n=== Random Forest Regressor (Mejor Modelo) ===\")\n",
    "print(f\"RMSE: {rf_rmse:.4f}\")\n",
    "print(f\"R²: {rf_r2:.4f}\")\n",
    "\n",
    "# Mejor modelo e hiperparámetros\n",
    "best_rf = rf_cv_model.bestModel\n",
    "best_rf_params = {\n",
    "    \"numTrees\": best_rf.getNumTrees,\n",
    "    \"maxDepth\": best_rf.getOrDefault(best_rf.maxDepth),\n",
    "    \"featureSubsetStrategy\": best_rf.getOrDefault(best_rf.featureSubsetStrategy),}\n",
    "\n",
    "print(\"[RF] Mejores hiperparámetros:\", best_rf_params)\n",
    "\n",
    "# Importancia de features (Top-10)\n",
    "print(\"[RF] Top-10 importancias:\", list(best_rf.featureImportances.toArray())[:10])"
   ]
  },
  {
   "cell_type": "markdown",
   "id": "210f3070",
   "metadata": {},
   "source": [
    "#### Añadir ritmos y ver resultados"
   ]
  },
  {
   "cell_type": "code",
   "execution_count": null,
   "id": "cd0e33df",
   "metadata": {},
   "outputs": [
    {
     "name": "stdout",
     "output_type": "stream",
     "text": [
      "+-------+------------------+------------------+------------------+------------------+------------------+\n",
      "|athlete|distance          |label             |prediction        |pace_real_min_km  |pace_pred_min_km  |\n",
      "+-------+------------------+------------------+------------------+------------------+------------------+\n",
      "|1580   |11.54             |63.0              |56.214063236550224|5.459272097053726 |4.871235982370037 |\n",
      "|5518   |13.200000000000001|57.45             |61.71832781635184 |4.3522727272727275|4.675630895178169 |\n",
      "|9852   |10.18             |46.166666666666664|52.921150120519584|4.535036018336608 |5.198541269206246 |\n",
      "|10623  |20.6              |107.0             |125.37528675996575|5.194174757281553 |6.086178968930375 |\n",
      "|11141  |8.45              |48.25             |44.73745254667521 |5.710059171597633 |5.2943730824467705|\n",
      "|11858  |16.54             |124.61666666666667|89.56592042069715 |7.534260378879485 |5.415110061710831 |\n",
      "|1580   |10.24             |62.0              |54.60829520310241 |6.0546875         |5.332841328427969 |\n",
      "|6397   |7.79              |47.583333333333336|40.708149135155786|6.108258451005563 |5.225693085385852 |\n",
      "|6620   |16.129            |94.0              |89.64635544873029 |5.828011656023311 |5.558085153991586 |\n",
      "|9852   |10.66             |57.53333333333333 |54.55258001933986 |5.397123202001251 |5.1175028160731575|\n",
      "+-------+------------------+------------------+------------------+------------------+------------------+\n",
      "only showing top 10 rows\n"
     ]
    }
   ],
   "source": [
    "# Añadir columnas de ritmo (min/km)\n",
    "rf_preds = add_paces(rf_preds)\n",
    "\n",
    "# Mostrar algunas predicciones con ritmos\n",
    "rf_preds.select(\"athlete\", \"distance\", \"label\", \"prediction\", \n",
    "                \"pace_real_min_km\", \"pace_pred_min_km\").show(10, truncate=False)"
   ]
  },
  {
   "cell_type": "markdown",
   "id": "5042681f",
   "metadata": {},
   "source": [
    "#### Resultados gráficos"
   ]
  },
  {
   "cell_type": "code",
   "execution_count": null,
   "id": "0c9df649",
   "metadata": {},
   "outputs": [],
   "source": [
    "# Muestra para visualización\n",
    "sample_pd = rf_preds.select(\"pace_real_min_km\", \"pace_pred_min_km\") \\\n",
    "                          .sample(False, 0.03, seed=42).toPandas()\n",
    "\n",
    "# Filtrado simple de outliers por rango visual\n",
    "sample_pd = sample_pd[\n",
    "    (sample_pd[\"pace_real_min_km\"].between(2, 8)) &\n",
    "    (sample_pd[\"pace_pred_min_km\"].between(2, 8))\n",
    "]\n",
    "\n",
    "# Figura interactiva\n",
    "fig = go.Figure()\n",
    "\n",
    "# Dispersión\n",
    "fig.add_trace(go.Scatter(\n",
    "    x=sample_pd[\"pace_real_min_km\"],\n",
    "    y=sample_pd[\"pace_pred_min_km\"],\n",
    "    mode=\"markers\",\n",
    "    marker=dict(size=6, opacity=0.4, color=\"purple\"),\n",
    "    name=\"Predicciones\",\n",
    "    hovertemplate=\"<b>Ritmo real:</b> %{x:.2f} min/km<br><b>Ritmo predicho:</b> %{y:.2f} min/km\"\n",
    "))\n",
    "\n",
    "# Línea ideal (y = x)\n",
    "fig.add_trace(go.Scatter(\n",
    "    x=[2, 8], y=[2, 8],\n",
    "    mode=\"lines\",\n",
    "    line=dict(color=\"red\", dash=\"dash\"),\n",
    "    name=\"Ideal (y = x)\"\n",
    "))\n",
    "\n",
    "# Layout\n",
    "fig.update_layout(\n",
    "    title=\"Ritmo real vs. predicho (Random Forest Regressor)\",\n",
    "    xaxis_title=\"Ritmo real (min/km)\",\n",
    "    yaxis_title=\"Ritmo predicho (min/km)\",\n",
    "    xaxis=dict(range=[2, 8], gridcolor=\"lightgray\"),\n",
    "    yaxis=dict(range=[2, 8], gridcolor=\"lightgray\"),\n",
    "    width=800,\n",
    "    height=600,\n",
    "    legend=dict(x=0.02, y=0.98),\n",
    "    template=\"plotly_white\"\n",
    ")\n",
    "\n",
    "fig.show()\n"
   ]
  }
 ],
 "metadata": {
  "kernelspec": {
   "display_name": "TotalEnergies",
   "language": "python",
   "name": "python3"
  },
  "language_info": {
   "codemirror_mode": {
    "name": "ipython",
    "version": 3
   },
   "file_extension": ".py",
   "mimetype": "text/x-python",
   "name": "python",
   "nbconvert_exporter": "python",
   "pygments_lexer": "ipython3",
   "version": "3.10.18"
  }
 },
 "nbformat": 4,
 "nbformat_minor": 5
}
